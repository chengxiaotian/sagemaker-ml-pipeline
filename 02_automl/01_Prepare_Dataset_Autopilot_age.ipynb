{
 "cells": [
  {
   "cell_type": "markdown",
   "metadata": {},
   "source": [
    "# Prepare Dataset for Model Training and Evaluating"
   ]
  },
  {
   "cell_type": "markdown",
   "metadata": {},
   "source": [
    "# ADA monthly data with age and gender labels\n",
    "\n",
    "\n",
    "## Schema\n",
    "\n",
    "- `ifa` : unique identifier\n",
    "- `label` : demographic label\n",
    "- `bundle_vec` : vector of app bundles\n",
    "- `persona_segment_vec` : vector of app segments\n",
    "- `persona_L1_vec` : vector of app segment L1\n",
    "- `persona_L2_vec` : vector of app segment L2\n",
    "- `persona_L3_vec` : vector of app segment L3\n",
    "- `device_vendor_vec` : vector of device vendor\n",
    "- `device_name_vec` : vector of device name\n",
    "- `device_manufacturer_vec` : vector of device manufecturers\n",
    "- `device_model_vec` : vector of device model\n",
    "- `device_year_of_release_vec` : vector of device year of release\n",
    "- `dev_platform_vec` : vector of device platform\n",
    "- `major_os_vec` : vector of major os\n",
    "- `features` : collection of all features\n",
    "- `indexed_label` : numeric indexed label\n",
    "- `age_label` : age group label\n",
    "- `Ratio` : ratio for balance the dataset\n",
    "- `data_ratio` : ratio for balance the dataset\n",
    "- `classWeightCol` : class weightage calcualted base on survey"
   ]
  },
  {
   "cell_type": "markdown",
   "metadata": {},
   "source": [
    "# Checking Pre-Requisites from the Previous `01_setup/` Folder"
   ]
  },
  {
   "cell_type": "code",
   "execution_count": null,
   "metadata": {},
   "outputs": [],
   "source": [
    "%store -r setup_dependencies_passed"
   ]
  },
  {
   "cell_type": "code",
   "execution_count": null,
   "metadata": {},
   "outputs": [],
   "source": [
    "try:\n",
    "    setup_dependencies_passed\n",
    "except NameError:\n",
    "    print('+++++++++++++++++++++++++++++++')\n",
    "    print('[ERROR] YOU HAVE TO RUN ALL NOTEBOOKS IN THE SETUP FOLDER FIRST. You are missing Setup Dependencies.')\n",
    "    print('+++++++++++++++++++++++++++++++')"
   ]
  },
  {
   "cell_type": "code",
   "execution_count": null,
   "metadata": {},
   "outputs": [],
   "source": [
    "print(setup_dependencies_passed)"
   ]
  },
  {
   "cell_type": "markdown",
   "metadata": {},
   "source": [
    "## import necessary libraries"
   ]
  },
  {
   "cell_type": "code",
   "execution_count": 2,
   "metadata": {},
   "outputs": [],
   "source": [
    "import boto3\n",
    "import sagemaker\n",
    "import pandas as pd\n",
    "\n",
    "sess   = sagemaker.Session()\n",
    "bucket = sess.default_bucket()\n",
    "role = sagemaker.get_execution_role()\n",
    "region = boto3.Session().region_name"
   ]
  },
  {
   "cell_type": "markdown",
   "metadata": {},
   "source": [
    "## Download\n",
    "\n",
    "Let's start by retrieving the training dataset."
   ]
  },
  {
   "cell_type": "code",
   "execution_count": 8,
   "metadata": {},
   "outputs": [],
   "source": [
    "country = \"MY\"\n",
    "input_data_path = \"s3://ada-dev/etl/ml/age/temp/train/{}/202003/\".format(country)"
   ]
  },
  {
   "cell_type": "code",
   "execution_count": 9,
   "metadata": {},
   "outputs": [
    {
     "name": "stdout",
     "output_type": "stream",
     "text": [
      "2020-10-15 10:55:15          0 _SUCCESS\n",
      "2020-10-15 10:55:13     350864 part-00000-89aa1ac8-d3de-46e2-beec-bfcacecc9d0f-c000.snappy.parquet\n",
      "2020-10-15 10:55:13     997050 part-00076-89aa1ac8-d3de-46e2-beec-bfcacecc9d0f-c000.snappy.parquet\n",
      "2020-10-15 10:55:14    7393284 part-00116-89aa1ac8-d3de-46e2-beec-bfcacecc9d0f-c000.snappy.parquet\n",
      "2020-10-15 10:55:14    5226599 part-00139-89aa1ac8-d3de-46e2-beec-bfcacecc9d0f-c000.snappy.parquet\n",
      "2020-10-15 10:55:14    3867282 part-00145-89aa1ac8-d3de-46e2-beec-bfcacecc9d0f-c000.snappy.parquet\n"
     ]
    }
   ],
   "source": [
    "!aws s3 ls $input_data_path"
   ]
  },
  {
   "cell_type": "code",
   "execution_count": 15,
   "metadata": {},
   "outputs": [
    {
     "name": "stdout",
     "output_type": "stream",
     "text": [
      "download: s3://ada-dev/etl/ml/age/temp/train/MY/202003/part-00076-89aa1ac8-d3de-46e2-beec-bfcacecc9d0f-c000.snappy.parquet to data/part-00076-89aa1ac8-d3de-46e2-beec-bfcacecc9d0f-c000.snappy.parquet\n",
      "download: s3://ada-dev/etl/ml/age/temp/train/MY/202003/part-00000-89aa1ac8-d3de-46e2-beec-bfcacecc9d0f-c000.snappy.parquet to data/part-00000-89aa1ac8-d3de-46e2-beec-bfcacecc9d0f-c000.snappy.parquet\n",
      "download: s3://ada-dev/etl/ml/age/temp/train/MY/202003/part-00145-89aa1ac8-d3de-46e2-beec-bfcacecc9d0f-c000.snappy.parquet to data/part-00145-89aa1ac8-d3de-46e2-beec-bfcacecc9d0f-c000.snappy.parquet\n",
      "download: s3://ada-dev/etl/ml/age/temp/train/MY/202003/part-00139-89aa1ac8-d3de-46e2-beec-bfcacecc9d0f-c000.snappy.parquet to data/part-00139-89aa1ac8-d3de-46e2-beec-bfcacecc9d0f-c000.snappy.parquet\n",
      "download: s3://ada-dev/etl/ml/age/temp/train/MY/202003/part-00116-89aa1ac8-d3de-46e2-beec-bfcacecc9d0f-c000.snappy.parquet to data/part-00116-89aa1ac8-d3de-46e2-beec-bfcacecc9d0f-c000.snappy.parquet\n"
     ]
    }
   ],
   "source": [
    "!aws s3 cp $input_data_path ./data/ --recursive --exclude \"_SUCCESS\""
   ]
  },
  {
   "cell_type": "code",
   "execution_count": 46,
   "metadata": {},
   "outputs": [
    {
     "name": "stdout",
     "output_type": "stream",
     "text": [
      "part-00139-89aa1ac8-d3de-46e2-beec-bfcacecc9d0f-c000.snappy.parquet\n",
      "(38966, 20)\n",
      "part-00000-89aa1ac8-d3de-46e2-beec-bfcacecc9d0f-c000.snappy.parquet\n",
      "(0, 20)\n",
      "part-00145-89aa1ac8-d3de-46e2-beec-bfcacecc9d0f-c000.snappy.parquet\n",
      "(27898, 20)\n",
      "part-00116-89aa1ac8-d3de-46e2-beec-bfcacecc9d0f-c000.snappy.parquet\n",
      "(57632, 20)\n",
      "part-00076-89aa1ac8-d3de-46e2-beec-bfcacecc9d0f-c000.snappy.parquet\n",
      "(5024, 20)\n",
      "(129520, 20)\n"
     ]
    }
   ],
   "source": [
    "import os\n",
    "import csv\n",
    "import pyarrow\n",
    "\n",
    "file_list = os.listdir('./data/')\n",
    "file_list_clean = filter(lambda x: x.endswith('.parquet'),file_list)\n",
    "\n",
    "df_combine = None\n",
    "\n",
    "for file_path in file_list_clean:\n",
    "    df = pd.read_parquet(os.path.join('./data/',file_path))\n",
    "    df_combine = pd.concat([df_combine,df])\n",
    "    \n",
    "print(df_combine.shape)"
   ]
  },
  {
   "cell_type": "code",
   "execution_count": 47,
   "metadata": {},
   "outputs": [
    {
     "data": {
      "text/plain": [
       "ifa                            object\n",
       "label                          object\n",
       "bundle_vec                     object\n",
       "persona_segment_vec            object\n",
       "persona_L1_vec                 object\n",
       "persona_L2_vec                 object\n",
       "persona_L3_vec                 object\n",
       "device_vendor_vec              object\n",
       "device_name_vec                object\n",
       "device_manufacturer_vec        object\n",
       "device_model_vec               object\n",
       "device_year_of_release_vec     object\n",
       "dev_platform_vec               object\n",
       "major_os_vec                   object\n",
       "features                       object\n",
       "indexed_label                 float64\n",
       "age_label                      object\n",
       "Ratio                         float64\n",
       "data_ratio                    float64\n",
       "classWeightCol                float64\n",
       "dtype: object"
      ]
     },
     "execution_count": 47,
     "metadata": {},
     "output_type": "execute_result"
    }
   ],
   "source": [
    "df_combine.dtypes"
   ]
  },
  {
   "cell_type": "code",
   "execution_count": 49,
   "metadata": {},
   "outputs": [
    {
     "data": {
      "text/html": [
       "<div>\n",
       "<style scoped>\n",
       "    .dataframe tbody tr th:only-of-type {\n",
       "        vertical-align: middle;\n",
       "    }\n",
       "\n",
       "    .dataframe tbody tr th {\n",
       "        vertical-align: top;\n",
       "    }\n",
       "\n",
       "    .dataframe thead th {\n",
       "        text-align: right;\n",
       "    }\n",
       "</style>\n",
       "<table border=\"1\" class=\"dataframe\">\n",
       "  <thead>\n",
       "    <tr style=\"text-align: right;\">\n",
       "      <th></th>\n",
       "      <th>ifa</th>\n",
       "      <th>label</th>\n",
       "      <th>bundle_vec</th>\n",
       "      <th>persona_segment_vec</th>\n",
       "      <th>persona_L1_vec</th>\n",
       "      <th>persona_L2_vec</th>\n",
       "      <th>persona_L3_vec</th>\n",
       "      <th>device_vendor_vec</th>\n",
       "      <th>device_name_vec</th>\n",
       "      <th>device_manufacturer_vec</th>\n",
       "      <th>device_model_vec</th>\n",
       "      <th>device_year_of_release_vec</th>\n",
       "      <th>dev_platform_vec</th>\n",
       "      <th>major_os_vec</th>\n",
       "      <th>features</th>\n",
       "      <th>indexed_label</th>\n",
       "      <th>age_label</th>\n",
       "      <th>Ratio</th>\n",
       "      <th>data_ratio</th>\n",
       "      <th>classWeightCol</th>\n",
       "    </tr>\n",
       "  </thead>\n",
       "  <tbody>\n",
       "    <tr>\n",
       "      <th>0</th>\n",
       "      <td>0060bc6a-d56e-46f2-9fde-ea74074e78bb</td>\n",
       "      <td>35-49</td>\n",
       "      <td>{'type': 0, 'size': 7900, 'indices': [0, 1, 8,...</td>\n",
       "      <td>{'type': 0, 'size': 57, 'indices': [0, 1, 2, 3...</td>\n",
       "      <td>{'type': 0, 'size': 19, 'indices': [0, 1, 2, 3...</td>\n",
       "      <td>{'type': 0, 'size': 85, 'indices': [1, 2, 3, 4...</td>\n",
       "      <td>{'type': 0, 'size': 60, 'indices': [0, 4], 'va...</td>\n",
       "      <td>{'type': 0, 'size': 21, 'indices': [], 'values...</td>\n",
       "      <td>{'type': 0, 'size': 249, 'indices': [], 'value...</td>\n",
       "      <td>{'type': 0, 'size': 21, 'indices': [], 'values...</td>\n",
       "      <td>{'type': 0, 'size': 475, 'indices': [22], 'val...</td>\n",
       "      <td>{'type': 0, 'size': 7, 'indices': [], 'values'...</td>\n",
       "      <td>{'type': 0, 'size': 2, 'indices': [0], 'values...</td>\n",
       "      <td>{'type': 0, 'size': 7, 'indices': [0], 'values...</td>\n",
       "      <td>{'type': 0, 'size': 8903, 'indices': [0, 1, 8,...</td>\n",
       "      <td>1.0</td>\n",
       "      <td>35-49</td>\n",
       "      <td>0.320378</td>\n",
       "      <td>0.300849</td>\n",
       "      <td>1.064912</td>\n",
       "    </tr>\n",
       "    <tr>\n",
       "      <th>1</th>\n",
       "      <td>01b8bb63-8067-49dc-a224-05e8381beb32</td>\n",
       "      <td>35-49</td>\n",
       "      <td>{'type': 0, 'size': 7900, 'indices': [1, 15, 1...</td>\n",
       "      <td>{'type': 0, 'size': 57, 'indices': [1, 3, 8, 1...</td>\n",
       "      <td>{'type': 0, 'size': 19, 'indices': [0, 1, 4], ...</td>\n",
       "      <td>{'type': 0, 'size': 85, 'indices': [1, 2, 7], ...</td>\n",
       "      <td>{'type': 0, 'size': 60, 'indices': [0], 'value...</td>\n",
       "      <td>{'type': 0, 'size': 21, 'indices': [2], 'value...</td>\n",
       "      <td>{'type': 0, 'size': 249, 'indices': [53], 'val...</td>\n",
       "      <td>{'type': 0, 'size': 21, 'indices': [2], 'value...</td>\n",
       "      <td>{'type': 0, 'size': 475, 'indices': [76], 'val...</td>\n",
       "      <td>{'type': 0, 'size': 7, 'indices': [0], 'values...</td>\n",
       "      <td>{'type': 0, 'size': 2, 'indices': [0], 'values...</td>\n",
       "      <td>{'type': 0, 'size': 7, 'indices': [3], 'values...</td>\n",
       "      <td>{'type': 0, 'size': 8903, 'indices': [1, 15, 1...</td>\n",
       "      <td>1.0</td>\n",
       "      <td>35-49</td>\n",
       "      <td>0.320378</td>\n",
       "      <td>0.300849</td>\n",
       "      <td>1.064912</td>\n",
       "    </tr>\n",
       "    <tr>\n",
       "      <th>2</th>\n",
       "      <td>026bdb38-c55b-4d76-b30c-3c3df48dc3ef</td>\n",
       "      <td>35-49</td>\n",
       "      <td>{'type': 0, 'size': 7900, 'indices': [8, 31, 5...</td>\n",
       "      <td>{'type': 0, 'size': 57, 'indices': [2, 4, 7, 8...</td>\n",
       "      <td>{'type': 0, 'size': 19, 'indices': [2, 3, 5, 8...</td>\n",
       "      <td>{'type': 0, 'size': 85, 'indices': [3, 9, 11, ...</td>\n",
       "      <td>{'type': 0, 'size': 60, 'indices': [5], 'value...</td>\n",
       "      <td>{'type': 0, 'size': 21, 'indices': [1], 'value...</td>\n",
       "      <td>{'type': 0, 'size': 249, 'indices': [0], 'valu...</td>\n",
       "      <td>{'type': 0, 'size': 21, 'indices': [1], 'value...</td>\n",
       "      <td>{'type': 0, 'size': 475, 'indices': [144], 'va...</td>\n",
       "      <td>{'type': 0, 'size': 7, 'indices': [1], 'values...</td>\n",
       "      <td>{'type': 0, 'size': 2, 'indices': [0], 'values...</td>\n",
       "      <td>{'type': 0, 'size': 7, 'indices': [2], 'values...</td>\n",
       "      <td>{'type': 0, 'size': 8903, 'indices': [8, 31, 5...</td>\n",
       "      <td>1.0</td>\n",
       "      <td>35-49</td>\n",
       "      <td>0.320378</td>\n",
       "      <td>0.300849</td>\n",
       "      <td>1.064912</td>\n",
       "    </tr>\n",
       "    <tr>\n",
       "      <th>3</th>\n",
       "      <td>0349a5c4-bef1-4010-b243-bb45905aa94d</td>\n",
       "      <td>35-49</td>\n",
       "      <td>{'type': 0, 'size': 7900, 'indices': [27, 28, ...</td>\n",
       "      <td>{'type': 0, 'size': 57, 'indices': [8, 9, 11, ...</td>\n",
       "      <td>{'type': 0, 'size': 19, 'indices': [5], 'value...</td>\n",
       "      <td>{'type': 0, 'size': 85, 'indices': [34], 'valu...</td>\n",
       "      <td>{'type': 0, 'size': 60, 'indices': [], 'values...</td>\n",
       "      <td>{'type': 0, 'size': 21, 'indices': [], 'values...</td>\n",
       "      <td>{'type': 0, 'size': 249, 'indices': [], 'value...</td>\n",
       "      <td>{'type': 0, 'size': 21, 'indices': [], 'values...</td>\n",
       "      <td>{'type': 0, 'size': 475, 'indices': [86], 'val...</td>\n",
       "      <td>{'type': 0, 'size': 7, 'indices': [], 'values'...</td>\n",
       "      <td>{'type': 0, 'size': 2, 'indices': [0], 'values...</td>\n",
       "      <td>{'type': 0, 'size': 7, 'indices': [0], 'values...</td>\n",
       "      <td>{'type': 0, 'size': 8903, 'indices': [27, 28, ...</td>\n",
       "      <td>1.0</td>\n",
       "      <td>35-49</td>\n",
       "      <td>0.320378</td>\n",
       "      <td>0.300849</td>\n",
       "      <td>1.064912</td>\n",
       "    </tr>\n",
       "    <tr>\n",
       "      <th>4</th>\n",
       "      <td>03a0458a-d00e-4f70-b563-643e56be62d5</td>\n",
       "      <td>35-49</td>\n",
       "      <td>{'type': 0, 'size': 7900, 'indices': [1, 89, 9...</td>\n",
       "      <td>{'type': 0, 'size': 57, 'indices': [0, 3, 8, 1...</td>\n",
       "      <td>{'type': 0, 'size': 19, 'indices': [0, 8, 9], ...</td>\n",
       "      <td>{'type': 0, 'size': 85, 'indices': [1, 5, 8, 9...</td>\n",
       "      <td>{'type': 0, 'size': 60, 'indices': [3, 17], 'v...</td>\n",
       "      <td>{'type': 0, 'size': 21, 'indices': [1], 'value...</td>\n",
       "      <td>{'type': 0, 'size': 249, 'indices': [0], 'valu...</td>\n",
       "      <td>{'type': 0, 'size': 21, 'indices': [1], 'value...</td>\n",
       "      <td>{'type': 0, 'size': 475, 'indices': [34], 'val...</td>\n",
       "      <td>{'type': 0, 'size': 7, 'indices': [3], 'values...</td>\n",
       "      <td>{'type': 0, 'size': 2, 'indices': [0], 'values...</td>\n",
       "      <td>{'type': 0, 'size': 7, 'indices': [2], 'values...</td>\n",
       "      <td>{'type': 0, 'size': 8903, 'indices': [1, 89, 9...</td>\n",
       "      <td>1.0</td>\n",
       "      <td>35-49</td>\n",
       "      <td>0.320378</td>\n",
       "      <td>0.300849</td>\n",
       "      <td>1.064912</td>\n",
       "    </tr>\n",
       "  </tbody>\n",
       "</table>\n",
       "</div>"
      ],
      "text/plain": [
       "                                    ifa  label  \\\n",
       "0  0060bc6a-d56e-46f2-9fde-ea74074e78bb  35-49   \n",
       "1  01b8bb63-8067-49dc-a224-05e8381beb32  35-49   \n",
       "2  026bdb38-c55b-4d76-b30c-3c3df48dc3ef  35-49   \n",
       "3  0349a5c4-bef1-4010-b243-bb45905aa94d  35-49   \n",
       "4  03a0458a-d00e-4f70-b563-643e56be62d5  35-49   \n",
       "\n",
       "                                          bundle_vec  \\\n",
       "0  {'type': 0, 'size': 7900, 'indices': [0, 1, 8,...   \n",
       "1  {'type': 0, 'size': 7900, 'indices': [1, 15, 1...   \n",
       "2  {'type': 0, 'size': 7900, 'indices': [8, 31, 5...   \n",
       "3  {'type': 0, 'size': 7900, 'indices': [27, 28, ...   \n",
       "4  {'type': 0, 'size': 7900, 'indices': [1, 89, 9...   \n",
       "\n",
       "                                 persona_segment_vec  \\\n",
       "0  {'type': 0, 'size': 57, 'indices': [0, 1, 2, 3...   \n",
       "1  {'type': 0, 'size': 57, 'indices': [1, 3, 8, 1...   \n",
       "2  {'type': 0, 'size': 57, 'indices': [2, 4, 7, 8...   \n",
       "3  {'type': 0, 'size': 57, 'indices': [8, 9, 11, ...   \n",
       "4  {'type': 0, 'size': 57, 'indices': [0, 3, 8, 1...   \n",
       "\n",
       "                                      persona_L1_vec  \\\n",
       "0  {'type': 0, 'size': 19, 'indices': [0, 1, 2, 3...   \n",
       "1  {'type': 0, 'size': 19, 'indices': [0, 1, 4], ...   \n",
       "2  {'type': 0, 'size': 19, 'indices': [2, 3, 5, 8...   \n",
       "3  {'type': 0, 'size': 19, 'indices': [5], 'value...   \n",
       "4  {'type': 0, 'size': 19, 'indices': [0, 8, 9], ...   \n",
       "\n",
       "                                      persona_L2_vec  \\\n",
       "0  {'type': 0, 'size': 85, 'indices': [1, 2, 3, 4...   \n",
       "1  {'type': 0, 'size': 85, 'indices': [1, 2, 7], ...   \n",
       "2  {'type': 0, 'size': 85, 'indices': [3, 9, 11, ...   \n",
       "3  {'type': 0, 'size': 85, 'indices': [34], 'valu...   \n",
       "4  {'type': 0, 'size': 85, 'indices': [1, 5, 8, 9...   \n",
       "\n",
       "                                      persona_L3_vec  \\\n",
       "0  {'type': 0, 'size': 60, 'indices': [0, 4], 'va...   \n",
       "1  {'type': 0, 'size': 60, 'indices': [0], 'value...   \n",
       "2  {'type': 0, 'size': 60, 'indices': [5], 'value...   \n",
       "3  {'type': 0, 'size': 60, 'indices': [], 'values...   \n",
       "4  {'type': 0, 'size': 60, 'indices': [3, 17], 'v...   \n",
       "\n",
       "                                   device_vendor_vec  \\\n",
       "0  {'type': 0, 'size': 21, 'indices': [], 'values...   \n",
       "1  {'type': 0, 'size': 21, 'indices': [2], 'value...   \n",
       "2  {'type': 0, 'size': 21, 'indices': [1], 'value...   \n",
       "3  {'type': 0, 'size': 21, 'indices': [], 'values...   \n",
       "4  {'type': 0, 'size': 21, 'indices': [1], 'value...   \n",
       "\n",
       "                                     device_name_vec  \\\n",
       "0  {'type': 0, 'size': 249, 'indices': [], 'value...   \n",
       "1  {'type': 0, 'size': 249, 'indices': [53], 'val...   \n",
       "2  {'type': 0, 'size': 249, 'indices': [0], 'valu...   \n",
       "3  {'type': 0, 'size': 249, 'indices': [], 'value...   \n",
       "4  {'type': 0, 'size': 249, 'indices': [0], 'valu...   \n",
       "\n",
       "                             device_manufacturer_vec  \\\n",
       "0  {'type': 0, 'size': 21, 'indices': [], 'values...   \n",
       "1  {'type': 0, 'size': 21, 'indices': [2], 'value...   \n",
       "2  {'type': 0, 'size': 21, 'indices': [1], 'value...   \n",
       "3  {'type': 0, 'size': 21, 'indices': [], 'values...   \n",
       "4  {'type': 0, 'size': 21, 'indices': [1], 'value...   \n",
       "\n",
       "                                    device_model_vec  \\\n",
       "0  {'type': 0, 'size': 475, 'indices': [22], 'val...   \n",
       "1  {'type': 0, 'size': 475, 'indices': [76], 'val...   \n",
       "2  {'type': 0, 'size': 475, 'indices': [144], 'va...   \n",
       "3  {'type': 0, 'size': 475, 'indices': [86], 'val...   \n",
       "4  {'type': 0, 'size': 475, 'indices': [34], 'val...   \n",
       "\n",
       "                          device_year_of_release_vec  \\\n",
       "0  {'type': 0, 'size': 7, 'indices': [], 'values'...   \n",
       "1  {'type': 0, 'size': 7, 'indices': [0], 'values...   \n",
       "2  {'type': 0, 'size': 7, 'indices': [1], 'values...   \n",
       "3  {'type': 0, 'size': 7, 'indices': [], 'values'...   \n",
       "4  {'type': 0, 'size': 7, 'indices': [3], 'values...   \n",
       "\n",
       "                                    dev_platform_vec  \\\n",
       "0  {'type': 0, 'size': 2, 'indices': [0], 'values...   \n",
       "1  {'type': 0, 'size': 2, 'indices': [0], 'values...   \n",
       "2  {'type': 0, 'size': 2, 'indices': [0], 'values...   \n",
       "3  {'type': 0, 'size': 2, 'indices': [0], 'values...   \n",
       "4  {'type': 0, 'size': 2, 'indices': [0], 'values...   \n",
       "\n",
       "                                        major_os_vec  \\\n",
       "0  {'type': 0, 'size': 7, 'indices': [0], 'values...   \n",
       "1  {'type': 0, 'size': 7, 'indices': [3], 'values...   \n",
       "2  {'type': 0, 'size': 7, 'indices': [2], 'values...   \n",
       "3  {'type': 0, 'size': 7, 'indices': [0], 'values...   \n",
       "4  {'type': 0, 'size': 7, 'indices': [2], 'values...   \n",
       "\n",
       "                                            features  indexed_label age_label  \\\n",
       "0  {'type': 0, 'size': 8903, 'indices': [0, 1, 8,...            1.0     35-49   \n",
       "1  {'type': 0, 'size': 8903, 'indices': [1, 15, 1...            1.0     35-49   \n",
       "2  {'type': 0, 'size': 8903, 'indices': [8, 31, 5...            1.0     35-49   \n",
       "3  {'type': 0, 'size': 8903, 'indices': [27, 28, ...            1.0     35-49   \n",
       "4  {'type': 0, 'size': 8903, 'indices': [1, 89, 9...            1.0     35-49   \n",
       "\n",
       "      Ratio  data_ratio  classWeightCol  \n",
       "0  0.320378    0.300849        1.064912  \n",
       "1  0.320378    0.300849        1.064912  \n",
       "2  0.320378    0.300849        1.064912  \n",
       "3  0.320378    0.300849        1.064912  \n",
       "4  0.320378    0.300849        1.064912  "
      ]
     },
     "execution_count": 49,
     "metadata": {},
     "output_type": "execute_result"
    }
   ],
   "source": [
    "df_combine.head(5)"
   ]
  },
  {
   "cell_type": "code",
   "execution_count": 69,
   "metadata": {},
   "outputs": [
    {
     "data": {
      "text/plain": [
       "indexed_label  age_label\n",
       "0.0            25-34        57632\n",
       "1.0            35-49        38966\n",
       "2.0            18-24        27898\n",
       "3.0            50+           5024\n",
       "dtype: int64"
      ]
     },
     "execution_count": 69,
     "metadata": {},
     "output_type": "execute_result"
    }
   ],
   "source": [
    "df_combine.groupby([\"indexed_label\",\"age_label\"]).size()"
   ]
  },
  {
   "cell_type": "code",
   "execution_count": 81,
   "metadata": {},
   "outputs": [
    {
     "data": {
      "text/plain": [
       "Text(0, 0.5, 'Count')"
      ]
     },
     "execution_count": 81,
     "metadata": {},
     "output_type": "execute_result"
    },
    {
     "data": {
      "image/png": "[encoded data removed]",
      "text/plain": [
       "<Figure size 432x288 with 1 Axes>"
      ]
     },
     "metadata": {
      "image/png": {
       "height": 274,
       "width": 401
      },
      "needs_background": "light"
     },
     "output_type": "display_data"
    }
   ],
   "source": [
    "import matplotlib.pyplot as plt\n",
    "%matplotlib inline\n",
    "%config InlineBackend.figure_format='retina'\n",
    "\n",
    "# convert string label to numeric labels\n",
    "label_map = {'18-24':0,'25-34':1,'35-49':2,'50+':3}\n",
    "df_combine['label_int'] = df_combine['label'].map(label_map)\n",
    "\n",
    "df_combine[['ifa', 'label_int']].groupby('label_int').count().plot(kind='bar', title='Breakdown by Age')\n",
    "plt.xlabel(\"Age: '0: 18-24', '1: 25-34','2: 35-49','3: 50+'\")\n",
    "plt.ylabel('Count')"
   ]
  },
  {
   "cell_type": "markdown",
   "metadata": {},
   "source": [
    "# Balance the Dataset"
   ]
  },
  {
   "cell_type": "code",
   "execution_count": 85,
   "metadata": {},
   "outputs": [],
   "source": [
    "from sklearn.utils import resample\n",
    "\n",
    "age_grup_0_df = df_combine.query('label_int == 0')\n",
    "age_grup_1_df = df_combine.query('label_int == 1')\n",
    "age_grup_2_df = df_combine.query('label_int == 2')\n",
    "age_grup_3_df = df_combine.query('label_int == 3')"
   ]
  },
  {
   "cell_type": "code",
   "execution_count": 86,
   "metadata": {},
   "outputs": [
    {
     "data": {
      "text/plain": [
       "(20096, 21)"
      ]
     },
     "execution_count": 86,
     "metadata": {},
     "output_type": "execute_result"
    }
   ],
   "source": [
    "# Check which sentiment has the least number of samples\n",
    "minority_count = min(age_grup_0_df.shape[0], \n",
    "                     age_grup_1_df.shape[0],\n",
    "                     age_grup_2_df.shape[0],\n",
    "                     age_grup_3_df.shape[0]\n",
    "                    ) \n",
    "\n",
    "age_grup_0_df = resample(age_grup_0_df,\n",
    "                        replace = False,\n",
    "                        n_samples = minority_count,\n",
    "                        random_state = 27)\n",
    "\n",
    "age_grup_1_df = resample(age_grup_1_df,\n",
    "                        replace = False,\n",
    "                        n_samples = minority_count,\n",
    "                        random_state = 27)\n",
    "\n",
    "age_grup_2_df = resample(age_grup_2_df,\n",
    "                        replace = False,\n",
    "                        n_samples = minority_count,\n",
    "                        random_state = 27)\n",
    "\n",
    "age_grup_3_df = resample(age_grup_3_df,\n",
    "                        replace = False,\n",
    "                        n_samples = minority_count,\n",
    "                        random_state = 27)\n",
    "\n",
    "\n",
    "df_balanced = pd.concat([age_grup_0_df, age_grup_1_df,age_grup_2_df, age_grup_3_df])\n",
    "df_balanced = df_balanced.reset_index(drop=True)\n",
    "\n",
    "df_balanced.shape"
   ]
  },
  {
   "cell_type": "code",
   "execution_count": 87,
   "metadata": {},
   "outputs": [
    {
     "data": {
      "text/plain": [
       "Text(0, 0.5, 'Count')"
      ]
     },
     "execution_count": 87,
     "metadata": {},
     "output_type": "execute_result"
    },
    {
     "data": {
      "image/png": "[encoded data removed]",
      "text/plain": [
       "<Figure size 432x288 with 1 Axes>"
      ]
     },
     "metadata": {
      "image/png": {
       "height": 274,
       "width": 395
      },
      "needs_background": "light"
     },
     "output_type": "display_data"
    }
   ],
   "source": [
    "df_balanced[['ifa', 'label_int']].groupby('label_int').count().plot(kind='bar', title='Breakdown by Age')\n",
    "plt.xlabel(\"Age: '0: 18-24', '1: 25-34','2: 35-49','3: 50+'\")\n",
    "plt.ylabel('Count')"
   ]
  },
  {
   "cell_type": "code",
   "execution_count": 88,
   "metadata": {},
   "outputs": [
    {
     "data": {
      "text/html": [
       "<div>\n",
       "<style scoped>\n",
       "    .dataframe tbody tr th:only-of-type {\n",
       "        vertical-align: middle;\n",
       "    }\n",
       "\n",
       "    .dataframe tbody tr th {\n",
       "        vertical-align: top;\n",
       "    }\n",
       "\n",
       "    .dataframe thead th {\n",
       "        text-align: right;\n",
       "    }\n",
       "</style>\n",
       "<table border=\"1\" class=\"dataframe\">\n",
       "  <thead>\n",
       "    <tr style=\"text-align: right;\">\n",
       "      <th></th>\n",
       "      <th>ifa</th>\n",
       "      <th>label</th>\n",
       "      <th>bundle_vec</th>\n",
       "      <th>persona_segment_vec</th>\n",
       "      <th>persona_L1_vec</th>\n",
       "      <th>persona_L2_vec</th>\n",
       "      <th>persona_L3_vec</th>\n",
       "      <th>device_vendor_vec</th>\n",
       "      <th>device_name_vec</th>\n",
       "      <th>device_manufacturer_vec</th>\n",
       "      <th>...</th>\n",
       "      <th>device_year_of_release_vec</th>\n",
       "      <th>dev_platform_vec</th>\n",
       "      <th>major_os_vec</th>\n",
       "      <th>features</th>\n",
       "      <th>indexed_label</th>\n",
       "      <th>age_label</th>\n",
       "      <th>Ratio</th>\n",
       "      <th>data_ratio</th>\n",
       "      <th>classWeightCol</th>\n",
       "      <th>label_int</th>\n",
       "    </tr>\n",
       "  </thead>\n",
       "  <tbody>\n",
       "    <tr>\n",
       "      <th>0</th>\n",
       "      <td>e7a5094e-4267-45e1-8eeb-086b766f4d5b</td>\n",
       "      <td>18-24</td>\n",
       "      <td>{'type': 0, 'size': 7900, 'indices': [0, 7, 10...</td>\n",
       "      <td>{'type': 0, 'size': 57, 'indices': [0, 1, 5, 9...</td>\n",
       "      <td>{'type': 0, 'size': 19, 'indices': [0, 1, 5, 1...</td>\n",
       "      <td>{'type': 0, 'size': 85, 'indices': [0, 1, 2, 5...</td>\n",
       "      <td>{'type': 0, 'size': 60, 'indices': [0, 7], 'va...</td>\n",
       "      <td>{'type': 0, 'size': 21, 'indices': [4], 'value...</td>\n",
       "      <td>{'type': 0, 'size': 249, 'indices': [18], 'val...</td>\n",
       "      <td>{'type': 0, 'size': 21, 'indices': [4], 'value...</td>\n",
       "      <td>...</td>\n",
       "      <td>{'type': 0, 'size': 7, 'indices': [0], 'values...</td>\n",
       "      <td>{'type': 0, 'size': 2, 'indices': [0], 'values...</td>\n",
       "      <td>{'type': 0, 'size': 7, 'indices': [1], 'values...</td>\n",
       "      <td>{'type': 0, 'size': 8903, 'indices': [0, 7, 10...</td>\n",
       "      <td>2.0</td>\n",
       "      <td>18-24</td>\n",
       "      <td>0.243697</td>\n",
       "      <td>0.215395</td>\n",
       "      <td>1.131396</td>\n",
       "      <td>0</td>\n",
       "    </tr>\n",
       "    <tr>\n",
       "      <th>1</th>\n",
       "      <td>ef28e112-0bb4-46dc-90ab-f752140bbf11</td>\n",
       "      <td>18-24</td>\n",
       "      <td>{'type': 0, 'size': 7900, 'indices': [3, 6, 9,...</td>\n",
       "      <td>{'type': 0, 'size': 57, 'indices': [2, 4, 6, 9...</td>\n",
       "      <td>{'type': 0, 'size': 19, 'indices': [0, 2, 3], ...</td>\n",
       "      <td>{'type': 0, 'size': 85, 'indices': [0, 3, 4, 5...</td>\n",
       "      <td>{'type': 0, 'size': 60, 'indices': [1, 4], 'va...</td>\n",
       "      <td>{'type': 0, 'size': 21, 'indices': [1], 'value...</td>\n",
       "      <td>{'type': 0, 'size': 249, 'indices': [0], 'valu...</td>\n",
       "      <td>{'type': 0, 'size': 21, 'indices': [1], 'value...</td>\n",
       "      <td>...</td>\n",
       "      <td>{'type': 0, 'size': 7, 'indices': [0], 'values...</td>\n",
       "      <td>{'type': 0, 'size': 2, 'indices': [0], 'values...</td>\n",
       "      <td>{'type': 0, 'size': 7, 'indices': [2], 'values...</td>\n",
       "      <td>{'type': 0, 'size': 8903, 'indices': [3, 6, 9,...</td>\n",
       "      <td>2.0</td>\n",
       "      <td>18-24</td>\n",
       "      <td>0.243697</td>\n",
       "      <td>0.215395</td>\n",
       "      <td>1.131396</td>\n",
       "      <td>0</td>\n",
       "    </tr>\n",
       "    <tr>\n",
       "      <th>2</th>\n",
       "      <td>5ff62cf2-ebb9-4cc2-ab49-b59660e39d61</td>\n",
       "      <td>18-24</td>\n",
       "      <td>{'type': 0, 'size': 7900, 'indices': [3, 4, 9,...</td>\n",
       "      <td>{'type': 0, 'size': 57, 'indices': [2, 5, 6, 7...</td>\n",
       "      <td>{'type': 0, 'size': 19, 'indices': [0, 2], 'va...</td>\n",
       "      <td>{'type': 0, 'size': 85, 'indices': [0, 4], 'va...</td>\n",
       "      <td>{'type': 0, 'size': 60, 'indices': [1], 'value...</td>\n",
       "      <td>{'type': 0, 'size': 21, 'indices': [2], 'value...</td>\n",
       "      <td>{'type': 0, 'size': 249, 'indices': [4], 'valu...</td>\n",
       "      <td>{'type': 0, 'size': 21, 'indices': [2], 'value...</td>\n",
       "      <td>...</td>\n",
       "      <td>{'type': 0, 'size': 7, 'indices': [0], 'values...</td>\n",
       "      <td>{'type': 0, 'size': 2, 'indices': [0], 'values...</td>\n",
       "      <td>{'type': 0, 'size': 7, 'indices': [0], 'values...</td>\n",
       "      <td>{'type': 0, 'size': 8903, 'indices': [3, 4, 9,...</td>\n",
       "      <td>2.0</td>\n",
       "      <td>18-24</td>\n",
       "      <td>0.243697</td>\n",
       "      <td>0.215395</td>\n",
       "      <td>1.131396</td>\n",
       "      <td>0</td>\n",
       "    </tr>\n",
       "    <tr>\n",
       "      <th>3</th>\n",
       "      <td>46958981-dd96-4676-8f6a-a83a42e157e3</td>\n",
       "      <td>18-24</td>\n",
       "      <td>{'type': 0, 'size': 7900, 'indices': [0, 2, 5,...</td>\n",
       "      <td>{'type': 0, 'size': 57, 'indices': [0, 1, 2, 5...</td>\n",
       "      <td>{'type': 0, 'size': 19, 'indices': [0, 1, 2, 6...</td>\n",
       "      <td>{'type': 0, 'size': 85, 'indices': [1, 2, 6, 1...</td>\n",
       "      <td>{'type': 0, 'size': 60, 'indices': [0, 2, 13],...</td>\n",
       "      <td>{'type': 0, 'size': 21, 'indices': [3], 'value...</td>\n",
       "      <td>{'type': 0, 'size': 249, 'indices': [27], 'val...</td>\n",
       "      <td>{'type': 0, 'size': 21, 'indices': [3], 'value...</td>\n",
       "      <td>...</td>\n",
       "      <td>{'type': 0, 'size': 7, 'indices': [1], 'values...</td>\n",
       "      <td>{'type': 0, 'size': 2, 'indices': [0], 'values...</td>\n",
       "      <td>{'type': 0, 'size': 7, 'indices': [3], 'values...</td>\n",
       "      <td>{'type': 0, 'size': 8903, 'indices': [0, 2, 5,...</td>\n",
       "      <td>2.0</td>\n",
       "      <td>18-24</td>\n",
       "      <td>0.243697</td>\n",
       "      <td>0.215395</td>\n",
       "      <td>1.131396</td>\n",
       "      <td>0</td>\n",
       "    </tr>\n",
       "    <tr>\n",
       "      <th>4</th>\n",
       "      <td>6b0f3126-7178-4784-aff8-3f9675eef0a3</td>\n",
       "      <td>18-24</td>\n",
       "      <td>{'type': 0, 'size': 7900, 'indices': [1, 30, 7...</td>\n",
       "      <td>{'type': 0, 'size': 57, 'indices': [3, 13, 28,...</td>\n",
       "      <td>{'type': 0, 'size': 19, 'indices': [0], 'value...</td>\n",
       "      <td>{'type': 0, 'size': 85, 'indices': [1], 'value...</td>\n",
       "      <td>{'type': 0, 'size': 60, 'indices': [], 'values...</td>\n",
       "      <td>{'type': 0, 'size': 21, 'indices': [2], 'value...</td>\n",
       "      <td>{'type': 0, 'size': 249, 'indices': [21], 'val...</td>\n",
       "      <td>{'type': 0, 'size': 21, 'indices': [2], 'value...</td>\n",
       "      <td>...</td>\n",
       "      <td>{'type': 0, 'size': 7, 'indices': [3], 'values...</td>\n",
       "      <td>{'type': 0, 'size': 2, 'indices': [0], 'values...</td>\n",
       "      <td>{'type': 0, 'size': 7, 'indices': [5], 'values...</td>\n",
       "      <td>{'type': 0, 'size': 8903, 'indices': [1, 30, 7...</td>\n",
       "      <td>2.0</td>\n",
       "      <td>18-24</td>\n",
       "      <td>0.243697</td>\n",
       "      <td>0.215395</td>\n",
       "      <td>1.131396</td>\n",
       "      <td>0</td>\n",
       "    </tr>\n",
       "  </tbody>\n",
       "</table>\n",
       "<p>5 rows × 21 columns</p>\n",
       "</div>"
      ],
      "text/plain": [
       "                                    ifa  label  \\\n",
       "0  e7a5094e-4267-45e1-8eeb-086b766f4d5b  18-24   \n",
       "1  ef28e112-0bb4-46dc-90ab-f752140bbf11  18-24   \n",
       "2  5ff62cf2-ebb9-4cc2-ab49-b59660e39d61  18-24   \n",
       "3  46958981-dd96-4676-8f6a-a83a42e157e3  18-24   \n",
       "4  6b0f3126-7178-4784-aff8-3f9675eef0a3  18-24   \n",
       "\n",
       "                                          bundle_vec  \\\n",
       "0  {'type': 0, 'size': 7900, 'indices': [0, 7, 10...   \n",
       "1  {'type': 0, 'size': 7900, 'indices': [3, 6, 9,...   \n",
       "2  {'type': 0, 'size': 7900, 'indices': [3, 4, 9,...   \n",
       "3  {'type': 0, 'size': 7900, 'indices': [0, 2, 5,...   \n",
       "4  {'type': 0, 'size': 7900, 'indices': [1, 30, 7...   \n",
       "\n",
       "                                 persona_segment_vec  \\\n",
       "0  {'type': 0, 'size': 57, 'indices': [0, 1, 5, 9...   \n",
       "1  {'type': 0, 'size': 57, 'indices': [2, 4, 6, 9...   \n",
       "2  {'type': 0, 'size': 57, 'indices': [2, 5, 6, 7...   \n",
       "3  {'type': 0, 'size': 57, 'indices': [0, 1, 2, 5...   \n",
       "4  {'type': 0, 'size': 57, 'indices': [3, 13, 28,...   \n",
       "\n",
       "                                      persona_L1_vec  \\\n",
       "0  {'type': 0, 'size': 19, 'indices': [0, 1, 5, 1...   \n",
       "1  {'type': 0, 'size': 19, 'indices': [0, 2, 3], ...   \n",
       "2  {'type': 0, 'size': 19, 'indices': [0, 2], 'va...   \n",
       "3  {'type': 0, 'size': 19, 'indices': [0, 1, 2, 6...   \n",
       "4  {'type': 0, 'size': 19, 'indices': [0], 'value...   \n",
       "\n",
       "                                      persona_L2_vec  \\\n",
       "0  {'type': 0, 'size': 85, 'indices': [0, 1, 2, 5...   \n",
       "1  {'type': 0, 'size': 85, 'indices': [0, 3, 4, 5...   \n",
       "2  {'type': 0, 'size': 85, 'indices': [0, 4], 'va...   \n",
       "3  {'type': 0, 'size': 85, 'indices': [1, 2, 6, 1...   \n",
       "4  {'type': 0, 'size': 85, 'indices': [1], 'value...   \n",
       "\n",
       "                                      persona_L3_vec  \\\n",
       "0  {'type': 0, 'size': 60, 'indices': [0, 7], 'va...   \n",
       "1  {'type': 0, 'size': 60, 'indices': [1, 4], 'va...   \n",
       "2  {'type': 0, 'size': 60, 'indices': [1], 'value...   \n",
       "3  {'type': 0, 'size': 60, 'indices': [0, 2, 13],...   \n",
       "4  {'type': 0, 'size': 60, 'indices': [], 'values...   \n",
       "\n",
       "                                   device_vendor_vec  \\\n",
       "0  {'type': 0, 'size': 21, 'indices': [4], 'value...   \n",
       "1  {'type': 0, 'size': 21, 'indices': [1], 'value...   \n",
       "2  {'type': 0, 'size': 21, 'indices': [2], 'value...   \n",
       "3  {'type': 0, 'size': 21, 'indices': [3], 'value...   \n",
       "4  {'type': 0, 'size': 21, 'indices': [2], 'value...   \n",
       "\n",
       "                                     device_name_vec  \\\n",
       "0  {'type': 0, 'size': 249, 'indices': [18], 'val...   \n",
       "1  {'type': 0, 'size': 249, 'indices': [0], 'valu...   \n",
       "2  {'type': 0, 'size': 249, 'indices': [4], 'valu...   \n",
       "3  {'type': 0, 'size': 249, 'indices': [27], 'val...   \n",
       "4  {'type': 0, 'size': 249, 'indices': [21], 'val...   \n",
       "\n",
       "                             device_manufacturer_vec  ...  \\\n",
       "0  {'type': 0, 'size': 21, 'indices': [4], 'value...  ...   \n",
       "1  {'type': 0, 'size': 21, 'indices': [1], 'value...  ...   \n",
       "2  {'type': 0, 'size': 21, 'indices': [2], 'value...  ...   \n",
       "3  {'type': 0, 'size': 21, 'indices': [3], 'value...  ...   \n",
       "4  {'type': 0, 'size': 21, 'indices': [2], 'value...  ...   \n",
       "\n",
       "                          device_year_of_release_vec  \\\n",
       "0  {'type': 0, 'size': 7, 'indices': [0], 'values...   \n",
       "1  {'type': 0, 'size': 7, 'indices': [0], 'values...   \n",
       "2  {'type': 0, 'size': 7, 'indices': [0], 'values...   \n",
       "3  {'type': 0, 'size': 7, 'indices': [1], 'values...   \n",
       "4  {'type': 0, 'size': 7, 'indices': [3], 'values...   \n",
       "\n",
       "                                    dev_platform_vec  \\\n",
       "0  {'type': 0, 'size': 2, 'indices': [0], 'values...   \n",
       "1  {'type': 0, 'size': 2, 'indices': [0], 'values...   \n",
       "2  {'type': 0, 'size': 2, 'indices': [0], 'values...   \n",
       "3  {'type': 0, 'size': 2, 'indices': [0], 'values...   \n",
       "4  {'type': 0, 'size': 2, 'indices': [0], 'values...   \n",
       "\n",
       "                                        major_os_vec  \\\n",
       "0  {'type': 0, 'size': 7, 'indices': [1], 'values...   \n",
       "1  {'type': 0, 'size': 7, 'indices': [2], 'values...   \n",
       "2  {'type': 0, 'size': 7, 'indices': [0], 'values...   \n",
       "3  {'type': 0, 'size': 7, 'indices': [3], 'values...   \n",
       "4  {'type': 0, 'size': 7, 'indices': [5], 'values...   \n",
       "\n",
       "                                            features indexed_label  age_label  \\\n",
       "0  {'type': 0, 'size': 8903, 'indices': [0, 7, 10...           2.0      18-24   \n",
       "1  {'type': 0, 'size': 8903, 'indices': [3, 6, 9,...           2.0      18-24   \n",
       "2  {'type': 0, 'size': 8903, 'indices': [3, 4, 9,...           2.0      18-24   \n",
       "3  {'type': 0, 'size': 8903, 'indices': [0, 2, 5,...           2.0      18-24   \n",
       "4  {'type': 0, 'size': 8903, 'indices': [1, 30, 7...           2.0      18-24   \n",
       "\n",
       "      Ratio  data_ratio  classWeightCol  label_int  \n",
       "0  0.243697    0.215395        1.131396          0  \n",
       "1  0.243697    0.215395        1.131396          0  \n",
       "2  0.243697    0.215395        1.131396          0  \n",
       "3  0.243697    0.215395        1.131396          0  \n",
       "4  0.243697    0.215395        1.131396          0  \n",
       "\n",
       "[5 rows x 21 columns]"
      ]
     },
     "execution_count": 88,
     "metadata": {},
     "output_type": "execute_result"
    }
   ],
   "source": [
    "df_balanced.head(5)"
   ]
  },
  {
   "cell_type": "markdown",
   "metadata": {},
   "source": [
    "# Split the Data into Train, Validation, and Test Sets"
   ]
  },
  {
   "cell_type": "code",
   "execution_count": 89,
   "metadata": {},
   "outputs": [],
   "source": [
    "from sklearn.model_selection import train_test_split\n",
    "\n",
    "# Split all data into 90% train and 10% holdout\n",
    "df_train, df_holdout = train_test_split(df_balanced, \n",
    "                                        test_size=0.10,\n",
    "                                        stratify=df_balanced['label'])\n",
    "\n",
    "# Split holdout data into 50% validation and 50% test\n",
    "df_validation, df_test = train_test_split(df_holdout,\n",
    "                                          test_size=0.50, \n",
    "                                          stratify=df_holdout['label'])\n"
   ]
  },
  {
   "cell_type": "code",
   "execution_count": 90,
   "metadata": {},
   "outputs": [
    {
     "data": {
      "image/png": "[encoded data removed]",
      "text/plain": [
       "<Figure size 432x288 with 1 Axes>"
      ]
     },
     "metadata": {
      "image/png": {
       "height": 234,
       "width": 349
      }
     },
     "output_type": "display_data"
    }
   ],
   "source": [
    "# Pie chart, where the slices will be ordered and plotted counter-clockwise:\n",
    "labels = ['Train', 'Validation', 'Test']\n",
    "sizes = [len(df_train.index), len(df_validation.index), len(df_test.index)]\n",
    "explode = (0.1, 0, 0)  \n",
    "\n",
    "fig1, ax1 = plt.subplots()\n",
    "\n",
    "ax1.pie(sizes, explode=explode, labels=labels, autopct='%1.1f%%', startangle=90)\n",
    "\n",
    "# Equal aspect ratio ensures that pie is drawn as a circle.\n",
    "ax1.axis('equal')  \n",
    "\n",
    "plt.show()"
   ]
  },
  {
   "cell_type": "markdown",
   "metadata": {},
   "source": [
    "# Show 90% Train Data Split"
   ]
  },
  {
   "cell_type": "code",
   "execution_count": 91,
   "metadata": {},
   "outputs": [
    {
     "data": {
      "text/plain": [
       "(18086, 21)"
      ]
     },
     "execution_count": 91,
     "metadata": {},
     "output_type": "execute_result"
    }
   ],
   "source": [
    "df_train.shape"
   ]
  },
  {
   "cell_type": "code",
   "execution_count": 92,
   "metadata": {},
   "outputs": [
    {
     "data": {
      "text/plain": [
       "<matplotlib.axes._subplots.AxesSubplot at 0x7f10851543c8>"
      ]
     },
     "execution_count": 92,
     "metadata": {},
     "output_type": "execute_result"
    },
    {
     "data": {
      "image/png": "[encoded data removed]",
      "text/plain": [
       "<Figure size 432x288 with 1 Axes>"
      ]
     },
     "metadata": {
      "image/png": {
       "height": 274,
       "width": 381
      },
      "needs_background": "light"
     },
     "output_type": "display_data"
    }
   ],
   "source": [
    "df_train[['ifa', 'label_int']].groupby('label_int').count().plot(kind='bar', title='90% Train Breakdown by Age Label')"
   ]
  },
  {
   "cell_type": "markdown",
   "metadata": {},
   "source": [
    "# Show 5% Validation Data Split"
   ]
  },
  {
   "cell_type": "code",
   "execution_count": 32,
   "metadata": {},
   "outputs": [
    {
     "data": {
      "text/plain": [
       "(30, 16)"
      ]
     },
     "execution_count": 32,
     "metadata": {},
     "output_type": "execute_result"
    }
   ],
   "source": [
    "df_validation.shape"
   ]
  },
  {
   "cell_type": "code",
   "execution_count": 93,
   "metadata": {},
   "outputs": [
    {
     "data": {
      "text/plain": [
       "<matplotlib.axes._subplots.AxesSubplot at 0x7f1085061e48>"
      ]
     },
     "execution_count": 93,
     "metadata": {},
     "output_type": "execute_result"
    },
    {
     "data": {
      "image/png": "[encoded data removed]",
      "text/plain": [
       "<Figure size 432x288 with 1 Axes>"
      ]
     },
     "metadata": {
      "image/png": {
       "height": 274,
       "width": 381
      },
      "needs_background": "light"
     },
     "output_type": "display_data"
    }
   ],
   "source": [
    "df_train[['ifa', 'label_int']].groupby('label_int').count().plot(kind='bar', title='5% Validation Breakdown by Age Label')"
   ]
  },
  {
   "cell_type": "markdown",
   "metadata": {},
   "source": [
    "# Show 5% Test Data Split"
   ]
  },
  {
   "cell_type": "code",
   "execution_count": 35,
   "metadata": {},
   "outputs": [
    {
     "data": {
      "text/plain": [
       "(30, 16)"
      ]
     },
     "execution_count": 35,
     "metadata": {},
     "output_type": "execute_result"
    }
   ],
   "source": [
    "df_test.shape"
   ]
  },
  {
   "cell_type": "code",
   "execution_count": 94,
   "metadata": {},
   "outputs": [
    {
     "data": {
      "text/plain": [
       "<matplotlib.axes._subplots.AxesSubplot at 0x7f108504b588>"
      ]
     },
     "execution_count": 94,
     "metadata": {},
     "output_type": "execute_result"
    },
    {
     "data": {
      "image/png": "[encoded data removed]",
      "text/plain": [
       "<Figure size 432x288 with 1 Axes>"
      ]
     },
     "metadata": {
      "image/png": {
       "height": 274,
       "width": 381
      },
      "needs_background": "light"
     },
     "output_type": "display_data"
    }
   ],
   "source": [
    "df_train[['ifa', 'label_int']].groupby('label_int').count().plot(kind='bar', title='5% Test Breakdown by Age Label')"
   ]
  },
  {
   "cell_type": "markdown",
   "metadata": {},
   "source": [
    "# Select `label` and `features` for Training"
   ]
  },
  {
   "cell_type": "code",
   "execution_count": 95,
   "metadata": {},
   "outputs": [
    {
     "data": {
      "text/plain": [
       "ifa                            object\n",
       "label                          object\n",
       "bundle_vec                     object\n",
       "persona_segment_vec            object\n",
       "persona_L1_vec                 object\n",
       "persona_L2_vec                 object\n",
       "persona_L3_vec                 object\n",
       "device_vendor_vec              object\n",
       "device_name_vec                object\n",
       "device_manufacturer_vec        object\n",
       "device_model_vec               object\n",
       "device_year_of_release_vec     object\n",
       "dev_platform_vec               object\n",
       "major_os_vec                   object\n",
       "features                       object\n",
       "indexed_label                 float64\n",
       "age_label                      object\n",
       "Ratio                         float64\n",
       "data_ratio                    float64\n",
       "classWeightCol                float64\n",
       "label_int                       int64\n",
       "dtype: object"
      ]
     },
     "execution_count": 95,
     "metadata": {},
     "output_type": "execute_result"
    }
   ],
   "source": [
    "df_train.dtypes"
   ]
  },
  {
   "cell_type": "code",
   "execution_count": 96,
   "metadata": {},
   "outputs": [
    {
     "data": {
      "text/plain": [
       "(18086, 14)"
      ]
     },
     "execution_count": 96,
     "metadata": {},
     "output_type": "execute_result"
    }
   ],
   "source": [
    "drop_column_list = ['classWeightCol','features','label','indexed_label','age_label','Ratio','data_ratio']\n",
    "df_train = df_train.drop(drop_column_list,axis = 1)\n",
    "df_train.shape"
   ]
  },
  {
   "cell_type": "code",
   "execution_count": 97,
   "metadata": {},
   "outputs": [
    {
     "data": {
      "text/html": [
       "<div>\n",
       "<style scoped>\n",
       "    .dataframe tbody tr th:only-of-type {\n",
       "        vertical-align: middle;\n",
       "    }\n",
       "\n",
       "    .dataframe tbody tr th {\n",
       "        vertical-align: top;\n",
       "    }\n",
       "\n",
       "    .dataframe thead th {\n",
       "        text-align: right;\n",
       "    }\n",
       "</style>\n",
       "<table border=\"1\" class=\"dataframe\">\n",
       "  <thead>\n",
       "    <tr style=\"text-align: right;\">\n",
       "      <th></th>\n",
       "      <th>ifa</th>\n",
       "      <th>bundle_vec</th>\n",
       "      <th>persona_segment_vec</th>\n",
       "      <th>persona_L1_vec</th>\n",
       "      <th>persona_L2_vec</th>\n",
       "      <th>persona_L3_vec</th>\n",
       "      <th>device_vendor_vec</th>\n",
       "      <th>device_name_vec</th>\n",
       "      <th>device_manufacturer_vec</th>\n",
       "      <th>device_model_vec</th>\n",
       "      <th>device_year_of_release_vec</th>\n",
       "      <th>dev_platform_vec</th>\n",
       "      <th>major_os_vec</th>\n",
       "      <th>label_int</th>\n",
       "    </tr>\n",
       "  </thead>\n",
       "  <tbody>\n",
       "    <tr>\n",
       "      <th>17914</th>\n",
       "      <td>0618c523-1889-4b20-82fc-246c78718689</td>\n",
       "      <td>{'type': 0, 'size': 7900, 'indices': [2, 36, 1...</td>\n",
       "      <td>{'type': 0, 'size': 57, 'indices': [0, 4, 18, ...</td>\n",
       "      <td>{'type': 0, 'size': 19, 'indices': [7, 9, 12],...</td>\n",
       "      <td>{'type': 0, 'size': 85, 'indices': [8, 20, 38]...</td>\n",
       "      <td>{'type': 0, 'size': 60, 'indices': [8], 'value...</td>\n",
       "      <td>{'type': 0, 'size': 21, 'indices': [1], 'value...</td>\n",
       "      <td>{'type': 0, 'size': 249, 'indices': [0], 'valu...</td>\n",
       "      <td>{'type': 0, 'size': 21, 'indices': [1], 'value...</td>\n",
       "      <td>{'type': 0, 'size': 475, 'indices': [89], 'val...</td>\n",
       "      <td>{'type': 0, 'size': 7, 'indices': [3], 'values...</td>\n",
       "      <td>{'type': 0, 'size': 2, 'indices': [0], 'values...</td>\n",
       "      <td>{'type': 0, 'size': 7, 'indices': [2], 'values...</td>\n",
       "      <td>3</td>\n",
       "    </tr>\n",
       "    <tr>\n",
       "      <th>16340</th>\n",
       "      <td>15af96ba-3fe0-4833-a280-c19194a29d80</td>\n",
       "      <td>{'type': 0, 'size': 7900, 'indices': [17, 37, ...</td>\n",
       "      <td>{'type': 0, 'size': 57, 'indices': [0, 3, 7], ...</td>\n",
       "      <td>{'type': 0, 'size': 19, 'indices': [0], 'value...</td>\n",
       "      <td>{'type': 0, 'size': 85, 'indices': [1], 'value...</td>\n",
       "      <td>{'type': 0, 'size': 60, 'indices': [], 'values...</td>\n",
       "      <td>{'type': 0, 'size': 21, 'indices': [0], 'value...</td>\n",
       "      <td>{'type': 0, 'size': 249, 'indices': [2], 'valu...</td>\n",
       "      <td>{'type': 0, 'size': 21, 'indices': [0], 'value...</td>\n",
       "      <td>{'type': 0, 'size': 475, 'indices': [1], 'valu...</td>\n",
       "      <td>{'type': 0, 'size': 7, 'indices': [0], 'values...</td>\n",
       "      <td>{'type': 0, 'size': 2, 'indices': [0], 'values...</td>\n",
       "      <td>{'type': 0, 'size': 7, 'indices': [0], 'values...</td>\n",
       "      <td>3</td>\n",
       "    </tr>\n",
       "    <tr>\n",
       "      <th>9188</th>\n",
       "      <td>2c4ede0c-32ef-4c69-964c-545bacc2fdef</td>\n",
       "      <td>{'type': 0, 'size': 7900, 'indices': [11, 25, ...</td>\n",
       "      <td>{'type': 0, 'size': 57, 'indices': [0, 1, 19, ...</td>\n",
       "      <td>{'type': 0, 'size': 19, 'indices': [1, 7, 13],...</td>\n",
       "      <td>{'type': 0, 'size': 85, 'indices': [2, 27, 28]...</td>\n",
       "      <td>{'type': 0, 'size': 60, 'indices': [0], 'value...</td>\n",
       "      <td>{'type': 0, 'size': 21, 'indices': [4], 'value...</td>\n",
       "      <td>{'type': 0, 'size': 249, 'indices': [49], 'val...</td>\n",
       "      <td>{'type': 0, 'size': 21, 'indices': [4], 'value...</td>\n",
       "      <td>{'type': 0, 'size': 475, 'indices': [67], 'val...</td>\n",
       "      <td>{'type': 0, 'size': 7, 'indices': [1], 'values...</td>\n",
       "      <td>{'type': 0, 'size': 2, 'indices': [0], 'values...</td>\n",
       "      <td>{'type': 0, 'size': 7, 'indices': [0], 'values...</td>\n",
       "      <td>1</td>\n",
       "    </tr>\n",
       "    <tr>\n",
       "      <th>15988</th>\n",
       "      <td>80bdfeba-5cb0-414a-87a6-aac24451a20a</td>\n",
       "      <td>{'type': 0, 'size': 7900, 'indices': [8, 22, 9...</td>\n",
       "      <td>{'type': 0, 'size': 57, 'indices': [0, 1, 4, 6...</td>\n",
       "      <td>{'type': 0, 'size': 19, 'indices': [0, 3, 7, 9...</td>\n",
       "      <td>{'type': 0, 'size': 85, 'indices': [3, 5, 8, 1...</td>\n",
       "      <td>{'type': 0, 'size': 60, 'indices': [4], 'value...</td>\n",
       "      <td>{'type': 0, 'size': 21, 'indices': [0], 'value...</td>\n",
       "      <td>{'type': 0, 'size': 249, 'indices': [3], 'valu...</td>\n",
       "      <td>{'type': 0, 'size': 21, 'indices': [0], 'value...</td>\n",
       "      <td>{'type': 0, 'size': 475, 'indices': [2], 'valu...</td>\n",
       "      <td>{'type': 0, 'size': 7, 'indices': [0], 'values...</td>\n",
       "      <td>{'type': 0, 'size': 2, 'indices': [0], 'values...</td>\n",
       "      <td>{'type': 0, 'size': 7, 'indices': [0], 'values...</td>\n",
       "      <td>3</td>\n",
       "    </tr>\n",
       "    <tr>\n",
       "      <th>6392</th>\n",
       "      <td>ad0a78ef-f66b-4da4-a2b2-495b07d1ebf3</td>\n",
       "      <td>{'type': 0, 'size': 7900, 'indices': [2, 8, 12...</td>\n",
       "      <td>{'type': 0, 'size': 57, 'indices': [0, 4, 7, 2...</td>\n",
       "      <td>{'type': 0, 'size': 19, 'indices': [3, 13], 'v...</td>\n",
       "      <td>{'type': 0, 'size': 85, 'indices': [3, 28], 'v...</td>\n",
       "      <td>{'type': 0, 'size': 60, 'indices': [], 'values...</td>\n",
       "      <td>{'type': 0, 'size': 21, 'indices': [1], 'value...</td>\n",
       "      <td>{'type': 0, 'size': 249, 'indices': [0], 'valu...</td>\n",
       "      <td>{'type': 0, 'size': 21, 'indices': [1], 'value...</td>\n",
       "      <td>{'type': 0, 'size': 475, 'indices': [27], 'val...</td>\n",
       "      <td>{'type': 0, 'size': 7, 'indices': [2], 'values...</td>\n",
       "      <td>{'type': 0, 'size': 2, 'indices': [0], 'values...</td>\n",
       "      <td>{'type': 0, 'size': 7, 'indices': [0], 'values...</td>\n",
       "      <td>1</td>\n",
       "    </tr>\n",
       "  </tbody>\n",
       "</table>\n",
       "</div>"
      ],
      "text/plain": [
       "                                        ifa  \\\n",
       "17914  0618c523-1889-4b20-82fc-246c78718689   \n",
       "16340  15af96ba-3fe0-4833-a280-c19194a29d80   \n",
       "9188   2c4ede0c-32ef-4c69-964c-545bacc2fdef   \n",
       "15988  80bdfeba-5cb0-414a-87a6-aac24451a20a   \n",
       "6392   ad0a78ef-f66b-4da4-a2b2-495b07d1ebf3   \n",
       "\n",
       "                                              bundle_vec  \\\n",
       "17914  {'type': 0, 'size': 7900, 'indices': [2, 36, 1...   \n",
       "16340  {'type': 0, 'size': 7900, 'indices': [17, 37, ...   \n",
       "9188   {'type': 0, 'size': 7900, 'indices': [11, 25, ...   \n",
       "15988  {'type': 0, 'size': 7900, 'indices': [8, 22, 9...   \n",
       "6392   {'type': 0, 'size': 7900, 'indices': [2, 8, 12...   \n",
       "\n",
       "                                     persona_segment_vec  \\\n",
       "17914  {'type': 0, 'size': 57, 'indices': [0, 4, 18, ...   \n",
       "16340  {'type': 0, 'size': 57, 'indices': [0, 3, 7], ...   \n",
       "9188   {'type': 0, 'size': 57, 'indices': [0, 1, 19, ...   \n",
       "15988  {'type': 0, 'size': 57, 'indices': [0, 1, 4, 6...   \n",
       "6392   {'type': 0, 'size': 57, 'indices': [0, 4, 7, 2...   \n",
       "\n",
       "                                          persona_L1_vec  \\\n",
       "17914  {'type': 0, 'size': 19, 'indices': [7, 9, 12],...   \n",
       "16340  {'type': 0, 'size': 19, 'indices': [0], 'value...   \n",
       "9188   {'type': 0, 'size': 19, 'indices': [1, 7, 13],...   \n",
       "15988  {'type': 0, 'size': 19, 'indices': [0, 3, 7, 9...   \n",
       "6392   {'type': 0, 'size': 19, 'indices': [3, 13], 'v...   \n",
       "\n",
       "                                          persona_L2_vec  \\\n",
       "17914  {'type': 0, 'size': 85, 'indices': [8, 20, 38]...   \n",
       "16340  {'type': 0, 'size': 85, 'indices': [1], 'value...   \n",
       "9188   {'type': 0, 'size': 85, 'indices': [2, 27, 28]...   \n",
       "15988  {'type': 0, 'size': 85, 'indices': [3, 5, 8, 1...   \n",
       "6392   {'type': 0, 'size': 85, 'indices': [3, 28], 'v...   \n",
       "\n",
       "                                          persona_L3_vec  \\\n",
       "17914  {'type': 0, 'size': 60, 'indices': [8], 'value...   \n",
       "16340  {'type': 0, 'size': 60, 'indices': [], 'values...   \n",
       "9188   {'type': 0, 'size': 60, 'indices': [0], 'value...   \n",
       "15988  {'type': 0, 'size': 60, 'indices': [4], 'value...   \n",
       "6392   {'type': 0, 'size': 60, 'indices': [], 'values...   \n",
       "\n",
       "                                       device_vendor_vec  \\\n",
       "17914  {'type': 0, 'size': 21, 'indices': [1], 'value...   \n",
       "16340  {'type': 0, 'size': 21, 'indices': [0], 'value...   \n",
       "9188   {'type': 0, 'size': 21, 'indices': [4], 'value...   \n",
       "15988  {'type': 0, 'size': 21, 'indices': [0], 'value...   \n",
       "6392   {'type': 0, 'size': 21, 'indices': [1], 'value...   \n",
       "\n",
       "                                         device_name_vec  \\\n",
       "17914  {'type': 0, 'size': 249, 'indices': [0], 'valu...   \n",
       "16340  {'type': 0, 'size': 249, 'indices': [2], 'valu...   \n",
       "9188   {'type': 0, 'size': 249, 'indices': [49], 'val...   \n",
       "15988  {'type': 0, 'size': 249, 'indices': [3], 'valu...   \n",
       "6392   {'type': 0, 'size': 249, 'indices': [0], 'valu...   \n",
       "\n",
       "                                 device_manufacturer_vec  \\\n",
       "17914  {'type': 0, 'size': 21, 'indices': [1], 'value...   \n",
       "16340  {'type': 0, 'size': 21, 'indices': [0], 'value...   \n",
       "9188   {'type': 0, 'size': 21, 'indices': [4], 'value...   \n",
       "15988  {'type': 0, 'size': 21, 'indices': [0], 'value...   \n",
       "6392   {'type': 0, 'size': 21, 'indices': [1], 'value...   \n",
       "\n",
       "                                        device_model_vec  \\\n",
       "17914  {'type': 0, 'size': 475, 'indices': [89], 'val...   \n",
       "16340  {'type': 0, 'size': 475, 'indices': [1], 'valu...   \n",
       "9188   {'type': 0, 'size': 475, 'indices': [67], 'val...   \n",
       "15988  {'type': 0, 'size': 475, 'indices': [2], 'valu...   \n",
       "6392   {'type': 0, 'size': 475, 'indices': [27], 'val...   \n",
       "\n",
       "                              device_year_of_release_vec  \\\n",
       "17914  {'type': 0, 'size': 7, 'indices': [3], 'values...   \n",
       "16340  {'type': 0, 'size': 7, 'indices': [0], 'values...   \n",
       "9188   {'type': 0, 'size': 7, 'indices': [1], 'values...   \n",
       "15988  {'type': 0, 'size': 7, 'indices': [0], 'values...   \n",
       "6392   {'type': 0, 'size': 7, 'indices': [2], 'values...   \n",
       "\n",
       "                                        dev_platform_vec  \\\n",
       "17914  {'type': 0, 'size': 2, 'indices': [0], 'values...   \n",
       "16340  {'type': 0, 'size': 2, 'indices': [0], 'values...   \n",
       "9188   {'type': 0, 'size': 2, 'indices': [0], 'values...   \n",
       "15988  {'type': 0, 'size': 2, 'indices': [0], 'values...   \n",
       "6392   {'type': 0, 'size': 2, 'indices': [0], 'values...   \n",
       "\n",
       "                                            major_os_vec  label_int  \n",
       "17914  {'type': 0, 'size': 7, 'indices': [2], 'values...          3  \n",
       "16340  {'type': 0, 'size': 7, 'indices': [0], 'values...          3  \n",
       "9188   {'type': 0, 'size': 7, 'indices': [0], 'values...          1  \n",
       "15988  {'type': 0, 'size': 7, 'indices': [0], 'values...          3  \n",
       "6392   {'type': 0, 'size': 7, 'indices': [0], 'values...          1  "
      ]
     },
     "execution_count": 97,
     "metadata": {},
     "output_type": "execute_result"
    }
   ],
   "source": [
    "df_train.head(5)"
   ]
  },
  {
   "cell_type": "markdown",
   "metadata": {},
   "source": [
    "# Write a Train CSV with Header for Autopilot "
   ]
  },
  {
   "cell_type": "code",
   "execution_count": 98,
   "metadata": {},
   "outputs": [],
   "source": [
    "autopilot_train_path = './train_data.csv'\n",
    "df_train.to_csv(autopilot_train_path, index=False, header=True)"
   ]
  },
  {
   "cell_type": "markdown",
   "metadata": {},
   "source": [
    "# Upload Train Data to S3 for Autopilot"
   ]
  },
  {
   "cell_type": "code",
   "execution_count": 99,
   "metadata": {},
   "outputs": [
    {
     "data": {
      "text/plain": [
       "'s3://ada-dev/xiaotian/ml/autopilot/data/train_data.csv'"
      ]
     },
     "execution_count": 99,
     "metadata": {},
     "output_type": "execute_result"
    }
   ],
   "source": [
    "train_s3_prefix = 'xiaotian/ml/autopilot/data'\n",
    "bucket = \"ada-dev\"\n",
    "autopilot_train_s3_uri = sess.upload_data(path=autopilot_train_path,bucket = bucket, key_prefix=train_s3_prefix)\n",
    "autopilot_train_s3_uri"
   ]
  },
  {
   "cell_type": "code",
   "execution_count": 100,
   "metadata": {},
   "outputs": [
    {
     "name": "stdout",
     "output_type": "stream",
     "text": [
      "2020-11-14 13:45:05   22247352 train_data.csv\n"
     ]
    }
   ],
   "source": [
    "!aws s3 ls $autopilot_train_s3_uri"
   ]
  },
  {
   "cell_type": "markdown",
   "metadata": {},
   "source": [
    "# Store Variables for Next Notebook(s)"
   ]
  },
  {
   "cell_type": "code",
   "execution_count": 101,
   "metadata": {},
   "outputs": [
    {
     "data": {
      "text/plain": [
       "'s3://ada-dev/xiaotian/ml/autopilot/data/train_data.csv'"
      ]
     },
     "execution_count": 101,
     "metadata": {},
     "output_type": "execute_result"
    }
   ],
   "source": [
    "autopilot_train_s3_uri"
   ]
  },
  {
   "cell_type": "code",
   "execution_count": 102,
   "metadata": {},
   "outputs": [
    {
     "name": "stdout",
     "output_type": "stream",
     "text": [
      "Stored 'autopilot_train_s3_uri' (str)\n"
     ]
    }
   ],
   "source": [
    "%store autopilot_train_s3_uri"
   ]
  },
  {
   "cell_type": "code",
   "execution_count": 103,
   "metadata": {},
   "outputs": [
    {
     "name": "stdout",
     "output_type": "stream",
     "text": [
      "Stored variables and their in-db values:\n",
      "autopilot_train_s3_uri             -> 's3://ada-dev/xiaotian/ml/autopilot/data/train_dat\n"
     ]
    }
   ],
   "source": [
    "%store"
   ]
  },
  {
   "cell_type": "code",
   "execution_count": null,
   "metadata": {},
   "outputs": [],
   "source": [
    "%%javascript\n",
    "Jupyter.notebook.save_checkpoint();\n",
    "Jupyter.notebook.session.delete();"
   ]
  }
 ],
 "metadata": {
  "kernelspec": {
   "display_name": "conda_python3",
   "language": "python",
   "name": "conda_python3"
  },
  "language_info": {
   "codemirror_mode": {
    "name": "ipython",
    "version": 3
   },
   "file_extension": ".py",
   "mimetype": "text/x-python",
   "name": "python",
   "nbconvert_exporter": "python",
   "pygments_lexer": "ipython3",
   "version": "3.6.10"
  }
 },
 "nbformat": 4,
 "nbformat_minor": 4
}
