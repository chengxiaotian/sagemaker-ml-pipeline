{
 "cells": [
  {
   "cell_type": "markdown",
   "metadata": {},
   "source": [
    "# NOTE:  THIS NOTEBOOK RUNS FOR 30+ MINUTES.  \n",
    "\n",
    "# PLEASE BE PATIENT"
   ]
  },
  {
   "cell_type": "markdown",
   "metadata": {},
   "source": [
    "# Train a Model with SageMaker Autopilot\n",
    "\n",
    "We will use Autopilot to predict the gender of the record. Autopilot implements a transparent approach to AutoML. \n",
    "\n",
    "For more details on Autopilot, have a look at this [**Amazon Science Publication**](https://www.amazon.science/publications/amazon-sagemaker-autopilot-a-white-box-automl-solution-at-scale).\n",
    "\n",
    "[![](img/amazon_science.png)](https://www.amazon.science/publications/amazon-sagemaker-autopilot-a-white-box-automl-solution-at-scale)\n"
   ]
  },
  {
   "cell_type": "markdown",
   "metadata": {},
   "source": [
    "<img src=\"img/autopilot-transparent.png\" width=\"80%\" align=\"left\">"
   ]
  },
  {
   "cell_type": "markdown",
   "metadata": {},
   "source": [
    "# Introduction"
   ]
  },
  {
   "cell_type": "markdown",
   "metadata": {},
   "source": [
    "Amazon SageMaker Autopilot is a service to perform automated machine learning (AutoML) on your datasets.  Autopilot is available through the UI or AWS SDK.  In this notebook, we will use the AWS SDK to create and deploy a text processing and star rating classification machine learning pipeline."
   ]
  },
  {
   "cell_type": "markdown",
   "metadata": {},
   "source": [
    "# Setup\n",
    "\n",
    "Let's start by specifying:\n",
    "\n",
    "* The S3 bucket and prefix to use to train our model.  _Note:  This should be in the same region as this notebook._\n",
    "* The IAM role of this notebook needs access to your data."
   ]
  },
  {
   "cell_type": "markdown",
   "metadata": {},
   "source": [
    "# Notes\n",
    "* This notebook will take some time to finish. \n",
    "\n",
    "* You can start this notebook and continue to the next notebooks whenever you are waiting for the current notebook to finish."
   ]
  },
  {
   "cell_type": "markdown",
   "metadata": {},
   "source": [
    "# Checking Pre-Requisites From Previous Notebook"
   ]
  },
  {
   "cell_type": "code",
   "execution_count": 1,
   "metadata": {},
   "outputs": [],
   "source": [
    "%store -r autopilot_train_s3_uri"
   ]
  },
  {
   "cell_type": "code",
   "execution_count": 2,
   "metadata": {},
   "outputs": [
    {
     "name": "stdout",
     "output_type": "stream",
     "text": [
      "[OK]\n"
     ]
    }
   ],
   "source": [
    "try:\n",
    "    autopilot_train_s3_uri\n",
    "    print('[OK]')\n",
    "except NameError:\n",
    "    print('+++++++++++++++++++++++++++++++++++++++++++++++++++++++++++++++++++++')\n",
    "    print('[ERROR] PLEASE RUN THE PREVIOUS 01_PREPARE_DATASET_AUTOPILOT NOTEBOOK.')\n",
    "    print('+++++++++++++++++++++++++++++++++++++++++++++++++++++++++++++++++++++')"
   ]
  },
  {
   "cell_type": "code",
   "execution_count": 3,
   "metadata": {},
   "outputs": [
    {
     "name": "stdout",
     "output_type": "stream",
     "text": [
      "s3://ada-dev/xiaotian/ml/autopilot/data/train_data.csv\n"
     ]
    }
   ],
   "source": [
    "print(autopilot_train_s3_uri)"
   ]
  },
  {
   "cell_type": "code",
   "execution_count": null,
   "metadata": {},
   "outputs": [],
   "source": [
    "if not autopilot_train_s3_uri:\n",
    "    print('+++++++++++++++++++++++++++++++++++++++++++++++++++++++++++++++++++++')\n",
    "    print('[ERROR] PLEASE RUN THE PREVIOUS 01_PREPARE_DATASET_AUTOPILOT NOTEBOOK.')\n",
    "    print('+++++++++++++++++++++++++++++++++++++++++++++++++++++++++++++++++++++')\n",
    "else:\n",
    "    print('[OK]')"
   ]
  },
  {
   "cell_type": "code",
   "execution_count": 10,
   "metadata": {},
   "outputs": [],
   "source": [
    "import boto3\n",
    "import sagemaker\n",
    "import pandas as pd\n",
    "import json\n",
    "\n",
    "sess   = sagemaker.Session(default_bucket = \"ada-dev\")\n",
    "bucket = sess.default_bucket()\n",
    "role = sagemaker.get_execution_role()\n",
    "region = boto3.Session().region_name\n",
    "\n",
    "sm = boto3.Session().client(service_name='sagemaker', region_name=region)"
   ]
  },
  {
   "cell_type": "code",
   "execution_count": 11,
   "metadata": {},
   "outputs": [],
   "source": [
    "bucket = sess.default_bucket()"
   ]
  },
  {
   "cell_type": "code",
   "execution_count": 12,
   "metadata": {},
   "outputs": [
    {
     "data": {
      "text/plain": [
       "'ada-dev'"
      ]
     },
     "execution_count": 12,
     "metadata": {},
     "output_type": "execute_result"
    }
   ],
   "source": [
    "bucket"
   ]
  },
  {
   "cell_type": "markdown",
   "metadata": {},
   "source": [
    "# Training Data"
   ]
  },
  {
   "cell_type": "code",
   "execution_count": 56,
   "metadata": {},
   "outputs": [
    {
     "name": "stdout",
     "output_type": "stream",
     "text": [
      "2020-11-13 09:17:30     661027 train_data.csv\n"
     ]
    }
   ],
   "source": [
    "!aws s3 ls $autopilot_train_s3_uri"
   ]
  },
  {
   "cell_type": "markdown",
   "metadata": {},
   "source": [
    "## See our prepared training data which we use as input for Autopilot"
   ]
  },
  {
   "cell_type": "code",
   "execution_count": 55,
   "metadata": {},
   "outputs": [
    {
     "name": "stdout",
     "output_type": "stream",
     "text": [
      "download: s3://ada-dev/xiaotian/ml/autopilot/data/train_data.csv to tmp/train_data.csv\n"
     ]
    }
   ],
   "source": [
    "!aws s3 cp $autopilot_train_s3_uri ./tmp/"
   ]
  },
  {
   "cell_type": "code",
   "execution_count": 54,
   "metadata": {},
   "outputs": [
    {
     "data": {
      "text/html": [
       "<div>\n",
       "<style scoped>\n",
       "    .dataframe tbody tr th:only-of-type {\n",
       "        vertical-align: middle;\n",
       "    }\n",
       "\n",
       "    .dataframe tbody tr th {\n",
       "        vertical-align: top;\n",
       "    }\n",
       "\n",
       "    .dataframe thead th {\n",
       "        text-align: right;\n",
       "    }\n",
       "</style>\n",
       "<table border=\"1\" class=\"dataframe\">\n",
       "  <thead>\n",
       "    <tr style=\"text-align: right;\">\n",
       "      <th></th>\n",
       "      <th>ifa</th>\n",
       "      <th>label</th>\n",
       "      <th>bundle_vec</th>\n",
       "      <th>persona_segment_vec</th>\n",
       "      <th>persona_L1_vec</th>\n",
       "      <th>persona_L2_vec</th>\n",
       "      <th>persona_L3_vec</th>\n",
       "      <th>device_vendor_vec</th>\n",
       "      <th>device_name_vec</th>\n",
       "      <th>device_manufacturer_vec</th>\n",
       "      <th>device_model_vec</th>\n",
       "      <th>device_year_of_release_vec</th>\n",
       "      <th>dev_platform_vec</th>\n",
       "      <th>major_os_vec</th>\n",
       "    </tr>\n",
       "  </thead>\n",
       "  <tbody>\n",
       "    <tr>\n",
       "      <th>0</th>\n",
       "      <td>2b93850e-7541-4c62-a72e-2d8dc3237f7b</td>\n",
       "      <td>1</td>\n",
       "      <td>{'type': 0, 'size': 8062, 'indices': array([  ...</td>\n",
       "      <td>{'type': 0, 'size': 57, 'indices': array([ 1, ...</td>\n",
       "      <td>{'type': 0, 'size': 19, 'indices': array([0, 1...</td>\n",
       "      <td>{'type': 0, 'size': 85, 'indices': array([ 0, ...</td>\n",
       "      <td>{'type': 0, 'size': 60, 'indices': array([0, 1...</td>\n",
       "      <td>{'type': 0, 'size': 20, 'indices': array([0], ...</td>\n",
       "      <td>{'type': 0, 'size': 256, 'indices': array([8],...</td>\n",
       "      <td>{'type': 0, 'size': 20, 'indices': array([0], ...</td>\n",
       "      <td>{'type': 0, 'size': 487, 'indices': array([8],...</td>\n",
       "      <td>{'type': 0, 'size': 7, 'indices': array([0], d...</td>\n",
       "      <td>{'type': 0, 'size': 2, 'indices': array([0], d...</td>\n",
       "      <td>{'type': 0, 'size': 7, 'indices': array([0], d...</td>\n",
       "    </tr>\n",
       "    <tr>\n",
       "      <th>1</th>\n",
       "      <td>98980d85-2ab8-4174-830d-bf153e924cb6</td>\n",
       "      <td>0</td>\n",
       "      <td>{'type': 0, 'size': 8062, 'indices': array([  ...</td>\n",
       "      <td>{'type': 0, 'size': 57, 'indices': array([ 0, ...</td>\n",
       "      <td>{'type': 0, 'size': 19, 'indices': array([0, 5...</td>\n",
       "      <td>{'type': 0, 'size': 85, 'indices': array([ 0, ...</td>\n",
       "      <td>{'type': 0, 'size': 60, 'indices': array([], d...</td>\n",
       "      <td>{'type': 0, 'size': 20, 'indices': array([3], ...</td>\n",
       "      <td>{'type': 0, 'size': 256, 'indices': array([162...</td>\n",
       "      <td>{'type': 0, 'size': 20, 'indices': array([3], ...</td>\n",
       "      <td>{'type': 0, 'size': 487, 'indices': array([328...</td>\n",
       "      <td>{'type': 0, 'size': 7, 'indices': array([4], d...</td>\n",
       "      <td>{'type': 0, 'size': 2, 'indices': array([0], d...</td>\n",
       "      <td>{'type': 0, 'size': 7, 'indices': array([5], d...</td>\n",
       "    </tr>\n",
       "    <tr>\n",
       "      <th>2</th>\n",
       "      <td>c5f1edc8-4450-47de-96cc-e916c6537b04</td>\n",
       "      <td>0</td>\n",
       "      <td>{'type': 0, 'size': 8062, 'indices': array([  ...</td>\n",
       "      <td>{'type': 0, 'size': 57, 'indices': array([ 1, ...</td>\n",
       "      <td>{'type': 0, 'size': 19, 'indices': array([0, 1...</td>\n",
       "      <td>{'type': 0, 'size': 85, 'indices': array([ 0, ...</td>\n",
       "      <td>{'type': 0, 'size': 60, 'indices': array([0, 5...</td>\n",
       "      <td>{'type': 0, 'size': 20, 'indices': array([], d...</td>\n",
       "      <td>{'type': 0, 'size': 256, 'indices': array([], ...</td>\n",
       "      <td>{'type': 0, 'size': 20, 'indices': array([], d...</td>\n",
       "      <td>{'type': 0, 'size': 487, 'indices': array([196...</td>\n",
       "      <td>{'type': 0, 'size': 7, 'indices': array([], dt...</td>\n",
       "      <td>{'type': 0, 'size': 2, 'indices': array([0], d...</td>\n",
       "      <td>{'type': 0, 'size': 7, 'indices': array([2], d...</td>\n",
       "    </tr>\n",
       "    <tr>\n",
       "      <th>3</th>\n",
       "      <td>43d07c1d-56fa-4f79-82a6-b4ba9630bda7</td>\n",
       "      <td>0</td>\n",
       "      <td>{'type': 0, 'size': 8062, 'indices': array([ 1...</td>\n",
       "      <td>{'type': 0, 'size': 57, 'indices': array([ 0, ...</td>\n",
       "      <td>{'type': 0, 'size': 19, 'indices': array([ 0, ...</td>\n",
       "      <td>{'type': 0, 'size': 85, 'indices': array([ 5, ...</td>\n",
       "      <td>{'type': 0, 'size': 60, 'indices': array([ 5, ...</td>\n",
       "      <td>{'type': 0, 'size': 20, 'indices': array([], d...</td>\n",
       "      <td>{'type': 0, 'size': 256, 'indices': array([], ...</td>\n",
       "      <td>{'type': 0, 'size': 20, 'indices': array([], d...</td>\n",
       "      <td>{'type': 0, 'size': 487, 'indices': array([234...</td>\n",
       "      <td>{'type': 0, 'size': 7, 'indices': array([], dt...</td>\n",
       "      <td>{'type': 0, 'size': 2, 'indices': array([0], d...</td>\n",
       "      <td>{'type': 0, 'size': 7, 'indices': array([2], d...</td>\n",
       "    </tr>\n",
       "    <tr>\n",
       "      <th>4</th>\n",
       "      <td>674e5aa3-c40a-4df0-baa1-a136503cf390</td>\n",
       "      <td>1</td>\n",
       "      <td>{'type': 0, 'size': 8062, 'indices': array([ 1...</td>\n",
       "      <td>{'type': 0, 'size': 57, 'indices': array([ 8, ...</td>\n",
       "      <td>{'type': 0, 'size': 19, 'indices': array([4], ...</td>\n",
       "      <td>{'type': 0, 'size': 85, 'indices': array([7], ...</td>\n",
       "      <td>{'type': 0, 'size': 60, 'indices': array([], d...</td>\n",
       "      <td>{'type': 0, 'size': 20, 'indices': array([1], ...</td>\n",
       "      <td>{'type': 0, 'size': 256, 'indices': array([0],...</td>\n",
       "      <td>{'type': 0, 'size': 20, 'indices': array([1], ...</td>\n",
       "      <td>{'type': 0, 'size': 487, 'indices': array([83]...</td>\n",
       "      <td>{'type': 0, 'size': 7, 'indices': array([1], d...</td>\n",
       "      <td>{'type': 0, 'size': 2, 'indices': array([0], d...</td>\n",
       "      <td>{'type': 0, 'size': 7, 'indices': array([0], d...</td>\n",
       "    </tr>\n",
       "  </tbody>\n",
       "</table>\n",
       "</div>"
      ],
      "text/plain": [
       "                                    ifa  label  \\\n",
       "0  2b93850e-7541-4c62-a72e-2d8dc3237f7b      1   \n",
       "1  98980d85-2ab8-4174-830d-bf153e924cb6      0   \n",
       "2  c5f1edc8-4450-47de-96cc-e916c6537b04      0   \n",
       "3  43d07c1d-56fa-4f79-82a6-b4ba9630bda7      0   \n",
       "4  674e5aa3-c40a-4df0-baa1-a136503cf390      1   \n",
       "\n",
       "                                          bundle_vec  \\\n",
       "0  {'type': 0, 'size': 8062, 'indices': array([  ...   \n",
       "1  {'type': 0, 'size': 8062, 'indices': array([  ...   \n",
       "2  {'type': 0, 'size': 8062, 'indices': array([  ...   \n",
       "3  {'type': 0, 'size': 8062, 'indices': array([ 1...   \n",
       "4  {'type': 0, 'size': 8062, 'indices': array([ 1...   \n",
       "\n",
       "                                 persona_segment_vec  \\\n",
       "0  {'type': 0, 'size': 57, 'indices': array([ 1, ...   \n",
       "1  {'type': 0, 'size': 57, 'indices': array([ 0, ...   \n",
       "2  {'type': 0, 'size': 57, 'indices': array([ 1, ...   \n",
       "3  {'type': 0, 'size': 57, 'indices': array([ 0, ...   \n",
       "4  {'type': 0, 'size': 57, 'indices': array([ 8, ...   \n",
       "\n",
       "                                      persona_L1_vec  \\\n",
       "0  {'type': 0, 'size': 19, 'indices': array([0, 1...   \n",
       "1  {'type': 0, 'size': 19, 'indices': array([0, 5...   \n",
       "2  {'type': 0, 'size': 19, 'indices': array([0, 1...   \n",
       "3  {'type': 0, 'size': 19, 'indices': array([ 0, ...   \n",
       "4  {'type': 0, 'size': 19, 'indices': array([4], ...   \n",
       "\n",
       "                                      persona_L2_vec  \\\n",
       "0  {'type': 0, 'size': 85, 'indices': array([ 0, ...   \n",
       "1  {'type': 0, 'size': 85, 'indices': array([ 0, ...   \n",
       "2  {'type': 0, 'size': 85, 'indices': array([ 0, ...   \n",
       "3  {'type': 0, 'size': 85, 'indices': array([ 5, ...   \n",
       "4  {'type': 0, 'size': 85, 'indices': array([7], ...   \n",
       "\n",
       "                                      persona_L3_vec  \\\n",
       "0  {'type': 0, 'size': 60, 'indices': array([0, 1...   \n",
       "1  {'type': 0, 'size': 60, 'indices': array([], d...   \n",
       "2  {'type': 0, 'size': 60, 'indices': array([0, 5...   \n",
       "3  {'type': 0, 'size': 60, 'indices': array([ 5, ...   \n",
       "4  {'type': 0, 'size': 60, 'indices': array([], d...   \n",
       "\n",
       "                                   device_vendor_vec  \\\n",
       "0  {'type': 0, 'size': 20, 'indices': array([0], ...   \n",
       "1  {'type': 0, 'size': 20, 'indices': array([3], ...   \n",
       "2  {'type': 0, 'size': 20, 'indices': array([], d...   \n",
       "3  {'type': 0, 'size': 20, 'indices': array([], d...   \n",
       "4  {'type': 0, 'size': 20, 'indices': array([1], ...   \n",
       "\n",
       "                                     device_name_vec  \\\n",
       "0  {'type': 0, 'size': 256, 'indices': array([8],...   \n",
       "1  {'type': 0, 'size': 256, 'indices': array([162...   \n",
       "2  {'type': 0, 'size': 256, 'indices': array([], ...   \n",
       "3  {'type': 0, 'size': 256, 'indices': array([], ...   \n",
       "4  {'type': 0, 'size': 256, 'indices': array([0],...   \n",
       "\n",
       "                             device_manufacturer_vec  \\\n",
       "0  {'type': 0, 'size': 20, 'indices': array([0], ...   \n",
       "1  {'type': 0, 'size': 20, 'indices': array([3], ...   \n",
       "2  {'type': 0, 'size': 20, 'indices': array([], d...   \n",
       "3  {'type': 0, 'size': 20, 'indices': array([], d...   \n",
       "4  {'type': 0, 'size': 20, 'indices': array([1], ...   \n",
       "\n",
       "                                    device_model_vec  \\\n",
       "0  {'type': 0, 'size': 487, 'indices': array([8],...   \n",
       "1  {'type': 0, 'size': 487, 'indices': array([328...   \n",
       "2  {'type': 0, 'size': 487, 'indices': array([196...   \n",
       "3  {'type': 0, 'size': 487, 'indices': array([234...   \n",
       "4  {'type': 0, 'size': 487, 'indices': array([83]...   \n",
       "\n",
       "                          device_year_of_release_vec  \\\n",
       "0  {'type': 0, 'size': 7, 'indices': array([0], d...   \n",
       "1  {'type': 0, 'size': 7, 'indices': array([4], d...   \n",
       "2  {'type': 0, 'size': 7, 'indices': array([], dt...   \n",
       "3  {'type': 0, 'size': 7, 'indices': array([], dt...   \n",
       "4  {'type': 0, 'size': 7, 'indices': array([1], d...   \n",
       "\n",
       "                                    dev_platform_vec  \\\n",
       "0  {'type': 0, 'size': 2, 'indices': array([0], d...   \n",
       "1  {'type': 0, 'size': 2, 'indices': array([0], d...   \n",
       "2  {'type': 0, 'size': 2, 'indices': array([0], d...   \n",
       "3  {'type': 0, 'size': 2, 'indices': array([0], d...   \n",
       "4  {'type': 0, 'size': 2, 'indices': array([0], d...   \n",
       "\n",
       "                                        major_os_vec  \n",
       "0  {'type': 0, 'size': 7, 'indices': array([0], d...  \n",
       "1  {'type': 0, 'size': 7, 'indices': array([5], d...  \n",
       "2  {'type': 0, 'size': 7, 'indices': array([2], d...  \n",
       "3  {'type': 0, 'size': 7, 'indices': array([2], d...  \n",
       "4  {'type': 0, 'size': 7, 'indices': array([0], d...  "
      ]
     },
     "execution_count": 54,
     "metadata": {},
     "output_type": "execute_result"
    }
   ],
   "source": [
    "import csv\n",
    "\n",
    "df = pd.read_csv('./tmp/train_data.csv')\n",
    "df.head()"
   ]
  },
  {
   "cell_type": "markdown",
   "metadata": {},
   "source": [
    "# Setup the S3 Location for the Autopilot-Generated Assets \n",
    "This include Jupyter Notebooks (Analysis), Python Scripts (Feature Engineering), and Trained Models."
   ]
  },
  {
   "cell_type": "code",
   "execution_count": 16,
   "metadata": {},
   "outputs": [
    {
     "name": "stdout",
     "output_type": "stream",
     "text": [
      "s3://ada-dev/xiaotian/ml/autopilot/model\n"
     ]
    }
   ],
   "source": [
    "prefix_model_output = 'xiaotian/ml/autopilot/model'\n",
    "\n",
    "model_output_s3_uri = 's3://{}/{}'.format(bucket, prefix_model_output)\n",
    "\n",
    "print(model_output_s3_uri)"
   ]
  },
  {
   "cell_type": "code",
   "execution_count": 74,
   "metadata": {},
   "outputs": [],
   "source": [
    "max_candidates = 3 #select only 3 top candidates\n",
    "\n",
    "job_config = {\n",
    "    'CompletionCriteria': {\n",
    "      'MaxRuntimePerTrainingJobInSeconds': 900,\n",
    "      'MaxCandidates': max_candidates,\n",
    "      'MaxAutoMLJobRuntimeInSeconds': 5400\n",
    "    },\n",
    "}\n",
    "\n",
    "input_data_config = [{\n",
    "      'DataSource': {\n",
    "        'S3DataSource': {\n",
    "          'S3DataType': 'S3Prefix',\n",
    "          'S3Uri': '{}'.format(autopilot_train_s3_uri)\n",
    "        }\n",
    "      },\n",
    "      'TargetAttributeName': 'label'\n",
    "    }\n",
    "]\n",
    "\n",
    "output_data_config = {\n",
    "    'S3OutputPath': '{}'.format(model_output_s3_uri)\n",
    "}"
   ]
  },
  {
   "cell_type": "markdown",
   "metadata": {},
   "source": [
    "# Check For Existing Autopilot Jobs"
   ]
  },
  {
   "cell_type": "code",
   "execution_count": 57,
   "metadata": {},
   "outputs": [],
   "source": [
    "existing_jobs_response = sm.list_auto_ml_jobs()"
   ]
  },
  {
   "cell_type": "code",
   "execution_count": 58,
   "metadata": {},
   "outputs": [
    {
     "data": {
      "text/plain": [
       "{'AutoMLJobSummaries': [{'AutoMLJobName': 'automl-dm-28-08-28-05',\n",
       "   'AutoMLJobArn': 'arn:aws:sagemaker:us-east-1:331041401449:automl-job/automl-dm-28-08-28-05',\n",
       "   'AutoMLJobStatus': 'Completed',\n",
       "   'AutoMLJobSecondaryStatus': 'MaxCandidatesReached',\n",
       "   'CreationTime': datetime.datetime(2020, 8, 28, 8, 28, 8, 738000, tzinfo=tzlocal()),\n",
       "   'EndTime': datetime.datetime(2020, 8, 28, 8, 50, 10, 734000, tzinfo=tzlocal()),\n",
       "   'LastModifiedTime': datetime.datetime(2020, 8, 28, 8, 50, 10, 769000, tzinfo=tzlocal())},\n",
       "  {'AutoMLJobName': 'automl-dm-12-02-54-20',\n",
       "   'AutoMLJobArn': 'arn:aws:sagemaker:us-east-1:331041401449:automl-job/automl-dm-12-02-54-20',\n",
       "   'AutoMLJobStatus': 'Completed',\n",
       "   'AutoMLJobSecondaryStatus': 'MaxCandidatesReached',\n",
       "   'CreationTime': datetime.datetime(2020, 11, 12, 2, 54, 45, 128000, tzinfo=tzlocal()),\n",
       "   'EndTime': datetime.datetime(2020, 11, 12, 3, 18, 8, 575000, tzinfo=tzlocal()),\n",
       "   'LastModifiedTime': datetime.datetime(2020, 11, 12, 3, 18, 8, 606000, tzinfo=tzlocal())},\n",
       "  {'AutoMLJobName': 'automl-dm-11-13-08-45',\n",
       "   'AutoMLJobArn': 'arn:aws:sagemaker:us-east-1:331041401449:automl-job/automl-dm-11-13-08-45',\n",
       "   'AutoMLJobStatus': 'Completed',\n",
       "   'AutoMLJobSecondaryStatus': 'MaxCandidatesReached',\n",
       "   'CreationTime': datetime.datetime(2020, 11, 13, 8, 47, 4, 613000, tzinfo=tzlocal()),\n",
       "   'EndTime': datetime.datetime(2020, 11, 13, 9, 8, 55, 761000, tzinfo=tzlocal()),\n",
       "   'LastModifiedTime': datetime.datetime(2020, 11, 13, 9, 8, 55, 790000, tzinfo=tzlocal())},\n",
       "  {'AutoMLJobName': 'automl-dm-11-03-26-46',\n",
       "   'AutoMLJobArn': 'arn:aws:sagemaker:us-east-1:331041401449:automl-job/automl-dm-11-03-26-46',\n",
       "   'AutoMLJobStatus': 'Completed',\n",
       "   'AutoMLJobSecondaryStatus': 'MaxCandidatesReached',\n",
       "   'CreationTime': datetime.datetime(2020, 11, 11, 3, 36, 41, 616000, tzinfo=tzlocal()),\n",
       "   'EndTime': datetime.datetime(2020, 11, 11, 3, 59, 44, 242000, tzinfo=tzlocal()),\n",
       "   'LastModifiedTime': datetime.datetime(2020, 11, 11, 3, 59, 44, 276000, tzinfo=tzlocal())}],\n",
       " 'ResponseMetadata': {'RequestId': 'caaef061-c7bb-4dab-96dc-e9a480e6c363',\n",
       "  'HTTPStatusCode': 200,\n",
       "  'HTTPHeaders': {'x-amzn-requestid': 'caaef061-c7bb-4dab-96dc-e9a480e6c363',\n",
       "   'content-type': 'application/x-amz-json-1.1',\n",
       "   'content-length': '1255',\n",
       "   'date': 'Fri, 13 Nov 2020 09:30:16 GMT'},\n",
       "  'RetryAttempts': 0}}"
      ]
     },
     "execution_count": 58,
     "metadata": {},
     "output_type": "execute_result"
    }
   ],
   "source": [
    "existing_jobs_response"
   ]
  },
  {
   "cell_type": "code",
   "execution_count": 59,
   "metadata": {},
   "outputs": [
    {
     "name": "stdout",
     "output_type": "stream",
     "text": [
      "[INFO] You have 0 Autopilot job(s) currently running << Should be 0 jobs.\n"
     ]
    }
   ],
   "source": [
    "num_existing_jobs = 0 \n",
    "running_jobs = 0\n",
    "\n",
    "if 'AutoMLJobSummaries' in existing_jobs_response.keys():\n",
    "    job_list = existing_jobs_response['AutoMLJobSummaries']\n",
    "    num_existing_jobs = len(job_list)\n",
    "    # print('[INFO] You already created {} Autopilot job(s) in this account.'.format(num_existing_jobs))\n",
    "    for j in job_list:\n",
    "        if 'AutoMLJobStatus' in j.keys():                \n",
    "            if j['AutoMLJobStatus'] == 'InProgress':\n",
    "                running_jobs = running_jobs + 1\n",
    "    print('[INFO] You have {} Autopilot job(s) currently running << Should be 0 jobs.'.format(running_jobs))\n",
    "else:\n",
    "    print('[OK] Please continue.')"
   ]
  },
  {
   "cell_type": "markdown",
   "metadata": {},
   "source": [
    "# Launch the SageMaker Autopilot Job"
   ]
  },
  {
   "cell_type": "code",
   "execution_count": 60,
   "metadata": {},
   "outputs": [],
   "source": [
    "from time import gmtime, strftime, sleep"
   ]
  },
  {
   "cell_type": "code",
   "execution_count": 61,
   "metadata": {},
   "outputs": [],
   "source": [
    "# %store -r auto_ml_job_name\n",
    "try:\n",
    "    auto_ml_job_name\n",
    "except NameError:    \n",
    "    timestamp_suffix = strftime('%-m-%d-%H-%M', gmtime())\n",
    "    auto_ml_job_name = 'automl-dm-' + timestamp_suffix\n",
    "    print('Created AutoMLJobName: ' + auto_ml_job_name)"
   ]
  },
  {
   "cell_type": "code",
   "execution_count": 66,
   "metadata": {},
   "outputs": [
    {
     "name": "stdout",
     "output_type": "stream",
     "text": [
      "automl-dm-11-13-09-32\n"
     ]
    }
   ],
   "source": [
    "print(auto_ml_job_name)"
   ]
  },
  {
   "cell_type": "code",
   "execution_count": 67,
   "metadata": {},
   "outputs": [
    {
     "name": "stdout",
     "output_type": "stream",
     "text": [
      "Stored 'auto_ml_job_name' (str)\n"
     ]
    }
   ],
   "source": [
    "%store auto_ml_job_name"
   ]
  },
  {
   "cell_type": "code",
   "execution_count": 68,
   "metadata": {},
   "outputs": [
    {
     "name": "stdout",
     "output_type": "stream",
     "text": [
      "[OK] Autopilot Job automl-dm-11-13-09-32 created.\n"
     ]
    }
   ],
   "source": [
    "max_running_jobs = 1\n",
    "\n",
    "if running_jobs < max_running_jobs: # Limiting to max. 1 Jobs\n",
    "    try:\n",
    "        sm.create_auto_ml_job(AutoMLJobName=auto_ml_job_name,\n",
    "                              InputDataConfig=input_data_config,\n",
    "                              OutputDataConfig=output_data_config,\n",
    "                              AutoMLJobConfig=job_config,\n",
    "                              RoleArn=role)\n",
    "        print('[OK] Autopilot Job {} created.'.format(auto_ml_job_name))\n",
    "        running_jobs = running_jobs + 1\n",
    "    except:\n",
    "        print('[INFO] You have already launched an Autopilot job. Please continue see the output of this job.'.format(running_jobs))\n",
    "else:\n",
    "    print('[INFO] You have already launched {} Autopilot running job(s). Please continue see the output of the running job.'.format(running_jobs))"
   ]
  },
  {
   "cell_type": "markdown",
   "metadata": {},
   "source": [
    "# Track the Progress of the Autopilot Job\n",
    "\n",
    "SageMaker Autopilot job consists of the following high-level steps: \n",
    "* _Data Analysis_ where the data is summarized and analyzed to determine which feature engineering techniques, hyper-parameters, and models to explore.\n",
    "* _Feature Engineering_ where the data is scrubbed, balanced, combined, and split into train and validation.\n",
    "* _Model Training and Tuning_ where the top performing features, hyper-parameters, and models are selected and trained.\n",
    "\n",
    "<img src=\"img/autopilot-steps.png\" width=\"90%\" align=\"left\">"
   ]
  },
  {
   "cell_type": "markdown",
   "metadata": {},
   "source": [
    "**Autopilot Research Paper:   \n",
    "https://assets.amazon.science/e8/8b/2366b1ab407990dec96e55ee5664/amazon-sagemaker-autopilot-a-white-box-automl-solution-at-scale.pdf**"
   ]
  },
  {
   "cell_type": "markdown",
   "metadata": {},
   "source": [
    "# Analyzing Data and Generate Notebooks"
   ]
  },
  {
   "cell_type": "code",
   "execution_count": 69,
   "metadata": {},
   "outputs": [
    {
     "data": {
      "text/plain": [
       "{'AutoMLJobName': 'automl-dm-11-13-09-32',\n",
       " 'AutoMLJobArn': 'arn:aws:sagemaker:us-east-1:331041401449:automl-job/automl-dm-11-13-09-32',\n",
       " 'InputDataConfig': [{'DataSource': {'S3DataSource': {'S3DataType': 'S3Prefix',\n",
       "     'S3Uri': 's3://ada-dev/xiaotian/ml/autopilot/data/train_data.csv'}},\n",
       "   'TargetAttributeName': 'label'}],\n",
       " 'OutputDataConfig': {'S3OutputPath': 's3://ada-dev/xiaotian/ml/autopilot/model'},\n",
       " 'RoleArn': 'arn:aws:iam::331041401449:role/ADA_SageMaker',\n",
       " 'AutoMLJobConfig': {'CompletionCriteria': {'MaxCandidates': 3,\n",
       "   'MaxRuntimePerTrainingJobInSeconds': 900,\n",
       "   'MaxAutoMLJobRuntimeInSeconds': 5400}},\n",
       " 'CreationTime': datetime.datetime(2020, 11, 13, 9, 32, 26, 388000, tzinfo=tzlocal()),\n",
       " 'LastModifiedTime': datetime.datetime(2020, 11, 13, 9, 32, 29, 467000, tzinfo=tzlocal()),\n",
       " 'AutoMLJobStatus': 'InProgress',\n",
       " 'AutoMLJobSecondaryStatus': 'AnalyzingData',\n",
       " 'GenerateCandidateDefinitionsOnly': False,\n",
       " 'ResponseMetadata': {'RequestId': 'c1ed5678-d7a6-4373-8af2-658d06e44c0b',\n",
       "  'HTTPStatusCode': 200,\n",
       "  'HTTPHeaders': {'x-amzn-requestid': 'c1ed5678-d7a6-4373-8af2-658d06e44c0b',\n",
       "   'content-type': 'application/x-amz-json-1.1',\n",
       "   'content-length': '761',\n",
       "   'date': 'Fri, 13 Nov 2020 09:32:36 GMT'},\n",
       "  'RetryAttempts': 0}}"
      ]
     },
     "execution_count": 69,
     "metadata": {},
     "output_type": "execute_result"
    }
   ],
   "source": [
    "job_description_response = sm.describe_auto_ml_job(AutoMLJobName=auto_ml_job_name)\n",
    "job_description_response"
   ]
  },
  {
   "cell_type": "code",
   "execution_count": 70,
   "metadata": {},
   "outputs": [
    {
     "name": "stdout",
     "output_type": "stream",
     "text": [
      "[OK] AutoMLJob started.\n"
     ]
    }
   ],
   "source": [
    "# job_description_response = sm.describe_auto_ml_job(AutoMLJobName=auto_ml_job_name)\n",
    "\n",
    "while 'AutoMLJobStatus' not in job_description_response.keys() and 'AutoMLJobSecondaryStatus' not in job_description_response.keys():\n",
    "    job_description_response = sm.describe_auto_ml_job(AutoMLJobName=auto_ml_job_name)\n",
    "    print('[INFO] Autopilot Job has not yet started. Please wait. ')\n",
    "    print(json.dumps(job_description_response, indent=4, sort_keys=True, default=str))\n",
    "    print('[INFO] Waiting for Autopilot Job to start...')\n",
    "    sleep(15)\n",
    "\n",
    "print('[OK] AutoMLJob started.')"
   ]
  },
  {
   "cell_type": "markdown",
   "metadata": {},
   "source": [
    "# Review the SageMaker `Processing Jobs`\n",
    "* First Processing Job (Data Splitter) checks the data sanity, performs stratified shuffling and splits the data into training and validation. \n",
    "* Second Processing Job (Candidate Generator) first streams through the data to compute statistics for the dataset. Then, uses these statistics to identify the problem type, and possible types of every column-predictor: numeric, categorical, natural language, etc."
   ]
  },
  {
   "cell_type": "code",
   "execution_count": 71,
   "metadata": {},
   "outputs": [
    {
     "data": {
      "text/html": [
       "<b>Review <a target=\"blank\" href=\"https://console.aws.amazon.com/sagemaker/home?region=us-east-1#/processing-jobs/\">Processing Jobs</a></b>"
      ],
      "text/plain": [
       "<IPython.core.display.HTML object>"
      ]
     },
     "metadata": {},
     "output_type": "display_data"
    }
   ],
   "source": [
    "from IPython.core.display import display, HTML\n",
    "\n",
    "display(HTML('<b>Review <a target=\"blank\" href=\"https://console.aws.amazon.com/sagemaker/home?region={}#/processing-jobs/\">Processing Jobs</a></b>'.format(region)))\n"
   ]
  },
  {
   "cell_type": "markdown",
   "metadata": {},
   "source": [
    "# The Next Cell Will Show `InProgress` For A Few Minutes.\n",
    "\n",
    "## _Please be patient._"
   ]
  },
  {
   "cell_type": "code",
   "execution_count": 72,
   "metadata": {
    "scrolled": true
   },
   "outputs": [
    {
     "name": "stdout",
     "output_type": "stream",
     "text": [
      "InProgress AnalyzingData\n",
      "InProgress AnalyzingData\n",
      "InProgress AnalyzingData\n",
      "InProgress AnalyzingData\n",
      "InProgress AnalyzingData\n",
      "InProgress AnalyzingData\n",
      "InProgress AnalyzingData\n",
      "InProgress AnalyzingData\n",
      "InProgress AnalyzingData\n",
      "InProgress AnalyzingData\n",
      "InProgress AnalyzingData\n",
      "InProgress AnalyzingData\n",
      "InProgress AnalyzingData\n",
      "InProgress AnalyzingData\n",
      "InProgress AnalyzingData\n",
      "InProgress AnalyzingData\n",
      "InProgress AnalyzingData\n",
      "InProgress AnalyzingData\n",
      "InProgress AnalyzingData\n",
      "InProgress AnalyzingData\n",
      "InProgress AnalyzingData\n",
      "InProgress AnalyzingData\n",
      "InProgress AnalyzingData\n",
      "InProgress AnalyzingData\n",
      "InProgress AnalyzingData\n",
      "InProgress AnalyzingData\n",
      "InProgress AnalyzingData\n",
      "InProgress AnalyzingData\n",
      "InProgress AnalyzingData\n",
      "InProgress FeatureEngineering\n",
      "[OK] Data analysis phase completed.\n",
      "\n",
      "{\n",
      "    \"AutoMLJobArn\": \"arn:aws:sagemaker:us-east-1:331041401449:automl-job/automl-dm-11-13-09-32\",\n",
      "    \"AutoMLJobArtifacts\": {\n",
      "        \"CandidateDefinitionNotebookLocation\": \"s3://ada-dev/xiaotian/ml/autopilot/model/automl-dm-11-13-09-32/sagemaker-automl-candidates/pr-1-1116d55fbd4e42f186066b0e139747eb60c913c5bd464b0282c9bccc96/notebooks/SageMakerAutopilotCandidateDefinitionNotebook.ipynb\",\n",
      "        \"DataExplorationNotebookLocation\": \"s3://ada-dev/xiaotian/ml/autopilot/model/automl-dm-11-13-09-32/sagemaker-automl-candidates/pr-1-1116d55fbd4e42f186066b0e139747eb60c913c5bd464b0282c9bccc96/notebooks/SageMakerAutopilotDataExplorationNotebook.ipynb\"\n",
      "    },\n",
      "    \"AutoMLJobConfig\": {\n",
      "        \"CompletionCriteria\": {\n",
      "            \"MaxAutoMLJobRuntimeInSeconds\": 5400,\n",
      "            \"MaxCandidates\": 3,\n",
      "            \"MaxRuntimePerTrainingJobInSeconds\": 900\n",
      "        }\n",
      "    },\n",
      "    \"AutoMLJobName\": \"automl-dm-11-13-09-32\",\n",
      "    \"AutoMLJobSecondaryStatus\": \"FeatureEngineering\",\n",
      "    \"AutoMLJobStatus\": \"InProgress\",\n",
      "    \"CreationTime\": \"2020-11-13 09:32:26.388000+00:00\",\n",
      "    \"GenerateCandidateDefinitionsOnly\": false,\n",
      "    \"InputDataConfig\": [\n",
      "        {\n",
      "            \"DataSource\": {\n",
      "                \"S3DataSource\": {\n",
      "                    \"S3DataType\": \"S3Prefix\",\n",
      "                    \"S3Uri\": \"s3://ada-dev/xiaotian/ml/autopilot/data/train_data.csv\"\n",
      "                }\n",
      "            },\n",
      "            \"TargetAttributeName\": \"label\"\n",
      "        }\n",
      "    ],\n",
      "    \"LastModifiedTime\": \"2020-11-13 09:40:10.561000+00:00\",\n",
      "    \"OutputDataConfig\": {\n",
      "        \"S3OutputPath\": \"s3://ada-dev/xiaotian/ml/autopilot/model\"\n",
      "    },\n",
      "    \"ResponseMetadata\": {\n",
      "        \"HTTPHeaders\": {\n",
      "            \"content-length\": \"1295\",\n",
      "            \"content-type\": \"application/x-amz-json-1.1\",\n",
      "            \"date\": \"Fri, 13 Nov 2020 09:40:09 GMT\",\n",
      "            \"x-amzn-requestid\": \"7f2cedf5-c5f1-4535-a0c9-d9b86e108378\"\n",
      "        },\n",
      "        \"HTTPStatusCode\": 200,\n",
      "        \"RequestId\": \"7f2cedf5-c5f1-4535-a0c9-d9b86e108378\",\n",
      "        \"RetryAttempts\": 0\n",
      "    },\n",
      "    \"RoleArn\": \"arn:aws:iam::331041401449:role/ADA_SageMaker\"\n",
      "}\n",
      "CPU times: user 330 ms, sys: 20.6 ms, total: 351 ms\n",
      "Wall time: 7min 34s\n"
     ]
    }
   ],
   "source": [
    "%%time\n",
    "\n",
    "job_status = job_description_response['AutoMLJobStatus']\n",
    "job_sec_status = job_description_response['AutoMLJobSecondaryStatus']\n",
    "\n",
    "if job_status not in ('Stopped', 'Failed'):\n",
    "    while job_status in ('InProgress') and job_sec_status in ('Starting', 'AnalyzingData'):\n",
    "        job_description_response = sm.describe_auto_ml_job(AutoMLJobName=auto_ml_job_name)\n",
    "        job_status = job_description_response['AutoMLJobStatus']\n",
    "        job_sec_status = job_description_response['AutoMLJobSecondaryStatus']\n",
    "        print(job_status, job_sec_status)\n",
    "        sleep(15)\n",
    "    print('[OK] Data analysis phase completed.\\n')\n",
    "    \n",
    "print(json.dumps(job_description_response, indent=4, sort_keys=True, default=str))"
   ]
  },
  {
   "cell_type": "markdown",
   "metadata": {},
   "source": [
    "# View Generated Notebook Samples\n",
    "Once data analysis is complete, SageMaker AutoPilot generates two notebooks: \n",
    "* Data Exploration\n",
    "* Candidate Definition"
   ]
  },
  {
   "cell_type": "markdown",
   "metadata": {},
   "source": [
    "# Waiting For Generated Notebooks"
   ]
  },
  {
   "cell_type": "code",
   "execution_count": 75,
   "metadata": {},
   "outputs": [
    {
     "name": "stdout",
     "output_type": "stream",
     "text": [
      "[OK] AutoMLJobArtifacts generated.\n"
     ]
    }
   ],
   "source": [
    "job_description_response = sm.describe_auto_ml_job(AutoMLJobName=auto_ml_job_name)\n",
    "\n",
    "while 'AutoMLJobArtifacts' not in job_description_response.keys():\n",
    "    job_description_response = sm.describe_auto_ml_job(AutoMLJobName=auto_ml_job_name)\n",
    "    print('[INFO] Autopilot Job has not yet generated the artifacts. Please wait. ')\n",
    "    print(json.dumps(job_description_response, indent=4, sort_keys=True, default=str))\n",
    "    print('[INFO] Waiting for AutoMLJobArtifacts...')\n",
    "    sleep(15)\n",
    "\n",
    "print('[OK] AutoMLJobArtifacts generated.')"
   ]
  },
  {
   "cell_type": "code",
   "execution_count": 76,
   "metadata": {},
   "outputs": [
    {
     "name": "stdout",
     "output_type": "stream",
     "text": [
      "[OK] DataExplorationNotebookLocation found.\n"
     ]
    }
   ],
   "source": [
    "job_description_response = sm.describe_auto_ml_job(AutoMLJobName=auto_ml_job_name)\n",
    "\n",
    "while 'DataExplorationNotebookLocation' not in job_description_response['AutoMLJobArtifacts'].keys():\n",
    "    job_description_response = sm.describe_auto_ml_job(AutoMLJobName=auto_ml_job_name)\n",
    "    print('[INFO] Autopilot Job has not yet generated the notebooks. Please wait. ')\n",
    "    print(json.dumps(job_description_response, indent=4, sort_keys=True, default=str))\n",
    "    print('[INFO] Waiting for DataExplorationNotebookLocation...')\n",
    "    sleep(15)\n",
    "\n",
    "print('[OK] DataExplorationNotebookLocation found.')   "
   ]
  },
  {
   "cell_type": "code",
   "execution_count": 77,
   "metadata": {},
   "outputs": [],
   "source": [
    "generated_resources = job_description_response['AutoMLJobArtifacts']['DataExplorationNotebookLocation']\n",
    "download_path = generated_resources.rsplit('/notebooks/SageMakerAutopilotDataExplorationNotebook.ipynb')[0]\n",
    "job_id = download_path.rsplit('/', 1)[-1]"
   ]
  },
  {
   "cell_type": "code",
   "execution_count": 78,
   "metadata": {},
   "outputs": [
    {
     "data": {
      "text/html": [
       "<b>Review <a target=\"blank\" href=\"https://s3.console.aws.amazon.com/s3/buckets/ada-dev/xiaotian/ml/autopilot/model/automl-dm-11-13-09-32/sagemaker-automl-candidates/pr-1-1116d55fbd4e42f186066b0e139747eb60c913c5bd464b0282c9bccc96/\">S3 Generated Resources</a></b>"
      ],
      "text/plain": [
       "<IPython.core.display.HTML object>"
      ]
     },
     "metadata": {},
     "output_type": "display_data"
    }
   ],
   "source": [
    "from IPython.core.display import display, HTML\n",
    "\n",
    "if not job_id: \n",
    "    print('No AutoMLJobArtifacts found.')\n",
    "else: \n",
    "    display(HTML('<b>Review <a target=\"blank\" href=\"https://s3.console.aws.amazon.com/s3/buckets/{}/{}/{}/sagemaker-automl-candidates/{}/\">S3 Generated Resources</a></b>'.format(bucket, prefix_model_output, auto_ml_job_name, job_id)))"
   ]
  },
  {
   "cell_type": "markdown",
   "metadata": {},
   "source": [
    "# Download Generated Notebooks & Code"
   ]
  },
  {
   "cell_type": "code",
   "execution_count": 79,
   "metadata": {},
   "outputs": [
    {
     "name": "stdout",
     "output_type": "stream",
     "text": [
      "s3://ada-dev/xiaotian/ml/autopilot/model/automl-dm-11-13-09-32/sagemaker-automl-candidates/pr-1-1116d55fbd4e42f186066b0e139747eb60c913c5bd464b0282c9bccc96\n"
     ]
    }
   ],
   "source": [
    "print(download_path)"
   ]
  },
  {
   "cell_type": "code",
   "execution_count": 80,
   "metadata": {},
   "outputs": [
    {
     "name": "stdout",
     "output_type": "stream",
     "text": [
      "download: s3://ada-dev/xiaotian/ml/autopilot/model/automl-dm-11-13-09-32/sagemaker-automl-candidates/pr-1-1116d55fbd4e42f186066b0e139747eb60c913c5bd464b0282c9bccc96/generated_module/MANIFEST.in to generated_module/MANIFEST.in\n",
      "download: s3://ada-dev/xiaotian/ml/autopilot/model/automl-dm-11-13-09-32/sagemaker-automl-candidates/pr-1-1116d55fbd4e42f186066b0e139747eb60c913c5bd464b0282c9bccc96/generated_module/candidate_data_processors/dpp0.py to generated_module/candidate_data_processors/dpp0.py\n",
      "download: s3://ada-dev/xiaotian/ml/autopilot/model/automl-dm-11-13-09-32/sagemaker-automl-candidates/pr-1-1116d55fbd4e42f186066b0e139747eb60c913c5bd464b0282c9bccc96/notebooks/SageMakerAutopilotCandidateDefinitionNotebook.ipynb to notebooks/SageMakerAutopilotCandidateDefinitionNotebook.ipynb\n",
      "download: s3://ada-dev/xiaotian/ml/autopilot/model/automl-dm-11-13-09-32/sagemaker-automl-candidates/pr-1-1116d55fbd4e42f186066b0e139747eb60c913c5bd464b0282c9bccc96/generated_module/candidate_data_processors/dpp2.py to generated_module/candidate_data_processors/dpp2.py\n",
      "download: s3://ada-dev/xiaotian/ml/autopilot/model/automl-dm-11-13-09-32/sagemaker-automl-candidates/pr-1-1116d55fbd4e42f186066b0e139747eb60c913c5bd464b0282c9bccc96/generated_module/candidate_data_processors/dpp1.py to generated_module/candidate_data_processors/dpp1.py\n",
      "download: s3://ada-dev/xiaotian/ml/autopilot/model/automl-dm-11-13-09-32/sagemaker-automl-candidates/pr-1-1116d55fbd4e42f186066b0e139747eb60c913c5bd464b0282c9bccc96/generated_module/candidate_data_processors/trainer.py to generated_module/candidate_data_processors/trainer.py\n",
      "download: s3://ada-dev/xiaotian/ml/autopilot/model/automl-dm-11-13-09-32/sagemaker-automl-candidates/pr-1-1116d55fbd4e42f186066b0e139747eb60c913c5bd464b0282c9bccc96/notebooks/sagemaker_automl/__init__.py to notebooks/sagemaker_automl/__init__.py\n",
      "download: s3://ada-dev/xiaotian/ml/autopilot/model/automl-dm-11-13-09-32/sagemaker-automl-candidates/pr-1-1116d55fbd4e42f186066b0e139747eb60c913c5bd464b0282c9bccc96/notebooks/SageMakerAutopilotDataExplorationNotebook.ipynb to notebooks/SageMakerAutopilotDataExplorationNotebook.ipynb\n",
      "download: s3://ada-dev/xiaotian/ml/autopilot/model/automl-dm-11-13-09-32/sagemaker-automl-candidates/pr-1-1116d55fbd4e42f186066b0e139747eb60c913c5bd464b0282c9bccc96/notebooks/sagemaker_automl/interactive_runner.py to notebooks/sagemaker_automl/interactive_runner.py\n",
      "download: s3://ada-dev/xiaotian/ml/autopilot/model/automl-dm-11-13-09-32/sagemaker-automl-candidates/pr-1-1116d55fbd4e42f186066b0e139747eb60c913c5bd464b0282c9bccc96/generated_module/setup.py to generated_module/setup.py\n",
      "download: s3://ada-dev/xiaotian/ml/autopilot/model/automl-dm-11-13-09-32/sagemaker-automl-candidates/pr-1-1116d55fbd4e42f186066b0e139747eb60c913c5bd464b0282c9bccc96/generated_module/candidate_data_processors/sagemaker_serve.py to generated_module/candidate_data_processors/sagemaker_serve.py\n",
      "download: s3://ada-dev/xiaotian/ml/autopilot/model/automl-dm-11-13-09-32/sagemaker-automl-candidates/pr-1-1116d55fbd4e42f186066b0e139747eb60c913c5bd464b0282c9bccc96/generated_module/README.md to generated_module/README.md\n",
      "download: s3://ada-dev/xiaotian/ml/autopilot/model/automl-dm-11-13-09-32/sagemaker-automl-candidates/pr-1-1116d55fbd4e42f186066b0e139747eb60c913c5bd464b0282c9bccc96/notebooks/sagemaker_automl/README.md to notebooks/sagemaker_automl/README.md\n",
      "download: s3://ada-dev/xiaotian/ml/autopilot/model/automl-dm-11-13-09-32/sagemaker-automl-candidates/pr-1-1116d55fbd4e42f186066b0e139747eb60c913c5bd464b0282c9bccc96/notebooks/sagemaker_automl/config.py to notebooks/sagemaker_automl/config.py\n",
      "download: s3://ada-dev/xiaotian/ml/autopilot/model/automl-dm-11-13-09-32/sagemaker-automl-candidates/pr-1-1116d55fbd4e42f186066b0e139747eb60c913c5bd464b0282c9bccc96/notebooks/sagemaker_automl/steps.py to notebooks/sagemaker_automl/steps.py\n",
      "download: s3://ada-dev/xiaotian/ml/autopilot/model/automl-dm-11-13-09-32/sagemaker-automl-candidates/pr-1-1116d55fbd4e42f186066b0e139747eb60c913c5bd464b0282c9bccc96/notebooks/sagemaker_automl/local_candidate.py to notebooks/sagemaker_automl/local_candidate.py\n",
      "download: s3://ada-dev/xiaotian/ml/autopilot/model/automl-dm-11-13-09-32/sagemaker-automl-candidates/pr-1-1116d55fbd4e42f186066b0e139747eb60c913c5bd464b0282c9bccc96/notebooks/sagemaker_automl/common.py to notebooks/sagemaker_automl/common.py\n"
     ]
    }
   ],
   "source": [
    "try:\n",
    "    !aws s3 cp --recursive $download_path .\n",
    "except:\n",
    "    print('Could not download the generated resources. Make sure the path is correct.')"
   ]
  },
  {
   "cell_type": "markdown",
   "metadata": {},
   "source": [
    "# Review The Generated Resources:"
   ]
  },
  {
   "cell_type": "code",
   "execution_count": 81,
   "metadata": {},
   "outputs": [
    {
     "name": "stdout",
     "output_type": "stream",
     "text": [
      "dpp0.py  dpp1.py  dpp2.py  sagemaker_serve.py  trainer.py\n"
     ]
    }
   ],
   "source": [
    "!ls ./generated_module/candidate_data_processors"
   ]
  },
  {
   "cell_type": "code",
   "execution_count": 82,
   "metadata": {},
   "outputs": [
    {
     "name": "stdout",
     "output_type": "stream",
     "text": [
      "sagemaker_automl\n",
      "SageMakerAutopilotCandidateDefinitionNotebook.ipynb\n",
      "SageMakerAutopilotDataExplorationNotebook.ipynb\n"
     ]
    }
   ],
   "source": [
    "!ls ./notebooks"
   ]
  },
  {
   "cell_type": "markdown",
   "metadata": {},
   "source": [
    "# Feature Engineering"
   ]
  },
  {
   "cell_type": "markdown",
   "metadata": {},
   "source": [
    "### Watch out for SageMaker `Training Jobs` and `Batch Transform Jobs` to start. \n",
    "\n",
    "* This is the candidate exploration phase. \n",
    "* Each python script code for data-processing is executed inside a SageMaker framework container as a training job, followed by transform job.\n",
    "\n",
    "Note, that feature preprocessing part of each pipeline has all hyper parameters fixed, i.e. does not require tuning, thus feature preprocessing step can be done prior runing the hyper parameter optimization job. \n",
    "\n",
    "It outputs up to 10 variants of transformed data, therefore algorithms for each pipeline are set to use\n",
    "the respective transformed data.\n",
    "\n",
    "<img src=\"img/autopilot-steps.png\" width=\"90%\" align=\"left\">"
   ]
  },
  {
   "cell_type": "markdown",
   "metadata": {},
   "source": [
    "**Autopilot Research Paper:   \n",
    "https://assets.amazon.science/e8/8b/2366b1ab407990dec96e55ee5664/amazon-sagemaker-autopilot-a-white-box-automl-solution-at-scale.pdf**"
   ]
  },
  {
   "cell_type": "code",
   "execution_count": 83,
   "metadata": {},
   "outputs": [
    {
     "data": {
      "text/html": [
       "<b>Review <a target=\"blank\" href=\"https://console.aws.amazon.com/sagemaker/home?region=us-east-1#/jobs/\">Training Jobs</a></b>"
      ],
      "text/plain": [
       "<IPython.core.display.HTML object>"
      ]
     },
     "metadata": {},
     "output_type": "display_data"
    }
   ],
   "source": [
    "from IPython.core.display import display, HTML\n",
    "\n",
    "display(HTML('<b>Review <a target=\"blank\" href=\"https://console.aws.amazon.com/sagemaker/home?region={}#/jobs/\">Training Jobs</a></b>'.format(region)))\n"
   ]
  },
  {
   "cell_type": "code",
   "execution_count": 84,
   "metadata": {},
   "outputs": [
    {
     "data": {
      "text/html": [
       "<b>Review <a target=\"blank\" href=\"https://console.aws.amazon.com/sagemaker/home?region=us-east-1#/transform-jobs/\">Batch Transform Jobs</a></b>"
      ],
      "text/plain": [
       "<IPython.core.display.HTML object>"
      ]
     },
     "metadata": {},
     "output_type": "display_data"
    }
   ],
   "source": [
    "from IPython.core.display import display, HTML\n",
    "\n",
    "display(HTML('<b>Review <a target=\"blank\" href=\"https://console.aws.amazon.com/sagemaker/home?region={}#/transform-jobs/\">Batch Transform Jobs</a></b>'.format(region)))\n"
   ]
  },
  {
   "cell_type": "markdown",
   "metadata": {},
   "source": [
    "# The Next Cell Will Show `InProgress` For A Few Minutes.\n",
    "\n",
    "## _Please be patient._ ##"
   ]
  },
  {
   "cell_type": "code",
   "execution_count": 85,
   "metadata": {
    "scrolled": true
   },
   "outputs": [
    {
     "name": "stdout",
     "output_type": "stream",
     "text": [
      "Completed\n",
      "MaxCandidatesReached\n",
      "[OK] Feature engineering phase completed.\n",
      "\n",
      "{\n",
      "    \"AutoMLJobArn\": \"arn:aws:sagemaker:us-east-1:331041401449:automl-job/automl-dm-11-13-09-32\",\n",
      "    \"AutoMLJobArtifacts\": {\n",
      "        \"CandidateDefinitionNotebookLocation\": \"s3://ada-dev/xiaotian/ml/autopilot/model/automl-dm-11-13-09-32/sagemaker-automl-candidates/pr-1-1116d55fbd4e42f186066b0e139747eb60c913c5bd464b0282c9bccc96/notebooks/SageMakerAutopilotCandidateDefinitionNotebook.ipynb\",\n",
      "        \"DataExplorationNotebookLocation\": \"s3://ada-dev/xiaotian/ml/autopilot/model/automl-dm-11-13-09-32/sagemaker-automl-candidates/pr-1-1116d55fbd4e42f186066b0e139747eb60c913c5bd464b0282c9bccc96/notebooks/SageMakerAutopilotDataExplorationNotebook.ipynb\"\n",
      "    },\n",
      "    \"AutoMLJobConfig\": {\n",
      "        \"CompletionCriteria\": {\n",
      "            \"MaxAutoMLJobRuntimeInSeconds\": 5400,\n",
      "            \"MaxCandidates\": 3,\n",
      "            \"MaxRuntimePerTrainingJobInSeconds\": 900\n",
      "        }\n",
      "    },\n",
      "    \"AutoMLJobName\": \"automl-dm-11-13-09-32\",\n",
      "    \"AutoMLJobSecondaryStatus\": \"MaxCandidatesReached\",\n",
      "    \"AutoMLJobStatus\": \"Completed\",\n",
      "    \"BestCandidate\": {\n",
      "        \"CandidateName\": \"tuning-job-1-5278e047d0a34520b5-002-06ffd120\",\n",
      "        \"CandidateStatus\": \"Completed\",\n",
      "        \"CandidateSteps\": [\n",
      "            {\n",
      "                \"CandidateStepArn\": \"arn:aws:sagemaker:us-east-1:331041401449:processing-job/db-1-3d21387a35ee408eabdddbe610ce29d7f90e9b7607964d70b7c3170c3d\",\n",
      "                \"CandidateStepName\": \"db-1-3d21387a35ee408eabdddbe610ce29d7f90e9b7607964d70b7c3170c3d\",\n",
      "                \"CandidateStepType\": \"AWS::SageMaker::ProcessingJob\"\n",
      "            },\n",
      "            {\n",
      "                \"CandidateStepArn\": \"arn:aws:sagemaker:us-east-1:331041401449:training-job/automl-dm--dpp0-1-77da6dcd0c5641d696e1b37f47d64cd29f2fb8b881464\",\n",
      "                \"CandidateStepName\": \"automl-dm--dpp0-1-77da6dcd0c5641d696e1b37f47d64cd29f2fb8b881464\",\n",
      "                \"CandidateStepType\": \"AWS::SageMaker::TrainingJob\"\n",
      "            },\n",
      "            {\n",
      "                \"CandidateStepArn\": \"arn:aws:sagemaker:us-east-1:331041401449:transform-job/automl-dm--dpp0-rpb-1-27fc30e481594ba7ab6ed060511c4a6cce0b377c3\",\n",
      "                \"CandidateStepName\": \"automl-dm--dpp0-rpb-1-27fc30e481594ba7ab6ed060511c4a6cce0b377c3\",\n",
      "                \"CandidateStepType\": \"AWS::SageMaker::TransformJob\"\n",
      "            },\n",
      "            {\n",
      "                \"CandidateStepArn\": \"arn:aws:sagemaker:us-east-1:331041401449:training-job/tuning-job-1-5278e047d0a34520b5-002-06ffd120\",\n",
      "                \"CandidateStepName\": \"tuning-job-1-5278e047d0a34520b5-002-06ffd120\",\n",
      "                \"CandidateStepType\": \"AWS::SageMaker::TrainingJob\"\n",
      "            }\n",
      "        ],\n",
      "        \"CreationTime\": \"2020-11-13 09:51:14+00:00\",\n",
      "        \"EndTime\": \"2020-11-13 09:52:03+00:00\",\n",
      "        \"FinalAutoMLJobObjectiveMetric\": {\n",
      "            \"MetricName\": \"validation:f1\",\n",
      "            \"Value\": 0.6177399754524231\n",
      "        },\n",
      "        \"InferenceContainers\": [\n",
      "            {\n",
      "                \"Environment\": {\n",
      "                    \"AUTOML_SPARSE_ENCODE_RECORDIO_PROTOBUF\": \"1\",\n",
      "                    \"AUTOML_TRANSFORM_MODE\": \"feature-transform\",\n",
      "                    \"SAGEMAKER_DEFAULT_INVOCATIONS_ACCEPT\": \"application/x-recordio-protobuf\",\n",
      "                    \"SAGEMAKER_PROGRAM\": \"sagemaker_serve\",\n",
      "                    \"SAGEMAKER_SUBMIT_DIRECTORY\": \"/opt/ml/model/code\"\n",
      "                },\n",
      "                \"Image\": \"683313688378.dkr.ecr.us-east-1.amazonaws.com/sagemaker-sklearn-automl:0.2-1-cpu-py3\",\n",
      "                \"ModelDataUrl\": \"s3://ada-dev/xiaotian/ml/autopilot/model/automl-dm-11-13-09-32/data-processor-models/automl-dm--dpp0-1-77da6dcd0c5641d696e1b37f47d64cd29f2fb8b881464/output/model.tar.gz\"\n",
      "            },\n",
      "            {\n",
      "                \"Environment\": {\n",
      "                    \"MAX_CONTENT_LENGTH\": \"20971520\",\n",
      "                    \"SAGEMAKER_DEFAULT_INVOCATIONS_ACCEPT\": \"text/csv\",\n",
      "                    \"SAGEMAKER_INFERENCE_OUTPUT\": \"predicted_label\",\n",
      "                    \"SAGEMAKER_INFERENCE_SUPPORTED\": \"predicted_label,probability,probabilities\"\n",
      "                },\n",
      "                \"Image\": \"683313688378.dkr.ecr.us-east-1.amazonaws.com/sagemaker-xgboost:1.0-1-cpu-py3\",\n",
      "                \"ModelDataUrl\": \"s3://ada-dev/xiaotian/ml/autopilot/model/automl-dm-11-13-09-32/tuning/automl-dm--dpp0-xgb/tuning-job-1-5278e047d0a34520b5-002-06ffd120/output/model.tar.gz\"\n",
      "            },\n",
      "            {\n",
      "                \"Environment\": {\n",
      "                    \"AUTOML_TRANSFORM_MODE\": \"inverse-label-transform\",\n",
      "                    \"SAGEMAKER_DEFAULT_INVOCATIONS_ACCEPT\": \"text/csv\",\n",
      "                    \"SAGEMAKER_INFERENCE_INPUT\": \"predicted_label\",\n",
      "                    \"SAGEMAKER_INFERENCE_OUTPUT\": \"predicted_label\",\n",
      "                    \"SAGEMAKER_INFERENCE_SUPPORTED\": \"predicted_label,probability,labels,probabilities\",\n",
      "                    \"SAGEMAKER_PROGRAM\": \"sagemaker_serve\",\n",
      "                    \"SAGEMAKER_SUBMIT_DIRECTORY\": \"/opt/ml/model/code\"\n",
      "                },\n",
      "                \"Image\": \"683313688378.dkr.ecr.us-east-1.amazonaws.com/sagemaker-sklearn-automl:0.2-1-cpu-py3\",\n",
      "                \"ModelDataUrl\": \"s3://ada-dev/xiaotian/ml/autopilot/model/automl-dm-11-13-09-32/data-processor-models/automl-dm--dpp0-1-77da6dcd0c5641d696e1b37f47d64cd29f2fb8b881464/output/model.tar.gz\"\n",
      "            }\n",
      "        ],\n",
      "        \"LastModifiedTime\": \"2020-11-13 09:53:02.238000+00:00\",\n",
      "        \"ObjectiveStatus\": \"Succeeded\"\n",
      "    },\n",
      "    \"CreationTime\": \"2020-11-13 09:32:26.388000+00:00\",\n",
      "    \"EndTime\": \"2020-11-13 09:53:03.164000+00:00\",\n",
      "    \"GenerateCandidateDefinitionsOnly\": false,\n",
      "    \"InputDataConfig\": [\n",
      "        {\n",
      "            \"DataSource\": {\n",
      "                \"S3DataSource\": {\n",
      "                    \"S3DataType\": \"S3Prefix\",\n",
      "                    \"S3Uri\": \"s3://ada-dev/xiaotian/ml/autopilot/data/train_data.csv\"\n",
      "                }\n",
      "            },\n",
      "            \"TargetAttributeName\": \"label\"\n",
      "        }\n",
      "    ],\n",
      "    \"LastModifiedTime\": \"2020-11-13 09:53:03.196000+00:00\",\n",
      "    \"OutputDataConfig\": {\n",
      "        \"S3OutputPath\": \"s3://ada-dev/xiaotian/ml/autopilot/model\"\n",
      "    },\n",
      "    \"ResolvedAttributes\": {\n",
      "        \"AutoMLJobObjective\": {\n",
      "            \"MetricName\": \"F1\"\n",
      "        },\n",
      "        \"CompletionCriteria\": {\n",
      "            \"MaxAutoMLJobRuntimeInSeconds\": 5400,\n",
      "            \"MaxCandidates\": 3,\n",
      "            \"MaxRuntimePerTrainingJobInSeconds\": 900\n",
      "        },\n",
      "        \"ProblemType\": \"BinaryClassification\"\n",
      "    },\n",
      "    \"ResponseMetadata\": {\n",
      "        \"HTTPHeaders\": {\n",
      "            \"content-length\": \"4672\",\n",
      "            \"content-type\": \"application/x-amz-json-1.1\",\n",
      "            \"date\": \"Fri, 13 Nov 2020 10:18:48 GMT\",\n",
      "            \"x-amzn-requestid\": \"c24f1bfc-eb4a-4b59-a2cf-8e94a0f7d0da\"\n",
      "        },\n",
      "        \"HTTPStatusCode\": 200,\n",
      "        \"RequestId\": \"c24f1bfc-eb4a-4b59-a2cf-8e94a0f7d0da\",\n",
      "        \"RetryAttempts\": 0\n",
      "    },\n",
      "    \"RoleArn\": \"arn:aws:iam::331041401449:role/ADA_SageMaker\"\n",
      "}\n",
      "CPU times: user 12.9 ms, sys: 415 µs, total: 13.4 ms\n",
      "Wall time: 92.9 ms\n"
     ]
    }
   ],
   "source": [
    "%%time\n",
    "\n",
    "job_description_response = sm.describe_auto_ml_job(AutoMLJobName=auto_ml_job_name)\n",
    "job_status = job_description_response['AutoMLJobStatus']\n",
    "job_sec_status = job_description_response['AutoMLJobSecondaryStatus']\n",
    "print(job_status)\n",
    "print(job_sec_status)\n",
    "if job_status not in ('Stopped', 'Failed'):\n",
    "    while job_status in ('InProgress') and job_sec_status in ('FeatureEngineering'):\n",
    "        job_description_response = sm.describe_auto_ml_job(AutoMLJobName=auto_ml_job_name)\n",
    "        job_status = job_description_response['AutoMLJobStatus']\n",
    "        job_sec_status = job_description_response['AutoMLJobSecondaryStatus']\n",
    "        print(job_status, job_sec_status)\n",
    "        sleep(15)\n",
    "    print('[OK] Feature engineering phase completed.\\n')\n",
    "    \n",
    "print(json.dumps(job_description_response, indent=4, sort_keys=True, default=str))"
   ]
  },
  {
   "cell_type": "markdown",
   "metadata": {},
   "source": [
    "# [INFO] _Feel free to continue to the next workshop section while this notebook is running._"
   ]
  },
  {
   "cell_type": "markdown",
   "metadata": {},
   "source": [
    "# Model Training and Tuning"
   ]
  },
  {
   "cell_type": "markdown",
   "metadata": {},
   "source": [
    "### Watch out for a SageMaker`Hyperparameter Tuning Job` and various `Training Jobs` to start. \n",
    "\n",
    "* All algorithms are optimized using a SageMaker Hyperparameter Tuning job. \n",
    "* Up to 250 training jobs (based on number of candidates specified) are selectively executed to find the best candidate model.\n",
    "\n",
    "<img src=\"img/autopilot-steps.png\" width=\"90%\" align=\"left\">"
   ]
  },
  {
   "cell_type": "markdown",
   "metadata": {},
   "source": [
    "**Autopilot Research Paper:   \n",
    "https://assets.amazon.science/e8/8b/2366b1ab407990dec96e55ee5664/amazon-sagemaker-autopilot-a-white-box-automl-solution-at-scale.pdf**"
   ]
  },
  {
   "cell_type": "code",
   "execution_count": 86,
   "metadata": {},
   "outputs": [
    {
     "data": {
      "text/html": [
       "<b>Review <a target=\"blank\" href=\"https://console.aws.amazon.com/sagemaker/home?region=us-east-1#/hyper-tuning-jobs/\">Hyperparameter Tuning Jobs</a></b>"
      ],
      "text/plain": [
       "<IPython.core.display.HTML object>"
      ]
     },
     "metadata": {},
     "output_type": "display_data"
    }
   ],
   "source": [
    "from IPython.core.display import display, HTML\n",
    "\n",
    "display(HTML('<b>Review <a target=\"blank\" href=\"https://console.aws.amazon.com/sagemaker/home?region={}#/hyper-tuning-jobs/\">Hyperparameter Tuning Jobs</a></b>'.format(region)))\n"
   ]
  },
  {
   "cell_type": "code",
   "execution_count": 87,
   "metadata": {},
   "outputs": [
    {
     "data": {
      "text/html": [
       "<b>Review <a target=\"blank\" href=\"https://console.aws.amazon.com/sagemaker/home?region=us-east-1#/jobs/\">Training Jobs</a></b>"
      ],
      "text/plain": [
       "<IPython.core.display.HTML object>"
      ]
     },
     "metadata": {},
     "output_type": "display_data"
    }
   ],
   "source": [
    "from IPython.core.display import display, HTML\n",
    "\n",
    "display(HTML('<b>Review <a target=\"blank\" href=\"https://console.aws.amazon.com/sagemaker/home?region={}#/jobs/\">Training Jobs</a></b>'.format(region)))\n"
   ]
  },
  {
   "cell_type": "markdown",
   "metadata": {},
   "source": [
    "# The Next Cell Will Show `InProgress` For A Few Minutes.\n",
    "\n",
    "## _Please be patient._"
   ]
  },
  {
   "cell_type": "code",
   "execution_count": 88,
   "metadata": {
    "scrolled": true
   },
   "outputs": [
    {
     "name": "stdout",
     "output_type": "stream",
     "text": [
      "Completed\n",
      "MaxCandidatesReached\n",
      "[OK] Model tuning phase completed.\n",
      "\n",
      "{\n",
      "    \"AutoMLJobArn\": \"arn:aws:sagemaker:us-east-1:331041401449:automl-job/automl-dm-11-13-09-32\",\n",
      "    \"AutoMLJobArtifacts\": {\n",
      "        \"CandidateDefinitionNotebookLocation\": \"s3://ada-dev/xiaotian/ml/autopilot/model/automl-dm-11-13-09-32/sagemaker-automl-candidates/pr-1-1116d55fbd4e42f186066b0e139747eb60c913c5bd464b0282c9bccc96/notebooks/SageMakerAutopilotCandidateDefinitionNotebook.ipynb\",\n",
      "        \"DataExplorationNotebookLocation\": \"s3://ada-dev/xiaotian/ml/autopilot/model/automl-dm-11-13-09-32/sagemaker-automl-candidates/pr-1-1116d55fbd4e42f186066b0e139747eb60c913c5bd464b0282c9bccc96/notebooks/SageMakerAutopilotDataExplorationNotebook.ipynb\"\n",
      "    },\n",
      "    \"AutoMLJobConfig\": {\n",
      "        \"CompletionCriteria\": {\n",
      "            \"MaxAutoMLJobRuntimeInSeconds\": 5400,\n",
      "            \"MaxCandidates\": 3,\n",
      "            \"MaxRuntimePerTrainingJobInSeconds\": 900\n",
      "        }\n",
      "    },\n",
      "    \"AutoMLJobName\": \"automl-dm-11-13-09-32\",\n",
      "    \"AutoMLJobSecondaryStatus\": \"MaxCandidatesReached\",\n",
      "    \"AutoMLJobStatus\": \"Completed\",\n",
      "    \"BestCandidate\": {\n",
      "        \"CandidateName\": \"tuning-job-1-5278e047d0a34520b5-002-06ffd120\",\n",
      "        \"CandidateStatus\": \"Completed\",\n",
      "        \"CandidateSteps\": [\n",
      "            {\n",
      "                \"CandidateStepArn\": \"arn:aws:sagemaker:us-east-1:331041401449:processing-job/db-1-3d21387a35ee408eabdddbe610ce29d7f90e9b7607964d70b7c3170c3d\",\n",
      "                \"CandidateStepName\": \"db-1-3d21387a35ee408eabdddbe610ce29d7f90e9b7607964d70b7c3170c3d\",\n",
      "                \"CandidateStepType\": \"AWS::SageMaker::ProcessingJob\"\n",
      "            },\n",
      "            {\n",
      "                \"CandidateStepArn\": \"arn:aws:sagemaker:us-east-1:331041401449:training-job/automl-dm--dpp0-1-77da6dcd0c5641d696e1b37f47d64cd29f2fb8b881464\",\n",
      "                \"CandidateStepName\": \"automl-dm--dpp0-1-77da6dcd0c5641d696e1b37f47d64cd29f2fb8b881464\",\n",
      "                \"CandidateStepType\": \"AWS::SageMaker::TrainingJob\"\n",
      "            },\n",
      "            {\n",
      "                \"CandidateStepArn\": \"arn:aws:sagemaker:us-east-1:331041401449:transform-job/automl-dm--dpp0-rpb-1-27fc30e481594ba7ab6ed060511c4a6cce0b377c3\",\n",
      "                \"CandidateStepName\": \"automl-dm--dpp0-rpb-1-27fc30e481594ba7ab6ed060511c4a6cce0b377c3\",\n",
      "                \"CandidateStepType\": \"AWS::SageMaker::TransformJob\"\n",
      "            },\n",
      "            {\n",
      "                \"CandidateStepArn\": \"arn:aws:sagemaker:us-east-1:331041401449:training-job/tuning-job-1-5278e047d0a34520b5-002-06ffd120\",\n",
      "                \"CandidateStepName\": \"tuning-job-1-5278e047d0a34520b5-002-06ffd120\",\n",
      "                \"CandidateStepType\": \"AWS::SageMaker::TrainingJob\"\n",
      "            }\n",
      "        ],\n",
      "        \"CreationTime\": \"2020-11-13 09:51:14+00:00\",\n",
      "        \"EndTime\": \"2020-11-13 09:52:03+00:00\",\n",
      "        \"FinalAutoMLJobObjectiveMetric\": {\n",
      "            \"MetricName\": \"validation:f1\",\n",
      "            \"Value\": 0.6177399754524231\n",
      "        },\n",
      "        \"InferenceContainers\": [\n",
      "            {\n",
      "                \"Environment\": {\n",
      "                    \"AUTOML_SPARSE_ENCODE_RECORDIO_PROTOBUF\": \"1\",\n",
      "                    \"AUTOML_TRANSFORM_MODE\": \"feature-transform\",\n",
      "                    \"SAGEMAKER_DEFAULT_INVOCATIONS_ACCEPT\": \"application/x-recordio-protobuf\",\n",
      "                    \"SAGEMAKER_PROGRAM\": \"sagemaker_serve\",\n",
      "                    \"SAGEMAKER_SUBMIT_DIRECTORY\": \"/opt/ml/model/code\"\n",
      "                },\n",
      "                \"Image\": \"683313688378.dkr.ecr.us-east-1.amazonaws.com/sagemaker-sklearn-automl:0.2-1-cpu-py3\",\n",
      "                \"ModelDataUrl\": \"s3://ada-dev/xiaotian/ml/autopilot/model/automl-dm-11-13-09-32/data-processor-models/automl-dm--dpp0-1-77da6dcd0c5641d696e1b37f47d64cd29f2fb8b881464/output/model.tar.gz\"\n",
      "            },\n",
      "            {\n",
      "                \"Environment\": {\n",
      "                    \"MAX_CONTENT_LENGTH\": \"20971520\",\n",
      "                    \"SAGEMAKER_DEFAULT_INVOCATIONS_ACCEPT\": \"text/csv\",\n",
      "                    \"SAGEMAKER_INFERENCE_OUTPUT\": \"predicted_label\",\n",
      "                    \"SAGEMAKER_INFERENCE_SUPPORTED\": \"predicted_label,probability,probabilities\"\n",
      "                },\n",
      "                \"Image\": \"683313688378.dkr.ecr.us-east-1.amazonaws.com/sagemaker-xgboost:1.0-1-cpu-py3\",\n",
      "                \"ModelDataUrl\": \"s3://ada-dev/xiaotian/ml/autopilot/model/automl-dm-11-13-09-32/tuning/automl-dm--dpp0-xgb/tuning-job-1-5278e047d0a34520b5-002-06ffd120/output/model.tar.gz\"\n",
      "            },\n",
      "            {\n",
      "                \"Environment\": {\n",
      "                    \"AUTOML_TRANSFORM_MODE\": \"inverse-label-transform\",\n",
      "                    \"SAGEMAKER_DEFAULT_INVOCATIONS_ACCEPT\": \"text/csv\",\n",
      "                    \"SAGEMAKER_INFERENCE_INPUT\": \"predicted_label\",\n",
      "                    \"SAGEMAKER_INFERENCE_OUTPUT\": \"predicted_label\",\n",
      "                    \"SAGEMAKER_INFERENCE_SUPPORTED\": \"predicted_label,probability,labels,probabilities\",\n",
      "                    \"SAGEMAKER_PROGRAM\": \"sagemaker_serve\",\n",
      "                    \"SAGEMAKER_SUBMIT_DIRECTORY\": \"/opt/ml/model/code\"\n",
      "                },\n",
      "                \"Image\": \"683313688378.dkr.ecr.us-east-1.amazonaws.com/sagemaker-sklearn-automl:0.2-1-cpu-py3\",\n",
      "                \"ModelDataUrl\": \"s3://ada-dev/xiaotian/ml/autopilot/model/automl-dm-11-13-09-32/data-processor-models/automl-dm--dpp0-1-77da6dcd0c5641d696e1b37f47d64cd29f2fb8b881464/output/model.tar.gz\"\n",
      "            }\n",
      "        ],\n",
      "        \"LastModifiedTime\": \"2020-11-13 09:53:02.238000+00:00\",\n",
      "        \"ObjectiveStatus\": \"Succeeded\"\n",
      "    },\n",
      "    \"CreationTime\": \"2020-11-13 09:32:26.388000+00:00\",\n",
      "    \"EndTime\": \"2020-11-13 09:53:03.164000+00:00\",\n",
      "    \"GenerateCandidateDefinitionsOnly\": false,\n",
      "    \"InputDataConfig\": [\n",
      "        {\n",
      "            \"DataSource\": {\n",
      "                \"S3DataSource\": {\n",
      "                    \"S3DataType\": \"S3Prefix\",\n",
      "                    \"S3Uri\": \"s3://ada-dev/xiaotian/ml/autopilot/data/train_data.csv\"\n",
      "                }\n",
      "            },\n",
      "            \"TargetAttributeName\": \"label\"\n",
      "        }\n",
      "    ],\n",
      "    \"LastModifiedTime\": \"2020-11-13 09:53:03.196000+00:00\",\n",
      "    \"OutputDataConfig\": {\n",
      "        \"S3OutputPath\": \"s3://ada-dev/xiaotian/ml/autopilot/model\"\n",
      "    },\n",
      "    \"ResolvedAttributes\": {\n",
      "        \"AutoMLJobObjective\": {\n",
      "            \"MetricName\": \"F1\"\n",
      "        },\n",
      "        \"CompletionCriteria\": {\n",
      "            \"MaxAutoMLJobRuntimeInSeconds\": 5400,\n",
      "            \"MaxCandidates\": 3,\n",
      "            \"MaxRuntimePerTrainingJobInSeconds\": 900\n",
      "        },\n",
      "        \"ProblemType\": \"BinaryClassification\"\n",
      "    },\n",
      "    \"ResponseMetadata\": {\n",
      "        \"HTTPHeaders\": {\n",
      "            \"content-length\": \"4672\",\n",
      "            \"content-type\": \"application/x-amz-json-1.1\",\n",
      "            \"date\": \"Fri, 13 Nov 2020 10:19:31 GMT\",\n",
      "            \"x-amzn-requestid\": \"d288fab7-63d3-4723-98f1-b2661bea8670\"\n",
      "        },\n",
      "        \"HTTPStatusCode\": 200,\n",
      "        \"RequestId\": \"d288fab7-63d3-4723-98f1-b2661bea8670\",\n",
      "        \"RetryAttempts\": 0\n",
      "    },\n",
      "    \"RoleArn\": \"arn:aws:iam::331041401449:role/ADA_SageMaker\"\n",
      "}\n",
      "CPU times: user 11.6 ms, sys: 0 ns, total: 11.6 ms\n",
      "Wall time: 107 ms\n"
     ]
    }
   ],
   "source": [
    "%%time\n",
    "\n",
    "job_description_response = sm.describe_auto_ml_job(AutoMLJobName=auto_ml_job_name)\n",
    "job_status = job_description_response['AutoMLJobStatus']\n",
    "job_sec_status = job_description_response['AutoMLJobSecondaryStatus']\n",
    "print(job_status)\n",
    "print(job_sec_status)\n",
    "if job_status not in ('Stopped', 'Failed'):\n",
    "    while job_status in ('InProgress') and job_sec_status in ('ModelTuning'):\n",
    "        job_description_response = sm.describe_auto_ml_job(AutoMLJobName=auto_ml_job_name)\n",
    "        job_status = job_description_response['AutoMLJobStatus']\n",
    "        job_sec_status = job_description_response['AutoMLJobSecondaryStatus']\n",
    "        print(job_status, job_sec_status)\n",
    "        sleep(15)\n",
    "    print('[OK] Model tuning phase completed.\\n')\n",
    "    \n",
    "print(json.dumps(job_description_response, indent=4, sort_keys=True, default=str))"
   ]
  },
  {
   "cell_type": "markdown",
   "metadata": {},
   "source": [
    "# _Please Wait Until ^^ Autopilot ^^ Completes Above_\n",
    "\n",
    "# [INFO] _Feel free to continue to the next workshop section while this notebook is running._"
   ]
  },
  {
   "cell_type": "markdown",
   "metadata": {},
   "source": [
    "Make sure the status below indicates `Completed`."
   ]
  },
  {
   "cell_type": "code",
   "execution_count": 89,
   "metadata": {},
   "outputs": [
    {
     "name": "stdout",
     "output_type": "stream",
     "text": [
      "Completed\n",
      "[OK] Autopilot Job completed.\n",
      "\n",
      "CPU times: user 11.5 ms, sys: 0 ns, total: 11.5 ms\n",
      "Wall time: 159 ms\n"
     ]
    }
   ],
   "source": [
    "%%time\n",
    "\n",
    "job_description_response = sm.describe_auto_ml_job(AutoMLJobName=auto_ml_job_name)\n",
    "job_status = job_description_response['AutoMLJobStatus']\n",
    "print(job_status)\n",
    "if job_status not in ('Stopped', 'Failed'):\n",
    "    while job_status not in ('Completed'):\n",
    "        job_description_response = sm.describe_auto_ml_job(AutoMLJobName=auto_ml_job_name)\n",
    "        job_status = job_description_response['AutoMLJobStatus']\n",
    "        print(job_status)\n",
    "        sleep(10)\n",
    "    print('[OK] Autopilot Job completed.\\n')\n",
    "else:\n",
    "    print(job_status)\n"
   ]
  },
  {
   "cell_type": "markdown",
   "metadata": {},
   "source": [
    "# Viewing All Candidates\n",
    "Once model tuning is complete, you can view all the candidates (pipeline evaluations with different hyperparameter combinations) that were explored by AutoML and sort them by their final performance metric."
   ]
  },
  {
   "cell_type": "code",
   "execution_count": 90,
   "metadata": {},
   "outputs": [],
   "source": [
    "candidates_response = sm.list_candidates_for_auto_ml_job(AutoMLJobName=auto_ml_job_name, \n",
    "                                                         SortBy='FinalObjectiveMetricValue')"
   ]
  },
  {
   "cell_type": "markdown",
   "metadata": {},
   "source": [
    "### Check that candidates exist"
   ]
  },
  {
   "cell_type": "code",
   "execution_count": 91,
   "metadata": {},
   "outputs": [
    {
     "name": "stdout",
     "output_type": "stream",
     "text": [
      "dict_keys(['Candidates', 'ResponseMetadata'])\n"
     ]
    }
   ],
   "source": [
    "print(candidates_response.keys())"
   ]
  },
  {
   "cell_type": "code",
   "execution_count": 92,
   "metadata": {},
   "outputs": [
    {
     "name": "stdout",
     "output_type": "stream",
     "text": [
      "[OK] Candidates generated.\n"
     ]
    }
   ],
   "source": [
    "while 'Candidates' not in candidates_response.keys():\n",
    "    candidates_response = sm.list_candidates_for_auto_ml_job(AutoMLJobName=auto_ml_job_name, \n",
    "                                                         SortBy='FinalObjectiveMetricValue')\n",
    "    print('[INFO] Autopilot Job is generating the Candidates. Please wait.')\n",
    "    print(json.dumps(candidates_response, indent=4, sort_keys=True, default=str))\n",
    "    sleep(10)\n",
    "\n",
    "candidates = candidates_response['Candidates']\n",
    "print('[OK] Candidates generated.') "
   ]
  },
  {
   "cell_type": "code",
   "execution_count": 93,
   "metadata": {},
   "outputs": [
    {
     "name": "stdout",
     "output_type": "stream",
     "text": [
      "dict_keys(['CandidateName', 'FinalAutoMLJobObjectiveMetric', 'ObjectiveStatus', 'CandidateSteps', 'CandidateStatus', 'InferenceContainers', 'CreationTime', 'EndTime', 'LastModifiedTime'])\n"
     ]
    }
   ],
   "source": [
    "print(candidates[0].keys())"
   ]
  },
  {
   "cell_type": "code",
   "execution_count": 94,
   "metadata": {},
   "outputs": [
    {
     "name": "stdout",
     "output_type": "stream",
     "text": [
      "[OK] CandidateName generated.\n"
     ]
    }
   ],
   "source": [
    "while 'CandidateName' not in candidates[0]:\n",
    "    candidates_response = sm.list_candidates_for_auto_ml_job(AutoMLJobName=auto_ml_job_name, \n",
    "                                                         SortBy='FinalObjectiveMetricValue')\n",
    "    candidates = candidates_response['Candidates']\n",
    "    print('[INFO] Autopilot Job is generating CandidateName. Please wait. ')\n",
    "    print(json.dumps(candidates, indent=4, sort_keys=True, default=str))\n",
    "    sleep(10)\n",
    "\n",
    "print('[OK] CandidateName generated.')     "
   ]
  },
  {
   "cell_type": "code",
   "execution_count": 95,
   "metadata": {},
   "outputs": [
    {
     "name": "stdout",
     "output_type": "stream",
     "text": [
      "[OK] FinalAutoMLJobObjectiveMetric generated.\n"
     ]
    }
   ],
   "source": [
    "while 'FinalAutoMLJobObjectiveMetric' not in candidates[0]:\n",
    "    candidates_response = sm.list_candidates_for_auto_ml_job(AutoMLJobName=auto_ml_job_name, \n",
    "                                                         SortBy='FinalObjectiveMetricValue')\n",
    "    candidates = candidates_response['Candidates']\n",
    "    print('[INFO] Autopilot Job is generating FinalAutoMLJobObjectiveMetric. Please wait. ')\n",
    "    print(json.dumps(candidates, indent=4, sort_keys=True, default=str))\n",
    "    sleep(10)\n",
    "\n",
    "print('[OK] FinalAutoMLJobObjectiveMetric generated.')  "
   ]
  },
  {
   "cell_type": "code",
   "execution_count": 96,
   "metadata": {
    "scrolled": true
   },
   "outputs": [
    {
     "name": "stdout",
     "output_type": "stream",
     "text": [
      "[\n",
      "    {\n",
      "        \"CandidateName\": \"tuning-job-1-5278e047d0a34520b5-002-06ffd120\",\n",
      "        \"CandidateStatus\": \"Completed\",\n",
      "        \"CandidateSteps\": [\n",
      "            {\n",
      "                \"CandidateStepArn\": \"arn:aws:sagemaker:us-east-1:331041401449:processing-job/db-1-3d21387a35ee408eabdddbe610ce29d7f90e9b7607964d70b7c3170c3d\",\n",
      "                \"CandidateStepName\": \"db-1-3d21387a35ee408eabdddbe610ce29d7f90e9b7607964d70b7c3170c3d\",\n",
      "                \"CandidateStepType\": \"AWS::SageMaker::ProcessingJob\"\n",
      "            },\n",
      "            {\n",
      "                \"CandidateStepArn\": \"arn:aws:sagemaker:us-east-1:331041401449:training-job/automl-dm--dpp0-1-77da6dcd0c5641d696e1b37f47d64cd29f2fb8b881464\",\n",
      "                \"CandidateStepName\": \"automl-dm--dpp0-1-77da6dcd0c5641d696e1b37f47d64cd29f2fb8b881464\",\n",
      "                \"CandidateStepType\": \"AWS::SageMaker::TrainingJob\"\n",
      "            },\n",
      "            {\n",
      "                \"CandidateStepArn\": \"arn:aws:sagemaker:us-east-1:331041401449:transform-job/automl-dm--dpp0-rpb-1-27fc30e481594ba7ab6ed060511c4a6cce0b377c3\",\n",
      "                \"CandidateStepName\": \"automl-dm--dpp0-rpb-1-27fc30e481594ba7ab6ed060511c4a6cce0b377c3\",\n",
      "                \"CandidateStepType\": \"AWS::SageMaker::TransformJob\"\n",
      "            },\n",
      "            {\n",
      "                \"CandidateStepArn\": \"arn:aws:sagemaker:us-east-1:331041401449:training-job/tuning-job-1-5278e047d0a34520b5-002-06ffd120\",\n",
      "                \"CandidateStepName\": \"tuning-job-1-5278e047d0a34520b5-002-06ffd120\",\n",
      "                \"CandidateStepType\": \"AWS::SageMaker::TrainingJob\"\n",
      "            }\n",
      "        ],\n",
      "        \"CreationTime\": \"2020-11-13 09:51:14+00:00\",\n",
      "        \"EndTime\": \"2020-11-13 09:52:03+00:00\",\n",
      "        \"FinalAutoMLJobObjectiveMetric\": {\n",
      "            \"MetricName\": \"validation:f1\",\n",
      "            \"Value\": 0.6177399754524231\n",
      "        },\n",
      "        \"InferenceContainers\": [\n",
      "            {\n",
      "                \"Environment\": {\n",
      "                    \"AUTOML_SPARSE_ENCODE_RECORDIO_PROTOBUF\": \"1\",\n",
      "                    \"AUTOML_TRANSFORM_MODE\": \"feature-transform\",\n",
      "                    \"SAGEMAKER_DEFAULT_INVOCATIONS_ACCEPT\": \"application/x-recordio-protobuf\",\n",
      "                    \"SAGEMAKER_PROGRAM\": \"sagemaker_serve\",\n",
      "                    \"SAGEMAKER_SUBMIT_DIRECTORY\": \"/opt/ml/model/code\"\n",
      "                },\n",
      "                \"Image\": \"683313688378.dkr.ecr.us-east-1.amazonaws.com/sagemaker-sklearn-automl:0.2-1-cpu-py3\",\n",
      "                \"ModelDataUrl\": \"s3://ada-dev/xiaotian/ml/autopilot/model/automl-dm-11-13-09-32/data-processor-models/automl-dm--dpp0-1-77da6dcd0c5641d696e1b37f47d64cd29f2fb8b881464/output/model.tar.gz\"\n",
      "            },\n",
      "            {\n",
      "                \"Environment\": {\n",
      "                    \"MAX_CONTENT_LENGTH\": \"20971520\",\n",
      "                    \"SAGEMAKER_DEFAULT_INVOCATIONS_ACCEPT\": \"text/csv\",\n",
      "                    \"SAGEMAKER_INFERENCE_OUTPUT\": \"predicted_label\",\n",
      "                    \"SAGEMAKER_INFERENCE_SUPPORTED\": \"predicted_label,probability,probabilities\"\n",
      "                },\n",
      "                \"Image\": \"683313688378.dkr.ecr.us-east-1.amazonaws.com/sagemaker-xgboost:1.0-1-cpu-py3\",\n",
      "                \"ModelDataUrl\": \"s3://ada-dev/xiaotian/ml/autopilot/model/automl-dm-11-13-09-32/tuning/automl-dm--dpp0-xgb/tuning-job-1-5278e047d0a34520b5-002-06ffd120/output/model.tar.gz\"\n",
      "            },\n",
      "            {\n",
      "                \"Environment\": {\n",
      "                    \"AUTOML_TRANSFORM_MODE\": \"inverse-label-transform\",\n",
      "                    \"SAGEMAKER_DEFAULT_INVOCATIONS_ACCEPT\": \"text/csv\",\n",
      "                    \"SAGEMAKER_INFERENCE_INPUT\": \"predicted_label\",\n",
      "                    \"SAGEMAKER_INFERENCE_OUTPUT\": \"predicted_label\",\n",
      "                    \"SAGEMAKER_INFERENCE_SUPPORTED\": \"predicted_label,probability,labels,probabilities\",\n",
      "                    \"SAGEMAKER_PROGRAM\": \"sagemaker_serve\",\n",
      "                    \"SAGEMAKER_SUBMIT_DIRECTORY\": \"/opt/ml/model/code\"\n",
      "                },\n",
      "                \"Image\": \"683313688378.dkr.ecr.us-east-1.amazonaws.com/sagemaker-sklearn-automl:0.2-1-cpu-py3\",\n",
      "                \"ModelDataUrl\": \"s3://ada-dev/xiaotian/ml/autopilot/model/automl-dm-11-13-09-32/data-processor-models/automl-dm--dpp0-1-77da6dcd0c5641d696e1b37f47d64cd29f2fb8b881464/output/model.tar.gz\"\n",
      "            }\n",
      "        ],\n",
      "        \"LastModifiedTime\": \"2020-11-13 09:53:02.173000+00:00\",\n",
      "        \"ObjectiveStatus\": \"Succeeded\"\n",
      "    },\n",
      "    {\n",
      "        \"CandidateName\": \"tuning-job-1-5278e047d0a34520b5-003-04ae3366\",\n",
      "        \"CandidateStatus\": \"Completed\",\n",
      "        \"CandidateSteps\": [\n",
      "            {\n",
      "                \"CandidateStepArn\": \"arn:aws:sagemaker:us-east-1:331041401449:processing-job/db-1-3d21387a35ee408eabdddbe610ce29d7f90e9b7607964d70b7c3170c3d\",\n",
      "                \"CandidateStepName\": \"db-1-3d21387a35ee408eabdddbe610ce29d7f90e9b7607964d70b7c3170c3d\",\n",
      "                \"CandidateStepType\": \"AWS::SageMaker::ProcessingJob\"\n",
      "            },\n",
      "            {\n",
      "                \"CandidateStepArn\": \"arn:aws:sagemaker:us-east-1:331041401449:training-job/automl-dm--dpp1-1-6d2c85ac46ca4416bfe01a506fc915307443b9704e0e4\",\n",
      "                \"CandidateStepName\": \"automl-dm--dpp1-1-6d2c85ac46ca4416bfe01a506fc915307443b9704e0e4\",\n",
      "                \"CandidateStepType\": \"AWS::SageMaker::TrainingJob\"\n",
      "            },\n",
      "            {\n",
      "                \"CandidateStepArn\": \"arn:aws:sagemaker:us-east-1:331041401449:transform-job/automl-dm--dpp1-csv-1-0c96ad1a07fa4da6973b3124f1534ae5c002e1eae\",\n",
      "                \"CandidateStepName\": \"automl-dm--dpp1-csv-1-0c96ad1a07fa4da6973b3124f1534ae5c002e1eae\",\n",
      "                \"CandidateStepType\": \"AWS::SageMaker::TransformJob\"\n",
      "            },\n",
      "            {\n",
      "                \"CandidateStepArn\": \"arn:aws:sagemaker:us-east-1:331041401449:training-job/tuning-job-1-5278e047d0a34520b5-003-04ae3366\",\n",
      "                \"CandidateStepName\": \"tuning-job-1-5278e047d0a34520b5-003-04ae3366\",\n",
      "                \"CandidateStepType\": \"AWS::SageMaker::TrainingJob\"\n",
      "            }\n",
      "        ],\n",
      "        \"CreationTime\": \"2020-11-13 09:51:46+00:00\",\n",
      "        \"EndTime\": \"2020-11-13 09:52:41+00:00\",\n",
      "        \"FinalAutoMLJobObjectiveMetric\": {\n",
      "            \"MetricName\": \"validation:f1\",\n",
      "            \"Value\": 0.6032099723815918\n",
      "        },\n",
      "        \"InferenceContainers\": [\n",
      "            {\n",
      "                \"Environment\": {\n",
      "                    \"AUTOML_TRANSFORM_MODE\": \"feature-transform\",\n",
      "                    \"SAGEMAKER_DEFAULT_INVOCATIONS_ACCEPT\": \"application/x-recordio-protobuf\",\n",
      "                    \"SAGEMAKER_PROGRAM\": \"sagemaker_serve\",\n",
      "                    \"SAGEMAKER_SUBMIT_DIRECTORY\": \"/opt/ml/model/code\"\n",
      "                },\n",
      "                \"Image\": \"683313688378.dkr.ecr.us-east-1.amazonaws.com/sagemaker-sklearn-automl:0.2-1-cpu-py3\",\n",
      "                \"ModelDataUrl\": \"s3://ada-dev/xiaotian/ml/autopilot/model/automl-dm-11-13-09-32/data-processor-models/automl-dm--dpp1-1-6d2c85ac46ca4416bfe01a506fc915307443b9704e0e4/output/model.tar.gz\"\n",
      "            },\n",
      "            {\n",
      "                \"Environment\": {\n",
      "                    \"MAX_CONTENT_LENGTH\": \"20971520\",\n",
      "                    \"SAGEMAKER_DEFAULT_INVOCATIONS_ACCEPT\": \"text/csv\",\n",
      "                    \"SAGEMAKER_INFERENCE_OUTPUT\": \"predicted_label\",\n",
      "                    \"SAGEMAKER_INFERENCE_SUPPORTED\": \"predicted_label,probability,probabilities\"\n",
      "                },\n",
      "                \"Image\": \"683313688378.dkr.ecr.us-east-1.amazonaws.com/sagemaker-xgboost:1.0-1-cpu-py3\",\n",
      "                \"ModelDataUrl\": \"s3://ada-dev/xiaotian/ml/autopilot/model/automl-dm-11-13-09-32/tuning/automl-dm--dpp1-xgb/tuning-job-1-5278e047d0a34520b5-003-04ae3366/output/model.tar.gz\"\n",
      "            },\n",
      "            {\n",
      "                \"Environment\": {\n",
      "                    \"AUTOML_TRANSFORM_MODE\": \"inverse-label-transform\",\n",
      "                    \"SAGEMAKER_DEFAULT_INVOCATIONS_ACCEPT\": \"text/csv\",\n",
      "                    \"SAGEMAKER_INFERENCE_INPUT\": \"predicted_label\",\n",
      "                    \"SAGEMAKER_INFERENCE_OUTPUT\": \"predicted_label\",\n",
      "                    \"SAGEMAKER_INFERENCE_SUPPORTED\": \"predicted_label,probability,labels,probabilities\",\n",
      "                    \"SAGEMAKER_PROGRAM\": \"sagemaker_serve\",\n",
      "                    \"SAGEMAKER_SUBMIT_DIRECTORY\": \"/opt/ml/model/code\"\n",
      "                },\n",
      "                \"Image\": \"683313688378.dkr.ecr.us-east-1.amazonaws.com/sagemaker-sklearn-automl:0.2-1-cpu-py3\",\n",
      "                \"ModelDataUrl\": \"s3://ada-dev/xiaotian/ml/autopilot/model/automl-dm-11-13-09-32/data-processor-models/automl-dm--dpp1-1-6d2c85ac46ca4416bfe01a506fc915307443b9704e0e4/output/model.tar.gz\"\n",
      "            }\n",
      "        ],\n",
      "        \"LastModifiedTime\": \"2020-11-13 09:53:02.173000+00:00\",\n",
      "        \"ObjectiveStatus\": \"Succeeded\"\n",
      "    }\n",
      "]\n"
     ]
    }
   ],
   "source": [
    "print(json.dumps(candidates, indent=4, sort_keys=True, default=str))"
   ]
  },
  {
   "cell_type": "code",
   "execution_count": 97,
   "metadata": {},
   "outputs": [
    {
     "name": "stdout",
     "output_type": "stream",
     "text": [
      "0  tuning-job-1-5278e047d0a34520b5-002-06ffd120  0.6177399754524231\n",
      "1  tuning-job-1-5278e047d0a34520b5-003-04ae3366  0.6032099723815918\n"
     ]
    }
   ],
   "source": [
    "for index, candidate in enumerate(candidates):\n",
    "    print(str(index) + \"  \" \n",
    "        + candidate['CandidateName'] + \"  \" \n",
    "        + str(candidate['FinalAutoMLJobObjectiveMetric']['Value']))"
   ]
  },
  {
   "cell_type": "markdown",
   "metadata": {},
   "source": [
    "# Inspect Trials using Experiments API\n",
    "\n",
    "SageMaker Autopilot automatically creates a new experiment, and pushes information for each trial. "
   ]
  },
  {
   "cell_type": "code",
   "execution_count": 98,
   "metadata": {},
   "outputs": [
    {
     "name": "stdout",
     "output_type": "stream",
     "text": [
      "                                  TrialComponentName  \\\n",
      "0  tuning-job-1-5278e047d0a34520b5-003-04ae3366-a...   \n",
      "1  tuning-job-1-5278e047d0a34520b5-001-415290fd-a...   \n",
      "2  tuning-job-1-5278e047d0a34520b5-002-06ffd120-a...   \n",
      "3  automl-dm--dpp2-rpb-1-d07ebc96ace24c2ebe8cf0c9...   \n",
      "4  automl-dm--dpp0-rpb-1-27fc30e481594ba7ab6ed060...   \n",
      "5  automl-dm--dpp1-csv-1-0c96ad1a07fa4da6973b3124...   \n",
      "6  automl-dm--dpp0-1-77da6dcd0c5641d696e1b37f47d6...   \n",
      "7  automl-dm--dpp2-1-d9c0c3b95f7f4bca908d81135289...   \n",
      "8  automl-dm--dpp1-1-6d2c85ac46ca4416bfe01a506fc9...   \n",
      "9  db-1-3d21387a35ee408eabdddbe610ce29d7f90e9b760...   \n",
      "\n",
      "                                         DisplayName  \\\n",
      "0  tuning-job-1-5278e047d0a34520b5-003-04ae3366-a...   \n",
      "1  tuning-job-1-5278e047d0a34520b5-001-415290fd-a...   \n",
      "2  tuning-job-1-5278e047d0a34520b5-002-06ffd120-a...   \n",
      "3  automl-dm--dpp2-rpb-1-d07ebc96ace24c2ebe8cf0c9...   \n",
      "4  automl-dm--dpp0-rpb-1-27fc30e481594ba7ab6ed060...   \n",
      "5  automl-dm--dpp1-csv-1-0c96ad1a07fa4da6973b3124...   \n",
      "6  automl-dm--dpp0-1-77da6dcd0c5641d696e1b37f47d6...   \n",
      "7  automl-dm--dpp2-1-d9c0c3b95f7f4bca908d81135289...   \n",
      "8  automl-dm--dpp1-1-6d2c85ac46ca4416bfe01a506fc9...   \n",
      "9  db-1-3d21387a35ee408eabdddbe610ce29d7f90e9b760...   \n",
      "\n",
      "                                           SourceArn  \\\n",
      "0  arn:aws:sagemaker:us-east-1:331041401449:train...   \n",
      "1  arn:aws:sagemaker:us-east-1:331041401449:train...   \n",
      "2  arn:aws:sagemaker:us-east-1:331041401449:train...   \n",
      "3  arn:aws:sagemaker:us-east-1:331041401449:trans...   \n",
      "4  arn:aws:sagemaker:us-east-1:331041401449:trans...   \n",
      "5  arn:aws:sagemaker:us-east-1:331041401449:trans...   \n",
      "6  arn:aws:sagemaker:us-east-1:331041401449:train...   \n",
      "7  arn:aws:sagemaker:us-east-1:331041401449:train...   \n",
      "8  arn:aws:sagemaker:us-east-1:331041401449:train...   \n",
      "9  arn:aws:sagemaker:us-east-1:331041401449:proce...   \n",
      "\n",
      "                                  SageMaker.ImageUri  SageMaker.InstanceCount  \\\n",
      "0  683313688378.dkr.ecr.us-east-1.amazonaws.com/s...                      1.0   \n",
      "1  382416733822.dkr.ecr.us-east-1.amazonaws.com/l...                      1.0   \n",
      "2  683313688378.dkr.ecr.us-east-1.amazonaws.com/s...                      1.0   \n",
      "3                                                NaN                      1.0   \n",
      "4                                                NaN                      1.0   \n",
      "5                                                NaN                      1.0   \n",
      "6  683313688378.dkr.ecr.us-east-1.amazonaws.com/s...                      1.0   \n",
      "7  683313688378.dkr.ecr.us-east-1.amazonaws.com/s...                      1.0   \n",
      "8  683313688378.dkr.ecr.us-east-1.amazonaws.com/s...                      1.0   \n",
      "9                                                NaN                      1.0   \n",
      "\n",
      "  SageMaker.InstanceType  SageMaker.VolumeSizeInGB  _tuning_objective_metric  \\\n",
      "0          ml.m5.4xlarge                      50.0             validation:f1   \n",
      "1          ml.m5.4xlarge                      50.0  validation:binary_f_beta   \n",
      "2          ml.m5.4xlarge                      50.0             validation:f1   \n",
      "3          ml.m5.4xlarge                       NaN                       NaN   \n",
      "4          ml.m5.4xlarge                       NaN                       NaN   \n",
      "5          ml.m5.4xlarge                       NaN                       NaN   \n",
      "6          ml.m5.4xlarge                      50.0                       NaN   \n",
      "7          ml.m5.4xlarge                      50.0                       NaN   \n",
      "8          ml.m5.4xlarge                      50.0                       NaN   \n",
      "9          ml.m5.2xlarge                     250.0                       NaN   \n",
      "\n",
      "     alpha  colsample_bytree  ...    code - MediaType  \\\n",
      "0  0.00151          0.380777  ...                 NaN   \n",
      "1      NaN               NaN  ...                 NaN   \n",
      "2  0.00151          0.380777  ...                 NaN   \n",
      "3      NaN               NaN  ...                 NaN   \n",
      "4      NaN               NaN  ...                 NaN   \n",
      "5      NaN               NaN  ...                 NaN   \n",
      "6      NaN               NaN  ...  application/x-code   \n",
      "7      NaN               NaN  ...  application/x-code   \n",
      "8      NaN               NaN  ...  application/x-code   \n",
      "9      NaN               NaN  ...                 NaN   \n",
      "\n",
      "                                        code - Value  input_channel_mode  \\\n",
      "0                                                NaN                 NaN   \n",
      "1                                                NaN                 NaN   \n",
      "2                                                NaN                 NaN   \n",
      "3                                                NaN                 NaN   \n",
      "4                                                NaN                 NaN   \n",
      "5                                                NaN                 NaN   \n",
      "6  s3://ada-dev/xiaotian/ml/autopilot/model/autom...                 NaN   \n",
      "7  s3://ada-dev/xiaotian/ml/autopilot/model/autom...                 NaN   \n",
      "8  s3://ada-dev/xiaotian/ml/autopilot/model/autom...                 NaN   \n",
      "9                                                NaN                Pipe   \n",
      "\n",
      "                job_name  label_col  max_dataset_size  \\\n",
      "0                    NaN        NaN               NaN   \n",
      "1                    NaN        NaN               NaN   \n",
      "2                    NaN        NaN               NaN   \n",
      "3                    NaN        NaN               NaN   \n",
      "4                    NaN        NaN               NaN   \n",
      "5                    NaN        NaN               NaN   \n",
      "6                    NaN        NaN               NaN   \n",
      "7                    NaN        NaN               NaN   \n",
      "8                    NaN        NaN               NaN   \n",
      "9  automl-dm-11-13-09-32      label                 5   \n",
      "\n",
      "  SageMaker.ImageUri - MediaType  \\\n",
      "0                            NaN   \n",
      "1                            NaN   \n",
      "2                            NaN   \n",
      "3                            NaN   \n",
      "4                            NaN   \n",
      "5                            NaN   \n",
      "6                            NaN   \n",
      "7                            NaN   \n",
      "8                            NaN   \n",
      "9                            NaN   \n",
      "\n",
      "                          SageMaker.ImageUri - Value  ds - MediaType  \\\n",
      "0                                                NaN             NaN   \n",
      "1                                                NaN             NaN   \n",
      "2                                                NaN             NaN   \n",
      "3                                                NaN             NaN   \n",
      "4                                                NaN             NaN   \n",
      "5                                                NaN             NaN   \n",
      "6                                                NaN             NaN   \n",
      "7                                                NaN             NaN   \n",
      "8                                                NaN             NaN   \n",
      "9  120479346908.dkr.ecr.us-east-1.amazonaws.com/d...             NaN   \n",
      "\n",
      "                                 ds - Value  \n",
      "0                                       NaN  \n",
      "1                                       NaN  \n",
      "2                                       NaN  \n",
      "3                                       NaN  \n",
      "4                                       NaN  \n",
      "5                                       NaN  \n",
      "6                                       NaN  \n",
      "7                                       NaN  \n",
      "8                                       NaN  \n",
      "9  s3://ada-dev/xiaotian/ml/autopilot/model  \n",
      "\n",
      "[10 rows x 85 columns]\n"
     ]
    }
   ],
   "source": [
    "from sagemaker.analytics import ExperimentAnalytics, TrainingJobAnalytics\n",
    "\n",
    "exp = ExperimentAnalytics(\n",
    "    sagemaker_session=sess, \n",
    "    experiment_name=auto_ml_job_name + '-aws-auto-ml-job',\n",
    ")\n",
    "\n",
    "df = exp.dataframe()\n",
    "print(df)"
   ]
  },
  {
   "cell_type": "markdown",
   "metadata": {},
   "source": [
    "# Explore the Best Candidate\n",
    "Now that we have successfully completed the AutoML job on our dataset and visualized the trials, we can create a model from any of the trials with a single API call and then deploy that model for online or batch prediction using [Inference Pipelines](https://docs.aws.amazon.com/sagemaker/latest/dg/inference-pipelines.html). For this notebook, we deploy only the best performing trial for inference."
   ]
  },
  {
   "cell_type": "markdown",
   "metadata": {},
   "source": [
    "The best candidate is the one we're really interested in."
   ]
  },
  {
   "cell_type": "code",
   "execution_count": 99,
   "metadata": {},
   "outputs": [],
   "source": [
    "best_candidate_response = sm.describe_auto_ml_job(AutoMLJobName=auto_ml_job_name)"
   ]
  },
  {
   "cell_type": "code",
   "execution_count": 100,
   "metadata": {},
   "outputs": [
    {
     "name": "stdout",
     "output_type": "stream",
     "text": [
      "dict_keys(['AutoMLJobName', 'AutoMLJobArn', 'InputDataConfig', 'OutputDataConfig', 'RoleArn', 'AutoMLJobConfig', 'CreationTime', 'EndTime', 'LastModifiedTime', 'BestCandidate', 'AutoMLJobStatus', 'AutoMLJobSecondaryStatus', 'GenerateCandidateDefinitionsOnly', 'AutoMLJobArtifacts', 'ResolvedAttributes', 'ResponseMetadata'])\n"
     ]
    }
   ],
   "source": [
    "print(best_candidate_response.keys())"
   ]
  },
  {
   "cell_type": "code",
   "execution_count": 101,
   "metadata": {},
   "outputs": [
    {
     "name": "stdout",
     "output_type": "stream",
     "text": [
      "[OK] BestCandidate generated.\n"
     ]
    }
   ],
   "source": [
    "while 'BestCandidate' not in best_candidate_response:\n",
    "    best_candidate_response = sm.describe_auto_ml_job(AutoMLJobName=auto_ml_job_name)\n",
    "    print('[INFO] Autopilot Job is generating BestCandidate. Please wait. ')\n",
    "    print(json.dumps(best_candidate_response, indent=4, sort_keys=True, default=str))\n",
    "    sleep(10)\n",
    "\n",
    "best_candidate = best_candidate_response['BestCandidate']\n",
    "print('[OK] BestCandidate generated.')  "
   ]
  },
  {
   "cell_type": "code",
   "execution_count": 102,
   "metadata": {
    "scrolled": true
   },
   "outputs": [
    {
     "name": "stdout",
     "output_type": "stream",
     "text": [
      "{\n",
      "    \"AutoMLJobArn\": \"arn:aws:sagemaker:us-east-1:331041401449:automl-job/automl-dm-11-13-09-32\",\n",
      "    \"AutoMLJobArtifacts\": {\n",
      "        \"CandidateDefinitionNotebookLocation\": \"s3://ada-dev/xiaotian/ml/autopilot/model/automl-dm-11-13-09-32/sagemaker-automl-candidates/pr-1-1116d55fbd4e42f186066b0e139747eb60c913c5bd464b0282c9bccc96/notebooks/SageMakerAutopilotCandidateDefinitionNotebook.ipynb\",\n",
      "        \"DataExplorationNotebookLocation\": \"s3://ada-dev/xiaotian/ml/autopilot/model/automl-dm-11-13-09-32/sagemaker-automl-candidates/pr-1-1116d55fbd4e42f186066b0e139747eb60c913c5bd464b0282c9bccc96/notebooks/SageMakerAutopilotDataExplorationNotebook.ipynb\"\n",
      "    },\n",
      "    \"AutoMLJobConfig\": {\n",
      "        \"CompletionCriteria\": {\n",
      "            \"MaxAutoMLJobRuntimeInSeconds\": 5400,\n",
      "            \"MaxCandidates\": 3,\n",
      "            \"MaxRuntimePerTrainingJobInSeconds\": 900\n",
      "        }\n",
      "    },\n",
      "    \"AutoMLJobName\": \"automl-dm-11-13-09-32\",\n",
      "    \"AutoMLJobSecondaryStatus\": \"MaxCandidatesReached\",\n",
      "    \"AutoMLJobStatus\": \"Completed\",\n",
      "    \"BestCandidate\": {\n",
      "        \"CandidateName\": \"tuning-job-1-5278e047d0a34520b5-002-06ffd120\",\n",
      "        \"CandidateStatus\": \"Completed\",\n",
      "        \"CandidateSteps\": [\n",
      "            {\n",
      "                \"CandidateStepArn\": \"arn:aws:sagemaker:us-east-1:331041401449:processing-job/db-1-3d21387a35ee408eabdddbe610ce29d7f90e9b7607964d70b7c3170c3d\",\n",
      "                \"CandidateStepName\": \"db-1-3d21387a35ee408eabdddbe610ce29d7f90e9b7607964d70b7c3170c3d\",\n",
      "                \"CandidateStepType\": \"AWS::SageMaker::ProcessingJob\"\n",
      "            },\n",
      "            {\n",
      "                \"CandidateStepArn\": \"arn:aws:sagemaker:us-east-1:331041401449:training-job/automl-dm--dpp0-1-77da6dcd0c5641d696e1b37f47d64cd29f2fb8b881464\",\n",
      "                \"CandidateStepName\": \"automl-dm--dpp0-1-77da6dcd0c5641d696e1b37f47d64cd29f2fb8b881464\",\n",
      "                \"CandidateStepType\": \"AWS::SageMaker::TrainingJob\"\n",
      "            },\n",
      "            {\n",
      "                \"CandidateStepArn\": \"arn:aws:sagemaker:us-east-1:331041401449:transform-job/automl-dm--dpp0-rpb-1-27fc30e481594ba7ab6ed060511c4a6cce0b377c3\",\n",
      "                \"CandidateStepName\": \"automl-dm--dpp0-rpb-1-27fc30e481594ba7ab6ed060511c4a6cce0b377c3\",\n",
      "                \"CandidateStepType\": \"AWS::SageMaker::TransformJob\"\n",
      "            },\n",
      "            {\n",
      "                \"CandidateStepArn\": \"arn:aws:sagemaker:us-east-1:331041401449:training-job/tuning-job-1-5278e047d0a34520b5-002-06ffd120\",\n",
      "                \"CandidateStepName\": \"tuning-job-1-5278e047d0a34520b5-002-06ffd120\",\n",
      "                \"CandidateStepType\": \"AWS::SageMaker::TrainingJob\"\n",
      "            }\n",
      "        ],\n",
      "        \"CreationTime\": \"2020-11-13 09:51:14+00:00\",\n",
      "        \"EndTime\": \"2020-11-13 09:52:03+00:00\",\n",
      "        \"FinalAutoMLJobObjectiveMetric\": {\n",
      "            \"MetricName\": \"validation:f1\",\n",
      "            \"Value\": 0.6177399754524231\n",
      "        },\n",
      "        \"InferenceContainers\": [\n",
      "            {\n",
      "                \"Environment\": {\n",
      "                    \"AUTOML_SPARSE_ENCODE_RECORDIO_PROTOBUF\": \"1\",\n",
      "                    \"AUTOML_TRANSFORM_MODE\": \"feature-transform\",\n",
      "                    \"SAGEMAKER_DEFAULT_INVOCATIONS_ACCEPT\": \"application/x-recordio-protobuf\",\n",
      "                    \"SAGEMAKER_PROGRAM\": \"sagemaker_serve\",\n",
      "                    \"SAGEMAKER_SUBMIT_DIRECTORY\": \"/opt/ml/model/code\"\n",
      "                },\n",
      "                \"Image\": \"683313688378.dkr.ecr.us-east-1.amazonaws.com/sagemaker-sklearn-automl:0.2-1-cpu-py3\",\n",
      "                \"ModelDataUrl\": \"s3://ada-dev/xiaotian/ml/autopilot/model/automl-dm-11-13-09-32/data-processor-models/automl-dm--dpp0-1-77da6dcd0c5641d696e1b37f47d64cd29f2fb8b881464/output/model.tar.gz\"\n",
      "            },\n",
      "            {\n",
      "                \"Environment\": {\n",
      "                    \"MAX_CONTENT_LENGTH\": \"20971520\",\n",
      "                    \"SAGEMAKER_DEFAULT_INVOCATIONS_ACCEPT\": \"text/csv\",\n",
      "                    \"SAGEMAKER_INFERENCE_OUTPUT\": \"predicted_label\",\n",
      "                    \"SAGEMAKER_INFERENCE_SUPPORTED\": \"predicted_label,probability,probabilities\"\n",
      "                },\n",
      "                \"Image\": \"683313688378.dkr.ecr.us-east-1.amazonaws.com/sagemaker-xgboost:1.0-1-cpu-py3\",\n",
      "                \"ModelDataUrl\": \"s3://ada-dev/xiaotian/ml/autopilot/model/automl-dm-11-13-09-32/tuning/automl-dm--dpp0-xgb/tuning-job-1-5278e047d0a34520b5-002-06ffd120/output/model.tar.gz\"\n",
      "            },\n",
      "            {\n",
      "                \"Environment\": {\n",
      "                    \"AUTOML_TRANSFORM_MODE\": \"inverse-label-transform\",\n",
      "                    \"SAGEMAKER_DEFAULT_INVOCATIONS_ACCEPT\": \"text/csv\",\n",
      "                    \"SAGEMAKER_INFERENCE_INPUT\": \"predicted_label\",\n",
      "                    \"SAGEMAKER_INFERENCE_OUTPUT\": \"predicted_label\",\n",
      "                    \"SAGEMAKER_INFERENCE_SUPPORTED\": \"predicted_label,probability,labels,probabilities\",\n",
      "                    \"SAGEMAKER_PROGRAM\": \"sagemaker_serve\",\n",
      "                    \"SAGEMAKER_SUBMIT_DIRECTORY\": \"/opt/ml/model/code\"\n",
      "                },\n",
      "                \"Image\": \"683313688378.dkr.ecr.us-east-1.amazonaws.com/sagemaker-sklearn-automl:0.2-1-cpu-py3\",\n",
      "                \"ModelDataUrl\": \"s3://ada-dev/xiaotian/ml/autopilot/model/automl-dm-11-13-09-32/data-processor-models/automl-dm--dpp0-1-77da6dcd0c5641d696e1b37f47d64cd29f2fb8b881464/output/model.tar.gz\"\n",
      "            }\n",
      "        ],\n",
      "        \"LastModifiedTime\": \"2020-11-13 09:53:02.238000+00:00\",\n",
      "        \"ObjectiveStatus\": \"Succeeded\"\n",
      "    },\n",
      "    \"CreationTime\": \"2020-11-13 09:32:26.388000+00:00\",\n",
      "    \"EndTime\": \"2020-11-13 09:53:03.164000+00:00\",\n",
      "    \"GenerateCandidateDefinitionsOnly\": false,\n",
      "    \"InputDataConfig\": [\n",
      "        {\n",
      "            \"DataSource\": {\n",
      "                \"S3DataSource\": {\n",
      "                    \"S3DataType\": \"S3Prefix\",\n",
      "                    \"S3Uri\": \"s3://ada-dev/xiaotian/ml/autopilot/data/train_data.csv\"\n",
      "                }\n",
      "            },\n",
      "            \"TargetAttributeName\": \"label\"\n",
      "        }\n",
      "    ],\n",
      "    \"LastModifiedTime\": \"2020-11-13 09:53:03.196000+00:00\",\n",
      "    \"OutputDataConfig\": {\n",
      "        \"S3OutputPath\": \"s3://ada-dev/xiaotian/ml/autopilot/model\"\n",
      "    },\n",
      "    \"ResolvedAttributes\": {\n",
      "        \"AutoMLJobObjective\": {\n",
      "            \"MetricName\": \"F1\"\n",
      "        },\n",
      "        \"CompletionCriteria\": {\n",
      "            \"MaxAutoMLJobRuntimeInSeconds\": 5400,\n",
      "            \"MaxCandidates\": 3,\n",
      "            \"MaxRuntimePerTrainingJobInSeconds\": 900\n",
      "        },\n",
      "        \"ProblemType\": \"BinaryClassification\"\n",
      "    },\n",
      "    \"ResponseMetadata\": {\n",
      "        \"HTTPHeaders\": {\n",
      "            \"content-length\": \"4672\",\n",
      "            \"content-type\": \"application/x-amz-json-1.1\",\n",
      "            \"date\": \"Fri, 13 Nov 2020 10:22:04 GMT\",\n",
      "            \"x-amzn-requestid\": \"be16ad1a-aa94-4810-9274-f1b38940242d\"\n",
      "        },\n",
      "        \"HTTPStatusCode\": 200,\n",
      "        \"RequestId\": \"be16ad1a-aa94-4810-9274-f1b38940242d\",\n",
      "        \"RetryAttempts\": 0\n",
      "    },\n",
      "    \"RoleArn\": \"arn:aws:iam::331041401449:role/ADA_SageMaker\"\n",
      "}\n"
     ]
    }
   ],
   "source": [
    "print(json.dumps(best_candidate_response, indent=4, sort_keys=True, default=str))"
   ]
  },
  {
   "cell_type": "code",
   "execution_count": 103,
   "metadata": {},
   "outputs": [
    {
     "name": "stdout",
     "output_type": "stream",
     "text": [
      "dict_keys(['CandidateName', 'FinalAutoMLJobObjectiveMetric', 'ObjectiveStatus', 'CandidateSteps', 'CandidateStatus', 'InferenceContainers', 'CreationTime', 'EndTime', 'LastModifiedTime'])\n"
     ]
    }
   ],
   "source": [
    "print(best_candidate.keys())"
   ]
  },
  {
   "cell_type": "code",
   "execution_count": 104,
   "metadata": {},
   "outputs": [
    {
     "name": "stdout",
     "output_type": "stream",
     "text": [
      "[OK] BestCandidate CandidateName generated.\n"
     ]
    }
   ],
   "source": [
    "while 'CandidateName' not in best_candidate:\n",
    "    best_candidate_response = sm.describe_auto_ml_job(AutoMLJobName=auto_ml_job_name)\n",
    "    best_candidate = best_candidate_response['BestCandidate']\n",
    "    print('[INFO] Autopilot Job is generating BestCandidate CandidateName. Please wait. ')\n",
    "    print(json.dumps(best_candidate, indent=4, sort_keys=True, default=str))\n",
    "    sleep(10)\n",
    "\n",
    "print('[OK] BestCandidate CandidateName generated.')  "
   ]
  },
  {
   "cell_type": "code",
   "execution_count": 105,
   "metadata": {},
   "outputs": [
    {
     "name": "stdout",
     "output_type": "stream",
     "text": [
      "[OK] BestCandidate FinalAutoMLJobObjectiveMetric generated.\n"
     ]
    }
   ],
   "source": [
    "while 'FinalAutoMLJobObjectiveMetric' not in best_candidate:\n",
    "    best_candidate_response = sm.describe_auto_ml_job(AutoMLJobName=auto_ml_job_name)\n",
    "    best_candidate = best_candidate_response['BestCandidate']\n",
    "    print('[INFO] Autopilot Job is generating BestCandidate FinalAutoMLJobObjectiveMetric. Please wait. ')\n",
    "    print(json.dumps(best_candidate, indent=4, sort_keys=True, default=str))\n",
    "    sleep(10)\n",
    "\n",
    "print('[OK] BestCandidate FinalAutoMLJobObjectiveMetric generated.')  "
   ]
  },
  {
   "cell_type": "code",
   "execution_count": 106,
   "metadata": {},
   "outputs": [
    {
     "name": "stdout",
     "output_type": "stream",
     "text": [
      "Candidate name: tuning-job-1-5278e047d0a34520b5-002-06ffd120\n",
      "Metric name: validation:f1\n",
      "Metric value: 0.6177399754524231\n"
     ]
    }
   ],
   "source": [
    "best_candidate_identifier = best_candidate['CandidateName']\n",
    "print(\"Candidate name: \" + best_candidate_identifier)\n",
    "print(\"Metric name: \" + best_candidate['FinalAutoMLJobObjectiveMetric']['MetricName'])\n",
    "print(\"Metric value: \" + str(best_candidate['FinalAutoMLJobObjectiveMetric']['Value']))"
   ]
  },
  {
   "cell_type": "code",
   "execution_count": 107,
   "metadata": {
    "scrolled": true
   },
   "outputs": [
    {
     "name": "stdout",
     "output_type": "stream",
     "text": [
      "{\n",
      "    \"CandidateName\": \"tuning-job-1-5278e047d0a34520b5-002-06ffd120\",\n",
      "    \"CandidateStatus\": \"Completed\",\n",
      "    \"CandidateSteps\": [\n",
      "        {\n",
      "            \"CandidateStepArn\": \"arn:aws:sagemaker:us-east-1:331041401449:processing-job/db-1-3d21387a35ee408eabdddbe610ce29d7f90e9b7607964d70b7c3170c3d\",\n",
      "            \"CandidateStepName\": \"db-1-3d21387a35ee408eabdddbe610ce29d7f90e9b7607964d70b7c3170c3d\",\n",
      "            \"CandidateStepType\": \"AWS::SageMaker::ProcessingJob\"\n",
      "        },\n",
      "        {\n",
      "            \"CandidateStepArn\": \"arn:aws:sagemaker:us-east-1:331041401449:training-job/automl-dm--dpp0-1-77da6dcd0c5641d696e1b37f47d64cd29f2fb8b881464\",\n",
      "            \"CandidateStepName\": \"automl-dm--dpp0-1-77da6dcd0c5641d696e1b37f47d64cd29f2fb8b881464\",\n",
      "            \"CandidateStepType\": \"AWS::SageMaker::TrainingJob\"\n",
      "        },\n",
      "        {\n",
      "            \"CandidateStepArn\": \"arn:aws:sagemaker:us-east-1:331041401449:transform-job/automl-dm--dpp0-rpb-1-27fc30e481594ba7ab6ed060511c4a6cce0b377c3\",\n",
      "            \"CandidateStepName\": \"automl-dm--dpp0-rpb-1-27fc30e481594ba7ab6ed060511c4a6cce0b377c3\",\n",
      "            \"CandidateStepType\": \"AWS::SageMaker::TransformJob\"\n",
      "        },\n",
      "        {\n",
      "            \"CandidateStepArn\": \"arn:aws:sagemaker:us-east-1:331041401449:training-job/tuning-job-1-5278e047d0a34520b5-002-06ffd120\",\n",
      "            \"CandidateStepName\": \"tuning-job-1-5278e047d0a34520b5-002-06ffd120\",\n",
      "            \"CandidateStepType\": \"AWS::SageMaker::TrainingJob\"\n",
      "        }\n",
      "    ],\n",
      "    \"CreationTime\": \"2020-11-13 09:51:14+00:00\",\n",
      "    \"EndTime\": \"2020-11-13 09:52:03+00:00\",\n",
      "    \"FinalAutoMLJobObjectiveMetric\": {\n",
      "        \"MetricName\": \"validation:f1\",\n",
      "        \"Value\": 0.6177399754524231\n",
      "    },\n",
      "    \"InferenceContainers\": [\n",
      "        {\n",
      "            \"Environment\": {\n",
      "                \"AUTOML_SPARSE_ENCODE_RECORDIO_PROTOBUF\": \"1\",\n",
      "                \"AUTOML_TRANSFORM_MODE\": \"feature-transform\",\n",
      "                \"SAGEMAKER_DEFAULT_INVOCATIONS_ACCEPT\": \"application/x-recordio-protobuf\",\n",
      "                \"SAGEMAKER_PROGRAM\": \"sagemaker_serve\",\n",
      "                \"SAGEMAKER_SUBMIT_DIRECTORY\": \"/opt/ml/model/code\"\n",
      "            },\n",
      "            \"Image\": \"683313688378.dkr.ecr.us-east-1.amazonaws.com/sagemaker-sklearn-automl:0.2-1-cpu-py3\",\n",
      "            \"ModelDataUrl\": \"s3://ada-dev/xiaotian/ml/autopilot/model/automl-dm-11-13-09-32/data-processor-models/automl-dm--dpp0-1-77da6dcd0c5641d696e1b37f47d64cd29f2fb8b881464/output/model.tar.gz\"\n",
      "        },\n",
      "        {\n",
      "            \"Environment\": {\n",
      "                \"MAX_CONTENT_LENGTH\": \"20971520\",\n",
      "                \"SAGEMAKER_DEFAULT_INVOCATIONS_ACCEPT\": \"text/csv\",\n",
      "                \"SAGEMAKER_INFERENCE_OUTPUT\": \"predicted_label\",\n",
      "                \"SAGEMAKER_INFERENCE_SUPPORTED\": \"predicted_label,probability,probabilities\"\n",
      "            },\n",
      "            \"Image\": \"683313688378.dkr.ecr.us-east-1.amazonaws.com/sagemaker-xgboost:1.0-1-cpu-py3\",\n",
      "            \"ModelDataUrl\": \"s3://ada-dev/xiaotian/ml/autopilot/model/automl-dm-11-13-09-32/tuning/automl-dm--dpp0-xgb/tuning-job-1-5278e047d0a34520b5-002-06ffd120/output/model.tar.gz\"\n",
      "        },\n",
      "        {\n",
      "            \"Environment\": {\n",
      "                \"AUTOML_TRANSFORM_MODE\": \"inverse-label-transform\",\n",
      "                \"SAGEMAKER_DEFAULT_INVOCATIONS_ACCEPT\": \"text/csv\",\n",
      "                \"SAGEMAKER_INFERENCE_INPUT\": \"predicted_label\",\n",
      "                \"SAGEMAKER_INFERENCE_OUTPUT\": \"predicted_label\",\n",
      "                \"SAGEMAKER_INFERENCE_SUPPORTED\": \"predicted_label,probability,labels,probabilities\",\n",
      "                \"SAGEMAKER_PROGRAM\": \"sagemaker_serve\",\n",
      "                \"SAGEMAKER_SUBMIT_DIRECTORY\": \"/opt/ml/model/code\"\n",
      "            },\n",
      "            \"Image\": \"683313688378.dkr.ecr.us-east-1.amazonaws.com/sagemaker-sklearn-automl:0.2-1-cpu-py3\",\n",
      "            \"ModelDataUrl\": \"s3://ada-dev/xiaotian/ml/autopilot/model/automl-dm-11-13-09-32/data-processor-models/automl-dm--dpp0-1-77da6dcd0c5641d696e1b37f47d64cd29f2fb8b881464/output/model.tar.gz\"\n",
      "        }\n",
      "    ],\n",
      "    \"LastModifiedTime\": \"2020-11-13 09:53:02.238000+00:00\",\n",
      "    \"ObjectiveStatus\": \"Succeeded\"\n",
      "}\n"
     ]
    }
   ],
   "source": [
    "print(json.dumps(best_candidate, indent=4, sort_keys=True, default=str))"
   ]
  },
  {
   "cell_type": "markdown",
   "metadata": {},
   "source": [
    "# View Individual Autopilot Jobs"
   ]
  },
  {
   "cell_type": "code",
   "execution_count": 62,
   "metadata": {},
   "outputs": [
    {
     "name": "stdout",
     "output_type": "stream",
     "text": [
      "[OK] BestCandidate CandidateSteps generated.\n"
     ]
    }
   ],
   "source": [
    "while 'CandidateSteps' not in best_candidate:\n",
    "    best_candidate_response = sm.describe_auto_ml_job(AutoMLJobName=auto_ml_job_name)\n",
    "    best_candidate = best_candidate_response['BestCandidate']\n",
    "    print('[INFO] Autopilot Job is generating BestCandidate CandidateSteps. Please wait. ')\n",
    "    print(json.dumps(best_candidate, indent=4, sort_keys=True, default=str))\n",
    "    sleep(10)\n",
    "\n",
    "best_candidate = best_candidate_response['BestCandidate']\n",
    "print('[OK] BestCandidate CandidateSteps generated.')"
   ]
  },
  {
   "cell_type": "code",
   "execution_count": 63,
   "metadata": {
    "scrolled": true
   },
   "outputs": [
    {
     "name": "stdout",
     "output_type": "stream",
     "text": [
      "[OK] BestCandidate CandidateSteps CandidateStepType generated.\n"
     ]
    }
   ],
   "source": [
    "while 'CandidateStepType' not in best_candidate['CandidateSteps'][0]:\n",
    "    best_candidate_response = sm.describe_auto_ml_job(AutoMLJobName=auto_ml_job_name)\n",
    "    best_candidate = best_candidate_response['BestCandidate']\n",
    "    print('[INFO] Autopilot Job is generating BestCandidate CandidateSteps CandidateStepType. Please wait. ')\n",
    "    print(json.dumps(best_candidate, indent=4, sort_keys=True, default=str))\n",
    "    sleep(10)\n",
    "\n",
    "best_candidate = best_candidate_response['BestCandidate']\n",
    "print('[OK] BestCandidate CandidateSteps CandidateStepType generated.')"
   ]
  },
  {
   "cell_type": "code",
   "execution_count": 73,
   "metadata": {},
   "outputs": [
    {
     "name": "stdout",
     "output_type": "stream",
     "text": [
      "[OK] BestCandidate CandidateSteps CandidateStepName generated.\n"
     ]
    }
   ],
   "source": [
    "while 'CandidateStepName' not in best_candidate['CandidateSteps'][0]:\n",
    "    best_candidate_response = sm.describe_auto_ml_job(AutoMLJobName=auto_ml_job_name)\n",
    "    best_candidate = best_candidate_response['BestCandidate']\n",
    "    print('[INFO] Autopilot Job is generating BestCandidate CandidateSteps CandidateStepName. Please wait. ')\n",
    "    print(json.dumps(best_candidate, indent=4, sort_keys=True, default=str))\n",
    "    sleep(10)\n",
    "\n",
    "best_candidate = best_candidate_response['BestCandidate']\n",
    "print('[OK] BestCandidate CandidateSteps CandidateStepName generated.')"
   ]
  },
  {
   "cell_type": "code",
   "execution_count": 108,
   "metadata": {},
   "outputs": [
    {
     "name": "stdout",
     "output_type": "stream",
     "text": [
      "Candidate Step Type: AWS::SageMaker::ProcessingJob\n",
      "Candidate Step Name: db-1-3d21387a35ee408eabdddbe610ce29d7f90e9b7607964d70b7c3170c3d\n",
      "Candidate Step Type: AWS::SageMaker::TrainingJob\n",
      "Candidate Step Name: automl-dm--dpp0-1-77da6dcd0c5641d696e1b37f47d64cd29f2fb8b881464\n",
      "Candidate Step Type: AWS::SageMaker::TransformJob\n",
      "Candidate Step Name: automl-dm--dpp0-rpb-1-27fc30e481594ba7ab6ed060511c4a6cce0b377c3\n",
      "Candidate Step Type: AWS::SageMaker::TrainingJob\n",
      "Candidate Step Name: tuning-job-1-5278e047d0a34520b5-002-06ffd120\n"
     ]
    }
   ],
   "source": [
    "steps = []\n",
    "for step in best_candidate['CandidateSteps']:\n",
    "    print('Candidate Step Type: {}'.format(step['CandidateStepType']))\n",
    "    print('Candidate Step Name: {}'.format(step['CandidateStepName']))\n",
    "    steps.append(step['CandidateStepName'])"
   ]
  },
  {
   "cell_type": "code",
   "execution_count": 66,
   "metadata": {},
   "outputs": [
    {
     "data": {
      "text/html": [
       "<b>Review Best Candidate <a target=\"blank\" href=\"https://console.aws.amazon.com/sagemaker/home?region=us-east-1#/processing-jobs/db-1-473907ff6c6f4b90b1822ff15c4ad42eca2bd1cb18ea44c89de28ab07a\">Processing Job</a></b>"
      ],
      "text/plain": [
       "<IPython.core.display.HTML object>"
      ]
     },
     "metadata": {},
     "output_type": "display_data"
    }
   ],
   "source": [
    "from IPython.core.display import display, HTML\n",
    "\n",
    "display(HTML('<b>Review Best Candidate <a target=\"blank\" href=\"https://console.aws.amazon.com/sagemaker/home?region={}#/processing-jobs/{}\">Processing Job</a></b>'.format(region, steps[0])))"
   ]
  },
  {
   "cell_type": "code",
   "execution_count": 110,
   "metadata": {},
   "outputs": [
    {
     "data": {
      "text/html": [
       "<b>Review Best Candidate <a target=\"blank\" href=\"https://console.aws.amazon.com/sagemaker/home?region=us-east-1#/jobs/automl-dm--dpp0-1-77da6dcd0c5641d696e1b37f47d64cd29f2fb8b881464\">Training Job</a></b>"
      ],
      "text/plain": [
       "<IPython.core.display.HTML object>"
      ]
     },
     "metadata": {},
     "output_type": "display_data"
    }
   ],
   "source": [
    "from IPython.core.display import display, HTML\n",
    "\n",
    "display(HTML('<b>Review Best Candidate <a target=\"blank\" href=\"https://console.aws.amazon.com/sagemaker/home?region={}#/jobs/{}\">Training Job</a></b>'.format(region, steps[1])))"
   ]
  },
  {
   "cell_type": "code",
   "execution_count": 109,
   "metadata": {},
   "outputs": [
    {
     "data": {
      "text/html": [
       "<b>Review Best Candidate <a target=\"blank\" href=\"https://console.aws.amazon.com/sagemaker/home?region=us-east-1#/transform-jobs/automl-dm--dpp0-rpb-1-27fc30e481594ba7ab6ed060511c4a6cce0b377c3\">Transform Job</a></b>"
      ],
      "text/plain": [
       "<IPython.core.display.HTML object>"
      ]
     },
     "metadata": {},
     "output_type": "display_data"
    }
   ],
   "source": [
    "from IPython.core.display import display, HTML\n",
    "\n",
    "display(HTML('<b>Review Best Candidate <a target=\"blank\" href=\"https://console.aws.amazon.com/sagemaker/home?region={}#/transform-jobs/{}\">Transform Job</a></b>'.format(region, steps[2])))"
   ]
  },
  {
   "cell_type": "code",
   "execution_count": 72,
   "metadata": {},
   "outputs": [
    {
     "data": {
      "text/html": [
       "<b>Review Best Candidate <a target=\"blank\" href=\"https://console.aws.amazon.com/sagemaker/home?region=us-east-1#/jobs/tuning-job-1-899ccf89ca7e4278a2-003-7f889a8d\">Training Job (Tuning)</a></b>"
      ],
      "text/plain": [
       "<IPython.core.display.HTML object>"
      ]
     },
     "metadata": {},
     "output_type": "display_data"
    }
   ],
   "source": [
    "from IPython.core.display import display, HTML\n",
    "\n",
    "display(HTML('<b>Review Best Candidate <a target=\"blank\" href=\"https://console.aws.amazon.com/sagemaker/home?region={}#/jobs/{}\">Training Job (Tuning)</a></b>'.format(region, steps[3])))"
   ]
  },
  {
   "cell_type": "markdown",
   "metadata": {},
   "source": [
    "# See the containers and models composing the Inference Pipeline"
   ]
  },
  {
   "cell_type": "code",
   "execution_count": 75,
   "metadata": {},
   "outputs": [
    {
     "name": "stdout",
     "output_type": "stream",
     "text": [
      "[OK] BestCandidate InferenceContainers generated.\n"
     ]
    }
   ],
   "source": [
    "while 'InferenceContainers' not in best_candidate:\n",
    "    best_candidate_response = sm.describe_auto_ml_job(AutoMLJobName=auto_ml_job_name)\n",
    "    best_candidate = best_candidate_response['BestCandidate']\n",
    "    print('[INFO] Autopilot Job is generating BestCandidate InferenceContainers. Please wait. ')\n",
    "    print(json.dumps(best_candidate, indent=4, sort_keys=True, default=str))\n",
    "    sleep(10)\n",
    "\n",
    "print('[OK] BestCandidate InferenceContainers generated.') "
   ]
  },
  {
   "cell_type": "code",
   "execution_count": 112,
   "metadata": {},
   "outputs": [],
   "source": [
    "best_candidate_containers = best_candidate['InferenceContainers']"
   ]
  },
  {
   "cell_type": "code",
   "execution_count": 113,
   "metadata": {},
   "outputs": [
    {
     "name": "stdout",
     "output_type": "stream",
     "text": [
      "683313688378.dkr.ecr.us-east-1.amazonaws.com/sagemaker-sklearn-automl:0.2-1-cpu-py3\n",
      "s3://ada-dev/xiaotian/ml/autopilot/model/automl-dm-11-13-09-32/data-processor-models/automl-dm--dpp0-1-77da6dcd0c5641d696e1b37f47d64cd29f2fb8b881464/output/model.tar.gz\n",
      "======================\n",
      "683313688378.dkr.ecr.us-east-1.amazonaws.com/sagemaker-xgboost:1.0-1-cpu-py3\n",
      "s3://ada-dev/xiaotian/ml/autopilot/model/automl-dm-11-13-09-32/tuning/automl-dm--dpp0-xgb/tuning-job-1-5278e047d0a34520b5-002-06ffd120/output/model.tar.gz\n",
      "======================\n",
      "683313688378.dkr.ecr.us-east-1.amazonaws.com/sagemaker-sklearn-automl:0.2-1-cpu-py3\n",
      "s3://ada-dev/xiaotian/ml/autopilot/model/automl-dm-11-13-09-32/data-processor-models/automl-dm--dpp0-1-77da6dcd0c5641d696e1b37f47d64cd29f2fb8b881464/output/model.tar.gz\n",
      "======================\n"
     ]
    }
   ],
   "source": [
    "for container in best_candidate_containers:\n",
    "        print(container['Image'])\n",
    "        print(container['ModelDataUrl'])\n",
    "        print('======================')"
   ]
  },
  {
   "cell_type": "markdown",
   "metadata": {},
   "source": [
    "# Update Containers To Show Predicted Label and Confidence Score"
   ]
  },
  {
   "cell_type": "code",
   "execution_count": 114,
   "metadata": {},
   "outputs": [
    {
     "name": "stdout",
     "output_type": "stream",
     "text": [
      "{'AUTOML_SPARSE_ENCODE_RECORDIO_PROTOBUF': '1', 'AUTOML_TRANSFORM_MODE': 'feature-transform', 'SAGEMAKER_DEFAULT_INVOCATIONS_ACCEPT': 'application/x-recordio-protobuf', 'SAGEMAKER_PROGRAM': 'sagemaker_serve', 'SAGEMAKER_SUBMIT_DIRECTORY': '/opt/ml/model/code'}\n",
      "======================\n",
      "{'MAX_CONTENT_LENGTH': '20971520', 'SAGEMAKER_DEFAULT_INVOCATIONS_ACCEPT': 'text/csv', 'SAGEMAKER_INFERENCE_OUTPUT': 'predicted_label', 'SAGEMAKER_INFERENCE_SUPPORTED': 'predicted_label,probability,probabilities'}\n",
      "======================\n",
      "{'AUTOML_TRANSFORM_MODE': 'inverse-label-transform', 'SAGEMAKER_DEFAULT_INVOCATIONS_ACCEPT': 'text/csv', 'SAGEMAKER_INFERENCE_INPUT': 'predicted_label', 'SAGEMAKER_INFERENCE_OUTPUT': 'predicted_label', 'SAGEMAKER_INFERENCE_SUPPORTED': 'predicted_label,probability,labels,probabilities', 'SAGEMAKER_PROGRAM': 'sagemaker_serve', 'SAGEMAKER_SUBMIT_DIRECTORY': '/opt/ml/model/code'}\n",
      "======================\n"
     ]
    }
   ],
   "source": [
    "for container in best_candidate_containers:\n",
    "        print(container['Environment'])\n",
    "        print('======================')"
   ]
  },
  {
   "cell_type": "code",
   "execution_count": 79,
   "metadata": {},
   "outputs": [],
   "source": [
    "best_candidate_containers[1]['Environment'].update({'SAGEMAKER_INFERENCE_OUTPUT': 'predicted_label, probability'})\n",
    "best_candidate_containers[2]['Environment'].update({'SAGEMAKER_INFERENCE_INPUT': 'predicted_label, probability'})\n",
    "best_candidate_containers[2]['Environment'].update({'SAGEMAKER_INFERENCE_OUTPUT': 'predicted_label, probability'})"
   ]
  },
  {
   "cell_type": "code",
   "execution_count": 80,
   "metadata": {},
   "outputs": [
    {
     "name": "stdout",
     "output_type": "stream",
     "text": [
      "{'AUTOML_SPARSE_ENCODE_RECORDIO_PROTOBUF': '1', 'AUTOML_TRANSFORM_MODE': 'feature-transform', 'SAGEMAKER_DEFAULT_INVOCATIONS_ACCEPT': 'application/x-recordio-protobuf', 'SAGEMAKER_PROGRAM': 'sagemaker_serve', 'SAGEMAKER_SUBMIT_DIRECTORY': '/opt/ml/model/code'}\n",
      "======================\n",
      "{'MAX_CONTENT_LENGTH': '20971520', 'SAGEMAKER_DEFAULT_INVOCATIONS_ACCEPT': 'text/csv', 'SAGEMAKER_INFERENCE_OUTPUT': 'predicted_label, probability', 'SAGEMAKER_INFERENCE_SUPPORTED': 'predicted_label,probability,probabilities'}\n",
      "======================\n",
      "{'AUTOML_TRANSFORM_MODE': 'inverse-label-transform', 'SAGEMAKER_DEFAULT_INVOCATIONS_ACCEPT': 'text/csv', 'SAGEMAKER_INFERENCE_INPUT': 'predicted_label, probability', 'SAGEMAKER_INFERENCE_OUTPUT': 'predicted_label, probability', 'SAGEMAKER_INFERENCE_SUPPORTED': 'predicted_label,probability,labels,probabilities', 'SAGEMAKER_PROGRAM': 'sagemaker_serve', 'SAGEMAKER_SUBMIT_DIRECTORY': '/opt/ml/model/code'}\n",
      "======================\n"
     ]
    }
   ],
   "source": [
    "for container in best_candidate_containers:\n",
    "        print(container['Environment'])\n",
    "        print('======================')"
   ]
  },
  {
   "cell_type": "markdown",
   "metadata": {},
   "source": [
    "# Autopilot Chooses XGBoost as Best Candidate!\n",
    "\n",
    "Note that Autopilot chose different hyper-parameters and feature transformations than we used in our own XGBoost model."
   ]
  },
  {
   "cell_type": "markdown",
   "metadata": {},
   "source": [
    "# Deploy the Model as a REST Endpoint\n",
    "Batch transformations are also supported, but for now, we will use a REST Endpoint."
   ]
  },
  {
   "cell_type": "code",
   "execution_count": 77,
   "metadata": {},
   "outputs": [
    {
     "name": "stdout",
     "output_type": "stream",
     "text": [
      "[{'Image': '683313688378.dkr.ecr.us-east-1.amazonaws.com/sagemaker-sklearn-automl:0.2-1-cpu-py3', 'ModelDataUrl': 's3://ada-dev/xiaotian/ml/autopilot/automl-dm-11-03-26-46/data-processor-models/automl-dm--dpp2-1-ef2b1364d78443cc95fd8071bd99f0d7ec5d91b36bac4/output/model.tar.gz', 'Environment': {'AUTOML_SPARSE_ENCODE_RECORDIO_PROTOBUF': '1', 'AUTOML_TRANSFORM_MODE': 'feature-transform', 'SAGEMAKER_DEFAULT_INVOCATIONS_ACCEPT': 'application/x-recordio-protobuf', 'SAGEMAKER_PROGRAM': 'sagemaker_serve', 'SAGEMAKER_SUBMIT_DIRECTORY': '/opt/ml/model/code'}}, {'Image': '683313688378.dkr.ecr.us-east-1.amazonaws.com/sagemaker-xgboost:1.0-1-cpu-py3', 'ModelDataUrl': 's3://ada-dev/xiaotian/ml/autopilot/automl-dm-11-03-26-46/tuning/automl-dm--dpp2-xgb/tuning-job-1-4030f05282354943b7-001-a516fb96/output/model.tar.gz', 'Environment': {'MAX_CONTENT_LENGTH': '20971520', 'SAGEMAKER_DEFAULT_INVOCATIONS_ACCEPT': 'text/csv', 'SAGEMAKER_INFERENCE_OUTPUT': 'predicted_label, probability', 'SAGEMAKER_INFERENCE_SUPPORTED': 'predicted_label,probability,probabilities'}}, {'Image': '683313688378.dkr.ecr.us-east-1.amazonaws.com/sagemaker-sklearn-automl:0.2-1-cpu-py3', 'ModelDataUrl': 's3://ada-dev/xiaotian/ml/autopilot/automl-dm-11-03-26-46/data-processor-models/automl-dm--dpp2-1-ef2b1364d78443cc95fd8071bd99f0d7ec5d91b36bac4/output/model.tar.gz', 'Environment': {'AUTOML_TRANSFORM_MODE': 'inverse-label-transform', 'SAGEMAKER_DEFAULT_INVOCATIONS_ACCEPT': 'text/csv', 'SAGEMAKER_INFERENCE_INPUT': 'predicted_label, probability', 'SAGEMAKER_INFERENCE_OUTPUT': 'predicted_label, probability', 'SAGEMAKER_INFERENCE_SUPPORTED': 'predicted_label,probability,labels,probabilities', 'SAGEMAKER_PROGRAM': 'sagemaker_serve', 'SAGEMAKER_SUBMIT_DIRECTORY': '/opt/ml/model/code'}}]\n"
     ]
    }
   ],
   "source": [
    "print(best_candidate['InferenceContainers'])"
   ]
  },
  {
   "cell_type": "code",
   "execution_count": 78,
   "metadata": {},
   "outputs": [
    {
     "name": "stdout",
     "output_type": "stream",
     "text": [
      "no stored variable or alias autopilot_model_name\n"
     ]
    }
   ],
   "source": [
    "%store -r autopilot_model_name"
   ]
  },
  {
   "cell_type": "code",
   "execution_count": 79,
   "metadata": {},
   "outputs": [
    {
     "name": "stdout",
     "output_type": "stream",
     "text": [
      "[OK] Created Autopilot Model Name: automl-dm-model-11-07-13-51\n"
     ]
    }
   ],
   "source": [
    "try:\n",
    "    autopilot_model_name\n",
    "except NameError:    \n",
    "    timestamp_suffix = strftime('%d-%H-%M-%S', gmtime())\n",
    "    autopilot_model_name = 'automl-dm-model-' + timestamp_suffix\n",
    "    print('[OK] Created Autopilot Model Name: ' + autopilot_model_name)"
   ]
  },
  {
   "cell_type": "code",
   "execution_count": null,
   "metadata": {},
   "outputs": [],
   "source": [
    "%store autopilot_model_name"
   ]
  },
  {
   "cell_type": "code",
   "execution_count": null,
   "metadata": {},
   "outputs": [],
   "source": [
    "%store -r autopilot_model_arn"
   ]
  },
  {
   "cell_type": "code",
   "execution_count": null,
   "metadata": {},
   "outputs": [],
   "source": [
    "try:\n",
    "    autopilot_model_arn\n",
    "except NameError:\n",
    "    create_model_response = sm.create_model(Containers=best_candidate['InferenceContainers'],\n",
    "                                ModelName=autopilot_model_name,\n",
    "                                ExecutionRoleArn=role)\n",
    "    autopilot_model_arn = create_model_response['ModelArn']\n",
    "    print('[OK] Created Autopilot Model: {}'.format(autopilot_model_arn))"
   ]
  },
  {
   "cell_type": "code",
   "execution_count": null,
   "metadata": {},
   "outputs": [],
   "source": [
    "%store autopilot_model_arn"
   ]
  },
  {
   "cell_type": "markdown",
   "metadata": {},
   "source": [
    "# Define EndpointConfig Name"
   ]
  },
  {
   "cell_type": "code",
   "execution_count": null,
   "metadata": {},
   "outputs": [],
   "source": [
    "timestamp_suffix = strftime('%d-%H-%M-%S', gmtime())\n",
    "epc_name = 'automl-dm-epc-' + timestamp_suffix\n",
    "\n",
    "print(epc_name)"
   ]
  },
  {
   "cell_type": "markdown",
   "metadata": {},
   "source": [
    "# Define REST Endpoint Name for Autopilot Model"
   ]
  },
  {
   "cell_type": "code",
   "execution_count": null,
   "metadata": {},
   "outputs": [],
   "source": [
    "%store -r autopilot_endpoint_name"
   ]
  },
  {
   "cell_type": "code",
   "execution_count": null,
   "metadata": {},
   "outputs": [],
   "source": [
    "timestamp_suffix = strftime('%d-%H-%M-%S', gmtime())\n",
    "\n",
    "try:\n",
    "    autopilot_endpoint_name\n",
    "except NameError:    \n",
    "    autopilot_endpoint_name = 'automl-dm-ep-' + timestamp_suffix\n",
    "    print('[OK] Created Autopilot Endpoint Name {}: '.format(autopilot_endpoint_name))    "
   ]
  },
  {
   "cell_type": "code",
   "execution_count": null,
   "metadata": {},
   "outputs": [],
   "source": [
    "variant_name = 'automl-dm-variant-' + timestamp_suffix\n",
    "print('[OK] Created Endpoint Variant Name {}: '.format(variant_name))"
   ]
  },
  {
   "cell_type": "code",
   "execution_count": null,
   "metadata": {},
   "outputs": [],
   "source": [
    "%store autopilot_endpoint_name"
   ]
  },
  {
   "cell_type": "code",
   "execution_count": null,
   "metadata": {},
   "outputs": [],
   "source": [
    "ep_config = sm.create_endpoint_config(EndpointConfigName = epc_name,\n",
    "                                      ProductionVariants=[{'InstanceType':'ml.m5.large',\n",
    "                                                           'InitialInstanceCount': 1,\n",
    "                                                           'ModelName': autopilot_model_name,\n",
    "                                                           'VariantName': variant_name}])"
   ]
  },
  {
   "cell_type": "code",
   "execution_count": null,
   "metadata": {},
   "outputs": [],
   "source": [
    "%store -r autopilot_endpoint_arn"
   ]
  },
  {
   "cell_type": "code",
   "execution_count": null,
   "metadata": {},
   "outputs": [],
   "source": [
    "try:\n",
    "    autopilot_endpoint_arn\n",
    "except NameError:    \n",
    "    create_endpoint_response = sm.create_endpoint(EndpointName=autopilot_endpoint_name,\n",
    "                                                  EndpointConfigName=epc_name) \n",
    "    autopilot_endpoint_arn = create_endpoint_response['EndpointArn']"
   ]
  },
  {
   "cell_type": "code",
   "execution_count": null,
   "metadata": {},
   "outputs": [],
   "source": [
    "%store autopilot_endpoint_arn"
   ]
  },
  {
   "cell_type": "code",
   "execution_count": null,
   "metadata": {},
   "outputs": [],
   "source": [
    "from IPython.core.display import display, HTML\n",
    "\n",
    "display(HTML('<b>Review <a target=\"blank\" href=\"https://console.aws.amazon.com/sagemaker/home?region={}#/endpoints/{}\">SageMaker REST Endpoint</a></b>'.format(region, autopilot_endpoint_name)))"
   ]
  },
  {
   "cell_type": "markdown",
   "metadata": {},
   "source": [
    "# Store Variables for the Next Notebooks"
   ]
  },
  {
   "cell_type": "code",
   "execution_count": null,
   "metadata": {},
   "outputs": [],
   "source": [
    "%store"
   ]
  },
  {
   "cell_type": "markdown",
   "metadata": {},
   "source": [
    "# Summary\n",
    "We used Autopilot to automatically find the best model, hyper-parameters, and feature-engineering scripts for our dataset.  \n",
    "\n",
    "Autopilot uses a transparent approach to generate re-usable exploration Jupyter Notebooks and transformation Python scripts to continue to train and deploy our model on new data - well after this initial interaction with the Autopilot service."
   ]
  },
  {
   "cell_type": "code",
   "execution_count": null,
   "metadata": {},
   "outputs": [],
   "source": [
    "%%javascript\n",
    "Jupyter.notebook.save_checkpoint();\n",
    "Jupyter.notebook.session.delete();"
   ]
  }
 ],
 "metadata": {
  "kernelspec": {
   "display_name": "conda_python3",
   "language": "python",
   "name": "conda_python3"
  },
  "language_info": {
   "codemirror_mode": {
    "name": "ipython",
    "version": 3
   },
   "file_extension": ".py",
   "mimetype": "text/x-python",
   "name": "python",
   "nbconvert_exporter": "python",
   "pygments_lexer": "ipython3",
   "version": "3.6.10"
  }
 },
 "nbformat": 4,
 "nbformat_minor": 4
}
