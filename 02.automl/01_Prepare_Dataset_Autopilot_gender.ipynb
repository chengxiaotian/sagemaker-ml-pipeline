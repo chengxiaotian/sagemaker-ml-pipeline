{
 "cells": [
  {
   "cell_type": "markdown",
   "metadata": {},
   "source": [
    "# Prepare Dataset for Model Training and Evaluating"
   ]
  },
  {
   "cell_type": "markdown",
   "metadata": {},
   "source": [
    "# ADA monthly data with age and gender labels\n",
    "\n",
    "\n",
    "## Schema\n",
    "\n",
    "- `marketplace`: 2-letter country code (in this case all \"US\").\n",
    "- `customer_id`: Random identifier that can be used to aggregate reviews written by a single author.\n",
    "- `review_id`: A unique ID for the review.\n",
    "- `product_id`: The Amazon Standard Identification Number (ASIN).  `http://www.amazon.com/dp/<ASIN>` links to the product's detail page.\n",
    "- `product_parent`: The parent of that ASIN.  Multiple ASINs (color or format variations of the same product) can roll up into a single parent.\n",
    "- `product_title`: Title description of the product.\n",
    "- `product_category`: Broad product category that can be used to group reviews (in this case digital videos).\n",
    "- `star_rating`: The review's rating (1 to 5 stars).\n",
    "- `helpful_votes`: Number of helpful votes for the review.\n",
    "- `total_votes`: Number of total votes the review received.\n",
    "- `vine`: Was the review written as part of the [Vine](https://www.amazon.com/gp/vine/help) program?\n",
    "- `verified_purchase`: Was the review from a verified purchase?\n",
    "- `review_headline`: The title of the review itself.\n",
    "- `review_body`: The text of the review.\n",
    "- `review_date`: The date the review was written."
   ]
  },
  {
   "cell_type": "markdown",
   "metadata": {},
   "source": [
    "# Checking Pre-Requisites from the Previous `01_setup/` Folder"
   ]
  },
  {
   "cell_type": "code",
   "execution_count": 1,
   "metadata": {},
   "outputs": [],
   "source": [
    "%store -r setup_instance_check_passed"
   ]
  },
  {
   "cell_type": "code",
   "execution_count": 2,
   "metadata": {},
   "outputs": [],
   "source": [
    "try:\n",
    "    setup_instance_check_passed\n",
    "except NameError:\n",
    "    print('+++++++++++++++++++++++++++++++')\n",
    "    print('[ERROR] YOU HAVE TO RUN ALL NOTEBOOKS IN THE SETUP FOLDER FIRST. You are missing Instance Check.')\n",
    "    print('+++++++++++++++++++++++++++++++')"
   ]
  },
  {
   "cell_type": "code",
   "execution_count": null,
   "metadata": {},
   "outputs": [],
   "source": [
    "print(setup_instance_check_passed)"
   ]
  },
  {
   "cell_type": "code",
   "execution_count": null,
   "metadata": {},
   "outputs": [],
   "source": [
    "%store -r setup_dependencies_passed"
   ]
  },
  {
   "cell_type": "code",
   "execution_count": null,
   "metadata": {},
   "outputs": [],
   "source": [
    "try:\n",
    "    setup_dependencies_passed\n",
    "except NameError:\n",
    "    print('+++++++++++++++++++++++++++++++')\n",
    "    print('[ERROR] YOU HAVE TO RUN ALL NOTEBOOKS IN THE SETUP FOLDER FIRST. You are missing Setup Dependencies.')\n",
    "    print('+++++++++++++++++++++++++++++++')"
   ]
  },
  {
   "cell_type": "code",
   "execution_count": null,
   "metadata": {},
   "outputs": [],
   "source": [
    "print(setup_dependencies_passed)"
   ]
  },
  {
   "cell_type": "code",
   "execution_count": null,
   "metadata": {},
   "outputs": [],
   "source": [
    "%store -r setup_s3_bucket_passed"
   ]
  },
  {
   "cell_type": "code",
   "execution_count": null,
   "metadata": {},
   "outputs": [],
   "source": [
    "try:\n",
    "    setup_s3_bucket_passed    \n",
    "except NameError:\n",
    "    print('+++++++++++++++++++++++++++++++')\n",
    "    print('[ERROR] YOU HAVE TO RUN ALL NOTEBOOKS IN THE SETUP FOLDER FIRST. You are missing Setup S3 Bucket.')\n",
    "    print('+++++++++++++++++++++++++++++++')"
   ]
  },
  {
   "cell_type": "code",
   "execution_count": null,
   "metadata": {},
   "outputs": [],
   "source": [
    "print(setup_s3_bucket_passed)"
   ]
  },
  {
   "cell_type": "code",
   "execution_count": 3,
   "metadata": {},
   "outputs": [
    {
     "name": "stdout",
     "output_type": "stream",
     "text": [
      "no stored variable or alias setup_iam_roles_passed\n"
     ]
    }
   ],
   "source": [
    "%store -r setup_iam_roles_passed"
   ]
  },
  {
   "cell_type": "code",
   "execution_count": null,
   "metadata": {},
   "outputs": [],
   "source": [
    "try:\n",
    "    setup_iam_roles_passed  \n",
    "except NameError:\n",
    "    print('+++++++++++++++++++++++++++++++')\n",
    "    print('[ERROR] YOU HAVE TO RUN ALL NOTEBOOKS IN THE SETUP FOLDER FIRST. You are missing Setup IAM Roles.') \n",
    "    print('+++++++++++++++++++++++++++++++')"
   ]
  },
  {
   "cell_type": "code",
   "execution_count": null,
   "metadata": {},
   "outputs": [],
   "source": [
    "print(setup_iam_roles_passed)"
   ]
  },
  {
   "cell_type": "markdown",
   "metadata": {},
   "source": [
    "## Check if requirements passed"
   ]
  },
  {
   "cell_type": "code",
   "execution_count": null,
   "metadata": {},
   "outputs": [],
   "source": [
    "if not setup_instance_check_passed:\n",
    "    print('+++++++++++++++++++++++++++++++++++++++++++++++++++++++++++++++')\n",
    "    print('[ERROR] YOU HAVE TO RUN ALL NOTEBOOKS IN THE SETUP FOLDER FIRST. You are missing Instance Check.')\n",
    "    print('+++++++++++++++++++++++++++++++++++++++++++++++++++++++++++++++')\n",
    "if not setup_dependencies_passed:\n",
    "    print('+++++++++++++++++++++++++++++++++++++++++++++++++++++++++++++++')\n",
    "    print('[ERROR] YOU HAVE TO RUN ALL NOTEBOOKS IN THE SETUP FOLDER FIRST. You are missing Setup Dependencies.')\n",
    "    print('+++++++++++++++++++++++++++++++++++++++++++++++++++++++++++++++')\n",
    "if not setup_s3_bucket_passed:\n",
    "    print('+++++++++++++++++++++++++++++++++++++++++++++++++++++++++++++++')\n",
    "    print('[ERROR] YOU HAVE TO RUN ALL NOTEBOOKS IN THE SETUP FOLDER FIRST. You are missing Setup S3 Bucket.')\n",
    "    print('+++++++++++++++++++++++++++++++++++++++++++++++++++++++++++++++')\n",
    "if not setup_iam_roles_passed:\n",
    "    print('+++++++++++++++++++++++++++++++++++++++++++++++++++++++++++++++')\n",
    "    print('[ERROR] YOU HAVE TO RUN ALL NOTEBOOKS IN THE SETUP FOLDER FIRST. You are missing Setup IAM Roles.') \n",
    "    print('+++++++++++++++++++++++++++++++++++++++++++++++++++++++++++++++')"
   ]
  },
  {
   "cell_type": "code",
   "execution_count": 1,
   "metadata": {},
   "outputs": [],
   "source": [
    "import boto3\n",
    "import sagemaker\n",
    "import pandas as pd\n",
    "\n",
    "sess   = sagemaker.Session()\n",
    "bucket = sess.default_bucket()\n",
    "role = sagemaker.get_execution_role()\n",
    "region = boto3.Session().region_name"
   ]
  },
  {
   "cell_type": "markdown",
   "metadata": {},
   "source": [
    "## Download\n",
    "\n",
    "Let's start by retrieving a subset of the dataset."
   ]
  },
  {
   "cell_type": "code",
   "execution_count": 4,
   "metadata": {},
   "outputs": [],
   "source": [
    "input_data_path = \"s3://ada-dev/etl/ml/gender/temp/train/MY/202003/part-00000-d16978a0-ff32-4b59-bdc5-875fe7dadda0-c000.snappy.parquet\""
   ]
  },
  {
   "cell_type": "code",
   "execution_count": 6,
   "metadata": {},
   "outputs": [
    {
     "name": "stdout",
     "output_type": "stream",
     "text": [
      "download: s3://ada-dev/etl/ml/gender/temp/train/MY/202003/part-00000-d16978a0-ff32-4b59-bdc5-875fe7dadda0-c000.snappy.parquet to data/test_data.parquet\n"
     ]
    }
   ],
   "source": [
    "!aws s3 cp $input_data_path ./data/test_data.parquet"
   ]
  },
  {
   "cell_type": "code",
   "execution_count": 9,
   "metadata": {},
   "outputs": [
    {
     "name": "stdout",
     "output_type": "stream",
     "text": [
      "Collecting pyarrow\n",
      "  Downloading pyarrow-2.0.0-cp36-cp36m-manylinux2014_x86_64.whl (17.7 MB)\n",
      "\u001b[K     |████████████████████████████████| 17.7 MB 30.5 MB/s eta 0:00:01\n",
      "\u001b[?25hRequirement already satisfied: numpy>=1.14 in /home/ec2-user/anaconda3/envs/python3/lib/python3.6/site-packages (from pyarrow) (1.18.1)\n",
      "Installing collected packages: pyarrow\n",
      "Successfully installed pyarrow-2.0.0\n",
      "\u001b[33mWARNING: You are using pip version 20.0.2; however, version 20.2.4 is available.\n",
      "You should consider upgrading via the '/home/ec2-user/anaconda3/envs/python3/bin/python -m pip install --upgrade pip' command.\u001b[0m\n"
     ]
    }
   ],
   "source": [
    "!pip install pyarrow"
   ]
  },
  {
   "cell_type": "code",
   "execution_count": 10,
   "metadata": {},
   "outputs": [
    {
     "data": {
      "text/plain": [
       "(696, 16)"
      ]
     },
     "execution_count": 10,
     "metadata": {},
     "output_type": "execute_result"
    }
   ],
   "source": [
    "import csv\n",
    "import pyarrow\n",
    "\n",
    "df = pd.read_parquet('./data/test_data.parquet')\n",
    "df.shape"
   ]
  },
  {
   "cell_type": "code",
   "execution_count": 13,
   "metadata": {},
   "outputs": [
    {
     "data": {
      "text/plain": [
       "ifa                            object\n",
       "label                           int32\n",
       "bundle_vec                     object\n",
       "persona_segment_vec            object\n",
       "persona_L1_vec                 object\n",
       "persona_L2_vec                 object\n",
       "persona_L3_vec                 object\n",
       "device_vendor_vec              object\n",
       "device_name_vec                object\n",
       "device_manufacturer_vec        object\n",
       "device_model_vec               object\n",
       "device_year_of_release_vec     object\n",
       "dev_platform_vec               object\n",
       "major_os_vec                   object\n",
       "features                       object\n",
       "classWeightCol                float64\n",
       "dtype: object"
      ]
     },
     "execution_count": 13,
     "metadata": {},
     "output_type": "execute_result"
    }
   ],
   "source": [
    "df.dtypes"
   ]
  },
  {
   "cell_type": "code",
   "execution_count": 11,
   "metadata": {},
   "outputs": [
    {
     "data": {
      "text/html": [
       "<div>\n",
       "<style scoped>\n",
       "    .dataframe tbody tr th:only-of-type {\n",
       "        vertical-align: middle;\n",
       "    }\n",
       "\n",
       "    .dataframe tbody tr th {\n",
       "        vertical-align: top;\n",
       "    }\n",
       "\n",
       "    .dataframe thead th {\n",
       "        text-align: right;\n",
       "    }\n",
       "</style>\n",
       "<table border=\"1\" class=\"dataframe\">\n",
       "  <thead>\n",
       "    <tr style=\"text-align: right;\">\n",
       "      <th></th>\n",
       "      <th>ifa</th>\n",
       "      <th>label</th>\n",
       "      <th>bundle_vec</th>\n",
       "      <th>persona_segment_vec</th>\n",
       "      <th>persona_L1_vec</th>\n",
       "      <th>persona_L2_vec</th>\n",
       "      <th>persona_L3_vec</th>\n",
       "      <th>device_vendor_vec</th>\n",
       "      <th>device_name_vec</th>\n",
       "      <th>device_manufacturer_vec</th>\n",
       "      <th>device_model_vec</th>\n",
       "      <th>device_year_of_release_vec</th>\n",
       "      <th>dev_platform_vec</th>\n",
       "      <th>major_os_vec</th>\n",
       "      <th>features</th>\n",
       "      <th>classWeightCol</th>\n",
       "    </tr>\n",
       "  </thead>\n",
       "  <tbody>\n",
       "    <tr>\n",
       "      <th>0</th>\n",
       "      <td>001734f0-5c32-46e9-b0df-8042773b5d9c</td>\n",
       "      <td>1</td>\n",
       "      <td>{'type': 0, 'size': 8062, 'indices': [2, 5, 20...</td>\n",
       "      <td>{'type': 0, 'size': 57, 'indices': [0, 2, 3, 9...</td>\n",
       "      <td>{'type': 0, 'size': 19, 'indices': [0, 2, 6], ...</td>\n",
       "      <td>{'type': 0, 'size': 85, 'indices': [0, 1, 4, 6...</td>\n",
       "      <td>{'type': 0, 'size': 60, 'indices': [2, 7], 'va...</td>\n",
       "      <td>{'type': 0, 'size': 20, 'indices': [1], 'value...</td>\n",
       "      <td>{'type': 0, 'size': 256, 'indices': [0], 'valu...</td>\n",
       "      <td>{'type': 0, 'size': 20, 'indices': [1], 'value...</td>\n",
       "      <td>{'type': 0, 'size': 487, 'indices': [69], 'val...</td>\n",
       "      <td>{'type': 0, 'size': 7, 'indices': [0], 'values...</td>\n",
       "      <td>{'type': 0, 'size': 2, 'indices': [0], 'values...</td>\n",
       "      <td>{'type': 0, 'size': 7, 'indices': [1], 'values...</td>\n",
       "      <td>{'type': 0, 'size': 9082, 'indices': [2, 5, 20...</td>\n",
       "      <td>0.202311</td>\n",
       "    </tr>\n",
       "    <tr>\n",
       "      <th>1</th>\n",
       "      <td>00ee6602-3b91-4008-815e-ccd6fd2373bb</td>\n",
       "      <td>1</td>\n",
       "      <td>{'type': 0, 'size': 8062, 'indices': [5, 8, 21...</td>\n",
       "      <td>{'type': 0, 'size': 57, 'indices': [0, 3, 4, 6...</td>\n",
       "      <td>{'type': 0, 'size': 19, 'indices': [0, 3, 6, 1...</td>\n",
       "      <td>{'type': 0, 'size': 85, 'indices': [1, 3, 5, 6...</td>\n",
       "      <td>{'type': 0, 'size': 60, 'indices': [1, 2, 3, 3...</td>\n",
       "      <td>{'type': 0, 'size': 20, 'indices': [1], 'value...</td>\n",
       "      <td>{'type': 0, 'size': 256, 'indices': [0], 'valu...</td>\n",
       "      <td>{'type': 0, 'size': 20, 'indices': [1], 'value...</td>\n",
       "      <td>{'type': 0, 'size': 487, 'indices': [4], 'valu...</td>\n",
       "      <td>{'type': 0, 'size': 7, 'indices': [0], 'values...</td>\n",
       "      <td>{'type': 0, 'size': 2, 'indices': [0], 'values...</td>\n",
       "      <td>{'type': 0, 'size': 7, 'indices': [1], 'values...</td>\n",
       "      <td>{'type': 0, 'size': 9082, 'indices': [5, 8, 21...</td>\n",
       "      <td>0.202311</td>\n",
       "    </tr>\n",
       "    <tr>\n",
       "      <th>2</th>\n",
       "      <td>0167758c-16e6-49f3-a076-9302395e9265</td>\n",
       "      <td>1</td>\n",
       "      <td>{'type': 0, 'size': 8062, 'indices': [0, 19, 2...</td>\n",
       "      <td>{'type': 0, 'size': 57, 'indices': [1, 9, 11, ...</td>\n",
       "      <td>{'type': 0, 'size': 19, 'indices': [0, 1, 5], ...</td>\n",
       "      <td>{'type': 0, 'size': 85, 'indices': [1, 2, 16, ...</td>\n",
       "      <td>{'type': 0, 'size': 60, 'indices': [0, 7], 'va...</td>\n",
       "      <td>{'type': 0, 'size': 20, 'indices': [2], 'value...</td>\n",
       "      <td>{'type': 0, 'size': 256, 'indices': [105], 'va...</td>\n",
       "      <td>{'type': 0, 'size': 20, 'indices': [2], 'value...</td>\n",
       "      <td>{'type': 0, 'size': 487, 'indices': [202], 'va...</td>\n",
       "      <td>{'type': 0, 'size': 7, 'indices': [2], 'values...</td>\n",
       "      <td>{'type': 0, 'size': 2, 'indices': [0], 'values...</td>\n",
       "      <td>{'type': 0, 'size': 7, 'indices': [0], 'values...</td>\n",
       "      <td>{'type': 0, 'size': 9082, 'indices': [0, 19, 2...</td>\n",
       "      <td>0.202311</td>\n",
       "    </tr>\n",
       "    <tr>\n",
       "      <th>3</th>\n",
       "      <td>01c9cafc-77f7-479f-b15f-9e9d960cf7af</td>\n",
       "      <td>1</td>\n",
       "      <td>{'type': 0, 'size': 8062, 'indices': [1, 4, 15...</td>\n",
       "      <td>{'type': 0, 'size': 57, 'indices': [0, 3, 5, 6...</td>\n",
       "      <td>{'type': 0, 'size': 19, 'indices': [0, 4], 'va...</td>\n",
       "      <td>{'type': 0, 'size': 85, 'indices': [0, 1, 7], ...</td>\n",
       "      <td>{'type': 0, 'size': 60, 'indices': [7], 'value...</td>\n",
       "      <td>{'type': 0, 'size': 20, 'indices': [], 'values...</td>\n",
       "      <td>{'type': 0, 'size': 256, 'indices': [], 'value...</td>\n",
       "      <td>{'type': 0, 'size': 20, 'indices': [], 'values...</td>\n",
       "      <td>{'type': 0, 'size': 487, 'indices': [20], 'val...</td>\n",
       "      <td>{'type': 0, 'size': 7, 'indices': [], 'values'...</td>\n",
       "      <td>{'type': 0, 'size': 2, 'indices': [0], 'values...</td>\n",
       "      <td>{'type': 0, 'size': 7, 'indices': [0], 'values...</td>\n",
       "      <td>{'type': 0, 'size': 9082, 'indices': [1, 4, 15...</td>\n",
       "      <td>0.202311</td>\n",
       "    </tr>\n",
       "    <tr>\n",
       "      <th>4</th>\n",
       "      <td>02095470-5ec2-4d03-abc7-85d69f2afc5d</td>\n",
       "      <td>1</td>\n",
       "      <td>{'type': 0, 'size': 8062, 'indices': [1, 5, 7,...</td>\n",
       "      <td>{'type': 0, 'size': 57, 'indices': [0, 3, 14, ...</td>\n",
       "      <td>{'type': 0, 'size': 19, 'indices': [0, 6], 'va...</td>\n",
       "      <td>{'type': 0, 'size': 85, 'indices': [0, 6, 23],...</td>\n",
       "      <td>{'type': 0, 'size': 60, 'indices': [2, 24], 'v...</td>\n",
       "      <td>{'type': 0, 'size': 20, 'indices': [1], 'value...</td>\n",
       "      <td>{'type': 0, 'size': 256, 'indices': [0], 'valu...</td>\n",
       "      <td>{'type': 0, 'size': 20, 'indices': [1], 'value...</td>\n",
       "      <td>{'type': 0, 'size': 487, 'indices': [232], 'va...</td>\n",
       "      <td>{'type': 0, 'size': 7, 'indices': [4], 'values...</td>\n",
       "      <td>{'type': 0, 'size': 2, 'indices': [0], 'values...</td>\n",
       "      <td>{'type': 0, 'size': 7, 'indices': [3], 'values...</td>\n",
       "      <td>{'type': 0, 'size': 9082, 'indices': [1, 5, 7,...</td>\n",
       "      <td>0.202311</td>\n",
       "    </tr>\n",
       "  </tbody>\n",
       "</table>\n",
       "</div>"
      ],
      "text/plain": [
       "                                    ifa  label  \\\n",
       "0  001734f0-5c32-46e9-b0df-8042773b5d9c      1   \n",
       "1  00ee6602-3b91-4008-815e-ccd6fd2373bb      1   \n",
       "2  0167758c-16e6-49f3-a076-9302395e9265      1   \n",
       "3  01c9cafc-77f7-479f-b15f-9e9d960cf7af      1   \n",
       "4  02095470-5ec2-4d03-abc7-85d69f2afc5d      1   \n",
       "\n",
       "                                          bundle_vec  \\\n",
       "0  {'type': 0, 'size': 8062, 'indices': [2, 5, 20...   \n",
       "1  {'type': 0, 'size': 8062, 'indices': [5, 8, 21...   \n",
       "2  {'type': 0, 'size': 8062, 'indices': [0, 19, 2...   \n",
       "3  {'type': 0, 'size': 8062, 'indices': [1, 4, 15...   \n",
       "4  {'type': 0, 'size': 8062, 'indices': [1, 5, 7,...   \n",
       "\n",
       "                                 persona_segment_vec  \\\n",
       "0  {'type': 0, 'size': 57, 'indices': [0, 2, 3, 9...   \n",
       "1  {'type': 0, 'size': 57, 'indices': [0, 3, 4, 6...   \n",
       "2  {'type': 0, 'size': 57, 'indices': [1, 9, 11, ...   \n",
       "3  {'type': 0, 'size': 57, 'indices': [0, 3, 5, 6...   \n",
       "4  {'type': 0, 'size': 57, 'indices': [0, 3, 14, ...   \n",
       "\n",
       "                                      persona_L1_vec  \\\n",
       "0  {'type': 0, 'size': 19, 'indices': [0, 2, 6], ...   \n",
       "1  {'type': 0, 'size': 19, 'indices': [0, 3, 6, 1...   \n",
       "2  {'type': 0, 'size': 19, 'indices': [0, 1, 5], ...   \n",
       "3  {'type': 0, 'size': 19, 'indices': [0, 4], 'va...   \n",
       "4  {'type': 0, 'size': 19, 'indices': [0, 6], 'va...   \n",
       "\n",
       "                                      persona_L2_vec  \\\n",
       "0  {'type': 0, 'size': 85, 'indices': [0, 1, 4, 6...   \n",
       "1  {'type': 0, 'size': 85, 'indices': [1, 3, 5, 6...   \n",
       "2  {'type': 0, 'size': 85, 'indices': [1, 2, 16, ...   \n",
       "3  {'type': 0, 'size': 85, 'indices': [0, 1, 7], ...   \n",
       "4  {'type': 0, 'size': 85, 'indices': [0, 6, 23],...   \n",
       "\n",
       "                                      persona_L3_vec  \\\n",
       "0  {'type': 0, 'size': 60, 'indices': [2, 7], 'va...   \n",
       "1  {'type': 0, 'size': 60, 'indices': [1, 2, 3, 3...   \n",
       "2  {'type': 0, 'size': 60, 'indices': [0, 7], 'va...   \n",
       "3  {'type': 0, 'size': 60, 'indices': [7], 'value...   \n",
       "4  {'type': 0, 'size': 60, 'indices': [2, 24], 'v...   \n",
       "\n",
       "                                   device_vendor_vec  \\\n",
       "0  {'type': 0, 'size': 20, 'indices': [1], 'value...   \n",
       "1  {'type': 0, 'size': 20, 'indices': [1], 'value...   \n",
       "2  {'type': 0, 'size': 20, 'indices': [2], 'value...   \n",
       "3  {'type': 0, 'size': 20, 'indices': [], 'values...   \n",
       "4  {'type': 0, 'size': 20, 'indices': [1], 'value...   \n",
       "\n",
       "                                     device_name_vec  \\\n",
       "0  {'type': 0, 'size': 256, 'indices': [0], 'valu...   \n",
       "1  {'type': 0, 'size': 256, 'indices': [0], 'valu...   \n",
       "2  {'type': 0, 'size': 256, 'indices': [105], 'va...   \n",
       "3  {'type': 0, 'size': 256, 'indices': [], 'value...   \n",
       "4  {'type': 0, 'size': 256, 'indices': [0], 'valu...   \n",
       "\n",
       "                             device_manufacturer_vec  \\\n",
       "0  {'type': 0, 'size': 20, 'indices': [1], 'value...   \n",
       "1  {'type': 0, 'size': 20, 'indices': [1], 'value...   \n",
       "2  {'type': 0, 'size': 20, 'indices': [2], 'value...   \n",
       "3  {'type': 0, 'size': 20, 'indices': [], 'values...   \n",
       "4  {'type': 0, 'size': 20, 'indices': [1], 'value...   \n",
       "\n",
       "                                    device_model_vec  \\\n",
       "0  {'type': 0, 'size': 487, 'indices': [69], 'val...   \n",
       "1  {'type': 0, 'size': 487, 'indices': [4], 'valu...   \n",
       "2  {'type': 0, 'size': 487, 'indices': [202], 'va...   \n",
       "3  {'type': 0, 'size': 487, 'indices': [20], 'val...   \n",
       "4  {'type': 0, 'size': 487, 'indices': [232], 'va...   \n",
       "\n",
       "                          device_year_of_release_vec  \\\n",
       "0  {'type': 0, 'size': 7, 'indices': [0], 'values...   \n",
       "1  {'type': 0, 'size': 7, 'indices': [0], 'values...   \n",
       "2  {'type': 0, 'size': 7, 'indices': [2], 'values...   \n",
       "3  {'type': 0, 'size': 7, 'indices': [], 'values'...   \n",
       "4  {'type': 0, 'size': 7, 'indices': [4], 'values...   \n",
       "\n",
       "                                    dev_platform_vec  \\\n",
       "0  {'type': 0, 'size': 2, 'indices': [0], 'values...   \n",
       "1  {'type': 0, 'size': 2, 'indices': [0], 'values...   \n",
       "2  {'type': 0, 'size': 2, 'indices': [0], 'values...   \n",
       "3  {'type': 0, 'size': 2, 'indices': [0], 'values...   \n",
       "4  {'type': 0, 'size': 2, 'indices': [0], 'values...   \n",
       "\n",
       "                                        major_os_vec  \\\n",
       "0  {'type': 0, 'size': 7, 'indices': [1], 'values...   \n",
       "1  {'type': 0, 'size': 7, 'indices': [1], 'values...   \n",
       "2  {'type': 0, 'size': 7, 'indices': [0], 'values...   \n",
       "3  {'type': 0, 'size': 7, 'indices': [0], 'values...   \n",
       "4  {'type': 0, 'size': 7, 'indices': [3], 'values...   \n",
       "\n",
       "                                            features  classWeightCol  \n",
       "0  {'type': 0, 'size': 9082, 'indices': [2, 5, 20...        0.202311  \n",
       "1  {'type': 0, 'size': 9082, 'indices': [5, 8, 21...        0.202311  \n",
       "2  {'type': 0, 'size': 9082, 'indices': [0, 19, 2...        0.202311  \n",
       "3  {'type': 0, 'size': 9082, 'indices': [1, 4, 15...        0.202311  \n",
       "4  {'type': 0, 'size': 9082, 'indices': [1, 5, 7,...        0.202311  "
      ]
     },
     "execution_count": 11,
     "metadata": {},
     "output_type": "execute_result"
    }
   ],
   "source": [
    "df.head(5)"
   ]
  },
  {
   "cell_type": "code",
   "execution_count": 14,
   "metadata": {},
   "outputs": [
    {
     "data": {
      "text/plain": [
       "Text(0, 0.5, 'Count')"
      ]
     },
     "execution_count": 14,
     "metadata": {},
     "output_type": "execute_result"
    },
    {
     "data": {
      "image/png": "[encoded data removed]",
      "text/plain": [
       "<Figure size 432x288 with 1 Axes>"
      ]
     },
     "metadata": {
      "image/png": {
       "height": 274,
       "width": 388
      },
      "needs_background": "light"
     },
     "output_type": "display_data"
    }
   ],
   "source": [
    "import matplotlib.pyplot as plt\n",
    "%matplotlib inline\n",
    "%config InlineBackend.figure_format='retina'\n",
    "\n",
    "df[['ifa', 'label']].groupby('label').count().plot(kind='bar', title='Breakdown by Gender')\n",
    "plt.xlabel('Gender: 0 - M; 1 - F')\n",
    "plt.ylabel('Count')"
   ]
  },
  {
   "cell_type": "markdown",
   "metadata": {},
   "source": [
    "# Balance the Dataset"
   ]
  },
  {
   "cell_type": "code",
   "execution_count": 15,
   "metadata": {},
   "outputs": [],
   "source": [
    "from sklearn.utils import resample\n",
    "\n",
    "male_df = df.query('label == 0')\n",
    "female_df = df.query('label == 1')"
   ]
  },
  {
   "cell_type": "code",
   "execution_count": 19,
   "metadata": {},
   "outputs": [
    {
     "data": {
      "text/plain": [
       "(594, 16)"
      ]
     },
     "execution_count": 19,
     "metadata": {},
     "output_type": "execute_result"
    }
   ],
   "source": [
    "# Check which sentiment has the least number of samples\n",
    "minority_count = min(male_df.shape[0], \n",
    "                     female_df.shape[0]) \n",
    "\n",
    "male_df = resample(male_df,\n",
    "                        replace = False,\n",
    "                        n_samples = minority_count,\n",
    "                        random_state = 27)\n",
    "\n",
    "female_df = resample(female_df,\n",
    "                        replace = False,\n",
    "                        n_samples = minority_count,\n",
    "                        random_state = 27)\n",
    "\n",
    "\n",
    "df_balanced = pd.concat([male_df, female_df])\n",
    "df_balanced = df_balanced.reset_index(drop=True)\n",
    "\n",
    "df_balanced.shape"
   ]
  },
  {
   "cell_type": "code",
   "execution_count": 21,
   "metadata": {},
   "outputs": [
    {
     "data": {
      "text/plain": [
       "Text(0, 0.5, 'Count')"
      ]
     },
     "execution_count": 21,
     "metadata": {},
     "output_type": "execute_result"
    },
    {
     "data": {
      "image/png": "[encoded data removed]",
      "text/plain": [
       "<Figure size 432x288 with 1 Axes>"
      ]
     },
     "metadata": {
      "image/png": {
       "height": 274,
       "width": 388
      },
      "needs_background": "light"
     },
     "output_type": "display_data"
    }
   ],
   "source": [
    "df_balanced[['ifa', 'label']].groupby('label').count().plot(kind='bar', title='Breakdown by Gender')\n",
    "plt.xlabel('Gender: 0 - M; 1 - F')\n",
    "plt.ylabel('Count')"
   ]
  },
  {
   "cell_type": "code",
   "execution_count": 22,
   "metadata": {},
   "outputs": [
    {
     "data": {
      "text/html": [
       "<div>\n",
       "<style scoped>\n",
       "    .dataframe tbody tr th:only-of-type {\n",
       "        vertical-align: middle;\n",
       "    }\n",
       "\n",
       "    .dataframe tbody tr th {\n",
       "        vertical-align: top;\n",
       "    }\n",
       "\n",
       "    .dataframe thead th {\n",
       "        text-align: right;\n",
       "    }\n",
       "</style>\n",
       "<table border=\"1\" class=\"dataframe\">\n",
       "  <thead>\n",
       "    <tr style=\"text-align: right;\">\n",
       "      <th></th>\n",
       "      <th>ifa</th>\n",
       "      <th>label</th>\n",
       "      <th>bundle_vec</th>\n",
       "      <th>persona_segment_vec</th>\n",
       "      <th>persona_L1_vec</th>\n",
       "      <th>persona_L2_vec</th>\n",
       "      <th>persona_L3_vec</th>\n",
       "      <th>device_vendor_vec</th>\n",
       "      <th>device_name_vec</th>\n",
       "      <th>device_manufacturer_vec</th>\n",
       "      <th>device_model_vec</th>\n",
       "      <th>device_year_of_release_vec</th>\n",
       "      <th>dev_platform_vec</th>\n",
       "      <th>major_os_vec</th>\n",
       "      <th>features</th>\n",
       "      <th>classWeightCol</th>\n",
       "    </tr>\n",
       "  </thead>\n",
       "  <tbody>\n",
       "    <tr>\n",
       "      <th>0</th>\n",
       "      <td>f45481af-a951-4c2c-aa8a-94cbf62f6b8c</td>\n",
       "      <td>0</td>\n",
       "      <td>{'type': 0, 'size': 8062, 'indices': [2, 4, 6,...</td>\n",
       "      <td>{'type': 0, 'size': 57, 'indices': [0, 4, 5, 7...</td>\n",
       "      <td>{'type': 0, 'size': 19, 'indices': [3], 'value...</td>\n",
       "      <td>{'type': 0, 'size': 85, 'indices': [3], 'value...</td>\n",
       "      <td>{'type': 0, 'size': 60, 'indices': [], 'values...</td>\n",
       "      <td>{'type': 0, 'size': 20, 'indices': [4], 'value...</td>\n",
       "      <td>{'type': 0, 'size': 256, 'indices': [70], 'val...</td>\n",
       "      <td>{'type': 0, 'size': 20, 'indices': [4], 'value...</td>\n",
       "      <td>{'type': 0, 'size': 487, 'indices': [114], 'va...</td>\n",
       "      <td>{'type': 0, 'size': 7, 'indices': [1], 'values...</td>\n",
       "      <td>{'type': 0, 'size': 2, 'indices': [0], 'values...</td>\n",
       "      <td>{'type': 0, 'size': 7, 'indices': [0], 'values...</td>\n",
       "      <td>{'type': 0, 'size': 9082, 'indices': [2, 4, 6,...</td>\n",
       "      <td>0.298944</td>\n",
       "    </tr>\n",
       "    <tr>\n",
       "      <th>1</th>\n",
       "      <td>0b3b1a23-81b7-4083-aa2f-df60cb0cf940</td>\n",
       "      <td>0</td>\n",
       "      <td>{'type': 0, 'size': 8062, 'indices': [0, 31, 4...</td>\n",
       "      <td>{'type': 0, 'size': 57, 'indices': [1, 2, 7, 1...</td>\n",
       "      <td>{'type': 0, 'size': 19, 'indices': [1, 2], 'va...</td>\n",
       "      <td>{'type': 0, 'size': 85, 'indices': [2, 4], 'va...</td>\n",
       "      <td>{'type': 0, 'size': 60, 'indices': [0], 'value...</td>\n",
       "      <td>{'type': 0, 'size': 20, 'indices': [4], 'value...</td>\n",
       "      <td>{'type': 0, 'size': 256, 'indices': [46], 'val...</td>\n",
       "      <td>{'type': 0, 'size': 20, 'indices': [4], 'value...</td>\n",
       "      <td>{'type': 0, 'size': 487, 'indices': [65], 'val...</td>\n",
       "      <td>{'type': 0, 'size': 7, 'indices': [1], 'values...</td>\n",
       "      <td>{'type': 0, 'size': 2, 'indices': [0], 'values...</td>\n",
       "      <td>{'type': 0, 'size': 7, 'indices': [0], 'values...</td>\n",
       "      <td>{'type': 0, 'size': 9082, 'indices': [0, 31, 4...</td>\n",
       "      <td>0.298944</td>\n",
       "    </tr>\n",
       "    <tr>\n",
       "      <th>2</th>\n",
       "      <td>ff17f126-620d-4e03-9935-17d8672509b4</td>\n",
       "      <td>0</td>\n",
       "      <td>{'type': 0, 'size': 8062, 'indices': [2, 4, 7,...</td>\n",
       "      <td>{'type': 0, 'size': 57, 'indices': [0, 1, 2, 3...</td>\n",
       "      <td>{'type': 0, 'size': 19, 'indices': [0, 2, 4, 5...</td>\n",
       "      <td>{'type': 0, 'size': 85, 'indices': [0, 1, 5, 7...</td>\n",
       "      <td>{'type': 0, 'size': 60, 'indices': [1, 3], 'va...</td>\n",
       "      <td>{'type': 0, 'size': 20, 'indices': [2], 'value...</td>\n",
       "      <td>{'type': 0, 'size': 256, 'indices': [17], 'val...</td>\n",
       "      <td>{'type': 0, 'size': 20, 'indices': [2], 'value...</td>\n",
       "      <td>{'type': 0, 'size': 487, 'indices': [31], 'val...</td>\n",
       "      <td>{'type': 0, 'size': 7, 'indices': [0], 'values...</td>\n",
       "      <td>{'type': 0, 'size': 2, 'indices': [0], 'values...</td>\n",
       "      <td>{'type': 0, 'size': 7, 'indices': [2], 'values...</td>\n",
       "      <td>{'type': 0, 'size': 9082, 'indices': [2, 4, 7,...</td>\n",
       "      <td>0.298944</td>\n",
       "    </tr>\n",
       "    <tr>\n",
       "      <th>3</th>\n",
       "      <td>06a6847a-0a8d-4b5f-97da-c7a4149d734e</td>\n",
       "      <td>0</td>\n",
       "      <td>{'type': 0, 'size': 8062, 'indices': [1, 24, 1...</td>\n",
       "      <td>{'type': 0, 'size': 57, 'indices': [3, 9, 19, ...</td>\n",
       "      <td>{'type': 0, 'size': 19, 'indices': [0, 4, 7], ...</td>\n",
       "      <td>{'type': 0, 'size': 85, 'indices': [0, 7, 15],...</td>\n",
       "      <td>{'type': 0, 'size': 60, 'indices': [6], 'value...</td>\n",
       "      <td>{'type': 0, 'size': 20, 'indices': [1], 'value...</td>\n",
       "      <td>{'type': 0, 'size': 256, 'indices': [0], 'valu...</td>\n",
       "      <td>{'type': 0, 'size': 20, 'indices': [1], 'value...</td>\n",
       "      <td>{'type': 0, 'size': 487, 'indices': [19], 'val...</td>\n",
       "      <td>{'type': 0, 'size': 7, 'indices': [0], 'values...</td>\n",
       "      <td>{'type': 0, 'size': 2, 'indices': [0], 'values...</td>\n",
       "      <td>{'type': 0, 'size': 7, 'indices': [1], 'values...</td>\n",
       "      <td>{'type': 0, 'size': 9082, 'indices': [1, 24, 1...</td>\n",
       "      <td>0.298944</td>\n",
       "    </tr>\n",
       "    <tr>\n",
       "      <th>4</th>\n",
       "      <td>d9fe2843-e3d8-4ee6-96e6-3ad9dcfe5fc1</td>\n",
       "      <td>0</td>\n",
       "      <td>{'type': 0, 'size': 8062, 'indices': [10, 13, ...</td>\n",
       "      <td>{'type': 0, 'size': 57, 'indices': [0, 2, 3, 5...</td>\n",
       "      <td>{'type': 0, 'size': 19, 'indices': [0, 2], 'va...</td>\n",
       "      <td>{'type': 0, 'size': 85, 'indices': [4, 5], 'va...</td>\n",
       "      <td>{'type': 0, 'size': 60, 'indices': [3], 'value...</td>\n",
       "      <td>{'type': 0, 'size': 20, 'indices': [], 'values...</td>\n",
       "      <td>{'type': 0, 'size': 256, 'indices': [], 'value...</td>\n",
       "      <td>{'type': 0, 'size': 20, 'indices': [], 'values...</td>\n",
       "      <td>{'type': 0, 'size': 487, 'indices': [20], 'val...</td>\n",
       "      <td>{'type': 0, 'size': 7, 'indices': [], 'values'...</td>\n",
       "      <td>{'type': 0, 'size': 2, 'indices': [0], 'values...</td>\n",
       "      <td>{'type': 0, 'size': 7, 'indices': [0], 'values...</td>\n",
       "      <td>{'type': 0, 'size': 9082, 'indices': [10, 13, ...</td>\n",
       "      <td>0.298944</td>\n",
       "    </tr>\n",
       "  </tbody>\n",
       "</table>\n",
       "</div>"
      ],
      "text/plain": [
       "                                    ifa  label  \\\n",
       "0  f45481af-a951-4c2c-aa8a-94cbf62f6b8c      0   \n",
       "1  0b3b1a23-81b7-4083-aa2f-df60cb0cf940      0   \n",
       "2  ff17f126-620d-4e03-9935-17d8672509b4      0   \n",
       "3  06a6847a-0a8d-4b5f-97da-c7a4149d734e      0   \n",
       "4  d9fe2843-e3d8-4ee6-96e6-3ad9dcfe5fc1      0   \n",
       "\n",
       "                                          bundle_vec  \\\n",
       "0  {'type': 0, 'size': 8062, 'indices': [2, 4, 6,...   \n",
       "1  {'type': 0, 'size': 8062, 'indices': [0, 31, 4...   \n",
       "2  {'type': 0, 'size': 8062, 'indices': [2, 4, 7,...   \n",
       "3  {'type': 0, 'size': 8062, 'indices': [1, 24, 1...   \n",
       "4  {'type': 0, 'size': 8062, 'indices': [10, 13, ...   \n",
       "\n",
       "                                 persona_segment_vec  \\\n",
       "0  {'type': 0, 'size': 57, 'indices': [0, 4, 5, 7...   \n",
       "1  {'type': 0, 'size': 57, 'indices': [1, 2, 7, 1...   \n",
       "2  {'type': 0, 'size': 57, 'indices': [0, 1, 2, 3...   \n",
       "3  {'type': 0, 'size': 57, 'indices': [3, 9, 19, ...   \n",
       "4  {'type': 0, 'size': 57, 'indices': [0, 2, 3, 5...   \n",
       "\n",
       "                                      persona_L1_vec  \\\n",
       "0  {'type': 0, 'size': 19, 'indices': [3], 'value...   \n",
       "1  {'type': 0, 'size': 19, 'indices': [1, 2], 'va...   \n",
       "2  {'type': 0, 'size': 19, 'indices': [0, 2, 4, 5...   \n",
       "3  {'type': 0, 'size': 19, 'indices': [0, 4, 7], ...   \n",
       "4  {'type': 0, 'size': 19, 'indices': [0, 2], 'va...   \n",
       "\n",
       "                                      persona_L2_vec  \\\n",
       "0  {'type': 0, 'size': 85, 'indices': [3], 'value...   \n",
       "1  {'type': 0, 'size': 85, 'indices': [2, 4], 'va...   \n",
       "2  {'type': 0, 'size': 85, 'indices': [0, 1, 5, 7...   \n",
       "3  {'type': 0, 'size': 85, 'indices': [0, 7, 15],...   \n",
       "4  {'type': 0, 'size': 85, 'indices': [4, 5], 'va...   \n",
       "\n",
       "                                      persona_L3_vec  \\\n",
       "0  {'type': 0, 'size': 60, 'indices': [], 'values...   \n",
       "1  {'type': 0, 'size': 60, 'indices': [0], 'value...   \n",
       "2  {'type': 0, 'size': 60, 'indices': [1, 3], 'va...   \n",
       "3  {'type': 0, 'size': 60, 'indices': [6], 'value...   \n",
       "4  {'type': 0, 'size': 60, 'indices': [3], 'value...   \n",
       "\n",
       "                                   device_vendor_vec  \\\n",
       "0  {'type': 0, 'size': 20, 'indices': [4], 'value...   \n",
       "1  {'type': 0, 'size': 20, 'indices': [4], 'value...   \n",
       "2  {'type': 0, 'size': 20, 'indices': [2], 'value...   \n",
       "3  {'type': 0, 'size': 20, 'indices': [1], 'value...   \n",
       "4  {'type': 0, 'size': 20, 'indices': [], 'values...   \n",
       "\n",
       "                                     device_name_vec  \\\n",
       "0  {'type': 0, 'size': 256, 'indices': [70], 'val...   \n",
       "1  {'type': 0, 'size': 256, 'indices': [46], 'val...   \n",
       "2  {'type': 0, 'size': 256, 'indices': [17], 'val...   \n",
       "3  {'type': 0, 'size': 256, 'indices': [0], 'valu...   \n",
       "4  {'type': 0, 'size': 256, 'indices': [], 'value...   \n",
       "\n",
       "                             device_manufacturer_vec  \\\n",
       "0  {'type': 0, 'size': 20, 'indices': [4], 'value...   \n",
       "1  {'type': 0, 'size': 20, 'indices': [4], 'value...   \n",
       "2  {'type': 0, 'size': 20, 'indices': [2], 'value...   \n",
       "3  {'type': 0, 'size': 20, 'indices': [1], 'value...   \n",
       "4  {'type': 0, 'size': 20, 'indices': [], 'values...   \n",
       "\n",
       "                                    device_model_vec  \\\n",
       "0  {'type': 0, 'size': 487, 'indices': [114], 'va...   \n",
       "1  {'type': 0, 'size': 487, 'indices': [65], 'val...   \n",
       "2  {'type': 0, 'size': 487, 'indices': [31], 'val...   \n",
       "3  {'type': 0, 'size': 487, 'indices': [19], 'val...   \n",
       "4  {'type': 0, 'size': 487, 'indices': [20], 'val...   \n",
       "\n",
       "                          device_year_of_release_vec  \\\n",
       "0  {'type': 0, 'size': 7, 'indices': [1], 'values...   \n",
       "1  {'type': 0, 'size': 7, 'indices': [1], 'values...   \n",
       "2  {'type': 0, 'size': 7, 'indices': [0], 'values...   \n",
       "3  {'type': 0, 'size': 7, 'indices': [0], 'values...   \n",
       "4  {'type': 0, 'size': 7, 'indices': [], 'values'...   \n",
       "\n",
       "                                    dev_platform_vec  \\\n",
       "0  {'type': 0, 'size': 2, 'indices': [0], 'values...   \n",
       "1  {'type': 0, 'size': 2, 'indices': [0], 'values...   \n",
       "2  {'type': 0, 'size': 2, 'indices': [0], 'values...   \n",
       "3  {'type': 0, 'size': 2, 'indices': [0], 'values...   \n",
       "4  {'type': 0, 'size': 2, 'indices': [0], 'values...   \n",
       "\n",
       "                                        major_os_vec  \\\n",
       "0  {'type': 0, 'size': 7, 'indices': [0], 'values...   \n",
       "1  {'type': 0, 'size': 7, 'indices': [0], 'values...   \n",
       "2  {'type': 0, 'size': 7, 'indices': [2], 'values...   \n",
       "3  {'type': 0, 'size': 7, 'indices': [1], 'values...   \n",
       "4  {'type': 0, 'size': 7, 'indices': [0], 'values...   \n",
       "\n",
       "                                            features  classWeightCol  \n",
       "0  {'type': 0, 'size': 9082, 'indices': [2, 4, 6,...        0.298944  \n",
       "1  {'type': 0, 'size': 9082, 'indices': [0, 31, 4...        0.298944  \n",
       "2  {'type': 0, 'size': 9082, 'indices': [2, 4, 7,...        0.298944  \n",
       "3  {'type': 0, 'size': 9082, 'indices': [1, 24, 1...        0.298944  \n",
       "4  {'type': 0, 'size': 9082, 'indices': [10, 13, ...        0.298944  "
      ]
     },
     "execution_count": 22,
     "metadata": {},
     "output_type": "execute_result"
    }
   ],
   "source": [
    "df_balanced.head(5)"
   ]
  },
  {
   "cell_type": "markdown",
   "metadata": {},
   "source": [
    "# Split the Data into Train, Validation, and Test Sets"
   ]
  },
  {
   "cell_type": "code",
   "execution_count": 50,
   "metadata": {},
   "outputs": [],
   "source": [
    "from sklearn.model_selection import train_test_split\n",
    "\n",
    "# Split all data into 90% train and 10% holdout\n",
    "df_train, df_holdout = train_test_split(df_balanced, \n",
    "                                        test_size=0.10,\n",
    "                                        stratify=df_balanced['label'])\n",
    "\n",
    "# Split holdout data into 50% validation and 50% test\n",
    "df_validation, df_test = train_test_split(df_holdout,\n",
    "                                          test_size=0.50, \n",
    "                                          stratify=df_holdout['label'])\n"
   ]
  },
  {
   "cell_type": "code",
   "execution_count": 29,
   "metadata": {},
   "outputs": [
    {
     "data": {
      "image/png": "[encoded data removed]",
      "text/plain": [
       "<Figure size 432x288 with 1 Axes>"
      ]
     },
     "metadata": {
      "image/png": {
       "height": 234,
       "width": 349
      }
     },
     "output_type": "display_data"
    }
   ],
   "source": [
    "# Pie chart, where the slices will be ordered and plotted counter-clockwise:\n",
    "labels = ['Train', 'Validation', 'Test']\n",
    "sizes = [len(df_train.index), len(df_validation.index), len(df_test.index)]\n",
    "explode = (0.1, 0, 0)  \n",
    "\n",
    "fig1, ax1 = plt.subplots()\n",
    "\n",
    "ax1.pie(sizes, explode=explode, labels=labels, autopct='%1.1f%%', startangle=90)\n",
    "\n",
    "# Equal aspect ratio ensures that pie is drawn as a circle.\n",
    "ax1.axis('equal')  \n",
    "\n",
    "plt.show()"
   ]
  },
  {
   "cell_type": "markdown",
   "metadata": {},
   "source": [
    "# Show 90% Train Data Split"
   ]
  },
  {
   "cell_type": "code",
   "execution_count": 51,
   "metadata": {},
   "outputs": [
    {
     "data": {
      "text/plain": [
       "(534, 16)"
      ]
     },
     "execution_count": 51,
     "metadata": {},
     "output_type": "execute_result"
    }
   ],
   "source": [
    "df_train.shape"
   ]
  },
  {
   "cell_type": "code",
   "execution_count": 31,
   "metadata": {},
   "outputs": [
    {
     "data": {
      "text/plain": [
       "<matplotlib.axes._subplots.AxesSubplot at 0x7fd1a41e6b38>"
      ]
     },
     "execution_count": 31,
     "metadata": {},
     "output_type": "execute_result"
    },
    {
     "data": {
      "image/png": "[encoded data removed]",
      "text/plain": [
       "<Figure size 432x288 with 1 Axes>"
      ]
     },
     "metadata": {
      "image/png": {
       "height": 274,
       "width": 375
      },
      "needs_background": "light"
     },
     "output_type": "display_data"
    }
   ],
   "source": [
    "df_train[['ifa', 'label']].groupby('label').count().plot(kind='bar', title='90% Train Breakdown by Gender Label')"
   ]
  },
  {
   "cell_type": "markdown",
   "metadata": {},
   "source": [
    "# Show 5% Validation Data Split"
   ]
  },
  {
   "cell_type": "code",
   "execution_count": 32,
   "metadata": {},
   "outputs": [
    {
     "data": {
      "text/plain": [
       "(30, 16)"
      ]
     },
     "execution_count": 32,
     "metadata": {},
     "output_type": "execute_result"
    }
   ],
   "source": [
    "df_validation.shape"
   ]
  },
  {
   "cell_type": "code",
   "execution_count": 34,
   "metadata": {},
   "outputs": [
    {
     "data": {
      "text/plain": [
       "<matplotlib.axes._subplots.AxesSubplot at 0x7fd1a411ccf8>"
      ]
     },
     "execution_count": 34,
     "metadata": {},
     "output_type": "execute_result"
    },
    {
     "data": {
      "image/png": "[encoded data removed]",
      "text/plain": [
       "<Figure size 432x288 with 1 Axes>"
      ]
     },
     "metadata": {
      "image/png": {
       "height": 274,
       "width": 375
      },
      "needs_background": "light"
     },
     "output_type": "display_data"
    }
   ],
   "source": [
    "df_train[['ifa', 'label']].groupby('label').count().plot(kind='bar', title='5% Validation Breakdown by Gender Label')"
   ]
  },
  {
   "cell_type": "markdown",
   "metadata": {},
   "source": [
    "# Show 5% Test Data Split"
   ]
  },
  {
   "cell_type": "code",
   "execution_count": 35,
   "metadata": {},
   "outputs": [
    {
     "data": {
      "text/plain": [
       "(30, 16)"
      ]
     },
     "execution_count": 35,
     "metadata": {},
     "output_type": "execute_result"
    }
   ],
   "source": [
    "df_test.shape"
   ]
  },
  {
   "cell_type": "code",
   "execution_count": 36,
   "metadata": {},
   "outputs": [
    {
     "data": {
      "text/plain": [
       "<matplotlib.axes._subplots.AxesSubplot at 0x7fd1a4103e10>"
      ]
     },
     "execution_count": 36,
     "metadata": {},
     "output_type": "execute_result"
    },
    {
     "data": {
      "image/png": "[encoded data removed]",
      "text/plain": [
       "<Figure size 432x288 with 1 Axes>"
      ]
     },
     "metadata": {
      "image/png": {
       "height": 274,
       "width": 375
      },
      "needs_background": "light"
     },
     "output_type": "display_data"
    }
   ],
   "source": [
    "df_train[['ifa', 'label']].groupby('label').count().plot(kind='bar', title='5% Test Breakdown by Gender Label')"
   ]
  },
  {
   "cell_type": "markdown",
   "metadata": {},
   "source": [
    "# Select `label` and `features` for Training"
   ]
  },
  {
   "cell_type": "code",
   "execution_count": 52,
   "metadata": {},
   "outputs": [
    {
     "data": {
      "text/plain": [
       "(534, 14)"
      ]
     },
     "execution_count": 52,
     "metadata": {},
     "output_type": "execute_result"
    }
   ],
   "source": [
    "df_train = df_train.drop(['classWeightCol','features'],axis = 1)\n",
    "df_train.shape"
   ]
  },
  {
   "cell_type": "code",
   "execution_count": 53,
   "metadata": {},
   "outputs": [
    {
     "data": {
      "text/html": [
       "<div>\n",
       "<style scoped>\n",
       "    .dataframe tbody tr th:only-of-type {\n",
       "        vertical-align: middle;\n",
       "    }\n",
       "\n",
       "    .dataframe tbody tr th {\n",
       "        vertical-align: top;\n",
       "    }\n",
       "\n",
       "    .dataframe thead th {\n",
       "        text-align: right;\n",
       "    }\n",
       "</style>\n",
       "<table border=\"1\" class=\"dataframe\">\n",
       "  <thead>\n",
       "    <tr style=\"text-align: right;\">\n",
       "      <th></th>\n",
       "      <th>ifa</th>\n",
       "      <th>label</th>\n",
       "      <th>bundle_vec</th>\n",
       "      <th>persona_segment_vec</th>\n",
       "      <th>persona_L1_vec</th>\n",
       "      <th>persona_L2_vec</th>\n",
       "      <th>persona_L3_vec</th>\n",
       "      <th>device_vendor_vec</th>\n",
       "      <th>device_name_vec</th>\n",
       "      <th>device_manufacturer_vec</th>\n",
       "      <th>device_model_vec</th>\n",
       "      <th>device_year_of_release_vec</th>\n",
       "      <th>dev_platform_vec</th>\n",
       "      <th>major_os_vec</th>\n",
       "    </tr>\n",
       "  </thead>\n",
       "  <tbody>\n",
       "    <tr>\n",
       "      <th>433</th>\n",
       "      <td>2b93850e-7541-4c62-a72e-2d8dc3237f7b</td>\n",
       "      <td>1</td>\n",
       "      <td>{'type': 0, 'size': 8062, 'indices': [0, 1, 35...</td>\n",
       "      <td>{'type': 0, 'size': 57, 'indices': [1, 2, 3, 5...</td>\n",
       "      <td>{'type': 0, 'size': 19, 'indices': [0, 1, 2], ...</td>\n",
       "      <td>{'type': 0, 'size': 85, 'indices': [0, 1, 2, 1...</td>\n",
       "      <td>{'type': 0, 'size': 60, 'indices': [0, 1], 'va...</td>\n",
       "      <td>{'type': 0, 'size': 20, 'indices': [0], 'value...</td>\n",
       "      <td>{'type': 0, 'size': 256, 'indices': [8], 'valu...</td>\n",
       "      <td>{'type': 0, 'size': 20, 'indices': [0], 'value...</td>\n",
       "      <td>{'type': 0, 'size': 487, 'indices': [8], 'valu...</td>\n",
       "      <td>{'type': 0, 'size': 7, 'indices': [0], 'values...</td>\n",
       "      <td>{'type': 0, 'size': 2, 'indices': [0], 'values...</td>\n",
       "      <td>{'type': 0, 'size': 7, 'indices': [0], 'values...</td>\n",
       "    </tr>\n",
       "    <tr>\n",
       "      <th>77</th>\n",
       "      <td>98980d85-2ab8-4174-830d-bf153e924cb6</td>\n",
       "      <td>0</td>\n",
       "      <td>{'type': 0, 'size': 8062, 'indices': [2, 7, 19...</td>\n",
       "      <td>{'type': 0, 'size': 57, 'indices': [0, 12, 15,...</td>\n",
       "      <td>{'type': 0, 'size': 19, 'indices': [0, 5], 'va...</td>\n",
       "      <td>{'type': 0, 'size': 85, 'indices': [0, 19], 'v...</td>\n",
       "      <td>{'type': 0, 'size': 60, 'indices': [], 'values...</td>\n",
       "      <td>{'type': 0, 'size': 20, 'indices': [3], 'value...</td>\n",
       "      <td>{'type': 0, 'size': 256, 'indices': [162], 'va...</td>\n",
       "      <td>{'type': 0, 'size': 20, 'indices': [3], 'value...</td>\n",
       "      <td>{'type': 0, 'size': 487, 'indices': [328], 'va...</td>\n",
       "      <td>{'type': 0, 'size': 7, 'indices': [4], 'values...</td>\n",
       "      <td>{'type': 0, 'size': 2, 'indices': [0], 'values...</td>\n",
       "      <td>{'type': 0, 'size': 7, 'indices': [5], 'values...</td>\n",
       "    </tr>\n",
       "    <tr>\n",
       "      <th>207</th>\n",
       "      <td>c5f1edc8-4450-47de-96cc-e916c6537b04</td>\n",
       "      <td>0</td>\n",
       "      <td>{'type': 0, 'size': 8062, 'indices': [0, 18, 6...</td>\n",
       "      <td>{'type': 0, 'size': 57, 'indices': [1, 3, 16, ...</td>\n",
       "      <td>{'type': 0, 'size': 19, 'indices': [0, 1, 5, 7...</td>\n",
       "      <td>{'type': 0, 'size': 85, 'indices': [0, 2, 8, 9...</td>\n",
       "      <td>{'type': 0, 'size': 60, 'indices': [0, 5, 6], ...</td>\n",
       "      <td>{'type': 0, 'size': 20, 'indices': [], 'values...</td>\n",
       "      <td>{'type': 0, 'size': 256, 'indices': [], 'value...</td>\n",
       "      <td>{'type': 0, 'size': 20, 'indices': [], 'values...</td>\n",
       "      <td>{'type': 0, 'size': 487, 'indices': [196], 'va...</td>\n",
       "      <td>{'type': 0, 'size': 7, 'indices': [], 'values'...</td>\n",
       "      <td>{'type': 0, 'size': 2, 'indices': [0], 'values...</td>\n",
       "      <td>{'type': 0, 'size': 7, 'indices': [2], 'values...</td>\n",
       "    </tr>\n",
       "    <tr>\n",
       "      <th>130</th>\n",
       "      <td>43d07c1d-56fa-4f79-82a6-b4ba9630bda7</td>\n",
       "      <td>0</td>\n",
       "      <td>{'type': 0, 'size': 8062, 'indices': [17, 91, ...</td>\n",
       "      <td>{'type': 0, 'size': 57, 'indices': [0, 8, 16, ...</td>\n",
       "      <td>{'type': 0, 'size': 19, 'indices': [0, 8, 9, 1...</td>\n",
       "      <td>{'type': 0, 'size': 85, 'indices': [5, 8, 9, 2...</td>\n",
       "      <td>{'type': 0, 'size': 60, 'indices': [5, 12], 'v...</td>\n",
       "      <td>{'type': 0, 'size': 20, 'indices': [], 'values...</td>\n",
       "      <td>{'type': 0, 'size': 256, 'indices': [], 'value...</td>\n",
       "      <td>{'type': 0, 'size': 20, 'indices': [], 'values...</td>\n",
       "      <td>{'type': 0, 'size': 487, 'indices': [234], 'va...</td>\n",
       "      <td>{'type': 0, 'size': 7, 'indices': [], 'values'...</td>\n",
       "      <td>{'type': 0, 'size': 2, 'indices': [0], 'values...</td>\n",
       "      <td>{'type': 0, 'size': 7, 'indices': [2], 'values...</td>\n",
       "    </tr>\n",
       "    <tr>\n",
       "      <th>344</th>\n",
       "      <td>674e5aa3-c40a-4df0-baa1-a136503cf390</td>\n",
       "      <td>1</td>\n",
       "      <td>{'type': 0, 'size': 8062, 'indices': [15, 27, ...</td>\n",
       "      <td>{'type': 0, 'size': 57, 'indices': [8, 11, 17,...</td>\n",
       "      <td>{'type': 0, 'size': 19, 'indices': [4], 'value...</td>\n",
       "      <td>{'type': 0, 'size': 85, 'indices': [7], 'value...</td>\n",
       "      <td>{'type': 0, 'size': 60, 'indices': [], 'values...</td>\n",
       "      <td>{'type': 0, 'size': 20, 'indices': [1], 'value...</td>\n",
       "      <td>{'type': 0, 'size': 256, 'indices': [0], 'valu...</td>\n",
       "      <td>{'type': 0, 'size': 20, 'indices': [1], 'value...</td>\n",
       "      <td>{'type': 0, 'size': 487, 'indices': [83], 'val...</td>\n",
       "      <td>{'type': 0, 'size': 7, 'indices': [1], 'values...</td>\n",
       "      <td>{'type': 0, 'size': 2, 'indices': [0], 'values...</td>\n",
       "      <td>{'type': 0, 'size': 7, 'indices': [0], 'values...</td>\n",
       "    </tr>\n",
       "  </tbody>\n",
       "</table>\n",
       "</div>"
      ],
      "text/plain": [
       "                                      ifa  label  \\\n",
       "433  2b93850e-7541-4c62-a72e-2d8dc3237f7b      1   \n",
       "77   98980d85-2ab8-4174-830d-bf153e924cb6      0   \n",
       "207  c5f1edc8-4450-47de-96cc-e916c6537b04      0   \n",
       "130  43d07c1d-56fa-4f79-82a6-b4ba9630bda7      0   \n",
       "344  674e5aa3-c40a-4df0-baa1-a136503cf390      1   \n",
       "\n",
       "                                            bundle_vec  \\\n",
       "433  {'type': 0, 'size': 8062, 'indices': [0, 1, 35...   \n",
       "77   {'type': 0, 'size': 8062, 'indices': [2, 7, 19...   \n",
       "207  {'type': 0, 'size': 8062, 'indices': [0, 18, 6...   \n",
       "130  {'type': 0, 'size': 8062, 'indices': [17, 91, ...   \n",
       "344  {'type': 0, 'size': 8062, 'indices': [15, 27, ...   \n",
       "\n",
       "                                   persona_segment_vec  \\\n",
       "433  {'type': 0, 'size': 57, 'indices': [1, 2, 3, 5...   \n",
       "77   {'type': 0, 'size': 57, 'indices': [0, 12, 15,...   \n",
       "207  {'type': 0, 'size': 57, 'indices': [1, 3, 16, ...   \n",
       "130  {'type': 0, 'size': 57, 'indices': [0, 8, 16, ...   \n",
       "344  {'type': 0, 'size': 57, 'indices': [8, 11, 17,...   \n",
       "\n",
       "                                        persona_L1_vec  \\\n",
       "433  {'type': 0, 'size': 19, 'indices': [0, 1, 2], ...   \n",
       "77   {'type': 0, 'size': 19, 'indices': [0, 5], 'va...   \n",
       "207  {'type': 0, 'size': 19, 'indices': [0, 1, 5, 7...   \n",
       "130  {'type': 0, 'size': 19, 'indices': [0, 8, 9, 1...   \n",
       "344  {'type': 0, 'size': 19, 'indices': [4], 'value...   \n",
       "\n",
       "                                        persona_L2_vec  \\\n",
       "433  {'type': 0, 'size': 85, 'indices': [0, 1, 2, 1...   \n",
       "77   {'type': 0, 'size': 85, 'indices': [0, 19], 'v...   \n",
       "207  {'type': 0, 'size': 85, 'indices': [0, 2, 8, 9...   \n",
       "130  {'type': 0, 'size': 85, 'indices': [5, 8, 9, 2...   \n",
       "344  {'type': 0, 'size': 85, 'indices': [7], 'value...   \n",
       "\n",
       "                                        persona_L3_vec  \\\n",
       "433  {'type': 0, 'size': 60, 'indices': [0, 1], 'va...   \n",
       "77   {'type': 0, 'size': 60, 'indices': [], 'values...   \n",
       "207  {'type': 0, 'size': 60, 'indices': [0, 5, 6], ...   \n",
       "130  {'type': 0, 'size': 60, 'indices': [5, 12], 'v...   \n",
       "344  {'type': 0, 'size': 60, 'indices': [], 'values...   \n",
       "\n",
       "                                     device_vendor_vec  \\\n",
       "433  {'type': 0, 'size': 20, 'indices': [0], 'value...   \n",
       "77   {'type': 0, 'size': 20, 'indices': [3], 'value...   \n",
       "207  {'type': 0, 'size': 20, 'indices': [], 'values...   \n",
       "130  {'type': 0, 'size': 20, 'indices': [], 'values...   \n",
       "344  {'type': 0, 'size': 20, 'indices': [1], 'value...   \n",
       "\n",
       "                                       device_name_vec  \\\n",
       "433  {'type': 0, 'size': 256, 'indices': [8], 'valu...   \n",
       "77   {'type': 0, 'size': 256, 'indices': [162], 'va...   \n",
       "207  {'type': 0, 'size': 256, 'indices': [], 'value...   \n",
       "130  {'type': 0, 'size': 256, 'indices': [], 'value...   \n",
       "344  {'type': 0, 'size': 256, 'indices': [0], 'valu...   \n",
       "\n",
       "                               device_manufacturer_vec  \\\n",
       "433  {'type': 0, 'size': 20, 'indices': [0], 'value...   \n",
       "77   {'type': 0, 'size': 20, 'indices': [3], 'value...   \n",
       "207  {'type': 0, 'size': 20, 'indices': [], 'values...   \n",
       "130  {'type': 0, 'size': 20, 'indices': [], 'values...   \n",
       "344  {'type': 0, 'size': 20, 'indices': [1], 'value...   \n",
       "\n",
       "                                      device_model_vec  \\\n",
       "433  {'type': 0, 'size': 487, 'indices': [8], 'valu...   \n",
       "77   {'type': 0, 'size': 487, 'indices': [328], 'va...   \n",
       "207  {'type': 0, 'size': 487, 'indices': [196], 'va...   \n",
       "130  {'type': 0, 'size': 487, 'indices': [234], 'va...   \n",
       "344  {'type': 0, 'size': 487, 'indices': [83], 'val...   \n",
       "\n",
       "                            device_year_of_release_vec  \\\n",
       "433  {'type': 0, 'size': 7, 'indices': [0], 'values...   \n",
       "77   {'type': 0, 'size': 7, 'indices': [4], 'values...   \n",
       "207  {'type': 0, 'size': 7, 'indices': [], 'values'...   \n",
       "130  {'type': 0, 'size': 7, 'indices': [], 'values'...   \n",
       "344  {'type': 0, 'size': 7, 'indices': [1], 'values...   \n",
       "\n",
       "                                      dev_platform_vec  \\\n",
       "433  {'type': 0, 'size': 2, 'indices': [0], 'values...   \n",
       "77   {'type': 0, 'size': 2, 'indices': [0], 'values...   \n",
       "207  {'type': 0, 'size': 2, 'indices': [0], 'values...   \n",
       "130  {'type': 0, 'size': 2, 'indices': [0], 'values...   \n",
       "344  {'type': 0, 'size': 2, 'indices': [0], 'values...   \n",
       "\n",
       "                                          major_os_vec  \n",
       "433  {'type': 0, 'size': 7, 'indices': [0], 'values...  \n",
       "77   {'type': 0, 'size': 7, 'indices': [5], 'values...  \n",
       "207  {'type': 0, 'size': 7, 'indices': [2], 'values...  \n",
       "130  {'type': 0, 'size': 7, 'indices': [2], 'values...  \n",
       "344  {'type': 0, 'size': 7, 'indices': [0], 'values...  "
      ]
     },
     "execution_count": 53,
     "metadata": {},
     "output_type": "execute_result"
    }
   ],
   "source": [
    "df_train.head(5)"
   ]
  },
  {
   "cell_type": "markdown",
   "metadata": {},
   "source": [
    "# Write a Train CSV with Header for Autopilot "
   ]
  },
  {
   "cell_type": "code",
   "execution_count": 54,
   "metadata": {},
   "outputs": [],
   "source": [
    "autopilot_train_path = './train_data.csv'\n",
    "df_train.to_csv(autopilot_train_path, index=False, header=True)"
   ]
  },
  {
   "cell_type": "markdown",
   "metadata": {},
   "source": [
    "# Upload Train Data to S3 for Autopilot"
   ]
  },
  {
   "cell_type": "code",
   "execution_count": 55,
   "metadata": {},
   "outputs": [
    {
     "data": {
      "text/plain": [
       "'s3://ada-dev/xiaotian/ml/autopilot/data/train_data.csv'"
      ]
     },
     "execution_count": 55,
     "metadata": {},
     "output_type": "execute_result"
    }
   ],
   "source": [
    "train_s3_prefix = 'xiaotian/ml/autopilot/data'\n",
    "bucket = \"ada-dev\"\n",
    "autopilot_train_s3_uri = sess.upload_data(path=autopilot_train_path,bucket = bucket, key_prefix=train_s3_prefix)\n",
    "autopilot_train_s3_uri"
   ]
  },
  {
   "cell_type": "code",
   "execution_count": 56,
   "metadata": {},
   "outputs": [
    {
     "name": "stdout",
     "output_type": "stream",
     "text": [
      "2020-11-13 09:17:30     661027 train_data.csv\n"
     ]
    }
   ],
   "source": [
    "!aws s3 ls $autopilot_train_s3_uri"
   ]
  },
  {
   "cell_type": "markdown",
   "metadata": {},
   "source": [
    "# Store Variables for Next Notebook(s)"
   ]
  },
  {
   "cell_type": "code",
   "execution_count": 44,
   "metadata": {},
   "outputs": [
    {
     "data": {
      "text/plain": [
       "'s3://ada-dev/xiaotian/ml/autopilot/data/train_data.csv'"
      ]
     },
     "execution_count": 44,
     "metadata": {},
     "output_type": "execute_result"
    }
   ],
   "source": [
    "autopilot_train_s3_uri"
   ]
  },
  {
   "cell_type": "code",
   "execution_count": 45,
   "metadata": {},
   "outputs": [
    {
     "name": "stdout",
     "output_type": "stream",
     "text": [
      "Stored 'autopilot_train_s3_uri' (str)\n"
     ]
    }
   ],
   "source": [
    "%store autopilot_train_s3_uri"
   ]
  },
  {
   "cell_type": "code",
   "execution_count": 46,
   "metadata": {},
   "outputs": [
    {
     "name": "stdout",
     "output_type": "stream",
     "text": [
      "Stored variables and their in-db values:\n",
      "autopilot_train_s3_uri             -> 's3://ada-dev/xiaotian/ml/autopilot/data/train_dat\n"
     ]
    }
   ],
   "source": [
    "%store"
   ]
  },
  {
   "cell_type": "code",
   "execution_count": null,
   "metadata": {},
   "outputs": [],
   "source": [
    "%%javascript\n",
    "Jupyter.notebook.save_checkpoint();\n",
    "Jupyter.notebook.session.delete();"
   ]
  }
 ],
 "metadata": {
  "kernelspec": {
   "display_name": "conda_python3",
   "language": "python",
   "name": "conda_python3"
  },
  "language_info": {
   "codemirror_mode": {
    "name": "ipython",
    "version": 3
   },
   "file_extension": ".py",
   "mimetype": "text/x-python",
   "name": "python",
   "nbconvert_exporter": "python",
   "pygments_lexer": "ipython3",
   "version": "3.6.10"
  }
 },
 "nbformat": 4,
 "nbformat_minor": 4
}
