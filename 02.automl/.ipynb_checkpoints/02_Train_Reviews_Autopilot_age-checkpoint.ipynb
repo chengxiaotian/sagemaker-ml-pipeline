{
 "cells": [
  {
   "cell_type": "markdown",
   "metadata": {},
   "source": [
    "# NOTE:  THIS NOTEBOOK RUNS FOR 30+ MINUTES.  \n",
    "\n",
    "# PLEASE BE PATIENT"
   ]
  },
  {
   "cell_type": "markdown",
   "metadata": {},
   "source": [
    "# Train a Model with SageMaker Autopilot\n",
    "\n",
    "We will use Autopilot to predict the gender of the record. Autopilot implements a transparent approach to AutoML. \n",
    "\n",
    "For more details on Autopilot, have a look at this [**Amazon Science Publication**](https://www.amazon.science/publications/amazon-sagemaker-autopilot-a-white-box-automl-solution-at-scale).\n",
    "\n",
    "[![](img/amazon_science.png)](https://www.amazon.science/publications/amazon-sagemaker-autopilot-a-white-box-automl-solution-at-scale)\n"
   ]
  },
  {
   "cell_type": "markdown",
   "metadata": {},
   "source": [
    "<img src=\"img/autopilot-transparent.png\" width=\"80%\" align=\"left\">"
   ]
  },
  {
   "cell_type": "markdown",
   "metadata": {},
   "source": [
    "# Introduction"
   ]
  },
  {
   "cell_type": "markdown",
   "metadata": {},
   "source": [
    "Amazon SageMaker Autopilot is a service to perform automated machine learning (AutoML) on your datasets.  Autopilot is available through the UI or AWS SDK.  In this notebook, we will use the AWS SDK to create and deploy a text processing and star rating classification machine learning pipeline."
   ]
  },
  {
   "cell_type": "markdown",
   "metadata": {},
   "source": [
    "# Setup\n",
    "\n",
    "Let's start by specifying:\n",
    "\n",
    "* The S3 bucket and prefix to use to train our model.  _Note:  This should be in the same region as this notebook._\n",
    "* The IAM role of this notebook needs access to your data."
   ]
  },
  {
   "cell_type": "markdown",
   "metadata": {},
   "source": [
    "# Notes\n",
    "* This notebook will take some time to finish. \n",
    "\n",
    "* You can start this notebook and continue to the next notebooks whenever you are waiting for the current notebook to finish."
   ]
  },
  {
   "cell_type": "markdown",
   "metadata": {},
   "source": [
    "# Checking Pre-Requisites From Previous Notebook"
   ]
  },
  {
   "cell_type": "code",
   "execution_count": 1,
   "metadata": {},
   "outputs": [],
   "source": [
    "%store -r autopilot_train_s3_uri"
   ]
  },
  {
   "cell_type": "code",
   "execution_count": 2,
   "metadata": {},
   "outputs": [
    {
     "name": "stdout",
     "output_type": "stream",
     "text": [
      "[OK]\n"
     ]
    }
   ],
   "source": [
    "try:\n",
    "    autopilot_train_s3_uri\n",
    "    print('[OK]')\n",
    "except NameError:\n",
    "    print('+++++++++++++++++++++++++++++++++++++++++++++++++++++++++++++++++++++')\n",
    "    print('[ERROR] PLEASE RUN THE PREVIOUS 01_PREPARE_DATASET_AUTOPILOT NOTEBOOK.')\n",
    "    print('+++++++++++++++++++++++++++++++++++++++++++++++++++++++++++++++++++++')"
   ]
  },
  {
   "cell_type": "code",
   "execution_count": 3,
   "metadata": {},
   "outputs": [
    {
     "name": "stdout",
     "output_type": "stream",
     "text": [
      "s3://ada-dev/xiaotian/ml/autopilot/data/train_data.csv\n"
     ]
    }
   ],
   "source": [
    "print(autopilot_train_s3_uri)"
   ]
  },
  {
   "cell_type": "code",
   "execution_count": null,
   "metadata": {},
   "outputs": [],
   "source": [
    "if not autopilot_train_s3_uri:\n",
    "    print('+++++++++++++++++++++++++++++++++++++++++++++++++++++++++++++++++++++')\n",
    "    print('[ERROR] PLEASE RUN THE PREVIOUS 01_PREPARE_DATASET_AUTOPILOT NOTEBOOK.')\n",
    "    print('+++++++++++++++++++++++++++++++++++++++++++++++++++++++++++++++++++++')\n",
    "else:\n",
    "    print('[OK]')"
   ]
  },
  {
   "cell_type": "code",
   "execution_count": 4,
   "metadata": {},
   "outputs": [],
   "source": [
    "import boto3\n",
    "import sagemaker\n",
    "import pandas as pd\n",
    "import json\n",
    "\n",
    "sess   = sagemaker.Session(default_bucket = \"ada-dev\")\n",
    "bucket = sess.default_bucket()\n",
    "role = sagemaker.get_execution_role()\n",
    "region = boto3.Session().region_name\n",
    "\n",
    "sm = boto3.Session().client(service_name='sagemaker', region_name=region)"
   ]
  },
  {
   "cell_type": "code",
   "execution_count": 5,
   "metadata": {},
   "outputs": [],
   "source": [
    "bucket = sess.default_bucket()"
   ]
  },
  {
   "cell_type": "code",
   "execution_count": 6,
   "metadata": {},
   "outputs": [
    {
     "data": {
      "text/plain": [
       "'ada-dev'"
      ]
     },
     "execution_count": 6,
     "metadata": {},
     "output_type": "execute_result"
    }
   ],
   "source": [
    "bucket"
   ]
  },
  {
   "cell_type": "markdown",
   "metadata": {},
   "source": [
    "# Training Data"
   ]
  },
  {
   "cell_type": "code",
   "execution_count": 56,
   "metadata": {},
   "outputs": [
    {
     "name": "stdout",
     "output_type": "stream",
     "text": [
      "2020-11-13 09:17:30     661027 train_data.csv\n"
     ]
    }
   ],
   "source": [
    "!aws s3 ls $autopilot_train_s3_uri"
   ]
  },
  {
   "cell_type": "markdown",
   "metadata": {},
   "source": [
    "## See our prepared training data which we use as input for Autopilot"
   ]
  },
  {
   "cell_type": "code",
   "execution_count": 55,
   "metadata": {},
   "outputs": [
    {
     "name": "stdout",
     "output_type": "stream",
     "text": [
      "download: s3://ada-dev/xiaotian/ml/autopilot/data/train_data.csv to tmp/train_data.csv\n"
     ]
    }
   ],
   "source": [
    "!aws s3 cp $autopilot_train_s3_uri ./tmp/"
   ]
  },
  {
   "cell_type": "code",
   "execution_count": 7,
   "metadata": {},
   "outputs": [
    {
     "data": {
      "text/html": [
       "<div>\n",
       "<style scoped>\n",
       "    .dataframe tbody tr th:only-of-type {\n",
       "        vertical-align: middle;\n",
       "    }\n",
       "\n",
       "    .dataframe tbody tr th {\n",
       "        vertical-align: top;\n",
       "    }\n",
       "\n",
       "    .dataframe thead th {\n",
       "        text-align: right;\n",
       "    }\n",
       "</style>\n",
       "<table border=\"1\" class=\"dataframe\">\n",
       "  <thead>\n",
       "    <tr style=\"text-align: right;\">\n",
       "      <th></th>\n",
       "      <th>ifa</th>\n",
       "      <th>bundle_vec</th>\n",
       "      <th>persona_segment_vec</th>\n",
       "      <th>persona_L1_vec</th>\n",
       "      <th>persona_L2_vec</th>\n",
       "      <th>persona_L3_vec</th>\n",
       "      <th>device_vendor_vec</th>\n",
       "      <th>device_name_vec</th>\n",
       "      <th>device_manufacturer_vec</th>\n",
       "      <th>device_model_vec</th>\n",
       "      <th>device_year_of_release_vec</th>\n",
       "      <th>dev_platform_vec</th>\n",
       "      <th>major_os_vec</th>\n",
       "      <th>label_int</th>\n",
       "    </tr>\n",
       "  </thead>\n",
       "  <tbody>\n",
       "    <tr>\n",
       "      <th>0</th>\n",
       "      <td>0618c523-1889-4b20-82fc-246c78718689</td>\n",
       "      <td>{'type': 0, 'size': 7900, 'indices': array([  ...</td>\n",
       "      <td>{'type': 0, 'size': 57, 'indices': array([ 0, ...</td>\n",
       "      <td>{'type': 0, 'size': 19, 'indices': array([ 7, ...</td>\n",
       "      <td>{'type': 0, 'size': 85, 'indices': array([ 8, ...</td>\n",
       "      <td>{'type': 0, 'size': 60, 'indices': array([8], ...</td>\n",
       "      <td>{'type': 0, 'size': 21, 'indices': array([1], ...</td>\n",
       "      <td>{'type': 0, 'size': 249, 'indices': array([0],...</td>\n",
       "      <td>{'type': 0, 'size': 21, 'indices': array([1], ...</td>\n",
       "      <td>{'type': 0, 'size': 475, 'indices': array([89]...</td>\n",
       "      <td>{'type': 0, 'size': 7, 'indices': array([3], d...</td>\n",
       "      <td>{'type': 0, 'size': 2, 'indices': array([0], d...</td>\n",
       "      <td>{'type': 0, 'size': 7, 'indices': array([2], d...</td>\n",
       "      <td>3</td>\n",
       "    </tr>\n",
       "    <tr>\n",
       "      <th>1</th>\n",
       "      <td>15af96ba-3fe0-4833-a280-c19194a29d80</td>\n",
       "      <td>{'type': 0, 'size': 7900, 'indices': array([  ...</td>\n",
       "      <td>{'type': 0, 'size': 57, 'indices': array([0, 3...</td>\n",
       "      <td>{'type': 0, 'size': 19, 'indices': array([0], ...</td>\n",
       "      <td>{'type': 0, 'size': 85, 'indices': array([1], ...</td>\n",
       "      <td>{'type': 0, 'size': 60, 'indices': array([], d...</td>\n",
       "      <td>{'type': 0, 'size': 21, 'indices': array([0], ...</td>\n",
       "      <td>{'type': 0, 'size': 249, 'indices': array([2],...</td>\n",
       "      <td>{'type': 0, 'size': 21, 'indices': array([0], ...</td>\n",
       "      <td>{'type': 0, 'size': 475, 'indices': array([1],...</td>\n",
       "      <td>{'type': 0, 'size': 7, 'indices': array([0], d...</td>\n",
       "      <td>{'type': 0, 'size': 2, 'indices': array([0], d...</td>\n",
       "      <td>{'type': 0, 'size': 7, 'indices': array([0], d...</td>\n",
       "      <td>3</td>\n",
       "    </tr>\n",
       "    <tr>\n",
       "      <th>2</th>\n",
       "      <td>2c4ede0c-32ef-4c69-964c-545bacc2fdef</td>\n",
       "      <td>{'type': 0, 'size': 7900, 'indices': array([  ...</td>\n",
       "      <td>{'type': 0, 'size': 57, 'indices': array([ 0, ...</td>\n",
       "      <td>{'type': 0, 'size': 19, 'indices': array([ 1, ...</td>\n",
       "      <td>{'type': 0, 'size': 85, 'indices': array([ 2, ...</td>\n",
       "      <td>{'type': 0, 'size': 60, 'indices': array([0], ...</td>\n",
       "      <td>{'type': 0, 'size': 21, 'indices': array([4], ...</td>\n",
       "      <td>{'type': 0, 'size': 249, 'indices': array([49]...</td>\n",
       "      <td>{'type': 0, 'size': 21, 'indices': array([4], ...</td>\n",
       "      <td>{'type': 0, 'size': 475, 'indices': array([67]...</td>\n",
       "      <td>{'type': 0, 'size': 7, 'indices': array([1], d...</td>\n",
       "      <td>{'type': 0, 'size': 2, 'indices': array([0], d...</td>\n",
       "      <td>{'type': 0, 'size': 7, 'indices': array([0], d...</td>\n",
       "      <td>1</td>\n",
       "    </tr>\n",
       "    <tr>\n",
       "      <th>3</th>\n",
       "      <td>80bdfeba-5cb0-414a-87a6-aac24451a20a</td>\n",
       "      <td>{'type': 0, 'size': 7900, 'indices': array([  ...</td>\n",
       "      <td>{'type': 0, 'size': 57, 'indices': array([ 0, ...</td>\n",
       "      <td>{'type': 0, 'size': 19, 'indices': array([ 0, ...</td>\n",
       "      <td>{'type': 0, 'size': 85, 'indices': array([ 3, ...</td>\n",
       "      <td>{'type': 0, 'size': 60, 'indices': array([4], ...</td>\n",
       "      <td>{'type': 0, 'size': 21, 'indices': array([0], ...</td>\n",
       "      <td>{'type': 0, 'size': 249, 'indices': array([3],...</td>\n",
       "      <td>{'type': 0, 'size': 21, 'indices': array([0], ...</td>\n",
       "      <td>{'type': 0, 'size': 475, 'indices': array([2],...</td>\n",
       "      <td>{'type': 0, 'size': 7, 'indices': array([0], d...</td>\n",
       "      <td>{'type': 0, 'size': 2, 'indices': array([0], d...</td>\n",
       "      <td>{'type': 0, 'size': 7, 'indices': array([0], d...</td>\n",
       "      <td>3</td>\n",
       "    </tr>\n",
       "    <tr>\n",
       "      <th>4</th>\n",
       "      <td>ad0a78ef-f66b-4da4-a2b2-495b07d1ebf3</td>\n",
       "      <td>{'type': 0, 'size': 7900, 'indices': array([  ...</td>\n",
       "      <td>{'type': 0, 'size': 57, 'indices': array([ 0, ...</td>\n",
       "      <td>{'type': 0, 'size': 19, 'indices': array([ 3, ...</td>\n",
       "      <td>{'type': 0, 'size': 85, 'indices': array([ 3, ...</td>\n",
       "      <td>{'type': 0, 'size': 60, 'indices': array([], d...</td>\n",
       "      <td>{'type': 0, 'size': 21, 'indices': array([1], ...</td>\n",
       "      <td>{'type': 0, 'size': 249, 'indices': array([0],...</td>\n",
       "      <td>{'type': 0, 'size': 21, 'indices': array([1], ...</td>\n",
       "      <td>{'type': 0, 'size': 475, 'indices': array([27]...</td>\n",
       "      <td>{'type': 0, 'size': 7, 'indices': array([2], d...</td>\n",
       "      <td>{'type': 0, 'size': 2, 'indices': array([0], d...</td>\n",
       "      <td>{'type': 0, 'size': 7, 'indices': array([0], d...</td>\n",
       "      <td>1</td>\n",
       "    </tr>\n",
       "  </tbody>\n",
       "</table>\n",
       "</div>"
      ],
      "text/plain": [
       "                                    ifa  \\\n",
       "0  0618c523-1889-4b20-82fc-246c78718689   \n",
       "1  15af96ba-3fe0-4833-a280-c19194a29d80   \n",
       "2  2c4ede0c-32ef-4c69-964c-545bacc2fdef   \n",
       "3  80bdfeba-5cb0-414a-87a6-aac24451a20a   \n",
       "4  ad0a78ef-f66b-4da4-a2b2-495b07d1ebf3   \n",
       "\n",
       "                                          bundle_vec  \\\n",
       "0  {'type': 0, 'size': 7900, 'indices': array([  ...   \n",
       "1  {'type': 0, 'size': 7900, 'indices': array([  ...   \n",
       "2  {'type': 0, 'size': 7900, 'indices': array([  ...   \n",
       "3  {'type': 0, 'size': 7900, 'indices': array([  ...   \n",
       "4  {'type': 0, 'size': 7900, 'indices': array([  ...   \n",
       "\n",
       "                                 persona_segment_vec  \\\n",
       "0  {'type': 0, 'size': 57, 'indices': array([ 0, ...   \n",
       "1  {'type': 0, 'size': 57, 'indices': array([0, 3...   \n",
       "2  {'type': 0, 'size': 57, 'indices': array([ 0, ...   \n",
       "3  {'type': 0, 'size': 57, 'indices': array([ 0, ...   \n",
       "4  {'type': 0, 'size': 57, 'indices': array([ 0, ...   \n",
       "\n",
       "                                      persona_L1_vec  \\\n",
       "0  {'type': 0, 'size': 19, 'indices': array([ 7, ...   \n",
       "1  {'type': 0, 'size': 19, 'indices': array([0], ...   \n",
       "2  {'type': 0, 'size': 19, 'indices': array([ 1, ...   \n",
       "3  {'type': 0, 'size': 19, 'indices': array([ 0, ...   \n",
       "4  {'type': 0, 'size': 19, 'indices': array([ 3, ...   \n",
       "\n",
       "                                      persona_L2_vec  \\\n",
       "0  {'type': 0, 'size': 85, 'indices': array([ 8, ...   \n",
       "1  {'type': 0, 'size': 85, 'indices': array([1], ...   \n",
       "2  {'type': 0, 'size': 85, 'indices': array([ 2, ...   \n",
       "3  {'type': 0, 'size': 85, 'indices': array([ 3, ...   \n",
       "4  {'type': 0, 'size': 85, 'indices': array([ 3, ...   \n",
       "\n",
       "                                      persona_L3_vec  \\\n",
       "0  {'type': 0, 'size': 60, 'indices': array([8], ...   \n",
       "1  {'type': 0, 'size': 60, 'indices': array([], d...   \n",
       "2  {'type': 0, 'size': 60, 'indices': array([0], ...   \n",
       "3  {'type': 0, 'size': 60, 'indices': array([4], ...   \n",
       "4  {'type': 0, 'size': 60, 'indices': array([], d...   \n",
       "\n",
       "                                   device_vendor_vec  \\\n",
       "0  {'type': 0, 'size': 21, 'indices': array([1], ...   \n",
       "1  {'type': 0, 'size': 21, 'indices': array([0], ...   \n",
       "2  {'type': 0, 'size': 21, 'indices': array([4], ...   \n",
       "3  {'type': 0, 'size': 21, 'indices': array([0], ...   \n",
       "4  {'type': 0, 'size': 21, 'indices': array([1], ...   \n",
       "\n",
       "                                     device_name_vec  \\\n",
       "0  {'type': 0, 'size': 249, 'indices': array([0],...   \n",
       "1  {'type': 0, 'size': 249, 'indices': array([2],...   \n",
       "2  {'type': 0, 'size': 249, 'indices': array([49]...   \n",
       "3  {'type': 0, 'size': 249, 'indices': array([3],...   \n",
       "4  {'type': 0, 'size': 249, 'indices': array([0],...   \n",
       "\n",
       "                             device_manufacturer_vec  \\\n",
       "0  {'type': 0, 'size': 21, 'indices': array([1], ...   \n",
       "1  {'type': 0, 'size': 21, 'indices': array([0], ...   \n",
       "2  {'type': 0, 'size': 21, 'indices': array([4], ...   \n",
       "3  {'type': 0, 'size': 21, 'indices': array([0], ...   \n",
       "4  {'type': 0, 'size': 21, 'indices': array([1], ...   \n",
       "\n",
       "                                    device_model_vec  \\\n",
       "0  {'type': 0, 'size': 475, 'indices': array([89]...   \n",
       "1  {'type': 0, 'size': 475, 'indices': array([1],...   \n",
       "2  {'type': 0, 'size': 475, 'indices': array([67]...   \n",
       "3  {'type': 0, 'size': 475, 'indices': array([2],...   \n",
       "4  {'type': 0, 'size': 475, 'indices': array([27]...   \n",
       "\n",
       "                          device_year_of_release_vec  \\\n",
       "0  {'type': 0, 'size': 7, 'indices': array([3], d...   \n",
       "1  {'type': 0, 'size': 7, 'indices': array([0], d...   \n",
       "2  {'type': 0, 'size': 7, 'indices': array([1], d...   \n",
       "3  {'type': 0, 'size': 7, 'indices': array([0], d...   \n",
       "4  {'type': 0, 'size': 7, 'indices': array([2], d...   \n",
       "\n",
       "                                    dev_platform_vec  \\\n",
       "0  {'type': 0, 'size': 2, 'indices': array([0], d...   \n",
       "1  {'type': 0, 'size': 2, 'indices': array([0], d...   \n",
       "2  {'type': 0, 'size': 2, 'indices': array([0], d...   \n",
       "3  {'type': 0, 'size': 2, 'indices': array([0], d...   \n",
       "4  {'type': 0, 'size': 2, 'indices': array([0], d...   \n",
       "\n",
       "                                        major_os_vec  label_int  \n",
       "0  {'type': 0, 'size': 7, 'indices': array([2], d...          3  \n",
       "1  {'type': 0, 'size': 7, 'indices': array([0], d...          3  \n",
       "2  {'type': 0, 'size': 7, 'indices': array([0], d...          1  \n",
       "3  {'type': 0, 'size': 7, 'indices': array([0], d...          3  \n",
       "4  {'type': 0, 'size': 7, 'indices': array([0], d...          1  "
      ]
     },
     "execution_count": 7,
     "metadata": {},
     "output_type": "execute_result"
    }
   ],
   "source": [
    "import csv\n",
    "\n",
    "df = pd.read_csv('./tmp/train_data.csv')\n",
    "df.head()"
   ]
  },
  {
   "cell_type": "markdown",
   "metadata": {},
   "source": [
    "# Setup the S3 Location for the Autopilot-Generated Assets \n",
    "This include Jupyter Notebooks (Analysis), Python Scripts (Feature Engineering), and Trained Models."
   ]
  },
  {
   "cell_type": "code",
   "execution_count": 8,
   "metadata": {},
   "outputs": [
    {
     "name": "stdout",
     "output_type": "stream",
     "text": [
      "s3://ada-dev/xiaotian/ml/autopilot/model\n"
     ]
    }
   ],
   "source": [
    "prefix_model_output = 'xiaotian/ml/autopilot/model'\n",
    "\n",
    "model_output_s3_uri = 's3://{}/{}'.format(bucket, prefix_model_output)\n",
    "\n",
    "print(model_output_s3_uri)"
   ]
  },
  {
   "cell_type": "code",
   "execution_count": 9,
   "metadata": {},
   "outputs": [],
   "source": [
    "max_candidates = 3 #select only 3 top candidates\n",
    "\n",
    "job_config = {\n",
    "    'CompletionCriteria': {\n",
    "      'MaxRuntimePerTrainingJobInSeconds': 900,\n",
    "      'MaxCandidates': max_candidates,\n",
    "      'MaxAutoMLJobRuntimeInSeconds': 5400\n",
    "    },\n",
    "}\n",
    "\n",
    "input_data_config = [{\n",
    "      'DataSource': {\n",
    "        'S3DataSource': {\n",
    "          'S3DataType': 'S3Prefix',\n",
    "          'S3Uri': '{}'.format(autopilot_train_s3_uri)\n",
    "        }\n",
    "      },\n",
    "      'TargetAttributeName': 'label_int' #specify the target column\n",
    "    }\n",
    "]\n",
    "\n",
    "output_data_config = {\n",
    "    'S3OutputPath': '{}'.format(model_output_s3_uri)\n",
    "}"
   ]
  },
  {
   "cell_type": "markdown",
   "metadata": {},
   "source": [
    "# Check For Existing Autopilot Jobs"
   ]
  },
  {
   "cell_type": "code",
   "execution_count": 10,
   "metadata": {},
   "outputs": [],
   "source": [
    "existing_jobs_response = sm.list_auto_ml_jobs()"
   ]
  },
  {
   "cell_type": "code",
   "execution_count": 11,
   "metadata": {},
   "outputs": [
    {
     "data": {
      "text/plain": [
       "{'AutoMLJobSummaries': [{'AutoMLJobName': 'automl-dm-28-08-28-05',\n",
       "   'AutoMLJobArn': 'arn:aws:sagemaker:us-east-1:331041401449:automl-job/automl-dm-28-08-28-05',\n",
       "   'AutoMLJobStatus': 'Completed',\n",
       "   'AutoMLJobSecondaryStatus': 'MaxCandidatesReached',\n",
       "   'CreationTime': datetime.datetime(2020, 8, 28, 8, 28, 8, 738000, tzinfo=tzlocal()),\n",
       "   'EndTime': datetime.datetime(2020, 8, 28, 8, 50, 10, 734000, tzinfo=tzlocal()),\n",
       "   'LastModifiedTime': datetime.datetime(2020, 8, 28, 8, 50, 10, 769000, tzinfo=tzlocal())},\n",
       "  {'AutoMLJobName': 'automl-dm-12-02-54-20',\n",
       "   'AutoMLJobArn': 'arn:aws:sagemaker:us-east-1:331041401449:automl-job/automl-dm-12-02-54-20',\n",
       "   'AutoMLJobStatus': 'Completed',\n",
       "   'AutoMLJobSecondaryStatus': 'MaxCandidatesReached',\n",
       "   'CreationTime': datetime.datetime(2020, 11, 12, 2, 54, 45, 128000, tzinfo=tzlocal()),\n",
       "   'EndTime': datetime.datetime(2020, 11, 12, 3, 18, 8, 575000, tzinfo=tzlocal()),\n",
       "   'LastModifiedTime': datetime.datetime(2020, 11, 12, 3, 18, 8, 606000, tzinfo=tzlocal())},\n",
       "  {'AutoMLJobName': 'automl-dm-11-13-09-32',\n",
       "   'AutoMLJobArn': 'arn:aws:sagemaker:us-east-1:331041401449:automl-job/automl-dm-11-13-09-32',\n",
       "   'AutoMLJobStatus': 'Completed',\n",
       "   'AutoMLJobSecondaryStatus': 'MaxCandidatesReached',\n",
       "   'CreationTime': datetime.datetime(2020, 11, 13, 9, 32, 26, 388000, tzinfo=tzlocal()),\n",
       "   'EndTime': datetime.datetime(2020, 11, 13, 9, 53, 3, 164000, tzinfo=tzlocal()),\n",
       "   'LastModifiedTime': datetime.datetime(2020, 11, 13, 9, 53, 3, 196000, tzinfo=tzlocal())},\n",
       "  {'AutoMLJobName': 'automl-dm-11-13-08-45',\n",
       "   'AutoMLJobArn': 'arn:aws:sagemaker:us-east-1:331041401449:automl-job/automl-dm-11-13-08-45',\n",
       "   'AutoMLJobStatus': 'Completed',\n",
       "   'AutoMLJobSecondaryStatus': 'MaxCandidatesReached',\n",
       "   'CreationTime': datetime.datetime(2020, 11, 13, 8, 47, 4, 613000, tzinfo=tzlocal()),\n",
       "   'EndTime': datetime.datetime(2020, 11, 13, 9, 8, 55, 761000, tzinfo=tzlocal()),\n",
       "   'LastModifiedTime': datetime.datetime(2020, 11, 13, 9, 8, 55, 790000, tzinfo=tzlocal())},\n",
       "  {'AutoMLJobName': 'automl-dm-11-03-26-46',\n",
       "   'AutoMLJobArn': 'arn:aws:sagemaker:us-east-1:331041401449:automl-job/automl-dm-11-03-26-46',\n",
       "   'AutoMLJobStatus': 'Completed',\n",
       "   'AutoMLJobSecondaryStatus': 'MaxCandidatesReached',\n",
       "   'CreationTime': datetime.datetime(2020, 11, 11, 3, 36, 41, 616000, tzinfo=tzlocal()),\n",
       "   'EndTime': datetime.datetime(2020, 11, 11, 3, 59, 44, 242000, tzinfo=tzlocal()),\n",
       "   'LastModifiedTime': datetime.datetime(2020, 11, 11, 3, 59, 44, 276000, tzinfo=tzlocal())}],\n",
       " 'ResponseMetadata': {'RequestId': '00d41060-5302-4fcd-b234-561e266c35f4',\n",
       "  'HTTPStatusCode': 200,\n",
       "  'HTTPHeaders': {'x-amzn-requestid': '00d41060-5302-4fcd-b234-561e266c35f4',\n",
       "   'content-type': 'application/x-amz-json-1.1',\n",
       "   'content-length': '1563',\n",
       "   'date': 'Sat, 14 Nov 2020 13:48:07 GMT'},\n",
       "  'RetryAttempts': 0}}"
      ]
     },
     "execution_count": 11,
     "metadata": {},
     "output_type": "execute_result"
    }
   ],
   "source": [
    "existing_jobs_response"
   ]
  },
  {
   "cell_type": "code",
   "execution_count": 12,
   "metadata": {},
   "outputs": [
    {
     "name": "stdout",
     "output_type": "stream",
     "text": [
      "[INFO] You have 0 Autopilot job(s) currently running << Should be 0 jobs.\n"
     ]
    }
   ],
   "source": [
    "num_existing_jobs = 0 \n",
    "running_jobs = 0\n",
    "\n",
    "if 'AutoMLJobSummaries' in existing_jobs_response.keys():\n",
    "    job_list = existing_jobs_response['AutoMLJobSummaries']\n",
    "    num_existing_jobs = len(job_list)\n",
    "    # print('[INFO] You already created {} Autopilot job(s) in this account.'.format(num_existing_jobs))\n",
    "    for j in job_list:\n",
    "        if 'AutoMLJobStatus' in j.keys():                \n",
    "            if j['AutoMLJobStatus'] == 'InProgress':\n",
    "                running_jobs = running_jobs + 1\n",
    "    print('[INFO] You have {} Autopilot job(s) currently running << Should be 0 jobs.'.format(running_jobs))\n",
    "else:\n",
    "    print('[OK] Please continue.')"
   ]
  },
  {
   "cell_type": "markdown",
   "metadata": {},
   "source": [
    "# Launch the SageMaker Autopilot Job"
   ]
  },
  {
   "cell_type": "code",
   "execution_count": 13,
   "metadata": {},
   "outputs": [],
   "source": [
    "from time import gmtime, strftime, sleep"
   ]
  },
  {
   "cell_type": "code",
   "execution_count": 14,
   "metadata": {},
   "outputs": [
    {
     "name": "stdout",
     "output_type": "stream",
     "text": [
      "Created AutoMLJobName: automl-dm-11-14-13-48\n"
     ]
    }
   ],
   "source": [
    "# %store -r auto_ml_job_name\n",
    "try:\n",
    "    auto_ml_job_name\n",
    "except NameError:    \n",
    "    timestamp_suffix = strftime('%-m-%d-%H-%M', gmtime())\n",
    "    auto_ml_job_name = 'automl-dm-' + timestamp_suffix\n",
    "    print('Created AutoMLJobName: ' + auto_ml_job_name)"
   ]
  },
  {
   "cell_type": "code",
   "execution_count": 15,
   "metadata": {},
   "outputs": [
    {
     "name": "stdout",
     "output_type": "stream",
     "text": [
      "automl-dm-11-14-13-48\n"
     ]
    }
   ],
   "source": [
    "print(auto_ml_job_name)"
   ]
  },
  {
   "cell_type": "code",
   "execution_count": 16,
   "metadata": {},
   "outputs": [
    {
     "name": "stdout",
     "output_type": "stream",
     "text": [
      "Stored 'auto_ml_job_name' (str)\n"
     ]
    }
   ],
   "source": [
    "%store auto_ml_job_name"
   ]
  },
  {
   "cell_type": "code",
   "execution_count": 17,
   "metadata": {},
   "outputs": [
    {
     "name": "stdout",
     "output_type": "stream",
     "text": [
      "[OK] Autopilot Job automl-dm-11-14-13-48 created.\n"
     ]
    }
   ],
   "source": [
    "max_running_jobs = 1\n",
    "\n",
    "if running_jobs < max_running_jobs: # Limiting to max. 1 Jobs\n",
    "    try:\n",
    "        sm.create_auto_ml_job(AutoMLJobName=auto_ml_job_name,\n",
    "                              InputDataConfig=input_data_config,\n",
    "                              OutputDataConfig=output_data_config,\n",
    "                              AutoMLJobConfig=job_config,\n",
    "                              RoleArn=role)\n",
    "        print('[OK] Autopilot Job {} created.'.format(auto_ml_job_name))\n",
    "        running_jobs = running_jobs + 1\n",
    "    except:\n",
    "        print('[INFO] You have already launched an Autopilot job. Please continue see the output of this job.'.format(running_jobs))\n",
    "else:\n",
    "    print('[INFO] You have already launched {} Autopilot running job(s). Please continue see the output of the running job.'.format(running_jobs))"
   ]
  },
  {
   "cell_type": "markdown",
   "metadata": {},
   "source": [
    "# Track the Progress of the Autopilot Job\n",
    "\n",
    "SageMaker Autopilot job consists of the following high-level steps: \n",
    "* _Data Analysis_ where the data is summarized and analyzed to determine which feature engineering techniques, hyper-parameters, and models to explore.\n",
    "* _Feature Engineering_ where the data is scrubbed, balanced, combined, and split into train and validation.\n",
    "* _Model Training and Tuning_ where the top performing features, hyper-parameters, and models are selected and trained.\n",
    "\n",
    "<img src=\"img/autopilot-steps.png\" width=\"90%\" align=\"left\">"
   ]
  },
  {
   "cell_type": "markdown",
   "metadata": {},
   "source": [
    "**Autopilot Research Paper:   \n",
    "https://assets.amazon.science/e8/8b/2366b1ab407990dec96e55ee5664/amazon-sagemaker-autopilot-a-white-box-automl-solution-at-scale.pdf**"
   ]
  },
  {
   "cell_type": "markdown",
   "metadata": {},
   "source": [
    "# Analyzing Data and Generate Notebooks"
   ]
  },
  {
   "cell_type": "code",
   "execution_count": 18,
   "metadata": {},
   "outputs": [
    {
     "data": {
      "text/plain": [
       "{'AutoMLJobName': 'automl-dm-11-14-13-48',\n",
       " 'AutoMLJobArn': 'arn:aws:sagemaker:us-east-1:331041401449:automl-job/automl-dm-11-14-13-48',\n",
       " 'InputDataConfig': [{'DataSource': {'S3DataSource': {'S3DataType': 'S3Prefix',\n",
       "     'S3Uri': 's3://ada-dev/xiaotian/ml/autopilot/data/train_data.csv'}},\n",
       "   'TargetAttributeName': 'label_int'}],\n",
       " 'OutputDataConfig': {'S3OutputPath': 's3://ada-dev/xiaotian/ml/autopilot/model'},\n",
       " 'RoleArn': 'arn:aws:iam::331041401449:role/ADA_SageMaker',\n",
       " 'AutoMLJobConfig': {'CompletionCriteria': {'MaxCandidates': 3,\n",
       "   'MaxRuntimePerTrainingJobInSeconds': 900,\n",
       "   'MaxAutoMLJobRuntimeInSeconds': 5400}},\n",
       " 'CreationTime': datetime.datetime(2020, 11, 14, 13, 48, 31, 676000, tzinfo=tzlocal()),\n",
       " 'LastModifiedTime': datetime.datetime(2020, 11, 14, 13, 48, 39, 89000, tzinfo=tzlocal()),\n",
       " 'AutoMLJobStatus': 'InProgress',\n",
       " 'AutoMLJobSecondaryStatus': 'AnalyzingData',\n",
       " 'GenerateCandidateDefinitionsOnly': False,\n",
       " 'ResponseMetadata': {'RequestId': '4e52f27e-8414-4d97-91c3-56628ffc4e56',\n",
       "  'HTTPStatusCode': 200,\n",
       "  'HTTPHeaders': {'x-amzn-requestid': '4e52f27e-8414-4d97-91c3-56628ffc4e56',\n",
       "   'content-type': 'application/x-amz-json-1.1',\n",
       "   'content-length': '765',\n",
       "   'date': 'Sat, 14 Nov 2020 13:48:41 GMT'},\n",
       "  'RetryAttempts': 0}}"
      ]
     },
     "execution_count": 18,
     "metadata": {},
     "output_type": "execute_result"
    }
   ],
   "source": [
    "job_description_response = sm.describe_auto_ml_job(AutoMLJobName=auto_ml_job_name)\n",
    "job_description_response"
   ]
  },
  {
   "cell_type": "code",
   "execution_count": 19,
   "metadata": {},
   "outputs": [
    {
     "name": "stdout",
     "output_type": "stream",
     "text": [
      "[OK] AutoMLJob started.\n"
     ]
    }
   ],
   "source": [
    "# job_description_response = sm.describe_auto_ml_job(AutoMLJobName=auto_ml_job_name)\n",
    "\n",
    "while 'AutoMLJobStatus' not in job_description_response.keys() and 'AutoMLJobSecondaryStatus' not in job_description_response.keys():\n",
    "    job_description_response = sm.describe_auto_ml_job(AutoMLJobName=auto_ml_job_name)\n",
    "    print('[INFO] Autopilot Job has not yet started. Please wait. ')\n",
    "    print(json.dumps(job_description_response, indent=4, sort_keys=True, default=str))\n",
    "    print('[INFO] Waiting for Autopilot Job to start...')\n",
    "    sleep(15)\n",
    "\n",
    "print('[OK] AutoMLJob started.')"
   ]
  },
  {
   "cell_type": "markdown",
   "metadata": {},
   "source": [
    "# Review the SageMaker `Processing Jobs`\n",
    "* First Processing Job (Data Splitter) checks the data sanity, performs stratified shuffling and splits the data into training and validation. \n",
    "* Second Processing Job (Candidate Generator) first streams through the data to compute statistics for the dataset. Then, uses these statistics to identify the problem type, and possible types of every column-predictor: numeric, categorical, natural language, etc."
   ]
  },
  {
   "cell_type": "code",
   "execution_count": 20,
   "metadata": {},
   "outputs": [
    {
     "data": {
      "text/html": [
       "<b>Review <a target=\"blank\" href=\"https://console.aws.amazon.com/sagemaker/home?region=us-east-1#/processing-jobs/\">Processing Jobs</a></b>"
      ],
      "text/plain": [
       "<IPython.core.display.HTML object>"
      ]
     },
     "metadata": {},
     "output_type": "display_data"
    }
   ],
   "source": [
    "from IPython.core.display import display, HTML\n",
    "\n",
    "display(HTML('<b>Review <a target=\"blank\" href=\"https://console.aws.amazon.com/sagemaker/home?region={}#/processing-jobs/\">Processing Jobs</a></b>'.format(region)))\n"
   ]
  },
  {
   "cell_type": "markdown",
   "metadata": {},
   "source": [
    "# The Next Cell Will Show `InProgress` For A Few Minutes.\n",
    "\n",
    "## _Please be patient._"
   ]
  },
  {
   "cell_type": "code",
   "execution_count": 21,
   "metadata": {
    "scrolled": true
   },
   "outputs": [
    {
     "name": "stdout",
     "output_type": "stream",
     "text": [
      "InProgress AnalyzingData\n",
      "InProgress AnalyzingData\n",
      "InProgress AnalyzingData\n",
      "InProgress AnalyzingData\n",
      "InProgress AnalyzingData\n",
      "InProgress AnalyzingData\n",
      "InProgress AnalyzingData\n",
      "InProgress AnalyzingData\n",
      "InProgress AnalyzingData\n",
      "InProgress AnalyzingData\n",
      "InProgress AnalyzingData\n",
      "InProgress AnalyzingData\n",
      "InProgress AnalyzingData\n",
      "InProgress AnalyzingData\n",
      "InProgress AnalyzingData\n",
      "InProgress AnalyzingData\n",
      "InProgress AnalyzingData\n",
      "InProgress AnalyzingData\n",
      "InProgress AnalyzingData\n",
      "InProgress AnalyzingData\n",
      "InProgress AnalyzingData\n",
      "InProgress AnalyzingData\n",
      "InProgress AnalyzingData\n",
      "InProgress AnalyzingData\n",
      "InProgress AnalyzingData\n",
      "InProgress AnalyzingData\n",
      "InProgress AnalyzingData\n",
      "InProgress AnalyzingData\n",
      "InProgress AnalyzingData\n",
      "InProgress AnalyzingData\n",
      "InProgress AnalyzingData\n",
      "InProgress FeatureEngineering\n",
      "[OK] Data analysis phase completed.\n",
      "\n",
      "{\n",
      "    \"AutoMLJobArn\": \"arn:aws:sagemaker:us-east-1:331041401449:automl-job/automl-dm-11-14-13-48\",\n",
      "    \"AutoMLJobArtifacts\": {\n",
      "        \"CandidateDefinitionNotebookLocation\": \"s3://ada-dev/xiaotian/ml/autopilot/model/automl-dm-11-14-13-48/sagemaker-automl-candidates/pr-1-82ebc5108b8049cf9df8cc241283c077c80e1be33a1c4f47b145b2918d/notebooks/SageMakerAutopilotCandidateDefinitionNotebook.ipynb\",\n",
      "        \"DataExplorationNotebookLocation\": \"s3://ada-dev/xiaotian/ml/autopilot/model/automl-dm-11-14-13-48/sagemaker-automl-candidates/pr-1-82ebc5108b8049cf9df8cc241283c077c80e1be33a1c4f47b145b2918d/notebooks/SageMakerAutopilotDataExplorationNotebook.ipynb\"\n",
      "    },\n",
      "    \"AutoMLJobConfig\": {\n",
      "        \"CompletionCriteria\": {\n",
      "            \"MaxAutoMLJobRuntimeInSeconds\": 5400,\n",
      "            \"MaxCandidates\": 3,\n",
      "            \"MaxRuntimePerTrainingJobInSeconds\": 900\n",
      "        }\n",
      "    },\n",
      "    \"AutoMLJobName\": \"automl-dm-11-14-13-48\",\n",
      "    \"AutoMLJobSecondaryStatus\": \"FeatureEngineering\",\n",
      "    \"AutoMLJobStatus\": \"InProgress\",\n",
      "    \"CreationTime\": \"2020-11-14 13:48:31.676000+00:00\",\n",
      "    \"GenerateCandidateDefinitionsOnly\": false,\n",
      "    \"InputDataConfig\": [\n",
      "        {\n",
      "            \"DataSource\": {\n",
      "                \"S3DataSource\": {\n",
      "                    \"S3DataType\": \"S3Prefix\",\n",
      "                    \"S3Uri\": \"s3://ada-dev/xiaotian/ml/autopilot/data/train_data.csv\"\n",
      "                }\n",
      "            },\n",
      "            \"TargetAttributeName\": \"label_int\"\n",
      "        }\n",
      "    ],\n",
      "    \"LastModifiedTime\": \"2020-11-14 13:56:57.023000+00:00\",\n",
      "    \"OutputDataConfig\": {\n",
      "        \"S3OutputPath\": \"s3://ada-dev/xiaotian/ml/autopilot/model\"\n",
      "    },\n",
      "    \"ResponseMetadata\": {\n",
      "        \"HTTPHeaders\": {\n",
      "            \"content-length\": \"1299\",\n",
      "            \"content-type\": \"application/x-amz-json-1.1\",\n",
      "            \"date\": \"Sat, 14 Nov 2020 13:56:57 GMT\",\n",
      "            \"x-amzn-requestid\": \"96b46f12-e7c1-4428-a6f5-5a7aa493aa25\"\n",
      "        },\n",
      "        \"HTTPStatusCode\": 200,\n",
      "        \"RequestId\": \"96b46f12-e7c1-4428-a6f5-5a7aa493aa25\",\n",
      "        \"RetryAttempts\": 0\n",
      "    },\n",
      "    \"RoleArn\": \"arn:aws:iam::331041401449:role/ADA_SageMaker\"\n",
      "}\n",
      "CPU times: user 354 ms, sys: 5.78 ms, total: 360 ms\n",
      "Wall time: 8min 3s\n"
     ]
    }
   ],
   "source": [
    "%%time\n",
    "\n",
    "job_status = job_description_response['AutoMLJobStatus']\n",
    "job_sec_status = job_description_response['AutoMLJobSecondaryStatus']\n",
    "\n",
    "if job_status not in ('Stopped', 'Failed'):\n",
    "    while job_status in ('InProgress') and job_sec_status in ('Starting', 'AnalyzingData'):\n",
    "        job_description_response = sm.describe_auto_ml_job(AutoMLJobName=auto_ml_job_name)\n",
    "        job_status = job_description_response['AutoMLJobStatus']\n",
    "        job_sec_status = job_description_response['AutoMLJobSecondaryStatus']\n",
    "        print(job_status, job_sec_status)\n",
    "        sleep(15)\n",
    "    print('[OK] Data analysis phase completed.\\n')\n",
    "    \n",
    "print(json.dumps(job_description_response, indent=4, sort_keys=True, default=str))"
   ]
  },
  {
   "cell_type": "markdown",
   "metadata": {},
   "source": [
    "# View Generated Notebook Samples\n",
    "Once data analysis is complete, SageMaker AutoPilot generates two notebooks: \n",
    "* Data Exploration\n",
    "* Candidate Definition"
   ]
  },
  {
   "cell_type": "markdown",
   "metadata": {},
   "source": [
    "# Waiting For Generated Notebooks"
   ]
  },
  {
   "cell_type": "code",
   "execution_count": 22,
   "metadata": {},
   "outputs": [
    {
     "name": "stdout",
     "output_type": "stream",
     "text": [
      "[OK] AutoMLJobArtifacts generated.\n"
     ]
    }
   ],
   "source": [
    "job_description_response = sm.describe_auto_ml_job(AutoMLJobName=auto_ml_job_name)\n",
    "\n",
    "while 'AutoMLJobArtifacts' not in job_description_response.keys():\n",
    "    job_description_response = sm.describe_auto_ml_job(AutoMLJobName=auto_ml_job_name)\n",
    "    print('[INFO] Autopilot Job has not yet generated the artifacts. Please wait. ')\n",
    "    print(json.dumps(job_description_response, indent=4, sort_keys=True, default=str))\n",
    "    print('[INFO] Waiting for AutoMLJobArtifacts...')\n",
    "    sleep(15)\n",
    "\n",
    "print('[OK] AutoMLJobArtifacts generated.')"
   ]
  },
  {
   "cell_type": "code",
   "execution_count": 23,
   "metadata": {},
   "outputs": [
    {
     "name": "stdout",
     "output_type": "stream",
     "text": [
      "[OK] DataExplorationNotebookLocation found.\n"
     ]
    }
   ],
   "source": [
    "job_description_response = sm.describe_auto_ml_job(AutoMLJobName=auto_ml_job_name)\n",
    "\n",
    "while 'DataExplorationNotebookLocation' not in job_description_response['AutoMLJobArtifacts'].keys():\n",
    "    job_description_response = sm.describe_auto_ml_job(AutoMLJobName=auto_ml_job_name)\n",
    "    print('[INFO] Autopilot Job has not yet generated the notebooks. Please wait. ')\n",
    "    print(json.dumps(job_description_response, indent=4, sort_keys=True, default=str))\n",
    "    print('[INFO] Waiting for DataExplorationNotebookLocation...')\n",
    "    sleep(15)\n",
    "\n",
    "print('[OK] DataExplorationNotebookLocation found.')   "
   ]
  },
  {
   "cell_type": "code",
   "execution_count": 24,
   "metadata": {},
   "outputs": [],
   "source": [
    "generated_resources = job_description_response['AutoMLJobArtifacts']['DataExplorationNotebookLocation']\n",
    "download_path = generated_resources.rsplit('/notebooks/SageMakerAutopilotDataExplorationNotebook.ipynb')[0]\n",
    "job_id = download_path.rsplit('/', 1)[-1]"
   ]
  },
  {
   "cell_type": "code",
   "execution_count": 25,
   "metadata": {},
   "outputs": [
    {
     "data": {
      "text/html": [
       "<b>Review <a target=\"blank\" href=\"https://s3.console.aws.amazon.com/s3/buckets/ada-dev/xiaotian/ml/autopilot/model/automl-dm-11-14-13-48/sagemaker-automl-candidates/pr-1-82ebc5108b8049cf9df8cc241283c077c80e1be33a1c4f47b145b2918d/\">S3 Generated Resources</a></b>"
      ],
      "text/plain": [
       "<IPython.core.display.HTML object>"
      ]
     },
     "metadata": {},
     "output_type": "display_data"
    }
   ],
   "source": [
    "from IPython.core.display import display, HTML\n",
    "\n",
    "if not job_id: \n",
    "    print('No AutoMLJobArtifacts found.')\n",
    "else: \n",
    "    display(HTML('<b>Review <a target=\"blank\" href=\"https://s3.console.aws.amazon.com/s3/buckets/{}/{}/{}/sagemaker-automl-candidates/{}/\">S3 Generated Resources</a></b>'.format(bucket, prefix_model_output, auto_ml_job_name, job_id)))"
   ]
  },
  {
   "cell_type": "markdown",
   "metadata": {},
   "source": [
    "# Download Generated Notebooks & Code"
   ]
  },
  {
   "cell_type": "code",
   "execution_count": 26,
   "metadata": {},
   "outputs": [
    {
     "name": "stdout",
     "output_type": "stream",
     "text": [
      "s3://ada-dev/xiaotian/ml/autopilot/model/automl-dm-11-14-13-48/sagemaker-automl-candidates/pr-1-82ebc5108b8049cf9df8cc241283c077c80e1be33a1c4f47b145b2918d\n"
     ]
    }
   ],
   "source": [
    "print(download_path)"
   ]
  },
  {
   "cell_type": "code",
   "execution_count": 27,
   "metadata": {},
   "outputs": [
    {
     "name": "stdout",
     "output_type": "stream",
     "text": [
      "download: s3://ada-dev/xiaotian/ml/autopilot/model/automl-dm-11-14-13-48/sagemaker-automl-candidates/pr-1-82ebc5108b8049cf9df8cc241283c077c80e1be33a1c4f47b145b2918d/generated_module/candidate_data_processors/dpp2.py to generated_module/candidate_data_processors/dpp2.py\n",
      "download: s3://ada-dev/xiaotian/ml/autopilot/model/automl-dm-11-14-13-48/sagemaker-automl-candidates/pr-1-82ebc5108b8049cf9df8cc241283c077c80e1be33a1c4f47b145b2918d/generated_module/candidate_data_processors/trainer.py to generated_module/candidate_data_processors/trainer.py\n",
      "download: s3://ada-dev/xiaotian/ml/autopilot/model/automl-dm-11-14-13-48/sagemaker-automl-candidates/pr-1-82ebc5108b8049cf9df8cc241283c077c80e1be33a1c4f47b145b2918d/generated_module/README.md to generated_module/README.md\n",
      "download: s3://ada-dev/xiaotian/ml/autopilot/model/automl-dm-11-14-13-48/sagemaker-automl-candidates/pr-1-82ebc5108b8049cf9df8cc241283c077c80e1be33a1c4f47b145b2918d/generated_module/candidate_data_processors/dpp1.py to generated_module/candidate_data_processors/dpp1.py\n",
      "download: s3://ada-dev/xiaotian/ml/autopilot/model/automl-dm-11-14-13-48/sagemaker-automl-candidates/pr-1-82ebc5108b8049cf9df8cc241283c077c80e1be33a1c4f47b145b2918d/generated_module/MANIFEST.in to generated_module/MANIFEST.in\n",
      "download: s3://ada-dev/xiaotian/ml/autopilot/model/automl-dm-11-14-13-48/sagemaker-automl-candidates/pr-1-82ebc5108b8049cf9df8cc241283c077c80e1be33a1c4f47b145b2918d/generated_module/candidate_data_processors/sagemaker_serve.py to generated_module/candidate_data_processors/sagemaker_serve.py\n",
      "download: s3://ada-dev/xiaotian/ml/autopilot/model/automl-dm-11-14-13-48/sagemaker-automl-candidates/pr-1-82ebc5108b8049cf9df8cc241283c077c80e1be33a1c4f47b145b2918d/generated_module/setup.py to generated_module/setup.py\n",
      "download: s3://ada-dev/xiaotian/ml/autopilot/model/automl-dm-11-14-13-48/sagemaker-automl-candidates/pr-1-82ebc5108b8049cf9df8cc241283c077c80e1be33a1c4f47b145b2918d/notebooks/SageMakerAutopilotCandidateDefinitionNotebook.ipynb to notebooks/SageMakerAutopilotCandidateDefinitionNotebook.ipynb\n",
      "download: s3://ada-dev/xiaotian/ml/autopilot/model/automl-dm-11-14-13-48/sagemaker-automl-candidates/pr-1-82ebc5108b8049cf9df8cc241283c077c80e1be33a1c4f47b145b2918d/notebooks/sagemaker_automl/README.md to notebooks/sagemaker_automl/README.md\n",
      "download: s3://ada-dev/xiaotian/ml/autopilot/model/automl-dm-11-14-13-48/sagemaker-automl-candidates/pr-1-82ebc5108b8049cf9df8cc241283c077c80e1be33a1c4f47b145b2918d/notebooks/sagemaker_automl/__init__.py to notebooks/sagemaker_automl/__init__.py\n",
      "download: s3://ada-dev/xiaotian/ml/autopilot/model/automl-dm-11-14-13-48/sagemaker-automl-candidates/pr-1-82ebc5108b8049cf9df8cc241283c077c80e1be33a1c4f47b145b2918d/generated_module/candidate_data_processors/dpp0.py to generated_module/candidate_data_processors/dpp0.py\n",
      "download: s3://ada-dev/xiaotian/ml/autopilot/model/automl-dm-11-14-13-48/sagemaker-automl-candidates/pr-1-82ebc5108b8049cf9df8cc241283c077c80e1be33a1c4f47b145b2918d/notebooks/sagemaker_automl/interactive_runner.py to notebooks/sagemaker_automl/interactive_runner.py\n",
      "download: s3://ada-dev/xiaotian/ml/autopilot/model/automl-dm-11-14-13-48/sagemaker-automl-candidates/pr-1-82ebc5108b8049cf9df8cc241283c077c80e1be33a1c4f47b145b2918d/notebooks/sagemaker_automl/local_candidate.py to notebooks/sagemaker_automl/local_candidate.py\n",
      "download: s3://ada-dev/xiaotian/ml/autopilot/model/automl-dm-11-14-13-48/sagemaker-automl-candidates/pr-1-82ebc5108b8049cf9df8cc241283c077c80e1be33a1c4f47b145b2918d/notebooks/sagemaker_automl/config.py to notebooks/sagemaker_automl/config.py\n",
      "download: s3://ada-dev/xiaotian/ml/autopilot/model/automl-dm-11-14-13-48/sagemaker-automl-candidates/pr-1-82ebc5108b8049cf9df8cc241283c077c80e1be33a1c4f47b145b2918d/notebooks/SageMakerAutopilotDataExplorationNotebook.ipynb to notebooks/SageMakerAutopilotDataExplorationNotebook.ipynb\n",
      "download: s3://ada-dev/xiaotian/ml/autopilot/model/automl-dm-11-14-13-48/sagemaker-automl-candidates/pr-1-82ebc5108b8049cf9df8cc241283c077c80e1be33a1c4f47b145b2918d/notebooks/sagemaker_automl/common.py to notebooks/sagemaker_automl/common.py\n",
      "download: s3://ada-dev/xiaotian/ml/autopilot/model/automl-dm-11-14-13-48/sagemaker-automl-candidates/pr-1-82ebc5108b8049cf9df8cc241283c077c80e1be33a1c4f47b145b2918d/notebooks/sagemaker_automl/steps.py to notebooks/sagemaker_automl/steps.py\n"
     ]
    }
   ],
   "source": [
    "try:\n",
    "    !aws s3 cp --recursive $download_path .\n",
    "except:\n",
    "    print('Could not download the generated resources. Make sure the path is correct.')"
   ]
  },
  {
   "cell_type": "markdown",
   "metadata": {},
   "source": [
    "# Review The Generated Resources:"
   ]
  },
  {
   "cell_type": "code",
   "execution_count": 81,
   "metadata": {},
   "outputs": [
    {
     "name": "stdout",
     "output_type": "stream",
     "text": [
      "dpp0.py  dpp1.py  dpp2.py  sagemaker_serve.py  trainer.py\n"
     ]
    }
   ],
   "source": [
    "!ls ./generated_module/candidate_data_processors"
   ]
  },
  {
   "cell_type": "code",
   "execution_count": 82,
   "metadata": {},
   "outputs": [
    {
     "name": "stdout",
     "output_type": "stream",
     "text": [
      "sagemaker_automl\n",
      "SageMakerAutopilotCandidateDefinitionNotebook.ipynb\n",
      "SageMakerAutopilotDataExplorationNotebook.ipynb\n"
     ]
    }
   ],
   "source": [
    "!ls ./notebooks"
   ]
  },
  {
   "cell_type": "markdown",
   "metadata": {},
   "source": [
    "# Feature Engineering"
   ]
  },
  {
   "cell_type": "markdown",
   "metadata": {},
   "source": [
    "### Watch out for SageMaker `Training Jobs` and `Batch Transform Jobs` to start. \n",
    "\n",
    "* This is the candidate exploration phase. \n",
    "* Each python script code for data-processing is executed inside a SageMaker framework container as a training job, followed by transform job.\n",
    "\n",
    "Note, that feature preprocessing part of each pipeline has all hyper parameters fixed, i.e. does not require tuning, thus feature preprocessing step can be done prior runing the hyper parameter optimization job. \n",
    "\n",
    "It outputs up to 10 variants of transformed data, therefore algorithms for each pipeline are set to use\n",
    "the respective transformed data.\n",
    "\n",
    "<img src=\"img/autopilot-steps.png\" width=\"90%\" align=\"left\">"
   ]
  },
  {
   "cell_type": "markdown",
   "metadata": {},
   "source": [
    "**Autopilot Research Paper:   \n",
    "https://assets.amazon.science/e8/8b/2366b1ab407990dec96e55ee5664/amazon-sagemaker-autopilot-a-white-box-automl-solution-at-scale.pdf**"
   ]
  },
  {
   "cell_type": "code",
   "execution_count": 83,
   "metadata": {},
   "outputs": [
    {
     "data": {
      "text/html": [
       "<b>Review <a target=\"blank\" href=\"https://console.aws.amazon.com/sagemaker/home?region=us-east-1#/jobs/\">Training Jobs</a></b>"
      ],
      "text/plain": [
       "<IPython.core.display.HTML object>"
      ]
     },
     "metadata": {},
     "output_type": "display_data"
    }
   ],
   "source": [
    "from IPython.core.display import display, HTML\n",
    "\n",
    "display(HTML('<b>Review <a target=\"blank\" href=\"https://console.aws.amazon.com/sagemaker/home?region={}#/jobs/\">Training Jobs</a></b>'.format(region)))\n"
   ]
  },
  {
   "cell_type": "code",
   "execution_count": 84,
   "metadata": {},
   "outputs": [
    {
     "data": {
      "text/html": [
       "<b>Review <a target=\"blank\" href=\"https://console.aws.amazon.com/sagemaker/home?region=us-east-1#/transform-jobs/\">Batch Transform Jobs</a></b>"
      ],
      "text/plain": [
       "<IPython.core.display.HTML object>"
      ]
     },
     "metadata": {},
     "output_type": "display_data"
    }
   ],
   "source": [
    "from IPython.core.display import display, HTML\n",
    "\n",
    "display(HTML('<b>Review <a target=\"blank\" href=\"https://console.aws.amazon.com/sagemaker/home?region={}#/transform-jobs/\">Batch Transform Jobs</a></b>'.format(region)))\n"
   ]
  },
  {
   "cell_type": "markdown",
   "metadata": {},
   "source": [
    "# The Next Cell Will Show `InProgress` For A Few Minutes.\n",
    "\n",
    "## _Please be patient._ ##"
   ]
  },
  {
   "cell_type": "code",
   "execution_count": 29,
   "metadata": {
    "scrolled": true
   },
   "outputs": [
    {
     "name": "stdout",
     "output_type": "stream",
     "text": [
      "Completed\n",
      "MaxCandidatesReached\n",
      "[OK] Feature engineering phase completed.\n",
      "\n",
      "{\n",
      "    \"AutoMLJobArn\": \"arn:aws:sagemaker:us-east-1:331041401449:automl-job/automl-dm-11-14-13-48\",\n",
      "    \"AutoMLJobArtifacts\": {\n",
      "        \"CandidateDefinitionNotebookLocation\": \"s3://ada-dev/xiaotian/ml/autopilot/model/automl-dm-11-14-13-48/sagemaker-automl-candidates/pr-1-82ebc5108b8049cf9df8cc241283c077c80e1be33a1c4f47b145b2918d/notebooks/SageMakerAutopilotCandidateDefinitionNotebook.ipynb\",\n",
      "        \"DataExplorationNotebookLocation\": \"s3://ada-dev/xiaotian/ml/autopilot/model/automl-dm-11-14-13-48/sagemaker-automl-candidates/pr-1-82ebc5108b8049cf9df8cc241283c077c80e1be33a1c4f47b145b2918d/notebooks/SageMakerAutopilotDataExplorationNotebook.ipynb\"\n",
      "    },\n",
      "    \"AutoMLJobConfig\": {\n",
      "        \"CompletionCriteria\": {\n",
      "            \"MaxAutoMLJobRuntimeInSeconds\": 5400,\n",
      "            \"MaxCandidates\": 3,\n",
      "            \"MaxRuntimePerTrainingJobInSeconds\": 900\n",
      "        }\n",
      "    },\n",
      "    \"AutoMLJobName\": \"automl-dm-11-14-13-48\",\n",
      "    \"AutoMLJobSecondaryStatus\": \"MaxCandidatesReached\",\n",
      "    \"AutoMLJobStatus\": \"Completed\",\n",
      "    \"BestCandidate\": {\n",
      "        \"CandidateName\": \"tuning-job-1-e2f87a329cb24779ad-001-33072cc0\",\n",
      "        \"CandidateStatus\": \"Completed\",\n",
      "        \"CandidateSteps\": [\n",
      "            {\n",
      "                \"CandidateStepArn\": \"arn:aws:sagemaker:us-east-1:331041401449:processing-job/db-1-c746168660554129af899c43592f2144cddc7a48812249d6a5e913fb97\",\n",
      "                \"CandidateStepName\": \"db-1-c746168660554129af899c43592f2144cddc7a48812249d6a5e913fb97\",\n",
      "                \"CandidateStepType\": \"AWS::SageMaker::ProcessingJob\"\n",
      "            },\n",
      "            {\n",
      "                \"CandidateStepArn\": \"arn:aws:sagemaker:us-east-1:331041401449:training-job/automl-dm--dpp0-1-da688f7f84d54dcf8469f92d64f7937c148b5bf0db3c4\",\n",
      "                \"CandidateStepName\": \"automl-dm--dpp0-1-da688f7f84d54dcf8469f92d64f7937c148b5bf0db3c4\",\n",
      "                \"CandidateStepType\": \"AWS::SageMaker::TrainingJob\"\n",
      "            },\n",
      "            {\n",
      "                \"CandidateStepArn\": \"arn:aws:sagemaker:us-east-1:331041401449:transform-job/automl-dm--dpp0-rpb-1-2732a5733bd7403fb716970b298f65dd25dac1e7a\",\n",
      "                \"CandidateStepName\": \"automl-dm--dpp0-rpb-1-2732a5733bd7403fb716970b298f65dd25dac1e7a\",\n",
      "                \"CandidateStepType\": \"AWS::SageMaker::TransformJob\"\n",
      "            },\n",
      "            {\n",
      "                \"CandidateStepArn\": \"arn:aws:sagemaker:us-east-1:331041401449:training-job/tuning-job-1-e2f87a329cb24779ad-001-33072cc0\",\n",
      "                \"CandidateStepName\": \"tuning-job-1-e2f87a329cb24779ad-001-33072cc0\",\n",
      "                \"CandidateStepType\": \"AWS::SageMaker::TrainingJob\"\n",
      "            }\n",
      "        ],\n",
      "        \"CreationTime\": \"2020-11-14 14:08:17+00:00\",\n",
      "        \"EndTime\": \"2020-11-14 14:09:07+00:00\",\n",
      "        \"FinalAutoMLJobObjectiveMetric\": {\n",
      "            \"MetricName\": \"validation:accuracy\",\n",
      "            \"Value\": 0.43156999349594116\n",
      "        },\n",
      "        \"InferenceContainers\": [\n",
      "            {\n",
      "                \"Environment\": {\n",
      "                    \"AUTOML_SPARSE_ENCODE_RECORDIO_PROTOBUF\": \"1\",\n",
      "                    \"AUTOML_TRANSFORM_MODE\": \"feature-transform\",\n",
      "                    \"SAGEMAKER_DEFAULT_INVOCATIONS_ACCEPT\": \"application/x-recordio-protobuf\",\n",
      "                    \"SAGEMAKER_PROGRAM\": \"sagemaker_serve\",\n",
      "                    \"SAGEMAKER_SUBMIT_DIRECTORY\": \"/opt/ml/model/code\"\n",
      "                },\n",
      "                \"Image\": \"683313688378.dkr.ecr.us-east-1.amazonaws.com/sagemaker-sklearn-automl:0.2-1-cpu-py3\",\n",
      "                \"ModelDataUrl\": \"s3://ada-dev/xiaotian/ml/autopilot/model/automl-dm-11-14-13-48/data-processor-models/automl-dm--dpp0-1-da688f7f84d54dcf8469f92d64f7937c148b5bf0db3c4/output/model.tar.gz\"\n",
      "            },\n",
      "            {\n",
      "                \"Environment\": {\n",
      "                    \"MAX_CONTENT_LENGTH\": \"20971520\",\n",
      "                    \"SAGEMAKER_DEFAULT_INVOCATIONS_ACCEPT\": \"text/csv\",\n",
      "                    \"SAGEMAKER_INFERENCE_OUTPUT\": \"predicted_label\",\n",
      "                    \"SAGEMAKER_INFERENCE_SUPPORTED\": \"predicted_label,probability,probabilities\"\n",
      "                },\n",
      "                \"Image\": \"683313688378.dkr.ecr.us-east-1.amazonaws.com/sagemaker-xgboost:1.0-1-cpu-py3\",\n",
      "                \"ModelDataUrl\": \"s3://ada-dev/xiaotian/ml/autopilot/model/automl-dm-11-14-13-48/tuning/automl-dm--dpp0-xgb/tuning-job-1-e2f87a329cb24779ad-001-33072cc0/output/model.tar.gz\"\n",
      "            },\n",
      "            {\n",
      "                \"Environment\": {\n",
      "                    \"AUTOML_TRANSFORM_MODE\": \"inverse-label-transform\",\n",
      "                    \"SAGEMAKER_DEFAULT_INVOCATIONS_ACCEPT\": \"text/csv\",\n",
      "                    \"SAGEMAKER_INFERENCE_INPUT\": \"predicted_label\",\n",
      "                    \"SAGEMAKER_INFERENCE_OUTPUT\": \"predicted_label\",\n",
      "                    \"SAGEMAKER_INFERENCE_SUPPORTED\": \"predicted_label,probability,labels,probabilities\",\n",
      "                    \"SAGEMAKER_PROGRAM\": \"sagemaker_serve\",\n",
      "                    \"SAGEMAKER_SUBMIT_DIRECTORY\": \"/opt/ml/model/code\"\n",
      "                },\n",
      "                \"Image\": \"683313688378.dkr.ecr.us-east-1.amazonaws.com/sagemaker-sklearn-automl:0.2-1-cpu-py3\",\n",
      "                \"ModelDataUrl\": \"s3://ada-dev/xiaotian/ml/autopilot/model/automl-dm-11-14-13-48/data-processor-models/automl-dm--dpp0-1-da688f7f84d54dcf8469f92d64f7937c148b5bf0db3c4/output/model.tar.gz\"\n",
      "            }\n",
      "        ],\n",
      "        \"LastModifiedTime\": \"2020-11-14 14:09:31.715000+00:00\",\n",
      "        \"ObjectiveStatus\": \"Succeeded\"\n",
      "    },\n",
      "    \"CreationTime\": \"2020-11-14 13:48:31.676000+00:00\",\n",
      "    \"EndTime\": \"2020-11-14 14:09:32.649000+00:00\",\n",
      "    \"GenerateCandidateDefinitionsOnly\": false,\n",
      "    \"InputDataConfig\": [\n",
      "        {\n",
      "            \"DataSource\": {\n",
      "                \"S3DataSource\": {\n",
      "                    \"S3DataType\": \"S3Prefix\",\n",
      "                    \"S3Uri\": \"s3://ada-dev/xiaotian/ml/autopilot/data/train_data.csv\"\n",
      "                }\n",
      "            },\n",
      "            \"TargetAttributeName\": \"label_int\"\n",
      "        }\n",
      "    ],\n",
      "    \"LastModifiedTime\": \"2020-11-14 14:09:32.688000+00:00\",\n",
      "    \"OutputDataConfig\": {\n",
      "        \"S3OutputPath\": \"s3://ada-dev/xiaotian/ml/autopilot/model\"\n",
      "    },\n",
      "    \"ResolvedAttributes\": {\n",
      "        \"AutoMLJobObjective\": {\n",
      "            \"MetricName\": \"Accuracy\"\n",
      "        },\n",
      "        \"CompletionCriteria\": {\n",
      "            \"MaxAutoMLJobRuntimeInSeconds\": 5400,\n",
      "            \"MaxCandidates\": 3,\n",
      "            \"MaxRuntimePerTrainingJobInSeconds\": 900\n",
      "        },\n",
      "        \"ProblemType\": \"MulticlassClassification\"\n",
      "    },\n",
      "    \"ResponseMetadata\": {\n",
      "        \"HTTPHeaders\": {\n",
      "            \"content-length\": \"4693\",\n",
      "            \"content-type\": \"application/x-amz-json-1.1\",\n",
      "            \"date\": \"Sat, 14 Nov 2020 14:13:33 GMT\",\n",
      "            \"x-amzn-requestid\": \"ae81be5d-e8b1-4fdc-9d37-25447f4bcc15\"\n",
      "        },\n",
      "        \"HTTPStatusCode\": 200,\n",
      "        \"RequestId\": \"ae81be5d-e8b1-4fdc-9d37-25447f4bcc15\",\n",
      "        \"RetryAttempts\": 0\n",
      "    },\n",
      "    \"RoleArn\": \"arn:aws:iam::331041401449:role/ADA_SageMaker\"\n",
      "}\n",
      "CPU times: user 11.3 ms, sys: 744 µs, total: 12 ms\n",
      "Wall time: 123 ms\n"
     ]
    }
   ],
   "source": [
    "%%time\n",
    "\n",
    "job_description_response = sm.describe_auto_ml_job(AutoMLJobName=auto_ml_job_name)\n",
    "job_status = job_description_response['AutoMLJobStatus']\n",
    "job_sec_status = job_description_response['AutoMLJobSecondaryStatus']\n",
    "print(job_status)\n",
    "print(job_sec_status)\n",
    "if job_status not in ('Stopped', 'Failed'):\n",
    "    while job_status in ('InProgress') and job_sec_status in ('FeatureEngineering'):\n",
    "        job_description_response = sm.describe_auto_ml_job(AutoMLJobName=auto_ml_job_name)\n",
    "        job_status = job_description_response['AutoMLJobStatus']\n",
    "        job_sec_status = job_description_response['AutoMLJobSecondaryStatus']\n",
    "        print(job_status, job_sec_status)\n",
    "        sleep(15)\n",
    "    print('[OK] Feature engineering phase completed.\\n')\n",
    "    \n",
    "print(json.dumps(job_description_response, indent=4, sort_keys=True, default=str))"
   ]
  },
  {
   "cell_type": "markdown",
   "metadata": {},
   "source": [
    "# [INFO] _Feel free to continue to the next workshop section while this notebook is running._"
   ]
  },
  {
   "cell_type": "markdown",
   "metadata": {},
   "source": [
    "# Model Training and Tuning"
   ]
  },
  {
   "cell_type": "markdown",
   "metadata": {},
   "source": [
    "### Watch out for a SageMaker`Hyperparameter Tuning Job` and various `Training Jobs` to start. \n",
    "\n",
    "* All algorithms are optimized using a SageMaker Hyperparameter Tuning job. \n",
    "* Up to 250 training jobs (based on number of candidates specified) are selectively executed to find the best candidate model.\n",
    "\n",
    "<img src=\"img/autopilot-steps.png\" width=\"90%\" align=\"left\">"
   ]
  },
  {
   "cell_type": "markdown",
   "metadata": {},
   "source": [
    "**Autopilot Research Paper:   \n",
    "https://assets.amazon.science/e8/8b/2366b1ab407990dec96e55ee5664/amazon-sagemaker-autopilot-a-white-box-automl-solution-at-scale.pdf**"
   ]
  },
  {
   "cell_type": "code",
   "execution_count": 86,
   "metadata": {},
   "outputs": [
    {
     "data": {
      "text/html": [
       "<b>Review <a target=\"blank\" href=\"https://console.aws.amazon.com/sagemaker/home?region=us-east-1#/hyper-tuning-jobs/\">Hyperparameter Tuning Jobs</a></b>"
      ],
      "text/plain": [
       "<IPython.core.display.HTML object>"
      ]
     },
     "metadata": {},
     "output_type": "display_data"
    }
   ],
   "source": [
    "from IPython.core.display import display, HTML\n",
    "\n",
    "display(HTML('<b>Review <a target=\"blank\" href=\"https://console.aws.amazon.com/sagemaker/home?region={}#/hyper-tuning-jobs/\">Hyperparameter Tuning Jobs</a></b>'.format(region)))\n"
   ]
  },
  {
   "cell_type": "code",
   "execution_count": 87,
   "metadata": {},
   "outputs": [
    {
     "data": {
      "text/html": [
       "<b>Review <a target=\"blank\" href=\"https://console.aws.amazon.com/sagemaker/home?region=us-east-1#/jobs/\">Training Jobs</a></b>"
      ],
      "text/plain": [
       "<IPython.core.display.HTML object>"
      ]
     },
     "metadata": {},
     "output_type": "display_data"
    }
   ],
   "source": [
    "from IPython.core.display import display, HTML\n",
    "\n",
    "display(HTML('<b>Review <a target=\"blank\" href=\"https://console.aws.amazon.com/sagemaker/home?region={}#/jobs/\">Training Jobs</a></b>'.format(region)))\n"
   ]
  },
  {
   "cell_type": "markdown",
   "metadata": {},
   "source": [
    "# The Next Cell Will Show `InProgress` For A Few Minutes.\n",
    "\n",
    "## _Please be patient._"
   ]
  },
  {
   "cell_type": "code",
   "execution_count": 30,
   "metadata": {
    "scrolled": true
   },
   "outputs": [
    {
     "name": "stdout",
     "output_type": "stream",
     "text": [
      "Completed\n",
      "MaxCandidatesReached\n",
      "[OK] Model tuning phase completed.\n",
      "\n",
      "{\n",
      "    \"AutoMLJobArn\": \"arn:aws:sagemaker:us-east-1:331041401449:automl-job/automl-dm-11-14-13-48\",\n",
      "    \"AutoMLJobArtifacts\": {\n",
      "        \"CandidateDefinitionNotebookLocation\": \"s3://ada-dev/xiaotian/ml/autopilot/model/automl-dm-11-14-13-48/sagemaker-automl-candidates/pr-1-82ebc5108b8049cf9df8cc241283c077c80e1be33a1c4f47b145b2918d/notebooks/SageMakerAutopilotCandidateDefinitionNotebook.ipynb\",\n",
      "        \"DataExplorationNotebookLocation\": \"s3://ada-dev/xiaotian/ml/autopilot/model/automl-dm-11-14-13-48/sagemaker-automl-candidates/pr-1-82ebc5108b8049cf9df8cc241283c077c80e1be33a1c4f47b145b2918d/notebooks/SageMakerAutopilotDataExplorationNotebook.ipynb\"\n",
      "    },\n",
      "    \"AutoMLJobConfig\": {\n",
      "        \"CompletionCriteria\": {\n",
      "            \"MaxAutoMLJobRuntimeInSeconds\": 5400,\n",
      "            \"MaxCandidates\": 3,\n",
      "            \"MaxRuntimePerTrainingJobInSeconds\": 900\n",
      "        }\n",
      "    },\n",
      "    \"AutoMLJobName\": \"automl-dm-11-14-13-48\",\n",
      "    \"AutoMLJobSecondaryStatus\": \"MaxCandidatesReached\",\n",
      "    \"AutoMLJobStatus\": \"Completed\",\n",
      "    \"BestCandidate\": {\n",
      "        \"CandidateName\": \"tuning-job-1-e2f87a329cb24779ad-001-33072cc0\",\n",
      "        \"CandidateStatus\": \"Completed\",\n",
      "        \"CandidateSteps\": [\n",
      "            {\n",
      "                \"CandidateStepArn\": \"arn:aws:sagemaker:us-east-1:331041401449:processing-job/db-1-c746168660554129af899c43592f2144cddc7a48812249d6a5e913fb97\",\n",
      "                \"CandidateStepName\": \"db-1-c746168660554129af899c43592f2144cddc7a48812249d6a5e913fb97\",\n",
      "                \"CandidateStepType\": \"AWS::SageMaker::ProcessingJob\"\n",
      "            },\n",
      "            {\n",
      "                \"CandidateStepArn\": \"arn:aws:sagemaker:us-east-1:331041401449:training-job/automl-dm--dpp0-1-da688f7f84d54dcf8469f92d64f7937c148b5bf0db3c4\",\n",
      "                \"CandidateStepName\": \"automl-dm--dpp0-1-da688f7f84d54dcf8469f92d64f7937c148b5bf0db3c4\",\n",
      "                \"CandidateStepType\": \"AWS::SageMaker::TrainingJob\"\n",
      "            },\n",
      "            {\n",
      "                \"CandidateStepArn\": \"arn:aws:sagemaker:us-east-1:331041401449:transform-job/automl-dm--dpp0-rpb-1-2732a5733bd7403fb716970b298f65dd25dac1e7a\",\n",
      "                \"CandidateStepName\": \"automl-dm--dpp0-rpb-1-2732a5733bd7403fb716970b298f65dd25dac1e7a\",\n",
      "                \"CandidateStepType\": \"AWS::SageMaker::TransformJob\"\n",
      "            },\n",
      "            {\n",
      "                \"CandidateStepArn\": \"arn:aws:sagemaker:us-east-1:331041401449:training-job/tuning-job-1-e2f87a329cb24779ad-001-33072cc0\",\n",
      "                \"CandidateStepName\": \"tuning-job-1-e2f87a329cb24779ad-001-33072cc0\",\n",
      "                \"CandidateStepType\": \"AWS::SageMaker::TrainingJob\"\n",
      "            }\n",
      "        ],\n",
      "        \"CreationTime\": \"2020-11-14 14:08:17+00:00\",\n",
      "        \"EndTime\": \"2020-11-14 14:09:07+00:00\",\n",
      "        \"FinalAutoMLJobObjectiveMetric\": {\n",
      "            \"MetricName\": \"validation:accuracy\",\n",
      "            \"Value\": 0.43156999349594116\n",
      "        },\n",
      "        \"InferenceContainers\": [\n",
      "            {\n",
      "                \"Environment\": {\n",
      "                    \"AUTOML_SPARSE_ENCODE_RECORDIO_PROTOBUF\": \"1\",\n",
      "                    \"AUTOML_TRANSFORM_MODE\": \"feature-transform\",\n",
      "                    \"SAGEMAKER_DEFAULT_INVOCATIONS_ACCEPT\": \"application/x-recordio-protobuf\",\n",
      "                    \"SAGEMAKER_PROGRAM\": \"sagemaker_serve\",\n",
      "                    \"SAGEMAKER_SUBMIT_DIRECTORY\": \"/opt/ml/model/code\"\n",
      "                },\n",
      "                \"Image\": \"683313688378.dkr.ecr.us-east-1.amazonaws.com/sagemaker-sklearn-automl:0.2-1-cpu-py3\",\n",
      "                \"ModelDataUrl\": \"s3://ada-dev/xiaotian/ml/autopilot/model/automl-dm-11-14-13-48/data-processor-models/automl-dm--dpp0-1-da688f7f84d54dcf8469f92d64f7937c148b5bf0db3c4/output/model.tar.gz\"\n",
      "            },\n",
      "            {\n",
      "                \"Environment\": {\n",
      "                    \"MAX_CONTENT_LENGTH\": \"20971520\",\n",
      "                    \"SAGEMAKER_DEFAULT_INVOCATIONS_ACCEPT\": \"text/csv\",\n",
      "                    \"SAGEMAKER_INFERENCE_OUTPUT\": \"predicted_label\",\n",
      "                    \"SAGEMAKER_INFERENCE_SUPPORTED\": \"predicted_label,probability,probabilities\"\n",
      "                },\n",
      "                \"Image\": \"683313688378.dkr.ecr.us-east-1.amazonaws.com/sagemaker-xgboost:1.0-1-cpu-py3\",\n",
      "                \"ModelDataUrl\": \"s3://ada-dev/xiaotian/ml/autopilot/model/automl-dm-11-14-13-48/tuning/automl-dm--dpp0-xgb/tuning-job-1-e2f87a329cb24779ad-001-33072cc0/output/model.tar.gz\"\n",
      "            },\n",
      "            {\n",
      "                \"Environment\": {\n",
      "                    \"AUTOML_TRANSFORM_MODE\": \"inverse-label-transform\",\n",
      "                    \"SAGEMAKER_DEFAULT_INVOCATIONS_ACCEPT\": \"text/csv\",\n",
      "                    \"SAGEMAKER_INFERENCE_INPUT\": \"predicted_label\",\n",
      "                    \"SAGEMAKER_INFERENCE_OUTPUT\": \"predicted_label\",\n",
      "                    \"SAGEMAKER_INFERENCE_SUPPORTED\": \"predicted_label,probability,labels,probabilities\",\n",
      "                    \"SAGEMAKER_PROGRAM\": \"sagemaker_serve\",\n",
      "                    \"SAGEMAKER_SUBMIT_DIRECTORY\": \"/opt/ml/model/code\"\n",
      "                },\n",
      "                \"Image\": \"683313688378.dkr.ecr.us-east-1.amazonaws.com/sagemaker-sklearn-automl:0.2-1-cpu-py3\",\n",
      "                \"ModelDataUrl\": \"s3://ada-dev/xiaotian/ml/autopilot/model/automl-dm-11-14-13-48/data-processor-models/automl-dm--dpp0-1-da688f7f84d54dcf8469f92d64f7937c148b5bf0db3c4/output/model.tar.gz\"\n",
      "            }\n",
      "        ],\n",
      "        \"LastModifiedTime\": \"2020-11-14 14:09:31.715000+00:00\",\n",
      "        \"ObjectiveStatus\": \"Succeeded\"\n",
      "    },\n",
      "    \"CreationTime\": \"2020-11-14 13:48:31.676000+00:00\",\n",
      "    \"EndTime\": \"2020-11-14 14:09:32.649000+00:00\",\n",
      "    \"GenerateCandidateDefinitionsOnly\": false,\n",
      "    \"InputDataConfig\": [\n",
      "        {\n",
      "            \"DataSource\": {\n",
      "                \"S3DataSource\": {\n",
      "                    \"S3DataType\": \"S3Prefix\",\n",
      "                    \"S3Uri\": \"s3://ada-dev/xiaotian/ml/autopilot/data/train_data.csv\"\n",
      "                }\n",
      "            },\n",
      "            \"TargetAttributeName\": \"label_int\"\n",
      "        }\n",
      "    ],\n",
      "    \"LastModifiedTime\": \"2020-11-14 14:09:32.688000+00:00\",\n",
      "    \"OutputDataConfig\": {\n",
      "        \"S3OutputPath\": \"s3://ada-dev/xiaotian/ml/autopilot/model\"\n",
      "    },\n",
      "    \"ResolvedAttributes\": {\n",
      "        \"AutoMLJobObjective\": {\n",
      "            \"MetricName\": \"Accuracy\"\n",
      "        },\n",
      "        \"CompletionCriteria\": {\n",
      "            \"MaxAutoMLJobRuntimeInSeconds\": 5400,\n",
      "            \"MaxCandidates\": 3,\n",
      "            \"MaxRuntimePerTrainingJobInSeconds\": 900\n",
      "        },\n",
      "        \"ProblemType\": \"MulticlassClassification\"\n",
      "    },\n",
      "    \"ResponseMetadata\": {\n",
      "        \"HTTPHeaders\": {\n",
      "            \"content-length\": \"4693\",\n",
      "            \"content-type\": \"application/x-amz-json-1.1\",\n",
      "            \"date\": \"Sat, 14 Nov 2020 14:13:41 GMT\",\n",
      "            \"x-amzn-requestid\": \"36faa6bf-359b-4596-86bb-350bbb63031b\"\n",
      "        },\n",
      "        \"HTTPStatusCode\": 200,\n",
      "        \"RequestId\": \"36faa6bf-359b-4596-86bb-350bbb63031b\",\n",
      "        \"RetryAttempts\": 0\n",
      "    },\n",
      "    \"RoleArn\": \"arn:aws:iam::331041401449:role/ADA_SageMaker\"\n",
      "}\n",
      "CPU times: user 11.9 ms, sys: 0 ns, total: 11.9 ms\n",
      "Wall time: 124 ms\n"
     ]
    }
   ],
   "source": [
    "%%time\n",
    "\n",
    "job_description_response = sm.describe_auto_ml_job(AutoMLJobName=auto_ml_job_name)\n",
    "job_status = job_description_response['AutoMLJobStatus']\n",
    "job_sec_status = job_description_response['AutoMLJobSecondaryStatus']\n",
    "print(job_status)\n",
    "print(job_sec_status)\n",
    "if job_status not in ('Stopped', 'Failed'):\n",
    "    while job_status in ('InProgress') and job_sec_status in ('ModelTuning'):\n",
    "        job_description_response = sm.describe_auto_ml_job(AutoMLJobName=auto_ml_job_name)\n",
    "        job_status = job_description_response['AutoMLJobStatus']\n",
    "        job_sec_status = job_description_response['AutoMLJobSecondaryStatus']\n",
    "        print(job_status, job_sec_status)\n",
    "        sleep(15)\n",
    "    print('[OK] Model tuning phase completed.\\n')\n",
    "    \n",
    "print(json.dumps(job_description_response, indent=4, sort_keys=True, default=str))"
   ]
  },
  {
   "cell_type": "markdown",
   "metadata": {},
   "source": [
    "# _Please Wait Until ^^ Autopilot ^^ Completes Above_\n",
    "\n",
    "# [INFO] _Feel free to continue to the next workshop section while this notebook is running._"
   ]
  },
  {
   "cell_type": "markdown",
   "metadata": {},
   "source": [
    "Make sure the status below indicates `Completed`."
   ]
  },
  {
   "cell_type": "code",
   "execution_count": 31,
   "metadata": {},
   "outputs": [
    {
     "name": "stdout",
     "output_type": "stream",
     "text": [
      "Completed\n",
      "[OK] Autopilot Job completed.\n",
      "\n",
      "CPU times: user 3.87 ms, sys: 0 ns, total: 3.87 ms\n",
      "Wall time: 50 ms\n"
     ]
    }
   ],
   "source": [
    "%%time\n",
    "\n",
    "job_description_response = sm.describe_auto_ml_job(AutoMLJobName=auto_ml_job_name)\n",
    "job_status = job_description_response['AutoMLJobStatus']\n",
    "print(job_status)\n",
    "if job_status not in ('Stopped', 'Failed'):\n",
    "    while job_status not in ('Completed'):\n",
    "        job_description_response = sm.describe_auto_ml_job(AutoMLJobName=auto_ml_job_name)\n",
    "        job_status = job_description_response['AutoMLJobStatus']\n",
    "        print(job_status)\n",
    "        sleep(10)\n",
    "    print('[OK] Autopilot Job completed.\\n')\n",
    "else:\n",
    "    print(job_status)\n"
   ]
  },
  {
   "cell_type": "markdown",
   "metadata": {},
   "source": [
    "# Viewing All Candidates\n",
    "Once model tuning is complete, you can view all the candidates (pipeline evaluations with different hyperparameter combinations) that were explored by AutoML and sort them by their final performance metric."
   ]
  },
  {
   "cell_type": "code",
   "execution_count": 32,
   "metadata": {},
   "outputs": [],
   "source": [
    "candidates_response = sm.list_candidates_for_auto_ml_job(AutoMLJobName=auto_ml_job_name, \n",
    "                                                         SortBy='FinalObjectiveMetricValue')"
   ]
  },
  {
   "cell_type": "markdown",
   "metadata": {},
   "source": [
    "### Check that candidates exist"
   ]
  },
  {
   "cell_type": "code",
   "execution_count": 33,
   "metadata": {},
   "outputs": [
    {
     "name": "stdout",
     "output_type": "stream",
     "text": [
      "dict_keys(['Candidates', 'ResponseMetadata'])\n"
     ]
    }
   ],
   "source": [
    "print(candidates_response.keys())"
   ]
  },
  {
   "cell_type": "code",
   "execution_count": 34,
   "metadata": {},
   "outputs": [
    {
     "name": "stdout",
     "output_type": "stream",
     "text": [
      "[OK] Candidates generated.\n"
     ]
    }
   ],
   "source": [
    "while 'Candidates' not in candidates_response.keys():\n",
    "    candidates_response = sm.list_candidates_for_auto_ml_job(AutoMLJobName=auto_ml_job_name, \n",
    "                                                         SortBy='FinalObjectiveMetricValue')\n",
    "    print('[INFO] Autopilot Job is generating the Candidates. Please wait.')\n",
    "    print(json.dumps(candidates_response, indent=4, sort_keys=True, default=str))\n",
    "    sleep(10)\n",
    "\n",
    "candidates = candidates_response['Candidates']\n",
    "print('[OK] Candidates generated.') "
   ]
  },
  {
   "cell_type": "code",
   "execution_count": 35,
   "metadata": {},
   "outputs": [
    {
     "name": "stdout",
     "output_type": "stream",
     "text": [
      "dict_keys(['CandidateName', 'FinalAutoMLJobObjectiveMetric', 'ObjectiveStatus', 'CandidateSteps', 'CandidateStatus', 'InferenceContainers', 'CreationTime', 'EndTime', 'LastModifiedTime'])\n"
     ]
    }
   ],
   "source": [
    "print(candidates[0].keys())"
   ]
  },
  {
   "cell_type": "code",
   "execution_count": 36,
   "metadata": {},
   "outputs": [
    {
     "name": "stdout",
     "output_type": "stream",
     "text": [
      "[OK] CandidateName generated.\n"
     ]
    }
   ],
   "source": [
    "while 'CandidateName' not in candidates[0]:\n",
    "    candidates_response = sm.list_candidates_for_auto_ml_job(AutoMLJobName=auto_ml_job_name, \n",
    "                                                         SortBy='FinalObjectiveMetricValue')\n",
    "    candidates = candidates_response['Candidates']\n",
    "    print('[INFO] Autopilot Job is generating CandidateName. Please wait. ')\n",
    "    print(json.dumps(candidates, indent=4, sort_keys=True, default=str))\n",
    "    sleep(10)\n",
    "\n",
    "print('[OK] CandidateName generated.')     "
   ]
  },
  {
   "cell_type": "code",
   "execution_count": 37,
   "metadata": {},
   "outputs": [
    {
     "name": "stdout",
     "output_type": "stream",
     "text": [
      "[OK] FinalAutoMLJobObjectiveMetric generated.\n"
     ]
    }
   ],
   "source": [
    "while 'FinalAutoMLJobObjectiveMetric' not in candidates[0]:\n",
    "    candidates_response = sm.list_candidates_for_auto_ml_job(AutoMLJobName=auto_ml_job_name, \n",
    "                                                         SortBy='FinalObjectiveMetricValue')\n",
    "    candidates = candidates_response['Candidates']\n",
    "    print('[INFO] Autopilot Job is generating FinalAutoMLJobObjectiveMetric. Please wait. ')\n",
    "    print(json.dumps(candidates, indent=4, sort_keys=True, default=str))\n",
    "    sleep(10)\n",
    "\n",
    "print('[OK] FinalAutoMLJobObjectiveMetric generated.')  "
   ]
  },
  {
   "cell_type": "code",
   "execution_count": 38,
   "metadata": {
    "scrolled": true
   },
   "outputs": [
    {
     "name": "stdout",
     "output_type": "stream",
     "text": [
      "[\n",
      "    {\n",
      "        \"CandidateName\": \"tuning-job-1-e2f87a329cb24779ad-001-33072cc0\",\n",
      "        \"CandidateStatus\": \"Completed\",\n",
      "        \"CandidateSteps\": [\n",
      "            {\n",
      "                \"CandidateStepArn\": \"arn:aws:sagemaker:us-east-1:331041401449:processing-job/db-1-c746168660554129af899c43592f2144cddc7a48812249d6a5e913fb97\",\n",
      "                \"CandidateStepName\": \"db-1-c746168660554129af899c43592f2144cddc7a48812249d6a5e913fb97\",\n",
      "                \"CandidateStepType\": \"AWS::SageMaker::ProcessingJob\"\n",
      "            },\n",
      "            {\n",
      "                \"CandidateStepArn\": \"arn:aws:sagemaker:us-east-1:331041401449:training-job/automl-dm--dpp0-1-da688f7f84d54dcf8469f92d64f7937c148b5bf0db3c4\",\n",
      "                \"CandidateStepName\": \"automl-dm--dpp0-1-da688f7f84d54dcf8469f92d64f7937c148b5bf0db3c4\",\n",
      "                \"CandidateStepType\": \"AWS::SageMaker::TrainingJob\"\n",
      "            },\n",
      "            {\n",
      "                \"CandidateStepArn\": \"arn:aws:sagemaker:us-east-1:331041401449:transform-job/automl-dm--dpp0-rpb-1-2732a5733bd7403fb716970b298f65dd25dac1e7a\",\n",
      "                \"CandidateStepName\": \"automl-dm--dpp0-rpb-1-2732a5733bd7403fb716970b298f65dd25dac1e7a\",\n",
      "                \"CandidateStepType\": \"AWS::SageMaker::TransformJob\"\n",
      "            },\n",
      "            {\n",
      "                \"CandidateStepArn\": \"arn:aws:sagemaker:us-east-1:331041401449:training-job/tuning-job-1-e2f87a329cb24779ad-001-33072cc0\",\n",
      "                \"CandidateStepName\": \"tuning-job-1-e2f87a329cb24779ad-001-33072cc0\",\n",
      "                \"CandidateStepType\": \"AWS::SageMaker::TrainingJob\"\n",
      "            }\n",
      "        ],\n",
      "        \"CreationTime\": \"2020-11-14 14:08:17+00:00\",\n",
      "        \"EndTime\": \"2020-11-14 14:09:07+00:00\",\n",
      "        \"FinalAutoMLJobObjectiveMetric\": {\n",
      "            \"MetricName\": \"validation:accuracy\",\n",
      "            \"Value\": 0.43156999349594116\n",
      "        },\n",
      "        \"InferenceContainers\": [\n",
      "            {\n",
      "                \"Environment\": {\n",
      "                    \"AUTOML_SPARSE_ENCODE_RECORDIO_PROTOBUF\": \"1\",\n",
      "                    \"AUTOML_TRANSFORM_MODE\": \"feature-transform\",\n",
      "                    \"SAGEMAKER_DEFAULT_INVOCATIONS_ACCEPT\": \"application/x-recordio-protobuf\",\n",
      "                    \"SAGEMAKER_PROGRAM\": \"sagemaker_serve\",\n",
      "                    \"SAGEMAKER_SUBMIT_DIRECTORY\": \"/opt/ml/model/code\"\n",
      "                },\n",
      "                \"Image\": \"683313688378.dkr.ecr.us-east-1.amazonaws.com/sagemaker-sklearn-automl:0.2-1-cpu-py3\",\n",
      "                \"ModelDataUrl\": \"s3://ada-dev/xiaotian/ml/autopilot/model/automl-dm-11-14-13-48/data-processor-models/automl-dm--dpp0-1-da688f7f84d54dcf8469f92d64f7937c148b5bf0db3c4/output/model.tar.gz\"\n",
      "            },\n",
      "            {\n",
      "                \"Environment\": {\n",
      "                    \"MAX_CONTENT_LENGTH\": \"20971520\",\n",
      "                    \"SAGEMAKER_DEFAULT_INVOCATIONS_ACCEPT\": \"text/csv\",\n",
      "                    \"SAGEMAKER_INFERENCE_OUTPUT\": \"predicted_label\",\n",
      "                    \"SAGEMAKER_INFERENCE_SUPPORTED\": \"predicted_label,probability,probabilities\"\n",
      "                },\n",
      "                \"Image\": \"683313688378.dkr.ecr.us-east-1.amazonaws.com/sagemaker-xgboost:1.0-1-cpu-py3\",\n",
      "                \"ModelDataUrl\": \"s3://ada-dev/xiaotian/ml/autopilot/model/automl-dm-11-14-13-48/tuning/automl-dm--dpp0-xgb/tuning-job-1-e2f87a329cb24779ad-001-33072cc0/output/model.tar.gz\"\n",
      "            },\n",
      "            {\n",
      "                \"Environment\": {\n",
      "                    \"AUTOML_TRANSFORM_MODE\": \"inverse-label-transform\",\n",
      "                    \"SAGEMAKER_DEFAULT_INVOCATIONS_ACCEPT\": \"text/csv\",\n",
      "                    \"SAGEMAKER_INFERENCE_INPUT\": \"predicted_label\",\n",
      "                    \"SAGEMAKER_INFERENCE_OUTPUT\": \"predicted_label\",\n",
      "                    \"SAGEMAKER_INFERENCE_SUPPORTED\": \"predicted_label,probability,labels,probabilities\",\n",
      "                    \"SAGEMAKER_PROGRAM\": \"sagemaker_serve\",\n",
      "                    \"SAGEMAKER_SUBMIT_DIRECTORY\": \"/opt/ml/model/code\"\n",
      "                },\n",
      "                \"Image\": \"683313688378.dkr.ecr.us-east-1.amazonaws.com/sagemaker-sklearn-automl:0.2-1-cpu-py3\",\n",
      "                \"ModelDataUrl\": \"s3://ada-dev/xiaotian/ml/autopilot/model/automl-dm-11-14-13-48/data-processor-models/automl-dm--dpp0-1-da688f7f84d54dcf8469f92d64f7937c148b5bf0db3c4/output/model.tar.gz\"\n",
      "            }\n",
      "        ],\n",
      "        \"LastModifiedTime\": \"2020-11-14 14:09:31.650000+00:00\",\n",
      "        \"ObjectiveStatus\": \"Succeeded\"\n",
      "    },\n",
      "    {\n",
      "        \"CandidateName\": \"tuning-job-1-e2f87a329cb24779ad-003-39c3a117\",\n",
      "        \"CandidateStatus\": \"Completed\",\n",
      "        \"CandidateSteps\": [\n",
      "            {\n",
      "                \"CandidateStepArn\": \"arn:aws:sagemaker:us-east-1:331041401449:processing-job/db-1-c746168660554129af899c43592f2144cddc7a48812249d6a5e913fb97\",\n",
      "                \"CandidateStepName\": \"db-1-c746168660554129af899c43592f2144cddc7a48812249d6a5e913fb97\",\n",
      "                \"CandidateStepType\": \"AWS::SageMaker::ProcessingJob\"\n",
      "            },\n",
      "            {\n",
      "                \"CandidateStepArn\": \"arn:aws:sagemaker:us-east-1:331041401449:training-job/automl-dm--dpp0-1-da688f7f84d54dcf8469f92d64f7937c148b5bf0db3c4\",\n",
      "                \"CandidateStepName\": \"automl-dm--dpp0-1-da688f7f84d54dcf8469f92d64f7937c148b5bf0db3c4\",\n",
      "                \"CandidateStepType\": \"AWS::SageMaker::TrainingJob\"\n",
      "            },\n",
      "            {\n",
      "                \"CandidateStepArn\": \"arn:aws:sagemaker:us-east-1:331041401449:transform-job/automl-dm--dpp0-rpb-1-2732a5733bd7403fb716970b298f65dd25dac1e7a\",\n",
      "                \"CandidateStepName\": \"automl-dm--dpp0-rpb-1-2732a5733bd7403fb716970b298f65dd25dac1e7a\",\n",
      "                \"CandidateStepType\": \"AWS::SageMaker::TransformJob\"\n",
      "            },\n",
      "            {\n",
      "                \"CandidateStepArn\": \"arn:aws:sagemaker:us-east-1:331041401449:training-job/tuning-job-1-e2f87a329cb24779ad-003-39c3a117\",\n",
      "                \"CandidateStepName\": \"tuning-job-1-e2f87a329cb24779ad-003-39c3a117\",\n",
      "                \"CandidateStepType\": \"AWS::SageMaker::TrainingJob\"\n",
      "            }\n",
      "        ],\n",
      "        \"CreationTime\": \"2020-11-14 14:07:51+00:00\",\n",
      "        \"EndTime\": \"2020-11-14 14:09:03+00:00\",\n",
      "        \"FinalAutoMLJobObjectiveMetric\": {\n",
      "            \"MetricName\": \"validation:accuracy\",\n",
      "            \"Value\": 0.4232800006866455\n",
      "        },\n",
      "        \"InferenceContainers\": [\n",
      "            {\n",
      "                \"Environment\": {\n",
      "                    \"AUTOML_SPARSE_ENCODE_RECORDIO_PROTOBUF\": \"1\",\n",
      "                    \"AUTOML_TRANSFORM_MODE\": \"feature-transform\",\n",
      "                    \"SAGEMAKER_DEFAULT_INVOCATIONS_ACCEPT\": \"application/x-recordio-protobuf\",\n",
      "                    \"SAGEMAKER_PROGRAM\": \"sagemaker_serve\",\n",
      "                    \"SAGEMAKER_SUBMIT_DIRECTORY\": \"/opt/ml/model/code\"\n",
      "                },\n",
      "                \"Image\": \"683313688378.dkr.ecr.us-east-1.amazonaws.com/sagemaker-sklearn-automl:0.2-1-cpu-py3\",\n",
      "                \"ModelDataUrl\": \"s3://ada-dev/xiaotian/ml/autopilot/model/automl-dm-11-14-13-48/data-processor-models/automl-dm--dpp0-1-da688f7f84d54dcf8469f92d64f7937c148b5bf0db3c4/output/model.tar.gz\"\n",
      "            },\n",
      "            {\n",
      "                \"Environment\": {\n",
      "                    \"MAX_CONTENT_LENGTH\": \"20971520\",\n",
      "                    \"SAGEMAKER_DEFAULT_INVOCATIONS_ACCEPT\": \"text/csv\",\n",
      "                    \"SAGEMAKER_INFERENCE_OUTPUT\": \"predicted_label\",\n",
      "                    \"SAGEMAKER_INFERENCE_SUPPORTED\": \"predicted_label,probability,probabilities\"\n",
      "                },\n",
      "                \"Image\": \"683313688378.dkr.ecr.us-east-1.amazonaws.com/sagemaker-xgboost:1.0-1-cpu-py3\",\n",
      "                \"ModelDataUrl\": \"s3://ada-dev/xiaotian/ml/autopilot/model/automl-dm-11-14-13-48/tuning/automl-dm--dpp0-xgb/tuning-job-1-e2f87a329cb24779ad-003-39c3a117/output/model.tar.gz\"\n",
      "            },\n",
      "            {\n",
      "                \"Environment\": {\n",
      "                    \"AUTOML_TRANSFORM_MODE\": \"inverse-label-transform\",\n",
      "                    \"SAGEMAKER_DEFAULT_INVOCATIONS_ACCEPT\": \"text/csv\",\n",
      "                    \"SAGEMAKER_INFERENCE_INPUT\": \"predicted_label\",\n",
      "                    \"SAGEMAKER_INFERENCE_OUTPUT\": \"predicted_label\",\n",
      "                    \"SAGEMAKER_INFERENCE_SUPPORTED\": \"predicted_label,probability,labels,probabilities\",\n",
      "                    \"SAGEMAKER_PROGRAM\": \"sagemaker_serve\",\n",
      "                    \"SAGEMAKER_SUBMIT_DIRECTORY\": \"/opt/ml/model/code\"\n",
      "                },\n",
      "                \"Image\": \"683313688378.dkr.ecr.us-east-1.amazonaws.com/sagemaker-sklearn-automl:0.2-1-cpu-py3\",\n",
      "                \"ModelDataUrl\": \"s3://ada-dev/xiaotian/ml/autopilot/model/automl-dm-11-14-13-48/data-processor-models/automl-dm--dpp0-1-da688f7f84d54dcf8469f92d64f7937c148b5bf0db3c4/output/model.tar.gz\"\n",
      "            }\n",
      "        ],\n",
      "        \"LastModifiedTime\": \"2020-11-14 14:09:31.650000+00:00\",\n",
      "        \"ObjectiveStatus\": \"Succeeded\"\n",
      "    },\n",
      "    {\n",
      "        \"CandidateName\": \"tuning-job-1-e2f87a329cb24779ad-002-5d4148e8\",\n",
      "        \"CandidateStatus\": \"Completed\",\n",
      "        \"CandidateSteps\": [\n",
      "            {\n",
      "                \"CandidateStepArn\": \"arn:aws:sagemaker:us-east-1:331041401449:processing-job/db-1-c746168660554129af899c43592f2144cddc7a48812249d6a5e913fb97\",\n",
      "                \"CandidateStepName\": \"db-1-c746168660554129af899c43592f2144cddc7a48812249d6a5e913fb97\",\n",
      "                \"CandidateStepType\": \"AWS::SageMaker::ProcessingJob\"\n",
      "            },\n",
      "            {\n",
      "                \"CandidateStepArn\": \"arn:aws:sagemaker:us-east-1:331041401449:training-job/automl-dm--dpp1-1-cc308a05319a46749f10524108842f72e016570692a84\",\n",
      "                \"CandidateStepName\": \"automl-dm--dpp1-1-cc308a05319a46749f10524108842f72e016570692a84\",\n",
      "                \"CandidateStepType\": \"AWS::SageMaker::TrainingJob\"\n",
      "            },\n",
      "            {\n",
      "                \"CandidateStepArn\": \"arn:aws:sagemaker:us-east-1:331041401449:transform-job/automl-dm--dpp1-csv-1-e1756ff0505d43f7b1fa0386242abe010001e95cb\",\n",
      "                \"CandidateStepName\": \"automl-dm--dpp1-csv-1-e1756ff0505d43f7b1fa0386242abe010001e95cb\",\n",
      "                \"CandidateStepType\": \"AWS::SageMaker::TransformJob\"\n",
      "            },\n",
      "            {\n",
      "                \"CandidateStepArn\": \"arn:aws:sagemaker:us-east-1:331041401449:training-job/tuning-job-1-e2f87a329cb24779ad-002-5d4148e8\",\n",
      "                \"CandidateStepName\": \"tuning-job-1-e2f87a329cb24779ad-002-5d4148e8\",\n",
      "                \"CandidateStepType\": \"AWS::SageMaker::TrainingJob\"\n",
      "            }\n",
      "        ],\n",
      "        \"CreationTime\": \"2020-11-14 14:07:51+00:00\",\n",
      "        \"EndTime\": \"2020-11-14 14:09:03+00:00\",\n",
      "        \"FinalAutoMLJobObjectiveMetric\": {\n",
      "            \"MetricName\": \"validation:accuracy\",\n",
      "            \"Value\": 0.34172001481056213\n",
      "        },\n",
      "        \"InferenceContainers\": [\n",
      "            {\n",
      "                \"Environment\": {\n",
      "                    \"AUTOML_TRANSFORM_MODE\": \"feature-transform\",\n",
      "                    \"SAGEMAKER_DEFAULT_INVOCATIONS_ACCEPT\": \"application/x-recordio-protobuf\",\n",
      "                    \"SAGEMAKER_PROGRAM\": \"sagemaker_serve\",\n",
      "                    \"SAGEMAKER_SUBMIT_DIRECTORY\": \"/opt/ml/model/code\"\n",
      "                },\n",
      "                \"Image\": \"683313688378.dkr.ecr.us-east-1.amazonaws.com/sagemaker-sklearn-automl:0.2-1-cpu-py3\",\n",
      "                \"ModelDataUrl\": \"s3://ada-dev/xiaotian/ml/autopilot/model/automl-dm-11-14-13-48/data-processor-models/automl-dm--dpp1-1-cc308a05319a46749f10524108842f72e016570692a84/output/model.tar.gz\"\n",
      "            },\n",
      "            {\n",
      "                \"Environment\": {\n",
      "                    \"MAX_CONTENT_LENGTH\": \"20971520\",\n",
      "                    \"SAGEMAKER_DEFAULT_INVOCATIONS_ACCEPT\": \"text/csv\",\n",
      "                    \"SAGEMAKER_INFERENCE_OUTPUT\": \"predicted_label\",\n",
      "                    \"SAGEMAKER_INFERENCE_SUPPORTED\": \"predicted_label,probability,probabilities\"\n",
      "                },\n",
      "                \"Image\": \"683313688378.dkr.ecr.us-east-1.amazonaws.com/sagemaker-xgboost:1.0-1-cpu-py3\",\n",
      "                \"ModelDataUrl\": \"s3://ada-dev/xiaotian/ml/autopilot/model/automl-dm-11-14-13-48/tuning/automl-dm--dpp1-xgb/tuning-job-1-e2f87a329cb24779ad-002-5d4148e8/output/model.tar.gz\"\n",
      "            },\n",
      "            {\n",
      "                \"Environment\": {\n",
      "                    \"AUTOML_TRANSFORM_MODE\": \"inverse-label-transform\",\n",
      "                    \"SAGEMAKER_DEFAULT_INVOCATIONS_ACCEPT\": \"text/csv\",\n",
      "                    \"SAGEMAKER_INFERENCE_INPUT\": \"predicted_label\",\n",
      "                    \"SAGEMAKER_INFERENCE_OUTPUT\": \"predicted_label\",\n",
      "                    \"SAGEMAKER_INFERENCE_SUPPORTED\": \"predicted_label,probability,labels,probabilities\",\n",
      "                    \"SAGEMAKER_PROGRAM\": \"sagemaker_serve\",\n",
      "                    \"SAGEMAKER_SUBMIT_DIRECTORY\": \"/opt/ml/model/code\"\n",
      "                },\n",
      "                \"Image\": \"683313688378.dkr.ecr.us-east-1.amazonaws.com/sagemaker-sklearn-automl:0.2-1-cpu-py3\",\n",
      "                \"ModelDataUrl\": \"s3://ada-dev/xiaotian/ml/autopilot/model/automl-dm-11-14-13-48/data-processor-models/automl-dm--dpp1-1-cc308a05319a46749f10524108842f72e016570692a84/output/model.tar.gz\"\n",
      "            }\n",
      "        ],\n",
      "        \"LastModifiedTime\": \"2020-11-14 14:09:31.650000+00:00\",\n",
      "        \"ObjectiveStatus\": \"Succeeded\"\n",
      "    }\n",
      "]\n"
     ]
    }
   ],
   "source": [
    "print(json.dumps(candidates, indent=4, sort_keys=True, default=str))"
   ]
  },
  {
   "cell_type": "code",
   "execution_count": 39,
   "metadata": {},
   "outputs": [
    {
     "name": "stdout",
     "output_type": "stream",
     "text": [
      "0  tuning-job-1-e2f87a329cb24779ad-001-33072cc0  0.43156999349594116\n",
      "1  tuning-job-1-e2f87a329cb24779ad-003-39c3a117  0.4232800006866455\n",
      "2  tuning-job-1-e2f87a329cb24779ad-002-5d4148e8  0.34172001481056213\n"
     ]
    }
   ],
   "source": [
    "for index, candidate in enumerate(candidates):\n",
    "    print(str(index) + \"  \" \n",
    "        + candidate['CandidateName'] + \"  \" \n",
    "        + str(candidate['FinalAutoMLJobObjectiveMetric']['Value']))"
   ]
  },
  {
   "cell_type": "markdown",
   "metadata": {},
   "source": [
    "# Inspect Trials using Experiments API\n",
    "\n",
    "SageMaker Autopilot automatically creates a new experiment, and pushes information for each trial. "
   ]
  },
  {
   "cell_type": "code",
   "execution_count": 40,
   "metadata": {
    "collapsed": true,
    "jupyter": {
     "outputs_hidden": true
    }
   },
   "outputs": [
    {
     "name": "stdout",
     "output_type": "stream",
     "text": [
      "                                  TrialComponentName  \\\n",
      "0  tuning-job-1-e2f87a329cb24779ad-001-33072cc0-a...   \n",
      "1  tuning-job-1-e2f87a329cb24779ad-002-5d4148e8-a...   \n",
      "2  tuning-job-1-e2f87a329cb24779ad-003-39c3a117-a...   \n",
      "3  automl-dm--dpp0-rpb-1-2732a5733bd7403fb716970b...   \n",
      "4  automl-dm--dpp1-csv-1-e1756ff0505d43f7b1fa0386...   \n",
      "5  automl-dm--dpp0-1-da688f7f84d54dcf8469f92d64f7...   \n",
      "6  automl-dm--dpp1-1-cc308a05319a46749f1052410884...   \n",
      "7  db-1-c746168660554129af899c43592f2144cddc7a488...   \n",
      "\n",
      "                                         DisplayName  \\\n",
      "0  tuning-job-1-e2f87a329cb24779ad-001-33072cc0-a...   \n",
      "1  tuning-job-1-e2f87a329cb24779ad-002-5d4148e8-a...   \n",
      "2  tuning-job-1-e2f87a329cb24779ad-003-39c3a117-a...   \n",
      "3  automl-dm--dpp0-rpb-1-2732a5733bd7403fb716970b...   \n",
      "4  automl-dm--dpp1-csv-1-e1756ff0505d43f7b1fa0386...   \n",
      "5  automl-dm--dpp0-1-da688f7f84d54dcf8469f92d64f7...   \n",
      "6  automl-dm--dpp1-1-cc308a05319a46749f1052410884...   \n",
      "7  db-1-c746168660554129af899c43592f2144cddc7a488...   \n",
      "\n",
      "                                           SourceArn  \\\n",
      "0  arn:aws:sagemaker:us-east-1:331041401449:train...   \n",
      "1  arn:aws:sagemaker:us-east-1:331041401449:train...   \n",
      "2  arn:aws:sagemaker:us-east-1:331041401449:train...   \n",
      "3  arn:aws:sagemaker:us-east-1:331041401449:trans...   \n",
      "4  arn:aws:sagemaker:us-east-1:331041401449:trans...   \n",
      "5  arn:aws:sagemaker:us-east-1:331041401449:train...   \n",
      "6  arn:aws:sagemaker:us-east-1:331041401449:train...   \n",
      "7  arn:aws:sagemaker:us-east-1:331041401449:proce...   \n",
      "\n",
      "                                  SageMaker.ImageUri  SageMaker.InstanceCount  \\\n",
      "0  683313688378.dkr.ecr.us-east-1.amazonaws.com/s...                      1.0   \n",
      "1  683313688378.dkr.ecr.us-east-1.amazonaws.com/s...                      1.0   \n",
      "2  683313688378.dkr.ecr.us-east-1.amazonaws.com/s...                      1.0   \n",
      "3                                                NaN                      1.0   \n",
      "4                                                NaN                      1.0   \n",
      "5  683313688378.dkr.ecr.us-east-1.amazonaws.com/s...                      1.0   \n",
      "6  683313688378.dkr.ecr.us-east-1.amazonaws.com/s...                      1.0   \n",
      "7                                                NaN                      1.0   \n",
      "\n",
      "  SageMaker.InstanceType  SageMaker.VolumeSizeInGB _tuning_objective_metric  \\\n",
      "0          ml.m5.4xlarge                      50.0      validation:accuracy   \n",
      "1          ml.m5.4xlarge                      50.0      validation:accuracy   \n",
      "2          ml.m5.4xlarge                      50.0      validation:accuracy   \n",
      "3          ml.m5.4xlarge                       NaN                      NaN   \n",
      "4          ml.m5.4xlarge                       NaN                      NaN   \n",
      "5          ml.m5.4xlarge                      50.0                      NaN   \n",
      "6          ml.m5.4xlarge                      50.0                      NaN   \n",
      "7          ml.m5.2xlarge                     250.0                      NaN   \n",
      "\n",
      "      alpha  colsample_bytree  ...    code - MediaType  \\\n",
      "0  0.000019          0.414495  ...                 NaN   \n",
      "1  0.000019          0.414495  ...                 NaN   \n",
      "2  0.000028          0.545232  ...                 NaN   \n",
      "3       NaN               NaN  ...                 NaN   \n",
      "4       NaN               NaN  ...                 NaN   \n",
      "5       NaN               NaN  ...  application/x-code   \n",
      "6       NaN               NaN  ...  application/x-code   \n",
      "7       NaN               NaN  ...                 NaN   \n",
      "\n",
      "                                        code - Value  input_channel_mode  \\\n",
      "0                                                NaN                 NaN   \n",
      "1                                                NaN                 NaN   \n",
      "2                                                NaN                 NaN   \n",
      "3                                                NaN                 NaN   \n",
      "4                                                NaN                 NaN   \n",
      "5  s3://ada-dev/xiaotian/ml/autopilot/model/autom...                 NaN   \n",
      "6  s3://ada-dev/xiaotian/ml/autopilot/model/autom...                 NaN   \n",
      "7                                                NaN                Pipe   \n",
      "\n",
      "                job_name  label_col  max_dataset_size  \\\n",
      "0                    NaN        NaN               NaN   \n",
      "1                    NaN        NaN               NaN   \n",
      "2                    NaN        NaN               NaN   \n",
      "3                    NaN        NaN               NaN   \n",
      "4                    NaN        NaN               NaN   \n",
      "5                    NaN        NaN               NaN   \n",
      "6                    NaN        NaN               NaN   \n",
      "7  automl-dm-11-14-13-48  label_int                 5   \n",
      "\n",
      "   SageMaker.ImageUri - MediaType  \\\n",
      "0                             NaN   \n",
      "1                             NaN   \n",
      "2                             NaN   \n",
      "3                             NaN   \n",
      "4                             NaN   \n",
      "5                             NaN   \n",
      "6                             NaN   \n",
      "7                             NaN   \n",
      "\n",
      "                          SageMaker.ImageUri - Value ds - MediaType  \\\n",
      "0                                                NaN            NaN   \n",
      "1                                                NaN            NaN   \n",
      "2                                                NaN            NaN   \n",
      "3                                                NaN            NaN   \n",
      "4                                                NaN            NaN   \n",
      "5                                                NaN            NaN   \n",
      "6                                                NaN            NaN   \n",
      "7  120479346908.dkr.ecr.us-east-1.amazonaws.com/d...            NaN   \n",
      "\n",
      "                                 ds - Value  \n",
      "0                                       NaN  \n",
      "1                                       NaN  \n",
      "2                                       NaN  \n",
      "3                                       NaN  \n",
      "4                                       NaN  \n",
      "5                                       NaN  \n",
      "6                                       NaN  \n",
      "7  s3://ada-dev/xiaotian/ml/autopilot/model  \n",
      "\n",
      "[8 rows x 78 columns]\n"
     ]
    }
   ],
   "source": [
    "from sagemaker.analytics import ExperimentAnalytics, TrainingJobAnalytics\n",
    "\n",
    "exp = ExperimentAnalytics(\n",
    "    sagemaker_session=sess, \n",
    "    experiment_name=auto_ml_job_name + '-aws-auto-ml-job',\n",
    ")\n",
    "\n",
    "df = exp.dataframe()\n",
    "print(df)"
   ]
  },
  {
   "cell_type": "markdown",
   "metadata": {},
   "source": [
    "# Explore the Best Candidate\n",
    "Now that we have successfully completed the AutoML job on our dataset and visualized the trials, we can create a model from any of the trials with a single API call and then deploy that model for online or batch prediction using [Inference Pipelines](https://docs.aws.amazon.com/sagemaker/latest/dg/inference-pipelines.html). For this notebook, we deploy only the best performing trial for inference."
   ]
  },
  {
   "cell_type": "markdown",
   "metadata": {},
   "source": [
    "The best candidate is the one we're really interested in."
   ]
  },
  {
   "cell_type": "code",
   "execution_count": 41,
   "metadata": {},
   "outputs": [],
   "source": [
    "best_candidate_response = sm.describe_auto_ml_job(AutoMLJobName=auto_ml_job_name)"
   ]
  },
  {
   "cell_type": "code",
   "execution_count": 100,
   "metadata": {},
   "outputs": [
    {
     "name": "stdout",
     "output_type": "stream",
     "text": [
      "dict_keys(['AutoMLJobName', 'AutoMLJobArn', 'InputDataConfig', 'OutputDataConfig', 'RoleArn', 'AutoMLJobConfig', 'CreationTime', 'EndTime', 'LastModifiedTime', 'BestCandidate', 'AutoMLJobStatus', 'AutoMLJobSecondaryStatus', 'GenerateCandidateDefinitionsOnly', 'AutoMLJobArtifacts', 'ResolvedAttributes', 'ResponseMetadata'])\n"
     ]
    }
   ],
   "source": [
    "print(best_candidate_response.keys())"
   ]
  },
  {
   "cell_type": "code",
   "execution_count": 46,
   "metadata": {},
   "outputs": [
    {
     "name": "stdout",
     "output_type": "stream",
     "text": [
      "[OK] BestCandidate generated.\n"
     ]
    }
   ],
   "source": [
    "while 'BestCandidate' not in best_candidate_response:\n",
    "    best_candidate_response = sm.describe_auto_ml_job(AutoMLJobName=auto_ml_job_name)\n",
    "    print('[INFO] Autopilot Job is generating BestCandidate. Please wait. ')\n",
    "    print(json.dumps(best_candidate_response, indent=4, sort_keys=True, default=str))\n",
    "    sleep(10)\n",
    "\n",
    "best_candidate = best_candidate_response['BestCandidate']\n",
    "print('[OK] BestCandidate generated.')  "
   ]
  },
  {
   "cell_type": "code",
   "execution_count": 42,
   "metadata": {
    "scrolled": true
   },
   "outputs": [
    {
     "name": "stdout",
     "output_type": "stream",
     "text": [
      "{\n",
      "    \"AutoMLJobArn\": \"arn:aws:sagemaker:us-east-1:331041401449:automl-job/automl-dm-11-14-13-48\",\n",
      "    \"AutoMLJobArtifacts\": {\n",
      "        \"CandidateDefinitionNotebookLocation\": \"s3://ada-dev/xiaotian/ml/autopilot/model/automl-dm-11-14-13-48/sagemaker-automl-candidates/pr-1-82ebc5108b8049cf9df8cc241283c077c80e1be33a1c4f47b145b2918d/notebooks/SageMakerAutopilotCandidateDefinitionNotebook.ipynb\",\n",
      "        \"DataExplorationNotebookLocation\": \"s3://ada-dev/xiaotian/ml/autopilot/model/automl-dm-11-14-13-48/sagemaker-automl-candidates/pr-1-82ebc5108b8049cf9df8cc241283c077c80e1be33a1c4f47b145b2918d/notebooks/SageMakerAutopilotDataExplorationNotebook.ipynb\"\n",
      "    },\n",
      "    \"AutoMLJobConfig\": {\n",
      "        \"CompletionCriteria\": {\n",
      "            \"MaxAutoMLJobRuntimeInSeconds\": 5400,\n",
      "            \"MaxCandidates\": 3,\n",
      "            \"MaxRuntimePerTrainingJobInSeconds\": 900\n",
      "        }\n",
      "    },\n",
      "    \"AutoMLJobName\": \"automl-dm-11-14-13-48\",\n",
      "    \"AutoMLJobSecondaryStatus\": \"MaxCandidatesReached\",\n",
      "    \"AutoMLJobStatus\": \"Completed\",\n",
      "    \"BestCandidate\": {\n",
      "        \"CandidateName\": \"tuning-job-1-e2f87a329cb24779ad-001-33072cc0\",\n",
      "        \"CandidateStatus\": \"Completed\",\n",
      "        \"CandidateSteps\": [\n",
      "            {\n",
      "                \"CandidateStepArn\": \"arn:aws:sagemaker:us-east-1:331041401449:processing-job/db-1-c746168660554129af899c43592f2144cddc7a48812249d6a5e913fb97\",\n",
      "                \"CandidateStepName\": \"db-1-c746168660554129af899c43592f2144cddc7a48812249d6a5e913fb97\",\n",
      "                \"CandidateStepType\": \"AWS::SageMaker::ProcessingJob\"\n",
      "            },\n",
      "            {\n",
      "                \"CandidateStepArn\": \"arn:aws:sagemaker:us-east-1:331041401449:training-job/automl-dm--dpp0-1-da688f7f84d54dcf8469f92d64f7937c148b5bf0db3c4\",\n",
      "                \"CandidateStepName\": \"automl-dm--dpp0-1-da688f7f84d54dcf8469f92d64f7937c148b5bf0db3c4\",\n",
      "                \"CandidateStepType\": \"AWS::SageMaker::TrainingJob\"\n",
      "            },\n",
      "            {\n",
      "                \"CandidateStepArn\": \"arn:aws:sagemaker:us-east-1:331041401449:transform-job/automl-dm--dpp0-rpb-1-2732a5733bd7403fb716970b298f65dd25dac1e7a\",\n",
      "                \"CandidateStepName\": \"automl-dm--dpp0-rpb-1-2732a5733bd7403fb716970b298f65dd25dac1e7a\",\n",
      "                \"CandidateStepType\": \"AWS::SageMaker::TransformJob\"\n",
      "            },\n",
      "            {\n",
      "                \"CandidateStepArn\": \"arn:aws:sagemaker:us-east-1:331041401449:training-job/tuning-job-1-e2f87a329cb24779ad-001-33072cc0\",\n",
      "                \"CandidateStepName\": \"tuning-job-1-e2f87a329cb24779ad-001-33072cc0\",\n",
      "                \"CandidateStepType\": \"AWS::SageMaker::TrainingJob\"\n",
      "            }\n",
      "        ],\n",
      "        \"CreationTime\": \"2020-11-14 14:08:17+00:00\",\n",
      "        \"EndTime\": \"2020-11-14 14:09:07+00:00\",\n",
      "        \"FinalAutoMLJobObjectiveMetric\": {\n",
      "            \"MetricName\": \"validation:accuracy\",\n",
      "            \"Value\": 0.43156999349594116\n",
      "        },\n",
      "        \"InferenceContainers\": [\n",
      "            {\n",
      "                \"Environment\": {\n",
      "                    \"AUTOML_SPARSE_ENCODE_RECORDIO_PROTOBUF\": \"1\",\n",
      "                    \"AUTOML_TRANSFORM_MODE\": \"feature-transform\",\n",
      "                    \"SAGEMAKER_DEFAULT_INVOCATIONS_ACCEPT\": \"application/x-recordio-protobuf\",\n",
      "                    \"SAGEMAKER_PROGRAM\": \"sagemaker_serve\",\n",
      "                    \"SAGEMAKER_SUBMIT_DIRECTORY\": \"/opt/ml/model/code\"\n",
      "                },\n",
      "                \"Image\": \"683313688378.dkr.ecr.us-east-1.amazonaws.com/sagemaker-sklearn-automl:0.2-1-cpu-py3\",\n",
      "                \"ModelDataUrl\": \"s3://ada-dev/xiaotian/ml/autopilot/model/automl-dm-11-14-13-48/data-processor-models/automl-dm--dpp0-1-da688f7f84d54dcf8469f92d64f7937c148b5bf0db3c4/output/model.tar.gz\"\n",
      "            },\n",
      "            {\n",
      "                \"Environment\": {\n",
      "                    \"MAX_CONTENT_LENGTH\": \"20971520\",\n",
      "                    \"SAGEMAKER_DEFAULT_INVOCATIONS_ACCEPT\": \"text/csv\",\n",
      "                    \"SAGEMAKER_INFERENCE_OUTPUT\": \"predicted_label\",\n",
      "                    \"SAGEMAKER_INFERENCE_SUPPORTED\": \"predicted_label,probability,probabilities\"\n",
      "                },\n",
      "                \"Image\": \"683313688378.dkr.ecr.us-east-1.amazonaws.com/sagemaker-xgboost:1.0-1-cpu-py3\",\n",
      "                \"ModelDataUrl\": \"s3://ada-dev/xiaotian/ml/autopilot/model/automl-dm-11-14-13-48/tuning/automl-dm--dpp0-xgb/tuning-job-1-e2f87a329cb24779ad-001-33072cc0/output/model.tar.gz\"\n",
      "            },\n",
      "            {\n",
      "                \"Environment\": {\n",
      "                    \"AUTOML_TRANSFORM_MODE\": \"inverse-label-transform\",\n",
      "                    \"SAGEMAKER_DEFAULT_INVOCATIONS_ACCEPT\": \"text/csv\",\n",
      "                    \"SAGEMAKER_INFERENCE_INPUT\": \"predicted_label\",\n",
      "                    \"SAGEMAKER_INFERENCE_OUTPUT\": \"predicted_label\",\n",
      "                    \"SAGEMAKER_INFERENCE_SUPPORTED\": \"predicted_label,probability,labels,probabilities\",\n",
      "                    \"SAGEMAKER_PROGRAM\": \"sagemaker_serve\",\n",
      "                    \"SAGEMAKER_SUBMIT_DIRECTORY\": \"/opt/ml/model/code\"\n",
      "                },\n",
      "                \"Image\": \"683313688378.dkr.ecr.us-east-1.amazonaws.com/sagemaker-sklearn-automl:0.2-1-cpu-py3\",\n",
      "                \"ModelDataUrl\": \"s3://ada-dev/xiaotian/ml/autopilot/model/automl-dm-11-14-13-48/data-processor-models/automl-dm--dpp0-1-da688f7f84d54dcf8469f92d64f7937c148b5bf0db3c4/output/model.tar.gz\"\n",
      "            }\n",
      "        ],\n",
      "        \"LastModifiedTime\": \"2020-11-14 14:09:31.715000+00:00\",\n",
      "        \"ObjectiveStatus\": \"Succeeded\"\n",
      "    },\n",
      "    \"CreationTime\": \"2020-11-14 13:48:31.676000+00:00\",\n",
      "    \"EndTime\": \"2020-11-14 14:09:32.649000+00:00\",\n",
      "    \"GenerateCandidateDefinitionsOnly\": false,\n",
      "    \"InputDataConfig\": [\n",
      "        {\n",
      "            \"DataSource\": {\n",
      "                \"S3DataSource\": {\n",
      "                    \"S3DataType\": \"S3Prefix\",\n",
      "                    \"S3Uri\": \"s3://ada-dev/xiaotian/ml/autopilot/data/train_data.csv\"\n",
      "                }\n",
      "            },\n",
      "            \"TargetAttributeName\": \"label_int\"\n",
      "        }\n",
      "    ],\n",
      "    \"LastModifiedTime\": \"2020-11-14 14:09:32.688000+00:00\",\n",
      "    \"OutputDataConfig\": {\n",
      "        \"S3OutputPath\": \"s3://ada-dev/xiaotian/ml/autopilot/model\"\n",
      "    },\n",
      "    \"ResolvedAttributes\": {\n",
      "        \"AutoMLJobObjective\": {\n",
      "            \"MetricName\": \"Accuracy\"\n",
      "        },\n",
      "        \"CompletionCriteria\": {\n",
      "            \"MaxAutoMLJobRuntimeInSeconds\": 5400,\n",
      "            \"MaxCandidates\": 3,\n",
      "            \"MaxRuntimePerTrainingJobInSeconds\": 900\n",
      "        },\n",
      "        \"ProblemType\": \"MulticlassClassification\"\n",
      "    },\n",
      "    \"ResponseMetadata\": {\n",
      "        \"HTTPHeaders\": {\n",
      "            \"content-length\": \"4693\",\n",
      "            \"content-type\": \"application/x-amz-json-1.1\",\n",
      "            \"date\": \"Sat, 14 Nov 2020 14:15:08 GMT\",\n",
      "            \"x-amzn-requestid\": \"f281c4c0-110d-4092-b295-8f60615f84ef\"\n",
      "        },\n",
      "        \"HTTPStatusCode\": 200,\n",
      "        \"RequestId\": \"f281c4c0-110d-4092-b295-8f60615f84ef\",\n",
      "        \"RetryAttempts\": 0\n",
      "    },\n",
      "    \"RoleArn\": \"arn:aws:iam::331041401449:role/ADA_SageMaker\"\n",
      "}\n"
     ]
    }
   ],
   "source": [
    "print(json.dumps(best_candidate_response, indent=4, sort_keys=True, default=str))"
   ]
  },
  {
   "cell_type": "code",
   "execution_count": 47,
   "metadata": {},
   "outputs": [
    {
     "name": "stdout",
     "output_type": "stream",
     "text": [
      "dict_keys(['CandidateName', 'FinalAutoMLJobObjectiveMetric', 'ObjectiveStatus', 'CandidateSteps', 'CandidateStatus', 'InferenceContainers', 'CreationTime', 'EndTime', 'LastModifiedTime'])\n"
     ]
    }
   ],
   "source": [
    "print(best_candidate.keys())"
   ]
  },
  {
   "cell_type": "code",
   "execution_count": 48,
   "metadata": {},
   "outputs": [
    {
     "name": "stdout",
     "output_type": "stream",
     "text": [
      "[OK] BestCandidate CandidateName generated.\n"
     ]
    }
   ],
   "source": [
    "while 'CandidateName' not in best_candidate:\n",
    "    best_candidate_response = sm.describe_auto_ml_job(AutoMLJobName=auto_ml_job_name)\n",
    "    best_candidate = best_candidate_response['BestCandidate']\n",
    "    print('[INFO] Autopilot Job is generating BestCandidate CandidateName. Please wait. ')\n",
    "    print(json.dumps(best_candidate, indent=4, sort_keys=True, default=str))\n",
    "    sleep(10)\n",
    "\n",
    "print('[OK] BestCandidate CandidateName generated.')  "
   ]
  },
  {
   "cell_type": "code",
   "execution_count": 105,
   "metadata": {},
   "outputs": [
    {
     "name": "stdout",
     "output_type": "stream",
     "text": [
      "[OK] BestCandidate FinalAutoMLJobObjectiveMetric generated.\n"
     ]
    }
   ],
   "source": [
    "while 'FinalAutoMLJobObjectiveMetric' not in best_candidate:\n",
    "    best_candidate_response = sm.describe_auto_ml_job(AutoMLJobName=auto_ml_job_name)\n",
    "    best_candidate = best_candidate_response['BestCandidate']\n",
    "    print('[INFO] Autopilot Job is generating BestCandidate FinalAutoMLJobObjectiveMetric. Please wait. ')\n",
    "    print(json.dumps(best_candidate, indent=4, sort_keys=True, default=str))\n",
    "    sleep(10)\n",
    "\n",
    "print('[OK] BestCandidate FinalAutoMLJobObjectiveMetric generated.')  "
   ]
  },
  {
   "cell_type": "code",
   "execution_count": 49,
   "metadata": {},
   "outputs": [
    {
     "name": "stdout",
     "output_type": "stream",
     "text": [
      "Candidate name: tuning-job-1-e2f87a329cb24779ad-001-33072cc0\n",
      "Metric name: validation:accuracy\n",
      "Metric value: 0.43156999349594116\n"
     ]
    }
   ],
   "source": [
    "best_candidate_identifier = best_candidate['CandidateName']\n",
    "print(\"Candidate name: \" + best_candidate_identifier)\n",
    "print(\"Metric name: \" + best_candidate['FinalAutoMLJobObjectiveMetric']['MetricName'])\n",
    "print(\"Metric value: \" + str(best_candidate['FinalAutoMLJobObjectiveMetric']['Value']))"
   ]
  },
  {
   "cell_type": "code",
   "execution_count": 50,
   "metadata": {
    "scrolled": true
   },
   "outputs": [
    {
     "name": "stdout",
     "output_type": "stream",
     "text": [
      "{\n",
      "    \"CandidateName\": \"tuning-job-1-e2f87a329cb24779ad-001-33072cc0\",\n",
      "    \"CandidateStatus\": \"Completed\",\n",
      "    \"CandidateSteps\": [\n",
      "        {\n",
      "            \"CandidateStepArn\": \"arn:aws:sagemaker:us-east-1:331041401449:processing-job/db-1-c746168660554129af899c43592f2144cddc7a48812249d6a5e913fb97\",\n",
      "            \"CandidateStepName\": \"db-1-c746168660554129af899c43592f2144cddc7a48812249d6a5e913fb97\",\n",
      "            \"CandidateStepType\": \"AWS::SageMaker::ProcessingJob\"\n",
      "        },\n",
      "        {\n",
      "            \"CandidateStepArn\": \"arn:aws:sagemaker:us-east-1:331041401449:training-job/automl-dm--dpp0-1-da688f7f84d54dcf8469f92d64f7937c148b5bf0db3c4\",\n",
      "            \"CandidateStepName\": \"automl-dm--dpp0-1-da688f7f84d54dcf8469f92d64f7937c148b5bf0db3c4\",\n",
      "            \"CandidateStepType\": \"AWS::SageMaker::TrainingJob\"\n",
      "        },\n",
      "        {\n",
      "            \"CandidateStepArn\": \"arn:aws:sagemaker:us-east-1:331041401449:transform-job/automl-dm--dpp0-rpb-1-2732a5733bd7403fb716970b298f65dd25dac1e7a\",\n",
      "            \"CandidateStepName\": \"automl-dm--dpp0-rpb-1-2732a5733bd7403fb716970b298f65dd25dac1e7a\",\n",
      "            \"CandidateStepType\": \"AWS::SageMaker::TransformJob\"\n",
      "        },\n",
      "        {\n",
      "            \"CandidateStepArn\": \"arn:aws:sagemaker:us-east-1:331041401449:training-job/tuning-job-1-e2f87a329cb24779ad-001-33072cc0\",\n",
      "            \"CandidateStepName\": \"tuning-job-1-e2f87a329cb24779ad-001-33072cc0\",\n",
      "            \"CandidateStepType\": \"AWS::SageMaker::TrainingJob\"\n",
      "        }\n",
      "    ],\n",
      "    \"CreationTime\": \"2020-11-14 14:08:17+00:00\",\n",
      "    \"EndTime\": \"2020-11-14 14:09:07+00:00\",\n",
      "    \"FinalAutoMLJobObjectiveMetric\": {\n",
      "        \"MetricName\": \"validation:accuracy\",\n",
      "        \"Value\": 0.43156999349594116\n",
      "    },\n",
      "    \"InferenceContainers\": [\n",
      "        {\n",
      "            \"Environment\": {\n",
      "                \"AUTOML_SPARSE_ENCODE_RECORDIO_PROTOBUF\": \"1\",\n",
      "                \"AUTOML_TRANSFORM_MODE\": \"feature-transform\",\n",
      "                \"SAGEMAKER_DEFAULT_INVOCATIONS_ACCEPT\": \"application/x-recordio-protobuf\",\n",
      "                \"SAGEMAKER_PROGRAM\": \"sagemaker_serve\",\n",
      "                \"SAGEMAKER_SUBMIT_DIRECTORY\": \"/opt/ml/model/code\"\n",
      "            },\n",
      "            \"Image\": \"683313688378.dkr.ecr.us-east-1.amazonaws.com/sagemaker-sklearn-automl:0.2-1-cpu-py3\",\n",
      "            \"ModelDataUrl\": \"s3://ada-dev/xiaotian/ml/autopilot/model/automl-dm-11-14-13-48/data-processor-models/automl-dm--dpp0-1-da688f7f84d54dcf8469f92d64f7937c148b5bf0db3c4/output/model.tar.gz\"\n",
      "        },\n",
      "        {\n",
      "            \"Environment\": {\n",
      "                \"MAX_CONTENT_LENGTH\": \"20971520\",\n",
      "                \"SAGEMAKER_DEFAULT_INVOCATIONS_ACCEPT\": \"text/csv\",\n",
      "                \"SAGEMAKER_INFERENCE_OUTPUT\": \"predicted_label\",\n",
      "                \"SAGEMAKER_INFERENCE_SUPPORTED\": \"predicted_label,probability,probabilities\"\n",
      "            },\n",
      "            \"Image\": \"683313688378.dkr.ecr.us-east-1.amazonaws.com/sagemaker-xgboost:1.0-1-cpu-py3\",\n",
      "            \"ModelDataUrl\": \"s3://ada-dev/xiaotian/ml/autopilot/model/automl-dm-11-14-13-48/tuning/automl-dm--dpp0-xgb/tuning-job-1-e2f87a329cb24779ad-001-33072cc0/output/model.tar.gz\"\n",
      "        },\n",
      "        {\n",
      "            \"Environment\": {\n",
      "                \"AUTOML_TRANSFORM_MODE\": \"inverse-label-transform\",\n",
      "                \"SAGEMAKER_DEFAULT_INVOCATIONS_ACCEPT\": \"text/csv\",\n",
      "                \"SAGEMAKER_INFERENCE_INPUT\": \"predicted_label\",\n",
      "                \"SAGEMAKER_INFERENCE_OUTPUT\": \"predicted_label\",\n",
      "                \"SAGEMAKER_INFERENCE_SUPPORTED\": \"predicted_label,probability,labels,probabilities\",\n",
      "                \"SAGEMAKER_PROGRAM\": \"sagemaker_serve\",\n",
      "                \"SAGEMAKER_SUBMIT_DIRECTORY\": \"/opt/ml/model/code\"\n",
      "            },\n",
      "            \"Image\": \"683313688378.dkr.ecr.us-east-1.amazonaws.com/sagemaker-sklearn-automl:0.2-1-cpu-py3\",\n",
      "            \"ModelDataUrl\": \"s3://ada-dev/xiaotian/ml/autopilot/model/automl-dm-11-14-13-48/data-processor-models/automl-dm--dpp0-1-da688f7f84d54dcf8469f92d64f7937c148b5bf0db3c4/output/model.tar.gz\"\n",
      "        }\n",
      "    ],\n",
      "    \"LastModifiedTime\": \"2020-11-14 14:09:31.715000+00:00\",\n",
      "    \"ObjectiveStatus\": \"Succeeded\"\n",
      "}\n"
     ]
    }
   ],
   "source": [
    "print(json.dumps(best_candidate, indent=4, sort_keys=True, default=str))"
   ]
  },
  {
   "cell_type": "markdown",
   "metadata": {},
   "source": [
    "# View Individual Autopilot Jobs"
   ]
  },
  {
   "cell_type": "code",
   "execution_count": 62,
   "metadata": {},
   "outputs": [
    {
     "name": "stdout",
     "output_type": "stream",
     "text": [
      "[OK] BestCandidate CandidateSteps generated.\n"
     ]
    }
   ],
   "source": [
    "while 'CandidateSteps' not in best_candidate:\n",
    "    best_candidate_response = sm.describe_auto_ml_job(AutoMLJobName=auto_ml_job_name)\n",
    "    best_candidate = best_candidate_response['BestCandidate']\n",
    "    print('[INFO] Autopilot Job is generating BestCandidate CandidateSteps. Please wait. ')\n",
    "    print(json.dumps(best_candidate, indent=4, sort_keys=True, default=str))\n",
    "    sleep(10)\n",
    "\n",
    "best_candidate = best_candidate_response['BestCandidate']\n",
    "print('[OK] BestCandidate CandidateSteps generated.')"
   ]
  },
  {
   "cell_type": "code",
   "execution_count": 63,
   "metadata": {
    "scrolled": true
   },
   "outputs": [
    {
     "name": "stdout",
     "output_type": "stream",
     "text": [
      "[OK] BestCandidate CandidateSteps CandidateStepType generated.\n"
     ]
    }
   ],
   "source": [
    "while 'CandidateStepType' not in best_candidate['CandidateSteps'][0]:\n",
    "    best_candidate_response = sm.describe_auto_ml_job(AutoMLJobName=auto_ml_job_name)\n",
    "    best_candidate = best_candidate_response['BestCandidate']\n",
    "    print('[INFO] Autopilot Job is generating BestCandidate CandidateSteps CandidateStepType. Please wait. ')\n",
    "    print(json.dumps(best_candidate, indent=4, sort_keys=True, default=str))\n",
    "    sleep(10)\n",
    "\n",
    "best_candidate = best_candidate_response['BestCandidate']\n",
    "print('[OK] BestCandidate CandidateSteps CandidateStepType generated.')"
   ]
  },
  {
   "cell_type": "code",
   "execution_count": 73,
   "metadata": {},
   "outputs": [
    {
     "name": "stdout",
     "output_type": "stream",
     "text": [
      "[OK] BestCandidate CandidateSteps CandidateStepName generated.\n"
     ]
    }
   ],
   "source": [
    "while 'CandidateStepName' not in best_candidate['CandidateSteps'][0]:\n",
    "    best_candidate_response = sm.describe_auto_ml_job(AutoMLJobName=auto_ml_job_name)\n",
    "    best_candidate = best_candidate_response['BestCandidate']\n",
    "    print('[INFO] Autopilot Job is generating BestCandidate CandidateSteps CandidateStepName. Please wait. ')\n",
    "    print(json.dumps(best_candidate, indent=4, sort_keys=True, default=str))\n",
    "    sleep(10)\n",
    "\n",
    "best_candidate = best_candidate_response['BestCandidate']\n",
    "print('[OK] BestCandidate CandidateSteps CandidateStepName generated.')"
   ]
  },
  {
   "cell_type": "code",
   "execution_count": 51,
   "metadata": {},
   "outputs": [
    {
     "name": "stdout",
     "output_type": "stream",
     "text": [
      "Candidate Step Type: AWS::SageMaker::ProcessingJob\n",
      "Candidate Step Name: db-1-c746168660554129af899c43592f2144cddc7a48812249d6a5e913fb97\n",
      "Candidate Step Type: AWS::SageMaker::TrainingJob\n",
      "Candidate Step Name: automl-dm--dpp0-1-da688f7f84d54dcf8469f92d64f7937c148b5bf0db3c4\n",
      "Candidate Step Type: AWS::SageMaker::TransformJob\n",
      "Candidate Step Name: automl-dm--dpp0-rpb-1-2732a5733bd7403fb716970b298f65dd25dac1e7a\n",
      "Candidate Step Type: AWS::SageMaker::TrainingJob\n",
      "Candidate Step Name: tuning-job-1-e2f87a329cb24779ad-001-33072cc0\n"
     ]
    }
   ],
   "source": [
    "steps = []\n",
    "for step in best_candidate['CandidateSteps']:\n",
    "    print('Candidate Step Type: {}'.format(step['CandidateStepType']))\n",
    "    print('Candidate Step Name: {}'.format(step['CandidateStepName']))\n",
    "    steps.append(step['CandidateStepName'])"
   ]
  },
  {
   "cell_type": "code",
   "execution_count": 66,
   "metadata": {},
   "outputs": [
    {
     "data": {
      "text/html": [
       "<b>Review Best Candidate <a target=\"blank\" href=\"https://console.aws.amazon.com/sagemaker/home?region=us-east-1#/processing-jobs/db-1-473907ff6c6f4b90b1822ff15c4ad42eca2bd1cb18ea44c89de28ab07a\">Processing Job</a></b>"
      ],
      "text/plain": [
       "<IPython.core.display.HTML object>"
      ]
     },
     "metadata": {},
     "output_type": "display_data"
    }
   ],
   "source": [
    "from IPython.core.display import display, HTML\n",
    "\n",
    "display(HTML('<b>Review Best Candidate <a target=\"blank\" href=\"https://console.aws.amazon.com/sagemaker/home?region={}#/processing-jobs/{}\">Processing Job</a></b>'.format(region, steps[0])))"
   ]
  },
  {
   "cell_type": "code",
   "execution_count": 110,
   "metadata": {},
   "outputs": [
    {
     "data": {
      "text/html": [
       "<b>Review Best Candidate <a target=\"blank\" href=\"https://console.aws.amazon.com/sagemaker/home?region=us-east-1#/jobs/automl-dm--dpp0-1-77da6dcd0c5641d696e1b37f47d64cd29f2fb8b881464\">Training Job</a></b>"
      ],
      "text/plain": [
       "<IPython.core.display.HTML object>"
      ]
     },
     "metadata": {},
     "output_type": "display_data"
    }
   ],
   "source": [
    "from IPython.core.display import display, HTML\n",
    "\n",
    "display(HTML('<b>Review Best Candidate <a target=\"blank\" href=\"https://console.aws.amazon.com/sagemaker/home?region={}#/jobs/{}\">Training Job</a></b>'.format(region, steps[1])))"
   ]
  },
  {
   "cell_type": "code",
   "execution_count": 109,
   "metadata": {},
   "outputs": [
    {
     "data": {
      "text/html": [
       "<b>Review Best Candidate <a target=\"blank\" href=\"https://console.aws.amazon.com/sagemaker/home?region=us-east-1#/transform-jobs/automl-dm--dpp0-rpb-1-27fc30e481594ba7ab6ed060511c4a6cce0b377c3\">Transform Job</a></b>"
      ],
      "text/plain": [
       "<IPython.core.display.HTML object>"
      ]
     },
     "metadata": {},
     "output_type": "display_data"
    }
   ],
   "source": [
    "from IPython.core.display import display, HTML\n",
    "\n",
    "display(HTML('<b>Review Best Candidate <a target=\"blank\" href=\"https://console.aws.amazon.com/sagemaker/home?region={}#/transform-jobs/{}\">Transform Job</a></b>'.format(region, steps[2])))"
   ]
  },
  {
   "cell_type": "code",
   "execution_count": 72,
   "metadata": {},
   "outputs": [
    {
     "data": {
      "text/html": [
       "<b>Review Best Candidate <a target=\"blank\" href=\"https://console.aws.amazon.com/sagemaker/home?region=us-east-1#/jobs/tuning-job-1-899ccf89ca7e4278a2-003-7f889a8d\">Training Job (Tuning)</a></b>"
      ],
      "text/plain": [
       "<IPython.core.display.HTML object>"
      ]
     },
     "metadata": {},
     "output_type": "display_data"
    }
   ],
   "source": [
    "from IPython.core.display import display, HTML\n",
    "\n",
    "display(HTML('<b>Review Best Candidate <a target=\"blank\" href=\"https://console.aws.amazon.com/sagemaker/home?region={}#/jobs/{}\">Training Job (Tuning)</a></b>'.format(region, steps[3])))"
   ]
  },
  {
   "cell_type": "markdown",
   "metadata": {},
   "source": [
    "# See the containers and models composing the Inference Pipeline"
   ]
  },
  {
   "cell_type": "code",
   "execution_count": 53,
   "metadata": {},
   "outputs": [
    {
     "name": "stdout",
     "output_type": "stream",
     "text": [
      "[OK] BestCandidate InferenceContainers generated.\n"
     ]
    }
   ],
   "source": [
    "while 'InferenceContainers' not in best_candidate:\n",
    "    best_candidate_response = sm.describe_auto_ml_job(AutoMLJobName=auto_ml_job_name)\n",
    "    best_candidate = best_candidate_response['BestCandidate']\n",
    "    print('[INFO] Autopilot Job is generating BestCandidate InferenceContainers. Please wait. ')\n",
    "    print(json.dumps(best_candidate, indent=4, sort_keys=True, default=str))\n",
    "    sleep(10)\n",
    "\n",
    "print('[OK] BestCandidate InferenceContainers generated.') "
   ]
  },
  {
   "cell_type": "code",
   "execution_count": 54,
   "metadata": {},
   "outputs": [],
   "source": [
    "best_candidate_containers = best_candidate['InferenceContainers']"
   ]
  },
  {
   "cell_type": "code",
   "execution_count": 55,
   "metadata": {},
   "outputs": [
    {
     "name": "stdout",
     "output_type": "stream",
     "text": [
      "683313688378.dkr.ecr.us-east-1.amazonaws.com/sagemaker-sklearn-automl:0.2-1-cpu-py3\n",
      "s3://ada-dev/xiaotian/ml/autopilot/model/automl-dm-11-14-13-48/data-processor-models/automl-dm--dpp0-1-da688f7f84d54dcf8469f92d64f7937c148b5bf0db3c4/output/model.tar.gz\n",
      "======================\n",
      "683313688378.dkr.ecr.us-east-1.amazonaws.com/sagemaker-xgboost:1.0-1-cpu-py3\n",
      "s3://ada-dev/xiaotian/ml/autopilot/model/automl-dm-11-14-13-48/tuning/automl-dm--dpp0-xgb/tuning-job-1-e2f87a329cb24779ad-001-33072cc0/output/model.tar.gz\n",
      "======================\n",
      "683313688378.dkr.ecr.us-east-1.amazonaws.com/sagemaker-sklearn-automl:0.2-1-cpu-py3\n",
      "s3://ada-dev/xiaotian/ml/autopilot/model/automl-dm-11-14-13-48/data-processor-models/automl-dm--dpp0-1-da688f7f84d54dcf8469f92d64f7937c148b5bf0db3c4/output/model.tar.gz\n",
      "======================\n"
     ]
    }
   ],
   "source": [
    "for container in best_candidate_containers:\n",
    "        print(container['Image'])\n",
    "        print(container['ModelDataUrl'])\n",
    "        print('======================')"
   ]
  },
  {
   "cell_type": "markdown",
   "metadata": {},
   "source": [
    "# Update Containers To Show Predicted Label and Confidence Score"
   ]
  },
  {
   "cell_type": "code",
   "execution_count": 114,
   "metadata": {},
   "outputs": [
    {
     "name": "stdout",
     "output_type": "stream",
     "text": [
      "{'AUTOML_SPARSE_ENCODE_RECORDIO_PROTOBUF': '1', 'AUTOML_TRANSFORM_MODE': 'feature-transform', 'SAGEMAKER_DEFAULT_INVOCATIONS_ACCEPT': 'application/x-recordio-protobuf', 'SAGEMAKER_PROGRAM': 'sagemaker_serve', 'SAGEMAKER_SUBMIT_DIRECTORY': '/opt/ml/model/code'}\n",
      "======================\n",
      "{'MAX_CONTENT_LENGTH': '20971520', 'SAGEMAKER_DEFAULT_INVOCATIONS_ACCEPT': 'text/csv', 'SAGEMAKER_INFERENCE_OUTPUT': 'predicted_label', 'SAGEMAKER_INFERENCE_SUPPORTED': 'predicted_label,probability,probabilities'}\n",
      "======================\n",
      "{'AUTOML_TRANSFORM_MODE': 'inverse-label-transform', 'SAGEMAKER_DEFAULT_INVOCATIONS_ACCEPT': 'text/csv', 'SAGEMAKER_INFERENCE_INPUT': 'predicted_label', 'SAGEMAKER_INFERENCE_OUTPUT': 'predicted_label', 'SAGEMAKER_INFERENCE_SUPPORTED': 'predicted_label,probability,labels,probabilities', 'SAGEMAKER_PROGRAM': 'sagemaker_serve', 'SAGEMAKER_SUBMIT_DIRECTORY': '/opt/ml/model/code'}\n",
      "======================\n"
     ]
    }
   ],
   "source": [
    "for container in best_candidate_containers:\n",
    "        print(container['Environment'])\n",
    "        print('======================')"
   ]
  },
  {
   "cell_type": "code",
   "execution_count": 79,
   "metadata": {},
   "outputs": [],
   "source": [
    "best_candidate_containers[1]['Environment'].update({'SAGEMAKER_INFERENCE_OUTPUT': 'predicted_label, probability'})\n",
    "best_candidate_containers[2]['Environment'].update({'SAGEMAKER_INFERENCE_INPUT': 'predicted_label, probability'})\n",
    "best_candidate_containers[2]['Environment'].update({'SAGEMAKER_INFERENCE_OUTPUT': 'predicted_label, probability'})"
   ]
  },
  {
   "cell_type": "code",
   "execution_count": 80,
   "metadata": {},
   "outputs": [
    {
     "name": "stdout",
     "output_type": "stream",
     "text": [
      "{'AUTOML_SPARSE_ENCODE_RECORDIO_PROTOBUF': '1', 'AUTOML_TRANSFORM_MODE': 'feature-transform', 'SAGEMAKER_DEFAULT_INVOCATIONS_ACCEPT': 'application/x-recordio-protobuf', 'SAGEMAKER_PROGRAM': 'sagemaker_serve', 'SAGEMAKER_SUBMIT_DIRECTORY': '/opt/ml/model/code'}\n",
      "======================\n",
      "{'MAX_CONTENT_LENGTH': '20971520', 'SAGEMAKER_DEFAULT_INVOCATIONS_ACCEPT': 'text/csv', 'SAGEMAKER_INFERENCE_OUTPUT': 'predicted_label, probability', 'SAGEMAKER_INFERENCE_SUPPORTED': 'predicted_label,probability,probabilities'}\n",
      "======================\n",
      "{'AUTOML_TRANSFORM_MODE': 'inverse-label-transform', 'SAGEMAKER_DEFAULT_INVOCATIONS_ACCEPT': 'text/csv', 'SAGEMAKER_INFERENCE_INPUT': 'predicted_label, probability', 'SAGEMAKER_INFERENCE_OUTPUT': 'predicted_label, probability', 'SAGEMAKER_INFERENCE_SUPPORTED': 'predicted_label,probability,labels,probabilities', 'SAGEMAKER_PROGRAM': 'sagemaker_serve', 'SAGEMAKER_SUBMIT_DIRECTORY': '/opt/ml/model/code'}\n",
      "======================\n"
     ]
    }
   ],
   "source": [
    "for container in best_candidate_containers:\n",
    "        print(container['Environment'])\n",
    "        print('======================')"
   ]
  },
  {
   "cell_type": "markdown",
   "metadata": {},
   "source": [
    "# Autopilot Chooses XGBoost as Best Candidate!\n",
    "\n",
    "Note that Autopilot chose different hyper-parameters and feature transformations than we used in our own XGBoost model."
   ]
  },
  {
   "cell_type": "markdown",
   "metadata": {},
   "source": [
    "# Deploy the Model as a REST Endpoint\n",
    "Batch transformations are also supported, but for now, we will use a REST Endpoint."
   ]
  },
  {
   "cell_type": "code",
   "execution_count": 77,
   "metadata": {},
   "outputs": [
    {
     "name": "stdout",
     "output_type": "stream",
     "text": [
      "[{'Image': '683313688378.dkr.ecr.us-east-1.amazonaws.com/sagemaker-sklearn-automl:0.2-1-cpu-py3', 'ModelDataUrl': 's3://ada-dev/xiaotian/ml/autopilot/automl-dm-11-03-26-46/data-processor-models/automl-dm--dpp2-1-ef2b1364d78443cc95fd8071bd99f0d7ec5d91b36bac4/output/model.tar.gz', 'Environment': {'AUTOML_SPARSE_ENCODE_RECORDIO_PROTOBUF': '1', 'AUTOML_TRANSFORM_MODE': 'feature-transform', 'SAGEMAKER_DEFAULT_INVOCATIONS_ACCEPT': 'application/x-recordio-protobuf', 'SAGEMAKER_PROGRAM': 'sagemaker_serve', 'SAGEMAKER_SUBMIT_DIRECTORY': '/opt/ml/model/code'}}, {'Image': '683313688378.dkr.ecr.us-east-1.amazonaws.com/sagemaker-xgboost:1.0-1-cpu-py3', 'ModelDataUrl': 's3://ada-dev/xiaotian/ml/autopilot/automl-dm-11-03-26-46/tuning/automl-dm--dpp2-xgb/tuning-job-1-4030f05282354943b7-001-a516fb96/output/model.tar.gz', 'Environment': {'MAX_CONTENT_LENGTH': '20971520', 'SAGEMAKER_DEFAULT_INVOCATIONS_ACCEPT': 'text/csv', 'SAGEMAKER_INFERENCE_OUTPUT': 'predicted_label, probability', 'SAGEMAKER_INFERENCE_SUPPORTED': 'predicted_label,probability,probabilities'}}, {'Image': '683313688378.dkr.ecr.us-east-1.amazonaws.com/sagemaker-sklearn-automl:0.2-1-cpu-py3', 'ModelDataUrl': 's3://ada-dev/xiaotian/ml/autopilot/automl-dm-11-03-26-46/data-processor-models/automl-dm--dpp2-1-ef2b1364d78443cc95fd8071bd99f0d7ec5d91b36bac4/output/model.tar.gz', 'Environment': {'AUTOML_TRANSFORM_MODE': 'inverse-label-transform', 'SAGEMAKER_DEFAULT_INVOCATIONS_ACCEPT': 'text/csv', 'SAGEMAKER_INFERENCE_INPUT': 'predicted_label, probability', 'SAGEMAKER_INFERENCE_OUTPUT': 'predicted_label, probability', 'SAGEMAKER_INFERENCE_SUPPORTED': 'predicted_label,probability,labels,probabilities', 'SAGEMAKER_PROGRAM': 'sagemaker_serve', 'SAGEMAKER_SUBMIT_DIRECTORY': '/opt/ml/model/code'}}]\n"
     ]
    }
   ],
   "source": [
    "print(best_candidate['InferenceContainers'])"
   ]
  },
  {
   "cell_type": "code",
   "execution_count": 78,
   "metadata": {},
   "outputs": [
    {
     "name": "stdout",
     "output_type": "stream",
     "text": [
      "no stored variable or alias autopilot_model_name\n"
     ]
    }
   ],
   "source": [
    "%store -r autopilot_model_name"
   ]
  },
  {
   "cell_type": "code",
   "execution_count": 79,
   "metadata": {},
   "outputs": [
    {
     "name": "stdout",
     "output_type": "stream",
     "text": [
      "[OK] Created Autopilot Model Name: automl-dm-model-11-07-13-51\n"
     ]
    }
   ],
   "source": [
    "try:\n",
    "    autopilot_model_name\n",
    "except NameError:    \n",
    "    timestamp_suffix = strftime('%d-%H-%M-%S', gmtime())\n",
    "    autopilot_model_name = 'automl-dm-model-' + timestamp_suffix\n",
    "    print('[OK] Created Autopilot Model Name: ' + autopilot_model_name)"
   ]
  },
  {
   "cell_type": "code",
   "execution_count": null,
   "metadata": {},
   "outputs": [],
   "source": [
    "%store autopilot_model_name"
   ]
  },
  {
   "cell_type": "code",
   "execution_count": null,
   "metadata": {},
   "outputs": [],
   "source": [
    "%store -r autopilot_model_arn"
   ]
  },
  {
   "cell_type": "code",
   "execution_count": null,
   "metadata": {},
   "outputs": [],
   "source": [
    "try:\n",
    "    autopilot_model_arn\n",
    "except NameError:\n",
    "    create_model_response = sm.create_model(Containers=best_candidate['InferenceContainers'],\n",
    "                                ModelName=autopilot_model_name,\n",
    "                                ExecutionRoleArn=role)\n",
    "    autopilot_model_arn = create_model_response['ModelArn']\n",
    "    print('[OK] Created Autopilot Model: {}'.format(autopilot_model_arn))"
   ]
  },
  {
   "cell_type": "code",
   "execution_count": null,
   "metadata": {},
   "outputs": [],
   "source": [
    "%store autopilot_model_arn"
   ]
  },
  {
   "cell_type": "markdown",
   "metadata": {},
   "source": [
    "# Define EndpointConfig Name"
   ]
  },
  {
   "cell_type": "code",
   "execution_count": null,
   "metadata": {},
   "outputs": [],
   "source": [
    "timestamp_suffix = strftime('%d-%H-%M-%S', gmtime())\n",
    "epc_name = 'automl-dm-epc-' + timestamp_suffix\n",
    "\n",
    "print(epc_name)"
   ]
  },
  {
   "cell_type": "markdown",
   "metadata": {},
   "source": [
    "# Define REST Endpoint Name for Autopilot Model"
   ]
  },
  {
   "cell_type": "code",
   "execution_count": null,
   "metadata": {},
   "outputs": [],
   "source": [
    "%store -r autopilot_endpoint_name"
   ]
  },
  {
   "cell_type": "code",
   "execution_count": null,
   "metadata": {},
   "outputs": [],
   "source": [
    "timestamp_suffix = strftime('%d-%H-%M-%S', gmtime())\n",
    "\n",
    "try:\n",
    "    autopilot_endpoint_name\n",
    "except NameError:    \n",
    "    autopilot_endpoint_name = 'automl-dm-ep-' + timestamp_suffix\n",
    "    print('[OK] Created Autopilot Endpoint Name {}: '.format(autopilot_endpoint_name))    "
   ]
  },
  {
   "cell_type": "code",
   "execution_count": null,
   "metadata": {},
   "outputs": [],
   "source": [
    "variant_name = 'automl-dm-variant-' + timestamp_suffix\n",
    "print('[OK] Created Endpoint Variant Name {}: '.format(variant_name))"
   ]
  },
  {
   "cell_type": "code",
   "execution_count": null,
   "metadata": {},
   "outputs": [],
   "source": [
    "%store autopilot_endpoint_name"
   ]
  },
  {
   "cell_type": "code",
   "execution_count": null,
   "metadata": {},
   "outputs": [],
   "source": [
    "ep_config = sm.create_endpoint_config(EndpointConfigName = epc_name,\n",
    "                                      ProductionVariants=[{'InstanceType':'ml.m5.large',\n",
    "                                                           'InitialInstanceCount': 1,\n",
    "                                                           'ModelName': autopilot_model_name,\n",
    "                                                           'VariantName': variant_name}])"
   ]
  },
  {
   "cell_type": "code",
   "execution_count": null,
   "metadata": {},
   "outputs": [],
   "source": [
    "%store -r autopilot_endpoint_arn"
   ]
  },
  {
   "cell_type": "code",
   "execution_count": null,
   "metadata": {},
   "outputs": [],
   "source": [
    "try:\n",
    "    autopilot_endpoint_arn\n",
    "except NameError:    \n",
    "    create_endpoint_response = sm.create_endpoint(EndpointName=autopilot_endpoint_name,\n",
    "                                                  EndpointConfigName=epc_name) \n",
    "    autopilot_endpoint_arn = create_endpoint_response['EndpointArn']"
   ]
  },
  {
   "cell_type": "code",
   "execution_count": null,
   "metadata": {},
   "outputs": [],
   "source": [
    "%store autopilot_endpoint_arn"
   ]
  },
  {
   "cell_type": "code",
   "execution_count": null,
   "metadata": {},
   "outputs": [],
   "source": [
    "from IPython.core.display import display, HTML\n",
    "\n",
    "display(HTML('<b>Review <a target=\"blank\" href=\"https://console.aws.amazon.com/sagemaker/home?region={}#/endpoints/{}\">SageMaker REST Endpoint</a></b>'.format(region, autopilot_endpoint_name)))"
   ]
  },
  {
   "cell_type": "markdown",
   "metadata": {},
   "source": [
    "# Store Variables for the Next Notebooks"
   ]
  },
  {
   "cell_type": "code",
   "execution_count": null,
   "metadata": {},
   "outputs": [],
   "source": [
    "%store"
   ]
  },
  {
   "cell_type": "markdown",
   "metadata": {},
   "source": [
    "# Summary\n",
    "We used Autopilot to automatically find the best model, hyper-parameters, and feature-engineering scripts for our dataset.  \n",
    "\n",
    "Autopilot uses a transparent approach to generate re-usable exploration Jupyter Notebooks and transformation Python scripts to continue to train and deploy our model on new data - well after this initial interaction with the Autopilot service."
   ]
  },
  {
   "cell_type": "code",
   "execution_count": null,
   "metadata": {},
   "outputs": [],
   "source": [
    "%%javascript\n",
    "Jupyter.notebook.save_checkpoint();\n",
    "Jupyter.notebook.session.delete();"
   ]
  }
 ],
 "metadata": {
  "kernelspec": {
   "display_name": "conda_python3",
   "language": "python",
   "name": "conda_python3"
  },
  "language_info": {
   "codemirror_mode": {
    "name": "ipython",
    "version": 3
   },
   "file_extension": ".py",
   "mimetype": "text/x-python",
   "name": "python",
   "nbconvert_exporter": "python",
   "pygments_lexer": "ipython3",
   "version": "3.6.10"
  }
 },
 "nbformat": 4,
 "nbformat_minor": 4
}
